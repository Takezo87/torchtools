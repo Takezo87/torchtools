{
 "cells": [
  {
   "cell_type": "code",
   "execution_count": null,
   "metadata": {},
   "outputs": [],
   "source": [
    "# default_exp core"
   ]
  },
  {
   "cell_type": "markdown",
   "metadata": {},
   "source": [
    "# Core\n",
    "\n",
    "> API details."
   ]
  },
  {
   "cell_type": "code",
   "execution_count": null,
   "metadata": {},
   "outputs": [],
   "source": [
    "#hide\n",
    "from nbdev.showdoc import *"
   ]
  },
  {
   "cell_type": "code",
   "execution_count": null,
   "metadata": {},
   "outputs": [],
   "source": [
    "#export\n",
    "#hide \n",
    "import torch.nn.functional as F\n",
    "import torch as torch\n",
    "from functools import partial"
   ]
  },
  {
   "cell_type": "code",
   "execution_count": null,
   "metadata": {},
   "outputs": [],
   "source": [
    "#export\n",
    "def test():\n",
    "    '''a test function'''\n",
    "    print('test')"
   ]
  },
  {
   "cell_type": "code",
   "execution_count": null,
   "metadata": {},
   "outputs": [
    {
     "name": "stdout",
     "output_type": "stream",
     "text": [
      "test\n"
     ]
    }
   ],
   "source": [
    "test()"
   ]
  },
  {
   "cell_type": "markdown",
   "metadata": {},
   "source": [
    "### Loss Functions"
   ]
  },
  {
   "cell_type": "code",
   "execution_count": null,
   "metadata": {},
   "outputs": [],
   "source": [
    "#export\n",
    "def leaky_loss(preds, y_true, alpha=0.05):\n",
    "    '''\n",
    "    objective function, including negative predictions with factor alpha\n",
    "    '''\n",
    "    loss_1 = (F.leaky_relu(preds, alpha).squeeze()*y_true.float()).mean()*(-1)\n",
    "    loss_1.requires_grad_(True)\n",
    "    return loss_1"
   ]
  },
  {
   "cell_type": "code",
   "execution_count": null,
   "metadata": {},
   "outputs": [],
   "source": [
    "preds = torch.tensor([-0.5, 0.7, 0.2, -1.5])\n",
    "y_true = torch.tensor([100., 100., 100., 100.])\n",
    "assert leaky_loss(preds, y_true) == (-0.5*100*0.05 + 0.7*100 + 0.2*100 + -1.5*100*0.05)/(4*-1)"
   ]
  },
  {
   "cell_type": "code",
   "execution_count": null,
   "metadata": {},
   "outputs": [],
   "source": [
    "y_true_2d = torch.tensor([[100., -90.], [-420., -110], [100.,100.], [-96., 100.]])"
   ]
  },
  {
   "cell_type": "code",
   "execution_count": null,
   "metadata": {},
   "outputs": [
    {
     "data": {
      "text/plain": [
       "torch.Size([2, 4])"
      ]
     },
     "execution_count": null,
     "metadata": {},
     "output_type": "execute_result"
    }
   ],
   "source": [
    "y_true_2d.T.shape"
   ]
  },
  {
   "cell_type": "code",
   "execution_count": null,
   "metadata": {},
   "outputs": [
    {
     "data": {
      "text/plain": [
       "tensor(42.0625)"
      ]
     },
     "execution_count": null,
     "metadata": {},
     "output_type": "execute_result"
    }
   ],
   "source": [
    "(F.leaky_relu(preds, 0.5)*y_true_2d.T).mean()*(-1)"
   ]
  },
  {
   "cell_type": "code",
   "execution_count": null,
   "metadata": {},
   "outputs": [
    {
     "data": {
      "text/plain": [
       "torch.Size([2, 1])"
      ]
     },
     "execution_count": null,
     "metadata": {},
     "output_type": "execute_result"
    }
   ],
   "source": [
    "torch.tensor([0.7, 0.3])[:, None].shape"
   ]
  },
  {
   "cell_type": "code",
   "execution_count": null,
   "metadata": {},
   "outputs": [
    {
     "data": {
      "text/plain": [
       "tensor([[ -50.0000, -588.0000,   40.0000,  144.0000],\n",
       "        [  11.2500,  -38.5000,   10.0000,  -37.5000]])"
      ]
     },
     "execution_count": null,
     "metadata": {},
     "output_type": "execute_result"
    }
   ],
   "source": [
    "(F.leaky_relu(preds, 0.5)*y_true_2d.T)*torch.tensor([2, 0.5])[:, None]"
   ]
  },
  {
   "cell_type": "code",
   "execution_count": null,
   "metadata": {},
   "outputs": [
    {
     "data": {
      "text/plain": [
       "tensor(-71.2156)"
      ]
     },
     "execution_count": null,
     "metadata": {},
     "output_type": "execute_result"
    }
   ],
   "source": [
    "((F.leaky_relu(preds, 0.05)*y_true_2d.T)*torch.tensor([2, 0.5])[:, None]).mean()"
   ]
  },
  {
   "cell_type": "code",
   "execution_count": null,
   "metadata": {},
   "outputs": [],
   "source": [
    "#export\n",
    "def leaky_loss_2d(preds, y_true, alpha=0.05, weights=None):\n",
    "    '''\n",
    "    objective function, including negative predictions with factor alpha\n",
    "    weights: target variable weights\n",
    "    '''\n",
    "    assert len(y_true.shape)==2, 'y_true needs to be 2d'\n",
    "     # weight of the first y-value\n",
    "    prod = (F.leaky_relu(preds, alpha).squeeze()*y_true.float())\n",
    "    print(prod)\n",
    "    if weights:\n",
    "        prod.mul_(torch.tensor(weights)[:, None])\n",
    "#     print(prod)\n",
    "    loss_1 = prod.mean()*(-1)\n",
    "    loss_1.requires_grad_(True)\n",
    "    return loss_1\n"
   ]
  },
  {
   "cell_type": "code",
   "execution_count": null,
   "metadata": {},
   "outputs": [
    {
     "name": "stdout",
     "output_type": "stream",
     "text": [
      "tensor([[  -2.5000, -294.0000,   20.0000,    7.2000],\n",
      "        [   2.2500,  -77.0000,   20.0000,   -7.5000]])\n",
      "tensor([[  -2.5000, -294.0000,   20.0000,    7.2000],\n",
      "        [   2.2500,  -77.0000,   20.0000,   -7.5000]])\n"
     ]
    }
   ],
   "source": [
    "assert torch.allclose(leaky_loss_2d(preds, y_true_2d), (F.leaky_relu(preds, 0.05)*y_true_2d.T).mean()*(-1))"
   ]
  },
  {
   "cell_type": "code",
   "execution_count": null,
   "metadata": {},
   "outputs": [
    {
     "name": "stdout",
     "output_type": "stream",
     "text": [
      "tensor([[  -2.5000, -294.0000,   20.0000,    7.2000],\n",
      "        [   2.2500,  -77.0000,   20.0000,   -7.5000]])\n",
      "tensor([[  -2.5000, -294.0000,   20.0000,    7.2000],\n",
      "        [   2.2500,  -77.0000,   20.0000,   -7.5000]])\n"
     ]
    },
    {
     "data": {
      "text/plain": [
       "tensor(41.4437, requires_grad=True)"
      ]
     },
     "execution_count": null,
     "metadata": {},
     "output_type": "execute_result"
    }
   ],
   "source": [
    "leaky_loss_2d(preds, y_true_2d)"
   ]
  },
  {
   "cell_type": "code",
   "execution_count": null,
   "metadata": {},
   "outputs": [
    {
     "name": "stdout",
     "output_type": "stream",
     "text": [
      "tensor([[  -2.5000, -294.0000,   20.0000,    7.2000],\n",
      "        [   2.2500,  -77.0000,   20.0000,   -7.5000]])\n",
      "tensor([[  -2.5000, -294.0000,   20.0000,    7.2000],\n",
      "        [   4.5000, -154.0000,   40.0000,  -15.0000]])\n"
     ]
    },
    {
     "data": {
      "text/plain": [
       "tensor(49.2250, requires_grad=True)"
      ]
     },
     "execution_count": null,
     "metadata": {},
     "output_type": "execute_result"
    }
   ],
   "source": [
    "leaky_loss_2d(preds, y_true_2d, weight=[1.,2])"
   ]
  },
  {
   "cell_type": "code",
   "execution_count": null,
   "metadata": {},
   "outputs": [
    {
     "name": "stdout",
     "output_type": "stream",
     "text": [
      "tensor([[  -2.5000, -294.0000,   20.0000,    7.2000],\n",
      "        [   2.2500,  -77.0000,   20.0000,   -7.5000]])\n",
      "tensor([[  -2.5000, -294.0000,   20.0000,    7.2000],\n",
      "        [   4.5000, -154.0000,   40.0000,  -15.0000]])\n"
     ]
    },
    {
     "data": {
      "text/plain": [
       "tensor(49.2250, requires_grad=True)"
      ]
     },
     "execution_count": null,
     "metadata": {},
     "output_type": "execute_result"
    }
   ],
   "source": [
    "leaky_loss_2d(preds, y_true_2d, weight=[1.,2])"
   ]
  },
  {
   "cell_type": "code",
   "execution_count": null,
   "metadata": {},
   "outputs": [],
   "source": [
    "t=torch.tensor([1., 2.])"
   ]
  },
  {
   "cell_type": "code",
   "execution_count": null,
   "metadata": {},
   "outputs": [
    {
     "data": {
      "text/plain": [
       "tensor([3., 6.])"
      ]
     },
     "execution_count": null,
     "metadata": {},
     "output_type": "execute_result"
    }
   ],
   "source": [
    "t.mul_(3)"
   ]
  },
  {
   "cell_type": "code",
   "execution_count": null,
   "metadata": {},
   "outputs": [
    {
     "data": {
      "text/plain": [
       "tensor([3., 6.])"
      ]
     },
     "execution_count": null,
     "metadata": {},
     "output_type": "execute_result"
    }
   ],
   "source": [
    "t"
   ]
  },
  {
   "cell_type": "code",
   "execution_count": null,
   "metadata": {},
   "outputs": [
    {
     "data": {
      "text/plain": [
       "20.0"
      ]
     },
     "execution_count": null,
     "metadata": {},
     "output_type": "execute_result"
    }
   ],
   "source": [
    "(-0.5*100*0.05 + 0.7*100 + 0.2*100 + -1.5*100*0.05)/4"
   ]
  },
  {
   "cell_type": "markdown",
   "metadata": {},
   "source": [
    "### Metrics"
   ]
  },
  {
   "cell_type": "code",
   "execution_count": null,
   "metadata": {},
   "outputs": [],
   "source": [
    "#export\n",
    "def unweighted_profit(preds, y_true, threshold=0):\n",
    "    '''\n",
    "    metric, negative predictions ignored, y_true of positive predictions equally weighted\n",
    "    '''\n",
    "    m_value = ((preds.squeeze()>threshold).float()*y_true.float()).mean()\n",
    "    return m_value"
   ]
  },
  {
   "cell_type": "code",
   "execution_count": null,
   "metadata": {},
   "outputs": [],
   "source": [
    "#export\n",
    "def unweighted_profit_05(preds, y_true, threshold=0.5):\n",
    "    '''\n",
    "    metric, negative predictions ignored, y_true of positive predictions equally weighted\n",
    "    '''\n",
    "    m_value = ((preds.squeeze()>threshold).float()*y_true.float()).mean()\n",
    "    return m_value"
   ]
  },
  {
   "cell_type": "code",
   "execution_count": null,
   "metadata": {},
   "outputs": [],
   "source": [
    "assert unweighted_profit(preds, y_true) == (-0.5*100*0 + 1*100 + 1*100 + -1.5*100*0)/(4)"
   ]
  },
  {
   "cell_type": "code",
   "execution_count": null,
   "metadata": {},
   "outputs": [],
   "source": [
    "#export\n",
    "def weighted_profit(preds, y_true, threshold=0):\n",
    "    '''\n",
    "    metric, negative predictions ignored, results weighted by positive predictions\n",
    "    adding threshold possible\n",
    "    '''\n",
    "    loss_1 = ((preds.squeeze()>threshold).float()*(preds.squeeze())*y_true.float()).mean()\n",
    "    return loss_1"
   ]
  },
  {
   "cell_type": "code",
   "execution_count": null,
   "metadata": {},
   "outputs": [],
   "source": [
    "assert weighted_profit(preds, y_true) == (-0.5*100*0 + 0.7*100 + 0.2*100 + -1.5*100*0)/(4)"
   ]
  },
  {
   "cell_type": "markdown",
   "metadata": {},
   "source": [
    "### Convenience"
   ]
  },
  {
   "cell_type": "code",
   "execution_count": null,
   "metadata": {},
   "outputs": [],
   "source": [
    "#export\n",
    "def get_loss_fn(loss_fn_name, **kwargs):\n",
    "    '''\n",
    "    wrapper to create a partial with a more convenient __name__ attribute\n",
    "    '''\n",
    "    if loss_fn_name == 'leaky_loss':\n",
    "        assert kwargs.get('alpha', None) is not None, 'need to specify alpha with leaky_loss'\n",
    "        _loss_fn = partial(leaky_loss, alpha=kwargs['alpha'])\n",
    "        _loss_fn.__name__ = loss_fn_name\n",
    "        return _loss_fn\n",
    "    return None"
   ]
  },
  {
   "cell_type": "code",
   "execution_count": null,
   "metadata": {},
   "outputs": [],
   "source": [
    "assert get_loss_fn('leaky_loss', alpha=0.5)(preds, y_true) == leaky_loss(preds, y_true, alpha=0.5)"
   ]
  },
  {
   "cell_type": "code",
   "execution_count": null,
   "metadata": {},
   "outputs": [],
   "source": [
    "#export\n",
    "#fastcore.foundations\n",
    "def is_array(x): return hasattr(x,'__array__') or hasattr(x,'iloc')\n",
    "def listify(o):\n",
    "    if o is None: return []\n",
    "    if isinstance(o, list): return o\n",
    "    if isinstance(o, str) or _is_array(o): return [o]\n",
    "    if is_iter(o): return list(o)\n",
    "    return [o]"
   ]
  }
 ],
 "metadata": {
  "kernelspec": {
   "display_name": "Python [conda env:nbdev]",
   "language": "python",
   "name": "conda-env-nbdev-py"
  }
 },
 "nbformat": 4,
 "nbformat_minor": 2
}
