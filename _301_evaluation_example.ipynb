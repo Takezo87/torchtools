{
 "cells": [
  {
   "cell_type": "code",
   "execution_count": null,
   "metadata": {},
   "outputs": [],
   "source": [
    "#default_exp evaluation"
   ]
  },
  {
   "cell_type": "markdown",
   "metadata": {},
   "source": [
    "# Evaluation\n",
    "\n",
    "> evaluation of modelling results"
   ]
  },
  {
   "cell_type": "code",
   "execution_count": null,
   "metadata": {},
   "outputs": [],
   "source": [
    "#export\n",
    "from torchtools.core import *\n",
    "from torchtools.data import *\n",
    "from torchtools.models import *\n",
    "from torchtools.datasets import *\n",
    "from torchtools.augmentations import *\n",
    "#from torchtools.datablock import *\n",
    "from torchtools.dataloader import *\n",
    "from torchtools.experiments import *\n",
    "from torchtools.configs import *\n",
    "from torchtools.evaluation import *"
   ]
  },
  {
   "cell_type": "code",
   "execution_count": null,
   "metadata": {},
   "outputs": [],
   "source": [
    "#export\n",
    "import pandas as pd\n",
    "import numpy as np\n",
    "from fastai.basics import *\n",
    "from datetime import datetime, timedelta"
   ]
  },
  {
   "cell_type": "markdown",
   "metadata": {},
   "source": [
    "### Configuration"
   ]
  },
  {
   "cell_type": "code",
   "execution_count": null,
   "metadata": {},
   "outputs": [],
   "source": [
    "#provide some necessary configuration input\n",
    "is_colab = True #use colab experiment results\n",
    "is_class = False #regression\n",
    "#df_base path\n",
    "# df__base_path = Path('./data/custom/bi_sample_anon.csv')\n",
    "# df__base_path = Path('./data/custom/bi_sample_pruned_anon.csv')\n",
    "df_base_path = Path('~/coding/python/betting/experiments/datasets/bi_sample_pruned_anon.csv').expanduser()\n",
    "# df_base_path = Path('~/coding/python/betting/experiments/datasets/bi_sample_pruned_anon_222.csv').expanduser()\n",
    "# df_base_path = Path('~/coding/python/betlib/data/processed/ts_experiments_anon_ts_exp_2020818.csv').expanduser()\n",
    "# df_base_path = Path('~/coding/python/betting/experiments/datasets/bi_50_218_anon.csv').expanduser()"
   ]
  },
  {
   "cell_type": "code",
   "execution_count": null,
   "metadata": {},
   "outputs": [],
   "source": [
    "eval_conf = EvalConfig(is_colab, is_class, df_base_path)"
   ]
  },
  {
   "cell_type": "code",
   "execution_count": null,
   "metadata": {},
   "outputs": [
    {
     "data": {
      "text/plain": [
       "Path('/home/johannes/coding/python/betting/experiments/datasets/bi_sample_pruned_anon.csv')"
      ]
     },
     "execution_count": null,
     "metadata": {},
     "output_type": "execute_result"
    }
   ],
   "source": [
    "eval_conf.df_base_path"
   ]
  },
  {
   "cell_type": "markdown",
   "metadata": {},
   "source": [
    "## Evaluation"
   ]
  },
  {
   "cell_type": "markdown",
   "metadata": {},
   "source": [
    "- get best hyperparameters\n",
    "- evaluate ensembling"
   ]
  },
  {
   "cell_type": "markdown",
   "metadata": {},
   "source": [
    "### evaluate directly over specific experiments (identified by row index in df_results)"
   ]
  },
  {
   "cell_type": "markdown",
   "metadata": {},
   "source": [
    "promising regreesion ensembles:\n",
    "- [455, 559,535, 479, 187], solid but not spectacular over both valid and test sets, both test and valid hc around 2.7% in the 0.9 quantile"
   ]
  },
  {
   "cell_type": "code",
   "execution_count": null,
   "metadata": {},
   "outputs": [],
   "source": [
    "idxs = [455,559,535,479,187]"
   ]
  },
  {
   "cell_type": "code",
   "execution_count": null,
   "metadata": {},
   "outputs": [
    {
     "name": "stdout",
     "output_type": "stream",
     "text": [
      "                y0           y1\n",
      "mean      4.549413     1.480021\n",
      "sum    5686.765810  1850.025918\n",
      "count  1250.000000  1250.000000\n",
      "single results [array([1.87766792]), array([1.4628895]), array([2.64322925]), array([-3.33851048]), array([1.36463485])]\n",
      "mean result 0.8019822081599994\n"
     ]
    }
   ],
   "source": [
    "basic_eval(eval_conf, idxs, quantile=0.95)"
   ]
  },
  {
   "cell_type": "code",
   "execution_count": null,
   "metadata": {},
   "outputs": [
    {
     "name": "stdout",
     "output_type": "stream",
     "text": [
      "                y0           y1\n",
      "mean      2.843560     2.558725\n",
      "sum    3554.450608  3198.406529\n",
      "count  1250.000000  1250.000000\n",
      "single results [array([0.12496947]), array([-1.34115441]), array([1.98523216]), array([3.61429448]), array([3.45998786])]\n",
      "mean result 1.56866591056\n"
     ]
    }
   ],
   "source": [
    "basic_eval(eval_conf, idxs, test=True, quantile=0.95)"
   ]
  },
  {
   "cell_type": "markdown",
   "metadata": {},
   "source": [
    "### Filtering"
   ]
  },
  {
   "cell_type": "markdown",
   "metadata": {},
   "source": [
    "filter df_results and extract indices, e.g. according to some sorting\n",
    "- make sure you filter at least for 'ds', otherwise the experiments might not be comaparable"
   ]
  },
  {
   "cell_type": "markdown",
   "metadata": {},
   "source": [
    "Some observations:\n",
    "- test results much better for seed 1234\n",
    "- test results better for 2048 batch size, compare [477, 478, 479]\n",
    "- test results sensitive to quantile"
   ]
  },
  {
   "cell_type": "code",
   "execution_count": null,
   "metadata": {},
   "outputs": [],
   "source": [
    "filt = {'seed':[1234], 'magnitude': [0.4], 'ds':['bi_sample_pruned_anon'], 'n_epochs':[20], \n",
    "       'target':['1yhc'], 'col_config':['10sl_4c_2d'], 'N':[4]}"
   ]
  },
  {
   "cell_type": "code",
   "execution_count": null,
   "metadata": {},
   "outputs": [],
   "source": [
    "filt={'n_epochs': 20,\n",
    " 'max_lr': 0.0001,\n",
    " 'wd': 0.03,\n",
    " 'pct_start': 0.3,\n",
    " 'div_factor': 25, 'ds':['bi_sample_pruned_anon'], 'target':['1yhc'], 'col_config':['10sl_4c_2d']}"
   ]
  },
  {
   "cell_type": "code",
   "execution_count": null,
   "metadata": {},
   "outputs": [
    {
     "data": {
      "text/html": [
       "<div>\n",
       "<style scoped>\n",
       "    .dataframe tbody tr th:only-of-type {\n",
       "        vertical-align: middle;\n",
       "    }\n",
       "\n",
       "    .dataframe tbody tr th {\n",
       "        vertical-align: top;\n",
       "    }\n",
       "\n",
       "    .dataframe thead tr th {\n",
       "        text-align: left;\n",
       "    }\n",
       "\n",
       "    .dataframe thead tr:last-of-type th {\n",
       "        text-align: right;\n",
       "    }\n",
       "</style>\n",
       "<table border=\"1\" class=\"dataframe\">\n",
       "  <thead>\n",
       "    <tr>\n",
       "      <th></th>\n",
       "      <th></th>\n",
       "      <th></th>\n",
       "      <th></th>\n",
       "      <th></th>\n",
       "      <th colspan=\"2\" halign=\"left\">unweighted_profit_0_value</th>\n",
       "      <th colspan=\"2\" halign=\"left\">unweighted_profit_05_1_value</th>\n",
       "    </tr>\n",
       "    <tr>\n",
       "      <th></th>\n",
       "      <th></th>\n",
       "      <th></th>\n",
       "      <th></th>\n",
       "      <th></th>\n",
       "      <th>mean</th>\n",
       "      <th>count</th>\n",
       "      <th>mean</th>\n",
       "      <th>count</th>\n",
       "    </tr>\n",
       "    <tr>\n",
       "      <th>n_epochs</th>\n",
       "      <th>max_lr</th>\n",
       "      <th>wd</th>\n",
       "      <th>pct_start</th>\n",
       "      <th>div_factor</th>\n",
       "      <th></th>\n",
       "      <th></th>\n",
       "      <th></th>\n",
       "      <th></th>\n",
       "    </tr>\n",
       "  </thead>\n",
       "  <tbody>\n",
       "    <tr>\n",
       "      <th>20</th>\n",
       "      <th>0.0001</th>\n",
       "      <th>0.03</th>\n",
       "      <th>0.3</th>\n",
       "      <th>25.0</th>\n",
       "      <td>0.128621</td>\n",
       "      <td>11</td>\n",
       "      <td>0.130237</td>\n",
       "      <td>11</td>\n",
       "    </tr>\n",
       "  </tbody>\n",
       "</table>\n",
       "</div>"
      ],
      "text/plain": [
       "                                          unweighted_profit_0_value        \\\n",
       "                                                               mean count   \n",
       "n_epochs max_lr wd   pct_start div_factor                                   \n",
       "20       0.0001 0.03 0.3       25.0                        0.128621    11   \n",
       "\n",
       "                                          unweighted_profit_05_1_value        \n",
       "                                                                  mean count  \n",
       "n_epochs max_lr wd   pct_start div_factor                                     \n",
       "20       0.0001 0.03 0.3       25.0                           0.130237    11  "
      ]
     },
     "execution_count": null,
     "metadata": {},
     "output_type": "execute_result"
    }
   ],
   "source": [
    "filt_df(eval_conf.df_results, filt).groupby(fitting_params)[eval_conf.m_cols].agg(['mean', 'count'])"
   ]
  },
  {
   "cell_type": "code",
   "execution_count": null,
   "metadata": {},
   "outputs": [],
   "source": [
    "top_idxs = get_top(eval_conf.df_results, filt, by=loss_cols[0], n=3)"
   ]
  },
  {
   "cell_type": "code",
   "execution_count": null,
   "metadata": {},
   "outputs": [
    {
     "data": {
      "text/plain": [
       "[682, 681, 684]"
      ]
     },
     "execution_count": null,
     "metadata": {},
     "output_type": "execute_result"
    }
   ],
   "source": [
    "top_idxs"
   ]
  },
  {
   "cell_type": "code",
   "execution_count": null,
   "metadata": {},
   "outputs": [
    {
     "name": "stdout",
     "output_type": "stream",
     "text": [
      "                y0           y1\n",
      "mean      3.259326     1.288097\n",
      "sum    8148.315255  3220.241416\n",
      "count  2500.000000  2500.000000\n",
      "single results [array([0.16035809]), array([2.25463038]), array([1.09268488])]\n",
      "mean result 1.169224447333333\n"
     ]
    }
   ],
   "source": [
    "basic_eval(eval_conf, top_idxs, quantile=0.9)"
   ]
  },
  {
   "cell_type": "code",
   "execution_count": null,
   "metadata": {},
   "outputs": [
    {
     "name": "stdout",
     "output_type": "stream",
     "text": [
      "                y0           y1\n",
      "mean      1.424431     1.754542\n",
      "sum    3561.078670  4386.353988\n",
      "count  2500.000000  2500.000000\n",
      "single results [array([0.79572659]), array([2.35773731]), array([-1.33820847])]\n",
      "mean result 0.6050851422666664\n"
     ]
    }
   ],
   "source": [
    "basic_eval(eval_conf, top_idxs, test=True, quantile=0.9)"
   ]
  },
  {
   "cell_type": "markdown",
   "metadata": {},
   "source": [
    "### Comparative Evaluation"
   ]
  },
  {
   "cell_type": "markdown",
   "metadata": {},
   "source": [
    "- sort by metrics (which metric?) or loss\n",
    "- which ensembles perform bets?"
   ]
  },
  {
   "cell_type": "markdown",
   "metadata": {},
   "source": [
    "### Use Case #1"
   ]
  },
  {
   "cell_type": "markdown",
   "metadata": {},
   "source": [
    "We start with a rough filter, e.g. all runs with a certain column configuration, or between certain dates\n"
   ]
  },
  {
   "cell_type": "code",
   "execution_count": null,
   "metadata": {},
   "outputs": [
    {
     "data": {
      "text/plain": [
       "Path('data/custom/bi_sample_anon.csv')"
      ]
     },
     "execution_count": null,
     "metadata": {},
     "output_type": "execute_result"
    }
   ],
   "source": [
    "df_path"
   ]
  },
  {
   "cell_type": "code",
   "execution_count": null,
   "metadata": {},
   "outputs": [],
   "source": [
    "is_colab = True\n",
    "is_class = False\n",
    "df_base_path =  Path('~/coding/python/betting/experiments/datasets/bi_sample_pruned_anon.csv').expanduser()"
   ]
  },
  {
   "cell_type": "code",
   "execution_count": null,
   "metadata": {},
   "outputs": [],
   "source": [
    "eval_conf = EvalConfig(is_colab, is_class, df_base_path)"
   ]
  },
  {
   "cell_type": "code",
   "execution_count": null,
   "metadata": {},
   "outputs": [],
   "source": [
    "## basic filter\n",
    "filt = {\n",
    " 'ds': ['bi_sample_pruned_anon'],\n",
    " 'target': ['1yhc'],\n",
    " 'col_config': ['10sl_4c_2d'],\n",
    "    'bs':[1024, 2048]\n",
    "}"
   ]
  },
  {
   "cell_type": "markdown",
   "metadata": {},
   "source": [
    "Get a rough overview over the results with respect to certain parameters"
   ]
  },
  {
   "cell_type": "code",
   "execution_count": null,
   "metadata": {},
   "outputs": [],
   "source": [
    "params = ['n_epochs', 'max_lr', 'wd', 'N', 'magnitude', 'bs', ['n_epochs', 'max_lr']]"
   ]
  },
  {
   "cell_type": "code",
   "execution_count": null,
   "metadata": {},
   "outputs": [
    {
     "name": "stdout",
     "output_type": "stream",
     "text": [
      "n_epochs\n",
      "          unweighted_profit_0_value\n",
      "n_epochs                           \n",
      "15                         0.219773\n",
      "20                         0.153399\n",
      "max_lr\n",
      "         unweighted_profit_0_value\n",
      "max_lr                            \n",
      "0.00003                   0.226364\n",
      "0.00030                   0.158724\n",
      "0.00010                   0.144726\n",
      "0.00001                   0.098214\n",
      "wd\n",
      "      unweighted_profit_0_value\n",
      "wd                             \n",
      "0.10                   0.245226\n",
      "0.03                   0.227855\n",
      "0.30                   0.143134\n",
      "N\n",
      "   unweighted_profit_0_value\n",
      "N                           \n",
      "3                   0.274956\n",
      "4                   0.141574\n",
      "magnitude\n",
      "           unweighted_profit_0_value\n",
      "magnitude                           \n",
      "0.4                         0.165112\n",
      "bs\n",
      "      unweighted_profit_0_value\n",
      "bs                             \n",
      "1024                   0.242049\n",
      "2048                   0.151400\n",
      "['n_epochs', 'max_lr']\n",
      "                  unweighted_profit_0_value\n",
      "n_epochs max_lr                            \n",
      "15       0.00003                   0.296455\n",
      "         0.00001                   0.230604\n",
      "20       0.00003                   0.215149\n",
      "         0.00030                   0.193106\n",
      "15       0.00010                   0.179976\n",
      "20       0.00010                   0.139086\n",
      "15       0.00030                   0.124342\n",
      "20       0.00001                   0.058497\n"
     ]
    }
   ],
   "source": [
    "rough_param_comparison(eval_conf, filt, by=eval_conf.m_cols[0], params=params)"
   ]
  },
  {
   "cell_type": "code",
   "execution_count": null,
   "metadata": {},
   "outputs": [
    {
     "name": "stdout",
     "output_type": "stream",
     "text": [
      "n_epochs\n",
      "          val_loss\n",
      "n_epochs          \n",
      "15       -0.995926\n",
      "20       -0.987428\n",
      "max_lr\n",
      "         val_loss\n",
      "max_lr           \n",
      "0.00030 -1.186649\n",
      "0.00010 -1.139474\n",
      "0.00003 -0.987880\n",
      "0.00001 -0.693176\n",
      "wd\n",
      "      val_loss\n",
      "wd            \n",
      "0.10 -1.030925\n",
      "0.03 -1.018370\n",
      "0.30 -0.977937\n",
      "N\n",
      "   val_loss\n",
      "N          \n",
      "3 -1.034089\n",
      "4 -0.979250\n",
      "magnitude\n",
      "           val_loss\n",
      "magnitude          \n",
      "0.4       -0.988928\n",
      "bs\n",
      "      val_loss\n",
      "bs            \n",
      "1024 -1.026067\n",
      "2048 -0.982309\n",
      "['n_epochs', 'max_lr']\n",
      "                  val_loss\n",
      "n_epochs max_lr           \n",
      "20       0.00030 -1.192605\n",
      "15       0.00010 -1.182821\n",
      "         0.00030 -1.180693\n",
      "20       0.00010 -1.132539\n",
      "15       0.00003 -1.011400\n",
      "20       0.00003 -0.984117\n",
      "15       0.00001 -0.701174\n",
      "20       0.00001 -0.690776\n"
     ]
    }
   ],
   "source": [
    "## do the same thing with respect to the loss function\n",
    "rough_param_comparison(eval_conf, filt, by=loss_cols[0], params=params)"
   ]
  },
  {
   "cell_type": "markdown",
   "metadata": {},
   "source": [
    "The rough comparison data can be used to refine the filter"
   ]
  },
  {
   "cell_type": "code",
   "execution_count": null,
   "metadata": {},
   "outputs": [
    {
     "data": {
      "text/plain": [
       "{'ds': ['bi_sample_pruned_anon'],\n",
       " 'target': ['1yhc'],\n",
       " 'col_config': ['10sl_4c_2d'],\n",
       " 'bs': [1024, 2048]}"
      ]
     },
     "execution_count": null,
     "metadata": {},
     "output_type": "execute_result"
    }
   ],
   "source": [
    "filt"
   ]
  },
  {
   "cell_type": "code",
   "execution_count": null,
   "metadata": {},
   "outputs": [],
   "source": [
    "filt.update({'n_epochs':[15], 'max_lr':[0.0003], 'N':[3], 'wd':[0.1]})"
   ]
  },
  {
   "cell_type": "code",
   "execution_count": null,
   "metadata": {},
   "outputs": [
    {
     "data": {
      "text/plain": [
       "{'ds': ['bi_sample_pruned_anon'],\n",
       " 'target': ['1yhc'],\n",
       " 'col_config': ['10sl_4c_2d'],\n",
       " 'bs': [1024, 2048],\n",
       " 'n_epochs': [15],\n",
       " 'max_lr': [0.0003],\n",
       " 'N': [3],\n",
       " 'wd': [0.1]}"
      ]
     },
     "execution_count": null,
     "metadata": {},
     "output_type": "execute_result"
    }
   ],
   "source": [
    "filt"
   ]
  },
  {
   "cell_type": "markdown",
   "metadata": {},
   "source": [
    "now extract the top models with the refined filter"
   ]
  },
  {
   "cell_type": "code",
   "execution_count": null,
   "metadata": {},
   "outputs": [],
   "source": [
    "top_idxs = get_top(eval_conf.df_results, filt, eval_conf.m_cols[0], n=5)"
   ]
  },
  {
   "cell_type": "code",
   "execution_count": null,
   "metadata": {},
   "outputs": [],
   "source": [
    "top_idxs = get_top(eval_conf.df_results, filt, eval_conf.m_cols[0], n=5)"
   ]
  },
  {
   "cell_type": "code",
   "execution_count": null,
   "metadata": {},
   "outputs": [
    {
     "data": {
      "text/plain": [
       "[253]"
      ]
     },
     "execution_count": null,
     "metadata": {},
     "output_type": "execute_result"
    }
   ],
   "source": [
    "top_idxs"
   ]
  },
  {
   "cell_type": "code",
   "execution_count": null,
   "metadata": {},
   "outputs": [
    {
     "name": "stdout",
     "output_type": "stream",
     "text": [
      "                y0           y1\n",
      "mean      1.314293     1.550400\n",
      "sum    3285.731294  3875.999356\n",
      "count  2500.000000  2500.000000\n",
      "single results [array([1.55039974])]\n",
      "mean result 1.5503997423999998\n"
     ]
    }
   ],
   "source": [
    "basic_eval(eval_conf, top_idxs)"
   ]
  },
  {
   "cell_type": "code",
   "execution_count": null,
   "metadata": {},
   "outputs": [
    {
     "name": "stdout",
     "output_type": "stream",
     "text": [
      "                y0           y1\n",
      "mean      1.500411     2.171469\n",
      "sum    3751.027502  5428.672729\n",
      "count  2500.000000  2500.000000\n",
      "single results [array([2.17146909])]\n",
      "mean result 2.1714690916\n"
     ]
    }
   ],
   "source": [
    "basic_eval(eval_conf, top_idxs, test=True)"
   ]
  },
  {
   "cell_type": "code",
   "execution_count": null,
   "metadata": {},
   "outputs": [
    {
     "data": {
      "text/html": [
       "<div>\n",
       "<style scoped>\n",
       "    .dataframe tbody tr th:only-of-type {\n",
       "        vertical-align: middle;\n",
       "    }\n",
       "\n",
       "    .dataframe tbody tr th {\n",
       "        vertical-align: top;\n",
       "    }\n",
       "\n",
       "    .dataframe thead th {\n",
       "        text-align: right;\n",
       "    }\n",
       "</style>\n",
       "<table border=\"1\" class=\"dataframe\">\n",
       "  <thead>\n",
       "    <tr style=\"text-align: right;\">\n",
       "      <th></th>\n",
       "      <th>n_epochs</th>\n",
       "      <th>max_lr</th>\n",
       "      <th>wd</th>\n",
       "      <th>pct_start</th>\n",
       "      <th>div_factor</th>\n",
       "      <th>N</th>\n",
       "      <th>magnitude</th>\n",
       "      <th>seed</th>\n",
       "      <th>bs</th>\n",
       "      <th>arch</th>\n",
       "      <th>bs</th>\n",
       "      <th>ds_id</th>\n",
       "    </tr>\n",
       "  </thead>\n",
       "  <tbody>\n",
       "    <tr>\n",
       "      <th>205</th>\n",
       "      <td>15</td>\n",
       "      <td>0.0001</td>\n",
       "      <td>0.10</td>\n",
       "      <td>0.3</td>\n",
       "      <td>25.0</td>\n",
       "      <td>3</td>\n",
       "      <td>0.4</td>\n",
       "      <td>1234</td>\n",
       "      <td>1024</td>\n",
       "      <td>InceptionTimeD</td>\n",
       "      <td>1024</td>\n",
       "      <td>bi_sample_pruned_anon_anon_10sl_4c_2d_1yhc_159999_184999_209999</td>\n",
       "    </tr>\n",
       "    <tr>\n",
       "      <th>240</th>\n",
       "      <td>15</td>\n",
       "      <td>0.0001</td>\n",
       "      <td>0.03</td>\n",
       "      <td>0.3</td>\n",
       "      <td>25.0</td>\n",
       "      <td>3</td>\n",
       "      <td>0.4</td>\n",
       "      <td>1234</td>\n",
       "      <td>2048</td>\n",
       "      <td>InceptionTimeD</td>\n",
       "      <td>2048</td>\n",
       "      <td>bi_sample_pruned_anon_anon_10sl_4c_2d_1yhc_159999_184999_209999</td>\n",
       "    </tr>\n",
       "    <tr>\n",
       "      <th>204</th>\n",
       "      <td>15</td>\n",
       "      <td>0.0001</td>\n",
       "      <td>0.03</td>\n",
       "      <td>0.3</td>\n",
       "      <td>25.0</td>\n",
       "      <td>3</td>\n",
       "      <td>0.4</td>\n",
       "      <td>1234</td>\n",
       "      <td>1024</td>\n",
       "      <td>InceptionTimeD</td>\n",
       "      <td>1024</td>\n",
       "      <td>bi_sample_pruned_anon_anon_10sl_4c_2d_1yhc_159999_184999_209999</td>\n",
       "    </tr>\n",
       "    <tr>\n",
       "      <th>242</th>\n",
       "      <td>15</td>\n",
       "      <td>0.0001</td>\n",
       "      <td>0.30</td>\n",
       "      <td>0.3</td>\n",
       "      <td>25.0</td>\n",
       "      <td>3</td>\n",
       "      <td>0.4</td>\n",
       "      <td>1234</td>\n",
       "      <td>2048</td>\n",
       "      <td>InceptionTimeD</td>\n",
       "      <td>2048</td>\n",
       "      <td>bi_sample_pruned_anon_anon_10sl_4c_2d_1yhc_159999_184999_209999</td>\n",
       "    </tr>\n",
       "    <tr>\n",
       "      <th>241</th>\n",
       "      <td>15</td>\n",
       "      <td>0.0001</td>\n",
       "      <td>0.10</td>\n",
       "      <td>0.3</td>\n",
       "      <td>25.0</td>\n",
       "      <td>3</td>\n",
       "      <td>0.4</td>\n",
       "      <td>1234</td>\n",
       "      <td>2048</td>\n",
       "      <td>InceptionTimeD</td>\n",
       "      <td>2048</td>\n",
       "      <td>bi_sample_pruned_anon_anon_10sl_4c_2d_1yhc_159999_184999_209999</td>\n",
       "    </tr>\n",
       "  </tbody>\n",
       "</table>\n",
       "</div>"
      ],
      "text/plain": [
       "     n_epochs  max_lr    wd  pct_start  div_factor  N  magnitude  seed    bs  \\\n",
       "205        15  0.0001  0.10        0.3        25.0  3        0.4  1234  1024   \n",
       "240        15  0.0001  0.03        0.3        25.0  3        0.4  1234  2048   \n",
       "204        15  0.0001  0.03        0.3        25.0  3        0.4  1234  1024   \n",
       "242        15  0.0001  0.30        0.3        25.0  3        0.4  1234  2048   \n",
       "241        15  0.0001  0.10        0.3        25.0  3        0.4  1234  2048   \n",
       "\n",
       "               arch    bs  \\\n",
       "205  InceptionTimeD  1024   \n",
       "240  InceptionTimeD  2048   \n",
       "204  InceptionTimeD  1024   \n",
       "242  InceptionTimeD  2048   \n",
       "241  InceptionTimeD  2048   \n",
       "\n",
       "                                                               ds_id  \n",
       "205  bi_sample_pruned_anon_anon_10sl_4c_2d_1yhc_159999_184999_209999  \n",
       "240  bi_sample_pruned_anon_anon_10sl_4c_2d_1yhc_159999_184999_209999  \n",
       "204  bi_sample_pruned_anon_anon_10sl_4c_2d_1yhc_159999_184999_209999  \n",
       "242  bi_sample_pruned_anon_anon_10sl_4c_2d_1yhc_159999_184999_209999  \n",
       "241  bi_sample_pruned_anon_anon_10sl_4c_2d_1yhc_159999_184999_209999  "
      ]
     },
     "execution_count": null,
     "metadata": {},
     "output_type": "execute_result"
    }
   ],
   "source": [
    "eval_conf.df_results.iloc[top_idxs][fitting_params+augment_params+['seed','bs']+experiment_cols]"
   ]
  },
  {
   "cell_type": "code",
   "execution_count": null,
   "metadata": {},
   "outputs": [],
   "source": []
  }
 ],
 "metadata": {
  "kernelspec": {
   "display_name": "Python [conda env:ttools]",
   "language": "python",
   "name": "conda-env-ttools-py"
  }
 },
 "nbformat": 4,
 "nbformat_minor": 2
}
