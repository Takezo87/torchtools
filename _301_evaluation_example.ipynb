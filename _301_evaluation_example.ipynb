{
 "cells": [
  {
   "cell_type": "code",
   "execution_count": null,
   "metadata": {
    "hide_input": true
   },
   "outputs": [],
   "source": [
    "from nbdev import *"
   ]
  },
  {
   "cell_type": "code",
   "execution_count": null,
   "metadata": {},
   "outputs": [],
   "source": [
    "#default_exp evaluation"
   ]
  },
  {
   "cell_type": "markdown",
   "metadata": {},
   "source": [
    "# Evaluation\n",
    "\n",
    "> evaluation of modelling results"
   ]
  },
  {
   "cell_type": "code",
   "execution_count": null,
   "metadata": {},
   "outputs": [],
   "source": [
    "#export\n",
    "from torchtools.core import *\n",
    "from torchtools.data import *\n",
    "from torchtools.models import *\n",
    "from torchtools.datasets import *\n",
    "from torchtools.augmentations import *\n",
    "#from torchtools.datablock import *\n",
    "from torchtools.dataloader import *\n",
    "from torchtools.experiments import *\n",
    "from torchtools.configs import *\n",
    "from torchtools.evaluation import *"
   ]
  },
  {
   "cell_type": "code",
   "execution_count": null,
   "metadata": {},
   "outputs": [],
   "source": [
    "#export\n",
    "import pandas as pd\n",
    "import numpy as np\n",
    "from fastai.basics import *\n",
    "from datetime import datetime, timedelta"
   ]
  },
  {
   "cell_type": "markdown",
   "metadata": {},
   "source": [
    "### Configuration"
   ]
  },
  {
   "cell_type": "code",
   "execution_count": null,
   "metadata": {},
   "outputs": [],
   "source": [
    "#provide some necessary configuration input\n",
    "is_colab = True #use colab experiment results\n",
    "is_class = False #regression\n",
    "#df_base path\n",
    "# df__base_path = Path('./data/custom/bi_sample_anon.csv')\n",
    "# df__base_path = Path('./data/custom/bi_sample_pruned_anon.csv')\n",
    "df_base_path = Path('~/coding/python/betting/experiments/datasets/bi_sample_pruned_anon.csv').expanduser()\n",
    "# df_base_path = Path('~/coding/python/betting/experiments/datasets/bi_sample_pruned_anon_222.csv').expanduser()\n",
    "# df_base_path = Path('~/coding/python/betlib/data/processed/ts_experiments_anon_ts_exp_2020818.csv').expanduser()\n",
    "# df_base_path = Path('~/coding/python/betting/experiments/datasets/bi_50_218_anon.csv').expanduser()"
   ]
  },
  {
   "cell_type": "code",
   "execution_count": null,
   "metadata": {},
   "outputs": [],
   "source": [
    "eval_conf = EvalConfig(is_colab, is_class, df_base_path)"
   ]
  },
  {
   "cell_type": "code",
   "execution_count": null,
   "metadata": {},
   "outputs": [
    {
     "data": {
      "text/plain": [
       "Path('/home/johannes/coding/python/betting/experiments/datasets/bi_sample_pruned_anon.csv')"
      ]
     },
     "execution_count": null,
     "metadata": {},
     "output_type": "execute_result"
    }
   ],
   "source": [
    "eval_conf.df_base_path"
   ]
  },
  {
   "cell_type": "markdown",
   "metadata": {},
   "source": [
    "## Evaluation"
   ]
  },
  {
   "cell_type": "markdown",
   "metadata": {},
   "source": [
    "- get best hyperparameters\n",
    "- evaluate ensembling"
   ]
  },
  {
   "cell_type": "markdown",
   "metadata": {},
   "source": [
    "### evaluate directly over specific experiments (identified by row index in df_results)"
   ]
  },
  {
   "cell_type": "markdown",
   "metadata": {},
   "source": [
    "promising regreesion ensembles:\n",
    "- [455, 559,535, 479, 187], solid but not spectacular over both valid and test sets, both test and valid hc around 2.7% in the 0.9 quantile"
   ]
  },
  {
   "cell_type": "code",
   "execution_count": null,
   "metadata": {},
   "outputs": [],
   "source": [
    "idxs = [455,559,535,479,187]"
   ]
  },
  {
   "cell_type": "code",
   "execution_count": null,
   "metadata": {},
   "outputs": [
    {
     "name": "stdout",
     "output_type": "stream",
     "text": [
      "                y0           y1\n",
      "mean      4.549413     1.480021\n",
      "sum    5686.765810  1850.025918\n",
      "count  1250.000000  1250.000000\n",
      "single results [array([1.87766792]), array([1.4628895]), array([2.64322925]), array([-3.33851048]), array([1.36463485])]\n",
      "mean result 0.8019822081599994\n"
     ]
    }
   ],
   "source": [
    "basic_eval(eval_conf, idxs, quantile=0.95)"
   ]
  },
  {
   "cell_type": "code",
   "execution_count": null,
   "metadata": {},
   "outputs": [
    {
     "name": "stdout",
     "output_type": "stream",
     "text": [
      "                y0           y1\n",
      "mean      2.843560     2.558725\n",
      "sum    3554.450608  3198.406529\n",
      "count  1250.000000  1250.000000\n",
      "single results [array([0.12496947]), array([-1.34115441]), array([1.98523216]), array([3.61429448]), array([3.45998786])]\n",
      "mean result 1.56866591056\n"
     ]
    }
   ],
   "source": [
    "basic_eval(eval_conf, idxs, test=True, quantile=0.95)"
   ]
  },
  {
   "cell_type": "markdown",
   "metadata": {},
   "source": [
    "### Filtering"
   ]
  },
  {
   "cell_type": "markdown",
   "metadata": {},
   "source": [
    "filter df_results and extract indices, e.g. according to some sorting\n",
    "- make sure you filter at least for 'ds', otherwise the experiments might not be comaparable"
   ]
  },
  {
   "cell_type": "markdown",
   "metadata": {},
   "source": [
    "Some observations:\n",
    "- test results much better for seed 1234\n",
    "- test results better for 2048 batch size, compare [477, 478, 479]\n",
    "- test results sensitive to quantile"
   ]
  },
  {
   "cell_type": "code",
   "execution_count": null,
   "metadata": {},
   "outputs": [],
   "source": [
    "filt = {'seed':[1234], 'magnitude': [0.4], 'ds':['bi_sample_pruned_anon'], 'n_epochs':[20], \n",
    "       'target':['1yhc'], 'col_config':['10sl_4c_2d'], 'N':[4]}"
   ]
  },
  {
   "cell_type": "code",
   "execution_count": null,
   "metadata": {},
   "outputs": [],
   "source": [
    "filt={'n_epochs': 20,\n",
    " 'max_lr': 0.0001,\n",
    " 'wd': 0.03,\n",
    " 'pct_start': 0.3,\n",
    " 'div_factor': 25, 'ds':['bi_sample_pruned_anon'], 'target':['1yhc'], 'col_config':['10sl_4c_2d']}"
   ]
  },
  {
   "cell_type": "code",
   "execution_count": null,
   "metadata": {},
   "outputs": [
    {
     "data": {
      "text/html": [
       "<div>\n",
       "<style scoped>\n",
       "    .dataframe tbody tr th:only-of-type {\n",
       "        vertical-align: middle;\n",
       "    }\n",
       "\n",
       "    .dataframe tbody tr th {\n",
       "        vertical-align: top;\n",
       "    }\n",
       "\n",
       "    .dataframe thead tr th {\n",
       "        text-align: left;\n",
       "    }\n",
       "\n",
       "    .dataframe thead tr:last-of-type th {\n",
       "        text-align: right;\n",
       "    }\n",
       "</style>\n",
       "<table border=\"1\" class=\"dataframe\">\n",
       "  <thead>\n",
       "    <tr>\n",
       "      <th></th>\n",
       "      <th></th>\n",
       "      <th></th>\n",
       "      <th></th>\n",
       "      <th></th>\n",
       "      <th colspan=\"2\" halign=\"left\">unweighted_profit_0_value</th>\n",
       "      <th colspan=\"2\" halign=\"left\">unweighted_profit_05_1_value</th>\n",
       "    </tr>\n",
       "    <tr>\n",
       "      <th></th>\n",
       "      <th></th>\n",
       "      <th></th>\n",
       "      <th></th>\n",
       "      <th></th>\n",
       "      <th>mean</th>\n",
       "      <th>count</th>\n",
       "      <th>mean</th>\n",
       "      <th>count</th>\n",
       "    </tr>\n",
       "    <tr>\n",
       "      <th>n_epochs</th>\n",
       "      <th>max_lr</th>\n",
       "      <th>wd</th>\n",
       "      <th>pct_start</th>\n",
       "      <th>div_factor</th>\n",
       "      <th></th>\n",
       "      <th></th>\n",
       "      <th></th>\n",
       "      <th></th>\n",
       "    </tr>\n",
       "  </thead>\n",
       "  <tbody>\n",
       "    <tr>\n",
       "      <th>20</th>\n",
       "      <th>0.0001</th>\n",
       "      <th>0.03</th>\n",
       "      <th>0.3</th>\n",
       "      <th>25.0</th>\n",
       "      <td>0.128621</td>\n",
       "      <td>11</td>\n",
       "      <td>0.130237</td>\n",
       "      <td>11</td>\n",
       "    </tr>\n",
       "  </tbody>\n",
       "</table>\n",
       "</div>"
      ],
      "text/plain": [
       "                                          unweighted_profit_0_value        \\\n",
       "                                                               mean count   \n",
       "n_epochs max_lr wd   pct_start div_factor                                   \n",
       "20       0.0001 0.03 0.3       25.0                        0.128621    11   \n",
       "\n",
       "                                          unweighted_profit_05_1_value        \n",
       "                                                                  mean count  \n",
       "n_epochs max_lr wd   pct_start div_factor                                     \n",
       "20       0.0001 0.03 0.3       25.0                           0.130237    11  "
      ]
     },
     "execution_count": null,
     "metadata": {},
     "output_type": "execute_result"
    }
   ],
   "source": [
    "filt_df(eval_conf.df_results, filt).groupby(fitting_params)[eval_conf.m_cols].agg(['mean', 'count'])"
   ]
  },
  {
   "cell_type": "code",
   "execution_count": null,
   "metadata": {},
   "outputs": [],
   "source": [
    "top_idxs = get_top(eval_conf.df_results, filt, by=loss_cols[0], n=3)"
   ]
  },
  {
   "cell_type": "code",
   "execution_count": null,
   "metadata": {},
   "outputs": [
    {
     "data": {
      "text/plain": [
       "[682, 681, 684]"
      ]
     },
     "execution_count": null,
     "metadata": {},
     "output_type": "execute_result"
    }
   ],
   "source": [
    "top_idxs"
   ]
  },
  {
   "cell_type": "code",
   "execution_count": null,
   "metadata": {},
   "outputs": [
    {
     "name": "stdout",
     "output_type": "stream",
     "text": [
      "                y0           y1\n",
      "mean      3.259326     1.288097\n",
      "sum    8148.315255  3220.241416\n",
      "count  2500.000000  2500.000000\n",
      "single results [array([0.16035809]), array([2.25463038]), array([1.09268488])]\n",
      "mean result 1.169224447333333\n"
     ]
    }
   ],
   "source": [
    "basic_eval(eval_conf, top_idxs, quantile=0.9)"
   ]
  },
  {
   "cell_type": "code",
   "execution_count": null,
   "metadata": {},
   "outputs": [
    {
     "name": "stdout",
     "output_type": "stream",
     "text": [
      "                y0           y1\n",
      "mean      1.424431     1.754542\n",
      "sum    3561.078670  4386.353988\n",
      "count  2500.000000  2500.000000\n",
      "single results [array([0.79572659]), array([2.35773731]), array([-1.33820847])]\n",
      "mean result 0.6050851422666664\n"
     ]
    }
   ],
   "source": [
    "basic_eval(eval_conf, top_idxs, test=True, quantile=0.9)"
   ]
  },
  {
   "cell_type": "markdown",
   "metadata": {},
   "source": [
    "### Comparative Evaluation"
   ]
  },
  {
   "cell_type": "markdown",
   "metadata": {},
   "source": [
    "- sort by metrics (which metric?) or loss\n",
    "- which ensembles perform bets?"
   ]
  },
  {
   "cell_type": "markdown",
   "metadata": {},
   "source": [
    "### Use Case #1"
   ]
  },
  {
   "cell_type": "markdown",
   "metadata": {},
   "source": [
    "We start with a rough filter, e.g. all runs with a certain column configuration, or between certain dates\n"
   ]
  },
  {
   "cell_type": "code",
   "execution_count": null,
   "metadata": {},
   "outputs": [
    {
     "data": {
      "text/plain": [
       "Path('data/custom/bi_sample_anon.csv')"
      ]
     },
     "execution_count": null,
     "metadata": {},
     "output_type": "execute_result"
    }
   ],
   "source": [
    "df_path"
   ]
  },
  {
   "cell_type": "code",
   "execution_count": null,
   "metadata": {},
   "outputs": [],
   "source": [
    "is_colab = True\n",
    "is_class = False\n",
    "df_base_path =  Path('~/coding/python/betting/experiments/datasets/bi_sample_pruned_anon.csv').expanduser()"
   ]
  },
  {
   "cell_type": "code",
   "execution_count": null,
   "metadata": {},
   "outputs": [],
   "source": [
    "eval_conf = EvalConfig(is_colab, is_class, df_base_path)"
   ]
  },
  {
   "cell_type": "code",
   "execution_count": null,
   "metadata": {},
   "outputs": [],
   "source": [
    "## basic filter\n",
    "filt = {\n",
    " 'ds': ['bi_sample_pruned_anon'],\n",
    " 'target': ['1yhc'],\n",
    " 'col_config': ['10sl_4c_2d'],\n",
    "    'bs':[1024, 2048]\n",
    "}\n",
    "\n",
    "# filt = {'ds': ['bi_sample_pruned_anon'], 'target': ['1yhc'], 'col_config': ['10sl_4c_2d'],\n",
    "#         'start_date':datetime(2020,10,5)}\n"
   ]
  },
  {
   "cell_type": "markdown",
   "metadata": {},
   "source": [
    "Get a rough overview over the results with respect to certain parameters"
   ]
  },
  {
   "cell_type": "code",
   "execution_count": null,
   "metadata": {},
   "outputs": [],
   "source": [
    "get_best_params??"
   ]
  },
  {
   "cell_type": "code",
   "execution_count": null,
   "metadata": {},
   "outputs": [
    {
     "data": {
      "text/html": [
       "<div>\n",
       "<style scoped>\n",
       "    .dataframe tbody tr th:only-of-type {\n",
       "        vertical-align: middle;\n",
       "    }\n",
       "\n",
       "    .dataframe tbody tr th {\n",
       "        vertical-align: top;\n",
       "    }\n",
       "\n",
       "    .dataframe thead th {\n",
       "        text-align: right;\n",
       "    }\n",
       "</style>\n",
       "<table border=\"1\" class=\"dataframe\">\n",
       "  <thead>\n",
       "    <tr style=\"text-align: right;\">\n",
       "      <th></th>\n",
       "      <th>n_epochs</th>\n",
       "      <th>max_lr</th>\n",
       "      <th>wd</th>\n",
       "      <th>pct_start</th>\n",
       "      <th>div_factor</th>\n",
       "      <th>unweighted_profit_0_value</th>\n",
       "    </tr>\n",
       "  </thead>\n",
       "  <tbody>\n",
       "    <tr>\n",
       "      <th>14</th>\n",
       "      <td>20</td>\n",
       "      <td>0.00001</td>\n",
       "      <td>0.30</td>\n",
       "      <td>0.3</td>\n",
       "      <td>25.0</td>\n",
       "      <td>-0.008061</td>\n",
       "    </tr>\n",
       "    <tr>\n",
       "      <th>11</th>\n",
       "      <td>15</td>\n",
       "      <td>0.00030</td>\n",
       "      <td>0.30</td>\n",
       "      <td>0.3</td>\n",
       "      <td>25.0</td>\n",
       "      <td>0.122269</td>\n",
       "    </tr>\n",
       "    <tr>\n",
       "      <th>9</th>\n",
       "      <td>15</td>\n",
       "      <td>0.00030</td>\n",
       "      <td>0.03</td>\n",
       "      <td>0.3</td>\n",
       "      <td>25.0</td>\n",
       "      <td>0.124733</td>\n",
       "    </tr>\n",
       "    <tr>\n",
       "      <th>10</th>\n",
       "      <td>15</td>\n",
       "      <td>0.00030</td>\n",
       "      <td>0.10</td>\n",
       "      <td>0.3</td>\n",
       "      <td>25.0</td>\n",
       "      <td>0.126022</td>\n",
       "    </tr>\n",
       "    <tr>\n",
       "      <th>20</th>\n",
       "      <td>20</td>\n",
       "      <td>0.00010</td>\n",
       "      <td>0.30</td>\n",
       "      <td>0.3</td>\n",
       "      <td>25.0</td>\n",
       "      <td>0.135028</td>\n",
       "    </tr>\n",
       "    <tr>\n",
       "      <th>21</th>\n",
       "      <td>20</td>\n",
       "      <td>0.00030</td>\n",
       "      <td>0.03</td>\n",
       "      <td>0.3</td>\n",
       "      <td>25.0</td>\n",
       "      <td>0.141151</td>\n",
       "    </tr>\n",
       "    <tr>\n",
       "      <th>18</th>\n",
       "      <td>20</td>\n",
       "      <td>0.00010</td>\n",
       "      <td>0.03</td>\n",
       "      <td>0.3</td>\n",
       "      <td>25.0</td>\n",
       "      <td>0.160540</td>\n",
       "    </tr>\n",
       "    <tr>\n",
       "      <th>8</th>\n",
       "      <td>15</td>\n",
       "      <td>0.00010</td>\n",
       "      <td>0.30</td>\n",
       "      <td>0.3</td>\n",
       "      <td>25.0</td>\n",
       "      <td>0.167235</td>\n",
       "    </tr>\n",
       "    <tr>\n",
       "      <th>23</th>\n",
       "      <td>20</td>\n",
       "      <td>0.00030</td>\n",
       "      <td>0.30</td>\n",
       "      <td>0.3</td>\n",
       "      <td>25.0</td>\n",
       "      <td>0.170094</td>\n",
       "    </tr>\n",
       "    <tr>\n",
       "      <th>6</th>\n",
       "      <td>15</td>\n",
       "      <td>0.00010</td>\n",
       "      <td>0.03</td>\n",
       "      <td>0.3</td>\n",
       "      <td>25.0</td>\n",
       "      <td>0.181716</td>\n",
       "    </tr>\n",
       "    <tr>\n",
       "      <th>19</th>\n",
       "      <td>20</td>\n",
       "      <td>0.00010</td>\n",
       "      <td>0.10</td>\n",
       "      <td>0.3</td>\n",
       "      <td>25.0</td>\n",
       "      <td>0.185612</td>\n",
       "    </tr>\n",
       "    <tr>\n",
       "      <th>7</th>\n",
       "      <td>15</td>\n",
       "      <td>0.00010</td>\n",
       "      <td>0.10</td>\n",
       "      <td>0.3</td>\n",
       "      <td>25.0</td>\n",
       "      <td>0.190978</td>\n",
       "    </tr>\n",
       "    <tr>\n",
       "      <th>17</th>\n",
       "      <td>20</td>\n",
       "      <td>0.00003</td>\n",
       "      <td>0.30</td>\n",
       "      <td>0.3</td>\n",
       "      <td>25.0</td>\n",
       "      <td>0.207571</td>\n",
       "    </tr>\n",
       "    <tr>\n",
       "      <th>2</th>\n",
       "      <td>15</td>\n",
       "      <td>0.00001</td>\n",
       "      <td>0.30</td>\n",
       "      <td>0.3</td>\n",
       "      <td>25.0</td>\n",
       "      <td>0.229527</td>\n",
       "    </tr>\n",
       "    <tr>\n",
       "      <th>0</th>\n",
       "      <td>15</td>\n",
       "      <td>0.00001</td>\n",
       "      <td>0.03</td>\n",
       "      <td>0.3</td>\n",
       "      <td>25.0</td>\n",
       "      <td>0.230429</td>\n",
       "    </tr>\n",
       "    <tr>\n",
       "      <th>1</th>\n",
       "      <td>15</td>\n",
       "      <td>0.00001</td>\n",
       "      <td>0.10</td>\n",
       "      <td>0.3</td>\n",
       "      <td>25.0</td>\n",
       "      <td>0.231855</td>\n",
       "    </tr>\n",
       "    <tr>\n",
       "      <th>22</th>\n",
       "      <td>20</td>\n",
       "      <td>0.00030</td>\n",
       "      <td>0.10</td>\n",
       "      <td>0.3</td>\n",
       "      <td>25.0</td>\n",
       "      <td>0.268072</td>\n",
       "    </tr>\n",
       "    <tr>\n",
       "      <th>15</th>\n",
       "      <td>20</td>\n",
       "      <td>0.00003</td>\n",
       "      <td>0.03</td>\n",
       "      <td>0.3</td>\n",
       "      <td>25.0</td>\n",
       "      <td>0.272009</td>\n",
       "    </tr>\n",
       "    <tr>\n",
       "      <th>16</th>\n",
       "      <td>20</td>\n",
       "      <td>0.00003</td>\n",
       "      <td>0.10</td>\n",
       "      <td>0.3</td>\n",
       "      <td>25.0</td>\n",
       "      <td>0.285221</td>\n",
       "    </tr>\n",
       "    <tr>\n",
       "      <th>4</th>\n",
       "      <td>15</td>\n",
       "      <td>0.00003</td>\n",
       "      <td>0.10</td>\n",
       "      <td>0.3</td>\n",
       "      <td>25.0</td>\n",
       "      <td>0.293850</td>\n",
       "    </tr>\n",
       "    <tr>\n",
       "      <th>5</th>\n",
       "      <td>15</td>\n",
       "      <td>0.00003</td>\n",
       "      <td>0.30</td>\n",
       "      <td>0.3</td>\n",
       "      <td>25.0</td>\n",
       "      <td>0.295602</td>\n",
       "    </tr>\n",
       "    <tr>\n",
       "      <th>3</th>\n",
       "      <td>15</td>\n",
       "      <td>0.00003</td>\n",
       "      <td>0.03</td>\n",
       "      <td>0.3</td>\n",
       "      <td>25.0</td>\n",
       "      <td>0.299913</td>\n",
       "    </tr>\n",
       "    <tr>\n",
       "      <th>12</th>\n",
       "      <td>20</td>\n",
       "      <td>0.00001</td>\n",
       "      <td>0.03</td>\n",
       "      <td>0.3</td>\n",
       "      <td>25.0</td>\n",
       "      <td>0.317433</td>\n",
       "    </tr>\n",
       "    <tr>\n",
       "      <th>13</th>\n",
       "      <td>20</td>\n",
       "      <td>0.00001</td>\n",
       "      <td>0.10</td>\n",
       "      <td>0.3</td>\n",
       "      <td>25.0</td>\n",
       "      <td>0.332022</td>\n",
       "    </tr>\n",
       "  </tbody>\n",
       "</table>\n",
       "</div>"
      ],
      "text/plain": [
       "    n_epochs   max_lr    wd  pct_start  div_factor  unweighted_profit_0_value\n",
       "14        20  0.00001  0.30        0.3        25.0                  -0.008061\n",
       "11        15  0.00030  0.30        0.3        25.0                   0.122269\n",
       "9         15  0.00030  0.03        0.3        25.0                   0.124733\n",
       "10        15  0.00030  0.10        0.3        25.0                   0.126022\n",
       "20        20  0.00010  0.30        0.3        25.0                   0.135028\n",
       "21        20  0.00030  0.03        0.3        25.0                   0.141151\n",
       "18        20  0.00010  0.03        0.3        25.0                   0.160540\n",
       "8         15  0.00010  0.30        0.3        25.0                   0.167235\n",
       "23        20  0.00030  0.30        0.3        25.0                   0.170094\n",
       "6         15  0.00010  0.03        0.3        25.0                   0.181716\n",
       "19        20  0.00010  0.10        0.3        25.0                   0.185612\n",
       "7         15  0.00010  0.10        0.3        25.0                   0.190978\n",
       "17        20  0.00003  0.30        0.3        25.0                   0.207571\n",
       "2         15  0.00001  0.30        0.3        25.0                   0.229527\n",
       "0         15  0.00001  0.03        0.3        25.0                   0.230429\n",
       "1         15  0.00001  0.10        0.3        25.0                   0.231855\n",
       "22        20  0.00030  0.10        0.3        25.0                   0.268072\n",
       "15        20  0.00003  0.03        0.3        25.0                   0.272009\n",
       "16        20  0.00003  0.10        0.3        25.0                   0.285221\n",
       "4         15  0.00003  0.10        0.3        25.0                   0.293850\n",
       "5         15  0.00003  0.30        0.3        25.0                   0.295602\n",
       "3         15  0.00003  0.03        0.3        25.0                   0.299913\n",
       "12        20  0.00001  0.03        0.3        25.0                   0.317433\n",
       "13        20  0.00001  0.10        0.3        25.0                   0.332022"
      ]
     },
     "execution_count": null,
     "metadata": {},
     "output_type": "execute_result"
    }
   ],
   "source": [
    "get_best_params(eval_conf, filt, by=None)"
   ]
  },
  {
   "cell_type": "code",
   "execution_count": null,
   "metadata": {},
   "outputs": [],
   "source": [
    "params = ['n_epochs', 'max_lr', 'wd', 'N', 'magnitude', 'bs', ['n_epochs', 'max_lr']]"
   ]
  },
  {
   "cell_type": "markdown",
   "metadata": {},
   "source": [
    "`rough_param_comparison` can easily lead to wrong conclusions, always compare with `get_best_params` to get a better picture!!"
   ]
  },
  {
   "cell_type": "code",
   "execution_count": null,
   "metadata": {},
   "outputs": [
    {
     "name": "stdout",
     "output_type": "stream",
     "text": [
      "n_epochs\n",
      "          unweighted_profit_0_value\n",
      "n_epochs                           \n",
      "15                         0.219773\n",
      "20                         0.153399\n",
      "max_lr\n",
      "         unweighted_profit_0_value\n",
      "max_lr                            \n",
      "0.00003                   0.226364\n",
      "0.00030                   0.158724\n",
      "0.00010                   0.144726\n",
      "0.00001                   0.098214\n",
      "wd\n",
      "      unweighted_profit_0_value\n",
      "wd                             \n",
      "0.10                   0.245226\n",
      "0.03                   0.227855\n",
      "0.30                   0.143134\n",
      "N\n",
      "   unweighted_profit_0_value\n",
      "N                           \n",
      "3                   0.274956\n",
      "4                   0.141574\n",
      "magnitude\n",
      "           unweighted_profit_0_value\n",
      "magnitude                           \n",
      "0.4                         0.165112\n",
      "bs\n",
      "      unweighted_profit_0_value\n",
      "bs                             \n",
      "1024                   0.242049\n",
      "2048                   0.151400\n",
      "['n_epochs', 'max_lr']\n",
      "                  unweighted_profit_0_value\n",
      "n_epochs max_lr                            \n",
      "15       0.00003                   0.296455\n",
      "         0.00001                   0.230604\n",
      "20       0.00003                   0.215149\n",
      "         0.00030                   0.193106\n",
      "15       0.00010                   0.179976\n",
      "20       0.00010                   0.139086\n",
      "15       0.00030                   0.124342\n",
      "20       0.00001                   0.058497\n"
     ]
    }
   ],
   "source": [
    "rough_param_comparison(eval_conf, filt, by=eval_conf.m_cols[0], params=params)"
   ]
  },
  {
   "cell_type": "code",
   "execution_count": null,
   "metadata": {},
   "outputs": [
    {
     "name": "stdout",
     "output_type": "stream",
     "text": [
      "n_epochs\n",
      "          val_loss\n",
      "n_epochs          \n",
      "15       -0.995926\n",
      "20       -0.987428\n",
      "max_lr\n",
      "         val_loss\n",
      "max_lr           \n",
      "0.00030 -1.186649\n",
      "0.00010 -1.139474\n",
      "0.00003 -0.987880\n",
      "0.00001 -0.693176\n",
      "wd\n",
      "      val_loss\n",
      "wd            \n",
      "0.10 -1.030925\n",
      "0.03 -1.018370\n",
      "0.30 -0.977937\n",
      "N\n",
      "   val_loss\n",
      "N          \n",
      "3 -1.034089\n",
      "4 -0.979250\n",
      "magnitude\n",
      "           val_loss\n",
      "magnitude          \n",
      "0.4       -0.988928\n",
      "bs\n",
      "      val_loss\n",
      "bs            \n",
      "1024 -1.026067\n",
      "2048 -0.982309\n",
      "['n_epochs', 'max_lr']\n",
      "                  val_loss\n",
      "n_epochs max_lr           \n",
      "20       0.00030 -1.192605\n",
      "15       0.00010 -1.182821\n",
      "         0.00030 -1.180693\n",
      "20       0.00010 -1.132539\n",
      "15       0.00003 -1.011400\n",
      "20       0.00003 -0.984117\n",
      "15       0.00001 -0.701174\n",
      "20       0.00001 -0.690776\n"
     ]
    }
   ],
   "source": [
    "## do the same thing with respect to the loss function\n",
    "rough_param_comparison(eval_conf, filt, by=loss_cols[0], params=params)"
   ]
  },
  {
   "cell_type": "markdown",
   "metadata": {},
   "source": [
    "The rough comparison data can be used to refine the filter"
   ]
  },
  {
   "cell_type": "code",
   "execution_count": null,
   "metadata": {},
   "outputs": [
    {
     "data": {
      "text/plain": [
       "{'ds': ['bi_sample_pruned_anon'],\n",
       " 'target': ['1yhc'],\n",
       " 'col_config': ['10sl_4c_2d'],\n",
       " 'bs': [1024, 2048]}"
      ]
     },
     "execution_count": null,
     "metadata": {},
     "output_type": "execute_result"
    }
   ],
   "source": [
    "filt"
   ]
  },
  {
   "cell_type": "code",
   "execution_count": null,
   "metadata": {},
   "outputs": [],
   "source": [
    "filt.update({'n_epochs':[15, 20], 'max_lr':[0.00003, 0.00001], 'wd':[0.1, 0.03]})"
   ]
  },
  {
   "cell_type": "code",
   "execution_count": null,
   "metadata": {},
   "outputs": [
    {
     "data": {
      "text/plain": [
       "{'ds': ['bi_sample_pruned_anon'],\n",
       " 'target': ['1yhc'],\n",
       " 'col_config': ['10sl_4c_2d'],\n",
       " 'bs': [1024, 2048],\n",
       " 'n_epochs': [15, 20],\n",
       " 'max_lr': [3e-05, 1e-05],\n",
       " 'wd': [0.1, 0.03]}"
      ]
     },
     "execution_count": null,
     "metadata": {},
     "output_type": "execute_result"
    }
   ],
   "source": [
    "filt"
   ]
  },
  {
   "cell_type": "markdown",
   "metadata": {},
   "source": [
    "now extract the top models with the refined filter"
   ]
  },
  {
   "cell_type": "code",
   "execution_count": null,
   "metadata": {},
   "outputs": [],
   "source": [
    "top_idxs = get_top(eval_conf.df_results, filt, loss_cols[0], n=5)"
   ]
  },
  {
   "cell_type": "code",
   "execution_count": null,
   "metadata": {},
   "outputs": [],
   "source": [
    "top_idxs = get_top(eval_conf.df_results, filt, by=eval_conf.m_cols[1], n=5)"
   ]
  },
  {
   "cell_type": "code",
   "execution_count": null,
   "metadata": {},
   "outputs": [
    {
     "data": {
      "text/plain": [
       "[186, 187, 223, 180, 222]"
      ]
     },
     "execution_count": null,
     "metadata": {},
     "output_type": "execute_result"
    }
   ],
   "source": [
    "top_idxs"
   ]
  },
  {
   "cell_type": "code",
   "execution_count": null,
   "metadata": {},
   "outputs": [
    {
     "name": "stdout",
     "output_type": "stream",
     "text": [
      "                y0           y1\n",
      "mean      3.882994     2.315580\n",
      "sum    9707.485467  5788.950586\n",
      "count  2500.000000  2500.000000\n",
      "single results [array([3.08517492]), array([2.90818978]), array([1.96469689]), array([2.67613986]), array([2.01273574])]\n",
      "mean result 2.5293874374399996\n"
     ]
    }
   ],
   "source": [
    "basic_eval(eval_conf, top_idxs, quantile=0.9)"
   ]
  },
  {
   "cell_type": "code",
   "execution_count": null,
   "metadata": {},
   "outputs": [
    {
     "name": "stdout",
     "output_type": "stream",
     "text": [
      "                y0           y1\n",
      "mean      2.053274     1.732733\n",
      "sum    5133.184821  4331.832092\n",
      "count  2500.000000  2500.000000\n",
      "single results [array([2.70763156]), array([2.62903466]), array([0.54474034]), array([1.362647]), array([0.77373205])]\n",
      "mean result 1.6035571224000003\n"
     ]
    }
   ],
   "source": [
    "basic_eval(eval_conf, top_idxs, test=True, quantile=0.9)"
   ]
  },
  {
   "cell_type": "code",
   "execution_count": null,
   "metadata": {},
   "outputs": [],
   "source": [
    "get_top??"
   ]
  },
  {
   "cell_type": "code",
   "execution_count": null,
   "metadata": {},
   "outputs": [
    {
     "data": {
      "text/html": [
       "<div>\n",
       "<style scoped>\n",
       "    .dataframe tbody tr th:only-of-type {\n",
       "        vertical-align: middle;\n",
       "    }\n",
       "\n",
       "    .dataframe tbody tr th {\n",
       "        vertical-align: top;\n",
       "    }\n",
       "\n",
       "    .dataframe thead th {\n",
       "        text-align: right;\n",
       "    }\n",
       "</style>\n",
       "<table border=\"1\" class=\"dataframe\">\n",
       "  <thead>\n",
       "    <tr style=\"text-align: right;\">\n",
       "      <th></th>\n",
       "      <th>unweighted_profit_0_value</th>\n",
       "      <th>unweighted_profit_05_1_value</th>\n",
       "      <th>n_epochs</th>\n",
       "      <th>max_lr</th>\n",
       "      <th>wd</th>\n",
       "      <th>pct_start</th>\n",
       "      <th>div_factor</th>\n",
       "      <th>N</th>\n",
       "      <th>magnitude</th>\n",
       "      <th>val_loss</th>\n",
       "      <th>trn_loss</th>\n",
       "      <th>seed</th>\n",
       "      <th>bs</th>\n",
       "      <th>arch</th>\n",
       "      <th>bs</th>\n",
       "      <th>ds_id</th>\n",
       "    </tr>\n",
       "  </thead>\n",
       "  <tbody>\n",
       "    <tr>\n",
       "      <th>768</th>\n",
       "      <td>0.158891</td>\n",
       "      <td>0.159246</td>\n",
       "      <td>20</td>\n",
       "      <td>0.001</td>\n",
       "      <td>0.1</td>\n",
       "      <td>0.3</td>\n",
       "      <td>25.0</td>\n",
       "      <td>4</td>\n",
       "      <td>0.4</td>\n",
       "      <td>-1.212309</td>\n",
       "      <td>-0.991275</td>\n",
       "      <td>982</td>\n",
       "      <td>5096</td>\n",
       "      <td>InceptionTime</td>\n",
       "      <td>5096</td>\n",
       "      <td>bi_sample_pruned_anon_anon_10sl_4c_2d_1yhc_160_185_210</td>\n",
       "    </tr>\n",
       "    <tr>\n",
       "      <th>767</th>\n",
       "      <td>0.029969</td>\n",
       "      <td>0.044090</td>\n",
       "      <td>20</td>\n",
       "      <td>0.001</td>\n",
       "      <td>0.1</td>\n",
       "      <td>0.3</td>\n",
       "      <td>25.0</td>\n",
       "      <td>4</td>\n",
       "      <td>0.4</td>\n",
       "      <td>-1.177437</td>\n",
       "      <td>-1.070131</td>\n",
       "      <td>543</td>\n",
       "      <td>5096</td>\n",
       "      <td>InceptionTime</td>\n",
       "      <td>5096</td>\n",
       "      <td>bi_sample_pruned_anon_anon_10sl_4c_2d_1yhc_160_185_210</td>\n",
       "    </tr>\n",
       "    <tr>\n",
       "      <th>765</th>\n",
       "      <td>0.143286</td>\n",
       "      <td>0.078814</td>\n",
       "      <td>20</td>\n",
       "      <td>0.001</td>\n",
       "      <td>0.1</td>\n",
       "      <td>0.3</td>\n",
       "      <td>25.0</td>\n",
       "      <td>4</td>\n",
       "      <td>0.4</td>\n",
       "      <td>-1.175713</td>\n",
       "      <td>-1.070693</td>\n",
       "      <td>13</td>\n",
       "      <td>5096</td>\n",
       "      <td>InceptionTime</td>\n",
       "      <td>5096</td>\n",
       "      <td>bi_sample_pruned_anon_anon_10sl_4c_2d_1yhc_160_185_210</td>\n",
       "    </tr>\n",
       "    <tr>\n",
       "      <th>770</th>\n",
       "      <td>0.161165</td>\n",
       "      <td>0.023989</td>\n",
       "      <td>20</td>\n",
       "      <td>0.001</td>\n",
       "      <td>0.1</td>\n",
       "      <td>0.3</td>\n",
       "      <td>25.0</td>\n",
       "      <td>4</td>\n",
       "      <td>0.4</td>\n",
       "      <td>-1.145782</td>\n",
       "      <td>-0.989210</td>\n",
       "      <td>654321</td>\n",
       "      <td>5096</td>\n",
       "      <td>InceptionTime</td>\n",
       "      <td>5096</td>\n",
       "      <td>bi_sample_pruned_anon_anon_10sl_4c_2d_1yhc_160_185_210</td>\n",
       "    </tr>\n",
       "    <tr>\n",
       "      <th>769</th>\n",
       "      <td>0.056304</td>\n",
       "      <td>0.098999</td>\n",
       "      <td>20</td>\n",
       "      <td>0.001</td>\n",
       "      <td>0.1</td>\n",
       "      <td>0.3</td>\n",
       "      <td>25.0</td>\n",
       "      <td>4</td>\n",
       "      <td>0.4</td>\n",
       "      <td>-1.129718</td>\n",
       "      <td>-0.983229</td>\n",
       "      <td>12345</td>\n",
       "      <td>5096</td>\n",
       "      <td>InceptionTime</td>\n",
       "      <td>5096</td>\n",
       "      <td>bi_sample_pruned_anon_anon_10sl_4c_2d_1yhc_160_185_210</td>\n",
       "    </tr>\n",
       "    <tr>\n",
       "      <th>764</th>\n",
       "      <td>0.048759</td>\n",
       "      <td>0.018869</td>\n",
       "      <td>20</td>\n",
       "      <td>0.001</td>\n",
       "      <td>0.1</td>\n",
       "      <td>0.3</td>\n",
       "      <td>25.0</td>\n",
       "      <td>4</td>\n",
       "      <td>0.4</td>\n",
       "      <td>-1.084390</td>\n",
       "      <td>-1.025485</td>\n",
       "      <td>1234</td>\n",
       "      <td>5096</td>\n",
       "      <td>InceptionTime</td>\n",
       "      <td>5096</td>\n",
       "      <td>bi_sample_pruned_anon_anon_10sl_4c_2d_1yhc_160_185_210</td>\n",
       "    </tr>\n",
       "    <tr>\n",
       "      <th>766</th>\n",
       "      <td>-0.004369</td>\n",
       "      <td>-0.013245</td>\n",
       "      <td>20</td>\n",
       "      <td>0.001</td>\n",
       "      <td>0.1</td>\n",
       "      <td>0.3</td>\n",
       "      <td>25.0</td>\n",
       "      <td>4</td>\n",
       "      <td>0.4</td>\n",
       "      <td>-0.972975</td>\n",
       "      <td>-0.962063</td>\n",
       "      <td>15</td>\n",
       "      <td>5096</td>\n",
       "      <td>InceptionTime</td>\n",
       "      <td>5096</td>\n",
       "      <td>bi_sample_pruned_anon_anon_10sl_4c_2d_1yhc_160_185_210</td>\n",
       "    </tr>\n",
       "  </tbody>\n",
       "</table>\n",
       "</div>"
      ],
      "text/plain": [
       "     unweighted_profit_0_value  unweighted_profit_05_1_value  n_epochs  \\\n",
       "768                   0.158891                      0.159246        20   \n",
       "767                   0.029969                      0.044090        20   \n",
       "765                   0.143286                      0.078814        20   \n",
       "770                   0.161165                      0.023989        20   \n",
       "769                   0.056304                      0.098999        20   \n",
       "764                   0.048759                      0.018869        20   \n",
       "766                  -0.004369                     -0.013245        20   \n",
       "\n",
       "     max_lr   wd  pct_start  div_factor  N  magnitude  val_loss  trn_loss  \\\n",
       "768   0.001  0.1        0.3        25.0  4        0.4 -1.212309 -0.991275   \n",
       "767   0.001  0.1        0.3        25.0  4        0.4 -1.177437 -1.070131   \n",
       "765   0.001  0.1        0.3        25.0  4        0.4 -1.175713 -1.070693   \n",
       "770   0.001  0.1        0.3        25.0  4        0.4 -1.145782 -0.989210   \n",
       "769   0.001  0.1        0.3        25.0  4        0.4 -1.129718 -0.983229   \n",
       "764   0.001  0.1        0.3        25.0  4        0.4 -1.084390 -1.025485   \n",
       "766   0.001  0.1        0.3        25.0  4        0.4 -0.972975 -0.962063   \n",
       "\n",
       "       seed    bs           arch    bs  \\\n",
       "768     982  5096  InceptionTime  5096   \n",
       "767     543  5096  InceptionTime  5096   \n",
       "765      13  5096  InceptionTime  5096   \n",
       "770  654321  5096  InceptionTime  5096   \n",
       "769   12345  5096  InceptionTime  5096   \n",
       "764    1234  5096  InceptionTime  5096   \n",
       "766      15  5096  InceptionTime  5096   \n",
       "\n",
       "                                                      ds_id  \n",
       "768  bi_sample_pruned_anon_anon_10sl_4c_2d_1yhc_160_185_210  \n",
       "767  bi_sample_pruned_anon_anon_10sl_4c_2d_1yhc_160_185_210  \n",
       "765  bi_sample_pruned_anon_anon_10sl_4c_2d_1yhc_160_185_210  \n",
       "770  bi_sample_pruned_anon_anon_10sl_4c_2d_1yhc_160_185_210  \n",
       "769  bi_sample_pruned_anon_anon_10sl_4c_2d_1yhc_160_185_210  \n",
       "764  bi_sample_pruned_anon_anon_10sl_4c_2d_1yhc_160_185_210  \n",
       "766  bi_sample_pruned_anon_anon_10sl_4c_2d_1yhc_160_185_210  "
      ]
     },
     "execution_count": null,
     "metadata": {},
     "output_type": "execute_result"
    }
   ],
   "source": [
    "eval_conf.df_results.iloc[top_idxs][eval_conf.m_cols+fitting_params+augment_params+loss_cols+['seed','bs']+experiment_cols]"
   ]
  },
  {
   "cell_type": "code",
   "execution_count": null,
   "metadata": {},
   "outputs": [
    {
     "data": {
      "text/html": [
       "<div>\n",
       "<style scoped>\n",
       "    .dataframe tbody tr th:only-of-type {\n",
       "        vertical-align: middle;\n",
       "    }\n",
       "\n",
       "    .dataframe tbody tr th {\n",
       "        vertical-align: top;\n",
       "    }\n",
       "\n",
       "    .dataframe thead th {\n",
       "        text-align: right;\n",
       "    }\n",
       "</style>\n",
       "<table border=\"1\" class=\"dataframe\">\n",
       "  <thead>\n",
       "    <tr style=\"text-align: right;\">\n",
       "      <th></th>\n",
       "      <th>unweighted_profit_0_value</th>\n",
       "      <th>unweighted_profit_05_1_value</th>\n",
       "      <th>val_loss</th>\n",
       "      <th>trn_loss</th>\n",
       "    </tr>\n",
       "  </thead>\n",
       "  <tbody>\n",
       "    <tr>\n",
       "      <th>722</th>\n",
       "      <td>0.032561</td>\n",
       "      <td>0.165483</td>\n",
       "      <td>-1.124519</td>\n",
       "      <td>-1.007780</td>\n",
       "    </tr>\n",
       "    <tr>\n",
       "      <th>723</th>\n",
       "      <td>0.141726</td>\n",
       "      <td>0.153839</td>\n",
       "      <td>-1.189306</td>\n",
       "      <td>-1.019087</td>\n",
       "    </tr>\n",
       "    <tr>\n",
       "      <th>724</th>\n",
       "      <td>0.096901</td>\n",
       "      <td>0.018509</td>\n",
       "      <td>-1.051002</td>\n",
       "      <td>-1.020670</td>\n",
       "    </tr>\n",
       "    <tr>\n",
       "      <th>725</th>\n",
       "      <td>0.172587</td>\n",
       "      <td>0.026612</td>\n",
       "      <td>-1.145170</td>\n",
       "      <td>-1.027829</td>\n",
       "    </tr>\n",
       "    <tr>\n",
       "      <th>726</th>\n",
       "      <td>0.142595</td>\n",
       "      <td>0.166711</td>\n",
       "      <td>-1.145099</td>\n",
       "      <td>-0.991317</td>\n",
       "    </tr>\n",
       "    <tr>\n",
       "      <th>727</th>\n",
       "      <td>0.163247</td>\n",
       "      <td>0.104556</td>\n",
       "      <td>-1.105765</td>\n",
       "      <td>-0.978222</td>\n",
       "    </tr>\n",
       "    <tr>\n",
       "      <th>728</th>\n",
       "      <td>0.285902</td>\n",
       "      <td>0.242673</td>\n",
       "      <td>-1.349013</td>\n",
       "      <td>-0.984784</td>\n",
       "    </tr>\n",
       "    <tr>\n",
       "      <th>736</th>\n",
       "      <td>0.108834</td>\n",
       "      <td>0.070548</td>\n",
       "      <td>-1.115453</td>\n",
       "      <td>-1.028581</td>\n",
       "    </tr>\n",
       "    <tr>\n",
       "      <th>737</th>\n",
       "      <td>0.179263</td>\n",
       "      <td>0.194968</td>\n",
       "      <td>-1.244646</td>\n",
       "      <td>-1.045480</td>\n",
       "    </tr>\n",
       "    <tr>\n",
       "      <th>738</th>\n",
       "      <td>0.023998</td>\n",
       "      <td>-0.008640</td>\n",
       "      <td>-0.998857</td>\n",
       "      <td>-1.011510</td>\n",
       "    </tr>\n",
       "    <tr>\n",
       "      <th>739</th>\n",
       "      <td>0.120120</td>\n",
       "      <td>0.167154</td>\n",
       "      <td>-1.209558</td>\n",
       "      <td>-1.082399</td>\n",
       "    </tr>\n",
       "    <tr>\n",
       "      <th>740</th>\n",
       "      <td>0.091973</td>\n",
       "      <td>0.097903</td>\n",
       "      <td>-1.091193</td>\n",
       "      <td>-0.973748</td>\n",
       "    </tr>\n",
       "    <tr>\n",
       "      <th>741</th>\n",
       "      <td>0.010820</td>\n",
       "      <td>0.067721</td>\n",
       "      <td>-1.046244</td>\n",
       "      <td>-1.020988</td>\n",
       "    </tr>\n",
       "    <tr>\n",
       "      <th>742</th>\n",
       "      <td>0.227911</td>\n",
       "      <td>0.049779</td>\n",
       "      <td>-1.245587</td>\n",
       "      <td>-0.958525</td>\n",
       "    </tr>\n",
       "    <tr>\n",
       "      <th>750</th>\n",
       "      <td>0.186756</td>\n",
       "      <td>0.080184</td>\n",
       "      <td>-1.227729</td>\n",
       "      <td>-1.054530</td>\n",
       "    </tr>\n",
       "    <tr>\n",
       "      <th>751</th>\n",
       "      <td>0.095052</td>\n",
       "      <td>0.039611</td>\n",
       "      <td>-1.103968</td>\n",
       "      <td>-1.079222</td>\n",
       "    </tr>\n",
       "    <tr>\n",
       "      <th>752</th>\n",
       "      <td>-0.073624</td>\n",
       "      <td>-0.053700</td>\n",
       "      <td>-0.955284</td>\n",
       "      <td>-1.026824</td>\n",
       "    </tr>\n",
       "    <tr>\n",
       "      <th>753</th>\n",
       "      <td>0.089451</td>\n",
       "      <td>-0.054355</td>\n",
       "      <td>-1.037157</td>\n",
       "      <td>-1.059245</td>\n",
       "    </tr>\n",
       "    <tr>\n",
       "      <th>754</th>\n",
       "      <td>-0.017567</td>\n",
       "      <td>-0.028857</td>\n",
       "      <td>-0.996981</td>\n",
       "      <td>-1.014782</td>\n",
       "    </tr>\n",
       "    <tr>\n",
       "      <th>755</th>\n",
       "      <td>-0.001199</td>\n",
       "      <td>0.000000</td>\n",
       "      <td>-1.004292</td>\n",
       "      <td>-0.920390</td>\n",
       "    </tr>\n",
       "    <tr>\n",
       "      <th>756</th>\n",
       "      <td>0.232689</td>\n",
       "      <td>0.181638</td>\n",
       "      <td>-1.263480</td>\n",
       "      <td>-1.011833</td>\n",
       "    </tr>\n",
       "    <tr>\n",
       "      <th>764</th>\n",
       "      <td>0.048759</td>\n",
       "      <td>0.018869</td>\n",
       "      <td>-1.084390</td>\n",
       "      <td>-1.025485</td>\n",
       "    </tr>\n",
       "    <tr>\n",
       "      <th>765</th>\n",
       "      <td>0.143286</td>\n",
       "      <td>0.078814</td>\n",
       "      <td>-1.175713</td>\n",
       "      <td>-1.070693</td>\n",
       "    </tr>\n",
       "    <tr>\n",
       "      <th>766</th>\n",
       "      <td>-0.004369</td>\n",
       "      <td>-0.013245</td>\n",
       "      <td>-0.972975</td>\n",
       "      <td>-0.962063</td>\n",
       "    </tr>\n",
       "    <tr>\n",
       "      <th>767</th>\n",
       "      <td>0.029969</td>\n",
       "      <td>0.044090</td>\n",
       "      <td>-1.177437</td>\n",
       "      <td>-1.070131</td>\n",
       "    </tr>\n",
       "    <tr>\n",
       "      <th>768</th>\n",
       "      <td>0.158891</td>\n",
       "      <td>0.159246</td>\n",
       "      <td>-1.212309</td>\n",
       "      <td>-0.991275</td>\n",
       "    </tr>\n",
       "    <tr>\n",
       "      <th>769</th>\n",
       "      <td>0.056304</td>\n",
       "      <td>0.098999</td>\n",
       "      <td>-1.129718</td>\n",
       "      <td>-0.983229</td>\n",
       "    </tr>\n",
       "    <tr>\n",
       "      <th>770</th>\n",
       "      <td>0.161165</td>\n",
       "      <td>0.023989</td>\n",
       "      <td>-1.145782</td>\n",
       "      <td>-0.989210</td>\n",
       "    </tr>\n",
       "  </tbody>\n",
       "</table>\n",
       "</div>"
      ],
      "text/plain": [
       "     unweighted_profit_0_value  unweighted_profit_05_1_value  val_loss  \\\n",
       "722                   0.032561                      0.165483 -1.124519   \n",
       "723                   0.141726                      0.153839 -1.189306   \n",
       "724                   0.096901                      0.018509 -1.051002   \n",
       "725                   0.172587                      0.026612 -1.145170   \n",
       "726                   0.142595                      0.166711 -1.145099   \n",
       "727                   0.163247                      0.104556 -1.105765   \n",
       "728                   0.285902                      0.242673 -1.349013   \n",
       "736                   0.108834                      0.070548 -1.115453   \n",
       "737                   0.179263                      0.194968 -1.244646   \n",
       "738                   0.023998                     -0.008640 -0.998857   \n",
       "739                   0.120120                      0.167154 -1.209558   \n",
       "740                   0.091973                      0.097903 -1.091193   \n",
       "741                   0.010820                      0.067721 -1.046244   \n",
       "742                   0.227911                      0.049779 -1.245587   \n",
       "750                   0.186756                      0.080184 -1.227729   \n",
       "751                   0.095052                      0.039611 -1.103968   \n",
       "752                  -0.073624                     -0.053700 -0.955284   \n",
       "753                   0.089451                     -0.054355 -1.037157   \n",
       "754                  -0.017567                     -0.028857 -0.996981   \n",
       "755                  -0.001199                      0.000000 -1.004292   \n",
       "756                   0.232689                      0.181638 -1.263480   \n",
       "764                   0.048759                      0.018869 -1.084390   \n",
       "765                   0.143286                      0.078814 -1.175713   \n",
       "766                  -0.004369                     -0.013245 -0.972975   \n",
       "767                   0.029969                      0.044090 -1.177437   \n",
       "768                   0.158891                      0.159246 -1.212309   \n",
       "769                   0.056304                      0.098999 -1.129718   \n",
       "770                   0.161165                      0.023989 -1.145782   \n",
       "\n",
       "     trn_loss  \n",
       "722 -1.007780  \n",
       "723 -1.019087  \n",
       "724 -1.020670  \n",
       "725 -1.027829  \n",
       "726 -0.991317  \n",
       "727 -0.978222  \n",
       "728 -0.984784  \n",
       "736 -1.028581  \n",
       "737 -1.045480  \n",
       "738 -1.011510  \n",
       "739 -1.082399  \n",
       "740 -0.973748  \n",
       "741 -1.020988  \n",
       "742 -0.958525  \n",
       "750 -1.054530  \n",
       "751 -1.079222  \n",
       "752 -1.026824  \n",
       "753 -1.059245  \n",
       "754 -1.014782  \n",
       "755 -0.920390  \n",
       "756 -1.011833  \n",
       "764 -1.025485  \n",
       "765 -1.070693  \n",
       "766 -0.962063  \n",
       "767 -1.070131  \n",
       "768 -0.991275  \n",
       "769 -0.983229  \n",
       "770 -0.989210  "
      ]
     },
     "execution_count": null,
     "metadata": {},
     "output_type": "execute_result"
    }
   ],
   "source": [
    "filt_df(eval_conf.df_results, filt)[eval_conf.m_cols+loss_cols]"
   ]
  },
  {
   "cell_type": "code",
   "execution_count": null,
   "metadata": {},
   "outputs": [],
   "source": [
    "get_top??"
   ]
  },
  {
   "cell_type": "code",
   "execution_count": null,
   "metadata": {},
   "outputs": [],
   "source": []
  }
 ],
 "metadata": {
  "kernelspec": {
   "display_name": "Python [conda env:ttools]",
   "language": "python",
   "name": "conda-env-ttools-py"
  }
 },
 "nbformat": 4,
 "nbformat_minor": 2
}
