{
 "cells": [
  {
   "cell_type": "code",
   "execution_count": null,
   "metadata": {},
   "outputs": [],
   "source": [
    "#default_exp datasets"
   ]
  },
  {
   "cell_type": "markdown",
   "metadata": {},
   "source": [
    "# Datasets\n",
    "\n",
    "> helper functions for loading timeseries datasets"
   ]
  },
  {
   "cell_type": "markdown",
   "metadata": {},
   "source": [
    "### UCR"
   ]
  },
  {
   "cell_type": "code",
   "execution_count": null,
   "metadata": {},
   "outputs": [],
   "source": [
    "#export\n",
    "from torchtools.data import *"
   ]
  },
  {
   "cell_type": "code",
   "execution_count": null,
   "metadata": {},
   "outputs": [],
   "source": [
    "#export\n",
    "import numpy as np\n",
    "#import torch\n",
    "from fastai2.torch_basics import *\n",
    "from fastai2.data.all import *\n",
    "from fastai2.callback.all import *"
   ]
  },
  {
   "cell_type": "markdown",
   "metadata": {},
   "source": [
    "All of the UCR functions are ported from https://github.com/timeseriesAI/timeseriesAI to work with fastai2."
   ]
  },
  {
   "cell_type": "code",
   "execution_count": null,
   "metadata": {},
   "outputs": [],
   "source": [
    "#export\n",
    "import os\n",
    "import tempfile\n",
    "try: from urllib import urlretrieve\n",
    "except ImportError: from urllib.request import urlretrieve\n",
    "import shutil\n",
    "from pyunpack import Archive\n",
    "from scipy.io import arff"
   ]
  },
  {
   "cell_type": "code",
   "execution_count": null,
   "metadata": {},
   "outputs": [],
   "source": [
    "#export\n",
    "#TSUtilities\n",
    "def To3dArray(arr):\n",
    "    arr = ToArray(arr)\n",
    "    if arr.ndim == 1: arr = arr[None, None]\n",
    "    elif arr.ndim == 2: arr = arr[:, None]\n",
    "    elif arr.ndim == 4: arr = arr[0]\n",
    "    assert arr.ndim == 3, 'Please, review input dimensions'\n",
    "    return np.array(arr)\n",
    "\n",
    "def ToArray(arr):\n",
    "    if isinstance(arr, torch.Tensor):\n",
    "        arr = np.array(arr)\n",
    "    elif not isinstance(arr, np.ndarray):\n",
    "        print(f\"Can't convert {type(arr)} to np.array\")\n",
    "    if arr.dtype == 'O': arr = np.array(arr, dtype=np.float32)\n",
    "    return arr\n"
   ]
  },
  {
   "cell_type": "code",
   "execution_count": null,
   "metadata": {},
   "outputs": [],
   "source": [
    "#export\n",
    "def decompress_from_url(url, target_dir=None, verbose=False):\n",
    "    \"\"\"Downloads a compressed file from its URL and uncompresses it.\n",
    "\n",
    "    Parameters\n",
    "    ----------\n",
    "    url : string\n",
    "        URL from which to download.\n",
    "    target_dir : str or None (default: None)\n",
    "        Directory to be used to extract downloaded files.\n",
    "    verbose : bool (default: False)\n",
    "        Whether to print information about the process (cached files used, ...)\n",
    "\n",
    "    Returns\n",
    "    -------\n",
    "    str or None\n",
    "        Directory in which the compressed file has been extracted if the process was\n",
    "        successful, None otherwise\n",
    "    \"\"\"\n",
    "    try:\n",
    "        fname = os.path.basename(url)\n",
    "        tmpdir = tempfile.mkdtemp()\n",
    "        local_comp_fname = os.path.join(tmpdir, fname)\n",
    "        urlretrieve(url, local_comp_fname)\n",
    "    except:\n",
    "        shutil.rmtree(tmpdir)\n",
    "        if verbose:\n",
    "            sys.stderr.write(\"Could not download url. Please, check url.\\n\")\n",
    "    try:\n",
    "        if not os.path.exists(target_dir): os.makedirs(target_dir)\n",
    "        Archive(local_comp_fname).extractall(target_dir)\n",
    "        shutil.rmtree(tmpdir)\n",
    "        if verbose:\n",
    "            print(\"Successfully extracted file %s to path %s\" %\n",
    "                  (local_comp_fname, target_dir))\n",
    "        return target_dir\n",
    "    except:\n",
    "        shutil.rmtree(tmpdir)\n",
    "        if verbose:\n",
    "            sys.stderr.write(\"Could not uncompress file, aborting.\\n\")\n",
    "        return None\n",
    "\n",
    "\n",
    "\n",
    "def get_UCR_univariate_list():\n",
    "    return sorted([\n",
    "        'ACSF1', 'Adiac', 'AllGestureWiimoteX', 'AllGestureWiimoteY',\n",
    "        'AllGestureWiimoteZ', 'ArrowHead', 'AsphaltObstacles', 'BME', 'Beef',\n",
    "        'BeetleFly', 'BirdChicken', 'CBF', 'Car', 'Chinatown',\n",
    "        'ChlorineConcentration', 'CinCECGTorso', 'Coffee', 'Computers',\n",
    "        'CricketX', 'CricketY', 'CricketZ', 'Crop', 'DiatomSizeReduction',\n",
    "        'DistalPhalanxOutlineAgeGroup', 'DistalPhalanxOutlineCorrect',\n",
    "        'DistalPhalanxTW', 'DodgerLoopDay', 'DodgerLoopGame',\n",
    "        'DodgerLoopWeekend', 'ECG200', 'ECG5000', 'ECGFiveDays',\n",
    "        'EOGHorizontalSignal', 'EOGVerticalSignal', 'Earthquakes',\n",
    "        'ElectricDevices', 'EthanolLevel', 'FaceAll', 'FaceFour', 'FacesUCR',\n",
    "        'FiftyWords', 'Fish', 'FordA', 'FordB', 'FreezerRegularTrain',\n",
    "        'FreezerSmallTrain', 'Fungi', 'GestureMidAirD1', 'GestureMidAirD2',\n",
    "        'GestureMidAirD3', 'GesturePebbleZ1', 'GesturePebbleZ2', 'GunPoint',\n",
    "        'GunPointAgeSpan', 'GunPointMaleVersusFemale',\n",
    "        'GunPointOldVersusYoung', 'Ham', 'HandOutlines', 'Haptics', 'Herring',\n",
    "        'HouseTwenty', 'InlineSkate', 'InsectEPGRegularTrain',\n",
    "        'InsectEPGSmallTrain', 'InsectWingbeatSound', 'ItalyPowerDemand',\n",
    "        'LargeKitchenAppliances', 'Lightning2', 'Lightning7', 'Mallat', 'Meat',\n",
    "        'MedicalImages', 'MelbournePedestrian', 'MiddlePhalanxOutlineAgeGroup',\n",
    "        'MiddlePhalanxOutlineCorrect', 'MiddlePhalanxTW',\n",
    "        'MixedShapesRegularTrain', 'MixedShapesSmallTrain', 'MoteStrain',\n",
    "        'NonInvasiveFetalECGThorax1', 'NonInvasiveFetalECGThorax2', 'OSULeaf',\n",
    "        'OliveOil', 'PLAID', 'PhalangesOutlinesCorrect', 'Phoneme',\n",
    "        'PickupGestureWiimoteZ', 'PigAirwayPressure', 'PigArtPressure',\n",
    "        'PigCVP', 'Plane', 'PowerCons', 'ProximalPhalanxOutlineAgeGroup',\n",
    "        'ProximalPhalanxOutlineCorrect', 'ProximalPhalanxTW',\n",
    "        'RefrigerationDevices', 'Rock', 'ScreenType', 'SemgHandGenderCh2',\n",
    "        'SemgHandMovementCh2', 'SemgHandSubjectCh2', 'ShakeGestureWiimoteZ',\n",
    "        'ShapeletSim', 'ShapesAll', 'SmallKitchenAppliances', 'SmoothSubspace',\n",
    "        'SonyAIBORobotSurface1', 'SonyAIBORobotSurface2', 'StarLightCurves',\n",
    "        'Strawberry', 'SwedishLeaf', 'Symbols', 'SyntheticControl',\n",
    "        'ToeSegmentation1', 'ToeSegmentation2', 'Trace', 'TwoLeadECG',\n",
    "        'TwoPatterns', 'UMD', 'UWaveGestureLibraryAll', 'UWaveGestureLibraryX',\n",
    "        'UWaveGestureLibraryY', 'UWaveGestureLibraryZ', 'Wafer', 'Wine',\n",
    "        'WordSynonyms', 'Worms', 'WormsTwoClass', 'Yoga'\n",
    "    ])\n",
    "\n",
    "\n",
    "def get_UCR_multivariate_list():\n",
    "    return sorted([\n",
    "        'ArticularyWordRecognition', 'AtrialFibrillation', 'BasicMotions',\n",
    "        'CharacterTrajectories', 'Cricket', 'DuckDuckGeese', 'ERing',\n",
    "        'EigenWorms', 'Epilepsy', 'EthanolConcentration', 'FaceDetection',\n",
    "        'FingerMovements', 'HandMovementDirection', 'Handwriting', 'Heartbeat',\n",
    "        'InsectWingbeat', 'JapaneseVowels', 'LSST', 'Libras', 'MotorImagery',\n",
    "        'NATOPS', 'PEMS-SF', 'PenDigits', 'PhonemeSpectra', 'RacketSports',\n",
    "        'SelfRegulationSCP1', 'SelfRegulationSCP2', 'SpokenArabicDigits',\n",
    "        'StandWalkJump', 'UWaveGestureLibrary'\n",
    "    ])\n"
   ]
  },
  {
   "cell_type": "code",
   "execution_count": null,
   "metadata": {},
   "outputs": [],
   "source": [
    "#export\n",
    "def get_UCR_univariate(sel_dataset, parent_dir='data/UCR', verbose=False, drop_na=False, check=True):\n",
    "    if check and sel_dataset not in get_UCR_univariate_list():\n",
    "        print('This dataset does not exist. Please select one from this list:')\n",
    "        print(get_UCR_univariate_list())\n",
    "        return None, None, None, None\n",
    "    if verbose: print('Dataset:', sel_dataset)\n",
    "    src_website = 'http://www.timeseriesclassification.com/Downloads/'\n",
    "    tgt_dir = Path(parent_dir) / sel_dataset\n",
    "    if verbose: print('Downloading and decompressing data...')\n",
    "    if not os.path.isdir(tgt_dir):\n",
    "        decompress_from_url(\n",
    "            src_website + sel_dataset + '.zip', target_dir=tgt_dir, verbose=verbose)\n",
    "    if verbose: print('...data downloaded and decompressed')\n",
    "    fname_train = sel_dataset + \"_TRAIN.arff\"\n",
    "    fname_test = sel_dataset + \"_TEST.arff\"\n",
    "\n",
    "    train_df = pd.DataFrame(arff.loadarff(os.path.join(tgt_dir, fname_train))[0])\n",
    "    test_df = pd.DataFrame(arff.loadarff(os.path.join(tgt_dir, fname_test))[0])\n",
    "    unique_cats = train_df.iloc[:, -1].unique()\n",
    "    mapping = dict(zip(unique_cats, np.arange(len(unique_cats))))\n",
    "    train_df = train_df.replace({train_df.columns.values[-1]: mapping})\n",
    "    test_df = test_df.replace({test_df.columns.values[-1]: mapping})\n",
    "    if drop_na:\n",
    "        train_df.dropna(axis=1, inplace=True)\n",
    "        test_df.dropna(axis=1, inplace=True)\n",
    "\n",
    "    X_train = train_df.iloc[:, :-1].values.astype(np.float32)\n",
    "    X_test = test_df.iloc[:, :-1].values.astype(np.float32)\n",
    "    y_train = train_df.iloc[:, -1].values.astype(int)\n",
    "    y_test = test_df.iloc[:, -1].values.astype(int)\n",
    "\n",
    "    X_train = To3dArray(X_train)\n",
    "    X_test = To3dArray(X_test)\n",
    "\n",
    "    if verbose:\n",
    "        print('Successfully extracted dataset\\n')\n",
    "        print('X_train:', X_train.shape)\n",
    "        print('y_train:', y_train.shape)\n",
    "        print('X_valid:', X_test.shape)\n",
    "        print('y_valid:', y_test.shape, '\\n')\n",
    "    return X_train, y_train, X_test, y_test\n",
    "\n",
    "\n",
    "\n",
    "def get_UCR_multivariate(sel_dataset, parent_dir='data/UCR', verbose=False, check=True):\n",
    "    if sel_dataset.lower() == 'mphoneme': sel_dataset = 'Phoneme'\n",
    "    if check and sel_dataset not in get_UCR_multivariate_list():\n",
    "        print('This dataset does not exist. Please select one from this list:')\n",
    "        print(get_UCR_multivariate_list())\n",
    "        return None, None, None, None\n",
    "    if verbose: print('Dataset:', sel_dataset)\n",
    "    src_website = 'http://www.timeseriesclassification.com/Downloads/'\n",
    "    tgt_dir = Path(parent_dir) / sel_dataset\n",
    "\n",
    "    if verbose: print('Downloading and decompressing data...')\n",
    "    if not os.path.isdir(tgt_dir):\n",
    "        decompress_from_url(\n",
    "            src_website + sel_dataset + '.zip', target_dir=tgt_dir, verbose=verbose)\n",
    "    if verbose: print('...data downloaded and decompressed')\n",
    "    if verbose: print('Extracting data...')\n",
    "    X_train_ = []\n",
    "    X_test_ = []\n",
    "    for i in range(10000):\n",
    "        if not os.path.isfile(\n",
    "                f'{parent_dir}/{sel_dataset}/{sel_dataset}Dimension'\n",
    "                + str(i + 1) + '_TRAIN.arff'):\n",
    "            break\n",
    "        train_df = pd.DataFrame(\n",
    "            arff.loadarff(\n",
    "                f'{parent_dir}/{sel_dataset}/{sel_dataset}Dimension'\n",
    "                + str(i + 1) + '_TRAIN.arff')[0])\n",
    "        unique_cats = train_df.iloc[:, -1].unique()\n",
    "        mapping = dict(zip(unique_cats, np.arange(len(unique_cats))))\n",
    "        train_df = train_df.replace({train_df.columns.values[-1]: mapping})\n",
    "        test_df = pd.DataFrame(\n",
    "            arff.loadarff(\n",
    "                f'{parent_dir}/{sel_dataset}/{sel_dataset}Dimension'\n",
    "                + str(i + 1) + '_TEST.arff')[0])\n",
    "        test_df = test_df.replace({test_df.columns.values[-1]: mapping})\n",
    "        X_train_.append(train_df.iloc[:, :-1].values)\n",
    "        X_test_.append(test_df.iloc[:, :-1].values)\n",
    "\n",
    "    if verbose: print('...extraction complete')\n",
    "    X_train = np.stack(X_train_, axis=-1)\n",
    "    X_test = np.stack(X_test_, axis=-1)\n",
    "\n",
    "    # In this case we need to rearrange the arrays ()\n",
    "    X_train = np.transpose(X_train, (0, 2, 1))\n",
    "    X_test = np.transpose(X_test, (0, 2, 1))\n",
    "\n",
    "    y_train = np.array([int(float(x)) for x in train_df.iloc[:, -1]])\n",
    "    y_test = np.array([int(float(x)) for x in test_df.iloc[:, -1]])\n",
    "\n",
    "    if verbose:\n",
    "        print('Successfully extracted dataset\\n')\n",
    "        print('X_train:', X_train.shape)\n",
    "        print('y_train:', y_train.shape)\n",
    "        print('X_valid:', X_test.shape)\n",
    "        print('y_valid:', y_test.shape, '\\n')\n",
    "    return X_train, y_train, X_test, y_test\n",
    "\n",
    "\n",
    "def get_UCR_data(dsid, parent_dir='data/UCR', verbose=False, check=True):\n",
    "    if dsid in get_UCR_univariate_list():\n",
    "        return get_UCR_univariate(dsid, verbose=verbose, check=check)\n",
    "    elif dsid in get_UCR_multivariate_list():\n",
    "        return get_UCR_multivariate(dsid, verbose=verbose, check=check)\n",
    "    else:\n",
    "        print(f'This {dsid} dataset does not exist. Please select one from these lists:')\n",
    "        print('\\nunivariate datasets')\n",
    "        print(get_UCR_univariate_list())\n",
    "        print('\\nmultivariate datasets')\n",
    "        print(get_UCR_multivariate_list(), '\\n')\n",
    "        return None, None, None, None\n"
   ]
  },
  {
   "cell_type": "code",
   "execution_count": null,
   "metadata": {},
   "outputs": [
    {
     "data": {
      "text/plain": [
       "(['Wine', 'WordSynonyms', 'Worms', 'WormsTwoClass', 'Yoga'],\n",
       " ['SelfRegulationSCP1',\n",
       "  'SelfRegulationSCP2',\n",
       "  'SpokenArabicDigits',\n",
       "  'StandWalkJump',\n",
       "  'UWaveGestureLibrary'])"
      ]
     },
     "execution_count": null,
     "metadata": {},
     "output_type": "execute_result"
    }
   ],
   "source": [
    "datasets_uni = get_UCR_univariate_list()\n",
    "datasets_multi = get_UCR_multivariate_list()\n",
    "\n",
    "datasets_uni[-5:], datasets_multi[-5:]"
   ]
  },
  {
   "cell_type": "code",
   "execution_count": null,
   "metadata": {},
   "outputs": [
    {
     "data": {
      "text/plain": [
       "(320,)"
      ]
     },
     "execution_count": null,
     "metadata": {},
     "output_type": "execute_result"
    }
   ],
   "source": [
    "dset = get_UCR_multivariate('UWaveGestureLibrary')\n",
    "dset[3].shape"
   ]
  },
  {
   "cell_type": "code",
   "execution_count": null,
   "metadata": {},
   "outputs": [
    {
     "name": "stdout",
     "output_type": "stream",
     "text": [
      "ynormal\n",
      "timewarp\n",
      "timewarp\n",
      "timenormal\n"
     ]
    },
    {
     "data": {
      "image/png": "[encoded data removed]",
      "text/plain": [
       "<Figure size 432x288 with 1 Axes>"
      ]
     },
     "metadata": {
      "needs_background": "light"
     },
     "output_type": "display_data"
    }
   ],
   "source": [
    "from torchtools.augmentations import RandAugment\n",
    "raug = RandAugment(magnitude=0.1)\n",
    "raug(TSTensor(torch.rand(1,10)))\n",
    "plt.plot(dset[0][0].T, label='orig')\n",
    "plt.plot(raug(TSTensor(dset[0][0])).T, linestyle='dashed',label='randaug');"
   ]
  },
  {
   "cell_type": "code",
   "execution_count": null,
   "metadata": {},
   "outputs": [],
   "source": [
    "#export\n",
    "def ucr_to_items(dset):\n",
    "    '''\n",
    "    create items for DataBlock from a UCR dset\n",
    "    '''\n",
    "    x_train, y_train, x_test, y_test = dset\n",
    "    n_train = x_train.shape[0]\n",
    "    return list(zip(np.concatenate([x_train, x_test]), np.concatenate([y_train, y_test]))), n_train"
   ]
  },
  {
   "cell_type": "code",
   "execution_count": null,
   "metadata": {},
   "outputs": [
    {
     "data": {
      "text/plain": [
       "((3, 315), 0)"
      ]
     },
     "execution_count": null,
     "metadata": {},
     "output_type": "execute_result"
    }
   ],
   "source": [
    "items, n_train = ucr_to_items(dset)\n",
    "\n",
    "items[0][0].shape, items[0][1]"
   ]
  },
  {
   "cell_type": "markdown",
   "metadata": {},
   "source": [
    "UCR workflow\n",
    "```\n",
    "dset = get_UCR_multivariate(univariate)(name)\n",
    "items, n_train = ucr_to_items(dset)\n",
    "```"
   ]
  },
  {
   "cell_type": "markdown",
   "metadata": {},
   "source": [
    "### Dataframe"
   ]
  },
  {
   "cell_type": "code",
   "execution_count": null,
   "metadata": {},
   "outputs": [],
   "source": [
    "df_main = pd.read_csv('./data/custom/bi_sample_anon.csv', nrows=100000)"
   ]
  },
  {
   "cell_type": "code",
   "execution_count": null,
   "metadata": {},
   "outputs": [
    {
     "data": {
      "text/plain": [
       "(100000, 66)"
      ]
     },
     "execution_count": null,
     "metadata": {},
     "output_type": "execute_result"
    }
   ],
   "source": [
    "df_main.shape"
   ]
  },
  {
   "cell_type": "markdown",
   "metadata": {},
   "source": [
    "We do a manual preprocessing first\n",
    "\n",
    "- fill missing\n",
    "- calculate normalization stats\n",
    "- transform columns values to tensors\n",
    "\n",
    "Doing these transformations lazily is very slow, e.g. getting the columns values from the dataframe"
   ]
  },
  {
   "cell_type": "code",
   "execution_count": null,
   "metadata": {},
   "outputs": [],
   "source": [
    "## simple config\n",
    "x_cols = [[f'x{i}_{j}' for j in range(10)] for i in range(6)]\n",
    "dep = 'y0'\n",
    "n_train = 8000"
   ]
  },
  {
   "cell_type": "code",
   "execution_count": null,
   "metadata": {},
   "outputs": [],
   "source": [
    "#export\n",
    "def _get_x(df, x_cols):\n",
    "    return np.stack([df[x_cols[i]].values for i in range(len(x_cols))], axis=1)\n",
    "def _get_y(df, dep):\n",
    "    return df[dep].values"
   ]
  },
  {
   "cell_type": "code",
   "execution_count": null,
   "metadata": {},
   "outputs": [],
   "source": [
    "x,y = _get_x(df_main, x_cols), _get_y(df_main, dep)"
   ]
  },
  {
   "cell_type": "code",
   "execution_count": null,
   "metadata": {},
   "outputs": [],
   "source": [
    "#export\n",
    "def _calc_stats(x, n_train, axis=(0,2)):\n",
    "    return np.nanmean(x[:n_train], axis=axis), np.nanstd(x[:n_train], axis=axis),np.nanmedian(x[:n_train], axis=axis)\n",
    "    "
   ]
  },
  {
   "cell_type": "code",
   "execution_count": null,
   "metadata": {},
   "outputs": [],
   "source": [
    "means,stds,medians =  _calc_stats(x, n_train)"
   ]
  },
  {
   "cell_type": "code",
   "execution_count": null,
   "metadata": {},
   "outputs": [],
   "source": [
    "#export\n",
    "def _fillna(x, values):\n",
    "    assert x.shape[-2]==values.shape[0]\n",
    "    for i,v in enumerate(values): np.nan_to_num(x[:,i,:], copy=False, nan=v)"
   ]
  },
  {
   "cell_type": "code",
   "execution_count": null,
   "metadata": {},
   "outputs": [],
   "source": [
    "_fillna(x, means)\n",
    "assert not np.isnan(x).any() "
   ]
  },
  {
   "cell_type": "code",
   "execution_count": null,
   "metadata": {},
   "outputs": [],
   "source": [
    "#export\n",
    "def df_to_items(df, x_cols, dep, n_train):\n",
    "    x,y = _get_x(df, x_cols), _get_y(df, dep)    \n",
    "    print(x.shape)\n",
    "    means,stds,medians =  _calc_stats(x, n_train)\n",
    "    _fillna(x, means)\n",
    "    assert not np.isnan(x).any() \n",
    "    return list(zip(x,y)), n_train\n",
    "    \n",
    "    "
   ]
  },
  {
   "cell_type": "code",
   "execution_count": null,
   "metadata": {},
   "outputs": [
    {
     "name": "stdout",
     "output_type": "stream",
     "text": [
      "(100000, 6, 10)\n"
     ]
    }
   ],
   "source": [
    "items, n_train = df_to_items(df_main, x_cols, dep, 8000)"
   ]
  },
  {
   "cell_type": "code",
   "execution_count": null,
   "metadata": {},
   "outputs": [
    {
     "data": {
      "text/plain": [
       "((6, 10), -56.49717514124313)"
      ]
     },
     "execution_count": null,
     "metadata": {},
     "output_type": "execute_result"
    }
   ],
   "source": [
    "items[0][0].shape, items[0][1]"
   ]
  },
  {
   "cell_type": "markdown",
   "metadata": {},
   "source": [
    "Dataframe workflow:\n",
    "\n",
    "```\n",
    "items, n_train = ucr_to_items(df, x_cols, dep, n_train)\n",
    "```"
   ]
  },
  {
   "cell_type": "markdown",
   "metadata": {},
   "source": [
    "### Experimental"
   ]
  },
  {
   "cell_type": "code",
   "execution_count": null,
   "metadata": {},
   "outputs": [],
   "source": [
    "class EagerTransform(Transform):\n",
    "    '''apply immediately'''\n",
    "    def setup(self, items, train_setup=False):\n",
    "        super().setup(items, train_setup=False)\n",
    "        return self(items.items)"
   ]
  },
  {
   "cell_type": "code",
   "execution_count": null,
   "metadata": {},
   "outputs": [],
   "source": [
    "class GetX(EagerTransform):\n",
    "    def encodes(self, df):\n",
    "        return df[x_cols[0]].values"
   ]
  },
  {
   "cell_type": "code",
   "execution_count": null,
   "metadata": {},
   "outputs": [],
   "source": [
    "class GetX(Transform):\n",
    "    def encodes(self, df):\n",
    "        return df[x_cols[0]].values"
   ]
  },
  {
   "cell_type": "code",
   "execution_count": null,
   "metadata": {},
   "outputs": [],
   "source": [
    "class GetY(EagerTransform):\n",
    "    def encodes(self, df):\n",
    "        print('get_y')\n",
    "        return df[dep]"
   ]
  },
  {
   "cell_type": "code",
   "execution_count": null,
   "metadata": {},
   "outputs": [],
   "source": [
    "class GetY(Transform):\n",
    "    def encodes(self, df):\n",
    "        print('get_y')        \n",
    "        return df[dep]"
   ]
  },
  {
   "cell_type": "code",
   "execution_count": null,
   "metadata": {},
   "outputs": [],
   "source": [
    "dblock = DataBlock(splitter=RandomSplitter(), get_x=GetX, get_y=GetY)"
   ]
  },
  {
   "cell_type": "code",
   "execution_count": null,
   "metadata": {},
   "outputs": [],
   "source": [
    "#export\n",
    "def df_get_items(df, x_cols, dep, n_train):\n",
    "    x,y = _get_x(df, x_cols), _get_y(df, dep)    \n",
    "    print(x.shape)\n",
    "    means,stds,medians =  _calc_stats(x, n_train)\n",
    "    _fillna(x, means)\n",
    "    assert not np.isnan(x).any() \n",
    "    return list(zip(x,y))    "
   ]
  },
  {
   "cell_type": "code",
   "execution_count": null,
   "metadata": {},
   "outputs": [],
   "source": [
    "get_items = partial(df_get_items,x_cols=x_cols, dep=dep, n_train=8000)"
   ]
  },
  {
   "cell_type": "code",
   "execution_count": null,
   "metadata": {},
   "outputs": [],
   "source": [
    "get_x = lambda x:TSTensor(torch.tensor(x[0]).float())\n",
    "get_y = lambda x: x[1]"
   ]
  },
  {
   "cell_type": "code",
   "execution_count": null,
   "metadata": {},
   "outputs": [],
   "source": [
    "val_idx=list(range(80000,100000))\n",
    "splitter = IndexSplitter(val_idx)"
   ]
  },
  {
   "cell_type": "code",
   "execution_count": null,
   "metadata": {},
   "outputs": [],
   "source": [
    "dblock = DataBlock(splitter=splitter, get_items=get_items, get_x=get_x, get_y=get_y,\n",
    "                  batch_tfms=RandAugment(2))"
   ]
  },
  {
   "cell_type": "code",
   "execution_count": null,
   "metadata": {},
   "outputs": [
    {
     "name": "stdout",
     "output_type": "stream",
     "text": [
      "(100000, 6, 10)\n"
     ]
    }
   ],
   "source": [
    "dsets = dblock.datasets(df_main)"
   ]
  },
  {
   "cell_type": "code",
   "execution_count": null,
   "metadata": {},
   "outputs": [
    {
     "name": "stdout",
     "output_type": "stream",
     "text": [
      "(100000, 6, 10)\n"
     ]
    }
   ],
   "source": [
    "dloaders = dblock.dataloaders(df_main, bs=256)"
   ]
  },
  {
   "cell_type": "code",
   "execution_count": null,
   "metadata": {},
   "outputs": [
    {
     "name": "stdout",
     "output_type": "stream",
     "text": [
      "ynormal\n",
      "timenormal\n"
     ]
    }
   ],
   "source": [
    "xb,yb = dloaders.one_batch()"
   ]
  },
  {
   "cell_type": "code",
   "execution_count": null,
   "metadata": {},
   "outputs": [
    {
     "name": "stdout",
     "output_type": "stream",
     "text": [
      "Setting-up type transforms pipelines\n",
      "Collecting items from                        nf0   nf1         nf2         nf3        x0_0  \\\n",
      "0      2009-01-02 19:30:00  2.77   56.497175  109.890110   -7.843137   \n",
      "1      2009-01-02 19:30:00  2.92   52.083333   98.039216 -161.290323   \n",
      "2      2009-01-03 11:30:00  2.08   92.592593   92.592593  -50.761421   \n",
      "3      2009-01-03 11:30:00  4.00   33.333333  117.647059 -129.870130   \n",
      "4      2009-01-03 13:45:00  1.90  111.111111  113.636364  -10.526316   \n",
      "...                    ...   ...         ...         ...         ...   \n",
      "99995  2013-12-10 18:45:00  3.79   35.842294  120.481928  100.000000   \n",
      "99996  2013-12-10 18:45:00  1.39  256.410256  105.263158  100.000000   \n",
      "99997  2013-12-10 18:45:00  8.77   12.870013  101.010101  100.000000   \n",
      "99998  2013-12-10 18:45:00  2.23   81.300813  107.526882  100.000000   \n",
      "99999  2013-12-10 18:45:00  3.46   40.650407  100.000000  -69.444444   \n",
      "\n",
      "             x0_1        x0_2        x0_3        x0_4        x0_5  ...  x5_2  \\\n",
      "0      100.000000   -6.497726  -24.509804  -33.222591  -42.735043  ...   0.0   \n",
      "1      -42.372881  -96.153846  100.000000  100.000000  100.000000  ...   1.0   \n",
      "2      -80.645161  -12.674271  100.000000  100.000000  100.000000  ...  -2.0   \n",
      "3       -9.090909  100.000000  100.000000  -46.728972  100.000000  ...   0.0   \n",
      "4      -42.553191  100.000000  -68.027211  -29.585799 -144.927536  ...   1.0   \n",
      "...           ...         ...         ...         ...         ...  ...   ...   \n",
      "99995  -84.033613  -47.393365  -74.626866  100.000000  -22.522523  ...   0.0   \n",
      "99996   70.000000  -11.160714  100.000000  100.000000  100.000000  ...   1.0   \n",
      "99997  100.000000  -30.674847 -163.934426  100.000000   -3.025719  ...   1.0   \n",
      "99998   -5.665722  100.000000  100.000000   -3.846154  100.000000  ...   2.0   \n",
      "99999  -97.087379  -13.245033  100.000000  100.000000   -5.998800  ...  -2.0   \n",
      "\n",
      "       x5_3  x5_4  x5_5  x5_6  x5_7  x5_8  x5_9          y0          y1  \n",
      "0      -1.0  -1.0  -1.0  -1.0   0.0  -1.0  -2.0  -56.497175    0.000000  \n",
      "1       2.0   1.0   0.0   0.0   0.0   2.0  -1.0  -52.083333    0.000000  \n",
      "2      -2.0   0.0  -3.0   0.0   2.0   1.0   0.0  -92.592593  -92.592593  \n",
      "3      -1.0  -1.0  -1.0  -1.0  -1.0   2.0   0.0  -33.333333  100.000000  \n",
      "4      -2.0   0.0   0.0  -1.0   2.0  -1.0   0.0 -111.111111 -113.636364  \n",
      "...     ...   ...   ...   ...   ...   ...   ...         ...         ...  \n",
      "99995  -5.0   0.0  -1.0   0.0  -2.0  -1.0  -1.0  -35.842294 -120.481928  \n",
      "99996   1.0  -1.0   0.0  -2.0  -3.0   0.0   5.0  100.000000  100.000000  \n",
      "99997  -3.0  -4.0  -1.0  -1.0  -4.0   0.0  -3.0  -12.870013 -101.010101  \n",
      "99998  -1.0  -3.0   3.0  -1.0  -4.0   1.0   2.0  100.000000  100.000000  \n",
      "99999  -1.0   1.0  -5.0   1.0   5.0   0.0   1.0  -40.650407 -100.000000  \n",
      "\n",
      "[100000 rows x 66 columns]\n",
      "(100000, 6, 10)\n",
      "Found 100000 items\n",
      "2 datasets of sizes 80000,20000\n",
      "Setting up Pipeline: <lambda>\n",
      "Setting up Pipeline: <lambda>\n",
      "\n",
      "Building one sample\n",
      "  Pipeline: <lambda>\n",
      "    starting from\n",
      "      ([[  -7.84313725  100.           -6.4977258   -24.50980392  -33.22259136\n",
      "   -42.73504274  -55.24861878  -56.49717514  -30.67484663  100.        ]\n",
      " [ 100.            0.            0.            0.            0.\n",
      "     0.            0.            0.            0.            0.        ]\n",
      " [   0.            1.           -1.           -2.           -1.\n",
      "     0.            0.            0.           -2.            1.        ]\n",
      " [ -17.30103806  100.          -30.67484663  -54.94505495 -227.27272727\n",
      "   -27.8551532  -400.         -147.05882353 -100.          -94.33962264]\n",
      " [   0.            0.            0.            0.            0.\n",
      "     0.            0.            0.            0.            0.        ]\n",
      " [   0.            1.            0.           -1.           -1.\n",
      "    -1.           -1.            0.           -1.           -2.        ]], -56.49717514124313)\n",
      "    applying <lambda> gives\n",
      "      TSTensor of size 6x10\n",
      "  Pipeline: <lambda>\n",
      "    starting from\n",
      "      ([[  -7.84313725  100.           -6.4977258   -24.50980392  -33.22259136\n",
      "   -42.73504274  -55.24861878  -56.49717514  -30.67484663  100.        ]\n",
      " [ 100.            0.            0.            0.            0.\n",
      "     0.            0.            0.            0.            0.        ]\n",
      " [   0.            1.           -1.           -2.           -1.\n",
      "     0.            0.            0.           -2.            1.        ]\n",
      " [ -17.30103806  100.          -30.67484663  -54.94505495 -227.27272727\n",
      "   -27.8551532  -400.         -147.05882353 -100.          -94.33962264]\n",
      " [   0.            0.            0.            0.            0.\n",
      "     0.            0.            0.            0.            0.        ]\n",
      " [   0.            1.            0.           -1.           -1.\n",
      "    -1.           -1.            0.           -1.           -2.        ]], -56.49717514124313)\n",
      "    applying <lambda> gives\n",
      "      -56.49717514124313\n",
      "\n",
      "Final sample: (TSTensor([[  -7.8431,  100.0000,   -6.4977,  -24.5098,  -33.2226,  -42.7350,\n",
      "          -55.2486,  -56.4972,  -30.6748,  100.0000],\n",
      "        [ 100.0000,    0.0000,    0.0000,    0.0000,    0.0000,    0.0000,\n",
      "            0.0000,    0.0000,    0.0000,    0.0000],\n",
      "        [   0.0000,    1.0000,   -1.0000,   -2.0000,   -1.0000,    0.0000,\n",
      "            0.0000,    0.0000,   -2.0000,    1.0000],\n",
      "        [ -17.3010,  100.0000,  -30.6748,  -54.9451, -227.2727,  -27.8552,\n",
      "         -400.0000, -147.0588, -100.0000,  -94.3396],\n",
      "        [   0.0000,    0.0000,    0.0000,    0.0000,    0.0000,    0.0000,\n",
      "            0.0000,    0.0000,    0.0000,    0.0000],\n",
      "        [   0.0000,    1.0000,    0.0000,   -1.0000,   -1.0000,   -1.0000,\n",
      "           -1.0000,    0.0000,   -1.0000,   -2.0000]]), -56.49717514124313)\n",
      "\n",
      "\n",
      "(100000, 6, 10)\n",
      "Setting up after_item: Pipeline: ToTensor\n",
      "Setting up before_batch: Pipeline: \n",
      "Setting up after_batch: Pipeline: RandAugment\n",
      "\n",
      "Building one batch\n",
      "Applying item_tfms to the first sample:\n",
      "  Pipeline: ToTensor\n",
      "    starting from\n",
      "      (TSTensor of size 6x10, -56.49717514124313)\n",
      "    applying ToTensor gives\n",
      "      (TSTensor of size 6x10, -56.49717514124313)\n",
      "\n",
      "Adding the next 3 samples\n",
      "\n",
      "No before_batch transform to apply\n",
      "\n",
      "Collating items in a batch\n",
      "\n",
      "Applying batch_tfms to the batch built\n",
      "  Pipeline: RandAugment\n",
      "    starting from\n",
      "      (TSTensor of size 4x6x10, tensor([-56.4972, -52.0833, -92.5926, -33.3333]))\n",
      "timewarp\n",
      "timenormal\n",
      "    applying RandAugment gives\n",
      "      (TSTensor of size 4x6x10, tensor([-56.4972, -52.0833, -92.5926, -33.3333]))\n"
     ]
    }
   ],
   "source": [
    "dblock.summary(df_main)"
   ]
  },
  {
   "cell_type": "code",
   "execution_count": null,
   "metadata": {},
   "outputs": [],
   "source": [
    "from fastai2.basics import *\n",
    "from fastai2.callback import *\n",
    "from torchtools.models import *\n",
    "from torchtools.core import *"
   ]
  },
  {
   "cell_type": "code",
   "execution_count": null,
   "metadata": {},
   "outputs": [],
   "source": [
    "def set_seed(seed=42):\n",
    "    # python RNG\n",
    "    random.seed(seed)\n",
    "\n",
    "    # pytorch RNGs\n",
    "    import torch\n",
    "    torch.manual_seed(seed)\n",
    "    torch.backends.cudnn.deterministic = True\n",
    "    if torch.cuda.is_available(): torch.cuda.manual_seed_all(seed)\n",
    "\n",
    "    # numpy RNG\n",
    "    import numpy as np\n",
    "    np.random.seed(seed)"
   ]
  },
  {
   "cell_type": "code",
   "execution_count": null,
   "metadata": {},
   "outputs": [],
   "source": [
    "set_seed()\n",
    "learn = Learner(dloaders, InceptionTimeSgmOld(6,1), loss_func=get_loss_fn('leaky_loss', alpha=0.5))"
   ]
  },
  {
   "cell_type": "code",
   "execution_count": null,
   "metadata": {},
   "outputs": [
    {
     "data": {
      "text/html": [
       "<table border=\"1\" class=\"dataframe\">\n",
       "  <thead>\n",
       "    <tr style=\"text-align: left;\">\n",
       "      <th>epoch</th>\n",
       "      <th>train_loss</th>\n",
       "      <th>valid_loss</th>\n",
       "      <th>time</th>\n",
       "    </tr>\n",
       "  </thead>\n",
       "  <tbody>\n",
       "    <tr>\n",
       "      <td>0</td>\n",
       "      <td>0.436206</td>\n",
       "      <td>0.232049</td>\n",
       "      <td>00:47</td>\n",
       "    </tr>\n",
       "  </tbody>\n",
       "</table>"
      ],
      "text/plain": [
       "<IPython.core.display.HTML object>"
      ]
     },
     "metadata": {},
     "output_type": "display_data"
    },
    {
     "name": "stdout",
     "output_type": "stream",
     "text": [
      "ynormal\n",
      "timenormal\n",
      "timenormal\n",
      "ynormal\n",
      "timewarp\n",
      "yscale\n",
      "timenormal\n",
      "ynormal\n",
      "ywarp\n",
      "timewarp\n",
      "ynormal\n",
      "timenormal\n",
      "ywarp\n",
      "timewarp\n",
      "ywarp\n",
      "yscale\n",
      "timewarp\n",
      "ynormal\n",
      "ynormal\n",
      "timenormal\n",
      "timewarp\n",
      "ywarp\n",
      "timewarp\n",
      "yscale\n",
      "yscale\n",
      "ynormal\n",
      "timenormal\n",
      "ywarp\n",
      "timenormal\n",
      "timewarp\n",
      "timenormal\n",
      "timewarp\n",
      "ynormal\n",
      "timewarp\n",
      "timenormal\n",
      "ywarp\n",
      "timewarp\n",
      "yscale\n",
      "timewarp\n",
      "ywarp\n",
      "timenormal\n",
      "timewarp\n",
      "yscale\n",
      "ywarp\n",
      "timewarp\n",
      "ynormal\n",
      "yscale\n",
      "ynormal\n",
      "timewarp\n",
      "yscale\n",
      "timewarp\n",
      "ywarp\n",
      "timewarp\n",
      "ywarp\n",
      "ynormal\n",
      "ywarp\n",
      "yscale\n",
      "timewarp\n",
      "ywarp\n",
      "timewarp\n",
      "ywarp\n",
      "yscale\n",
      "ynormal\n",
      "yscale\n",
      "timewarp\n",
      "ynormal\n",
      "timenormal\n",
      "ynormal\n",
      "ynormal\n",
      "ywarp\n",
      "ynormal\n",
      "timewarp\n",
      "ynormal\n",
      "timenormal\n",
      "timenormal\n",
      "ynormal\n",
      "yscale\n",
      "ynormal\n",
      "timenormal\n",
      "yscale\n",
      "timenormal\n",
      "ynormal\n",
      "timewarp\n",
      "ynormal\n",
      "ynormal\n",
      "yscale\n",
      "yscale\n",
      "timewarp\n",
      "ynormal\n",
      "ywarp\n",
      "ywarp\n",
      "timewarp\n",
      "ywarp\n",
      "ynormal\n",
      "ynormal\n",
      "ywarp\n",
      "ywarp\n",
      "ynormal\n",
      "ywarp\n",
      "yscale\n",
      "ywarp\n",
      "ynormal\n",
      "ywarp\n",
      "yscale\n",
      "yscale\n",
      "ynormal\n",
      "yscale\n",
      "timenormal\n",
      "yscale\n",
      "timewarp\n",
      "ynormal\n",
      "timewarp\n",
      "ywarp\n",
      "yscale\n",
      "ynormal\n",
      "timewarp\n",
      "ywarp\n",
      "timenormal\n",
      "ynormal\n",
      "timenormal\n",
      "timenormal\n",
      "ynormal\n",
      "ywarp\n",
      "timewarp\n",
      "yscale\n",
      "ywarp\n",
      "yscale\n",
      "timewarp\n",
      "yscale\n",
      "ynormal\n",
      "ywarp\n",
      "yscale\n",
      "timewarp\n",
      "ynormal\n",
      "ywarp\n",
      "timewarp\n",
      "timenormal\n",
      "ynormal\n",
      "timenormal\n",
      "ynormal\n",
      "timewarp\n",
      "timenormal\n",
      "yscale\n",
      "ynormal\n",
      "ywarp\n",
      "timewarp\n",
      "ywarp\n",
      "timewarp\n",
      "ynormal\n",
      "yscale\n",
      "timewarp\n",
      "ywarp\n",
      "timewarp\n",
      "ynormal\n",
      "timewarp\n",
      "ywarp\n",
      "timewarp\n",
      "ywarp\n",
      "timenormal\n",
      "yscale\n",
      "timewarp\n",
      "ywarp\n",
      "timenormal\n",
      "timewarp\n",
      "timenormal\n",
      "ywarp\n",
      "yscale\n",
      "timenormal\n",
      "ynormal\n",
      "yscale\n",
      "ynormal\n",
      "timenormal\n",
      "ynormal\n",
      "timewarp\n",
      "timewarp\n",
      "timenormal\n",
      "yscale\n",
      "ywarp\n",
      "timenormal\n",
      "ynormal\n",
      "ywarp\n",
      "timenormal\n",
      "yscale\n",
      "timewarp\n",
      "timewarp\n",
      "ywarp\n",
      "timenormal\n",
      "ywarp\n",
      "timewarp\n",
      "ywarp\n",
      "timewarp\n",
      "yscale\n",
      "yscale\n",
      "ynormal\n",
      "timenormal\n",
      "ynormal\n",
      "ynormal\n",
      "ywarp\n",
      "ynormal\n",
      "timewarp\n",
      "yscale\n",
      "ywarp\n",
      "timenormal\n",
      "timewarp\n",
      "timewarp\n",
      "ywarp\n",
      "yscale\n",
      "ynormal\n",
      "ynormal\n",
      "yscale\n",
      "ywarp\n",
      "yscale\n",
      "timenormal\n",
      "timewarp\n",
      "yscale\n",
      "ywarp\n",
      "timenormal\n",
      "ynormal\n",
      "ywarp\n",
      "yscale\n",
      "ywarp\n",
      "timenormal\n",
      "timewarp\n",
      "ynormal\n",
      "timewarp\n",
      "yscale\n",
      "ywarp\n",
      "ynormal\n",
      "timenormal\n",
      "ynormal\n",
      "yscale\n",
      "timenormal\n",
      "ynormal\n",
      "ywarp\n",
      "timenormal\n",
      "timewarp\n",
      "yscale\n",
      "ynormal\n",
      "ynormal\n",
      "timenormal\n",
      "ywarp\n",
      "ynormal\n",
      "timenormal\n",
      "ynormal\n",
      "yscale\n",
      "ywarp\n",
      "ywarp\n",
      "timewarp\n",
      "yscale\n",
      "timewarp\n",
      "ywarp\n",
      "timenormal\n",
      "timenormal\n",
      "timewarp\n",
      "timenormal\n",
      "ynormal\n",
      "ynormal\n",
      "yscale\n",
      "ynormal\n",
      "yscale\n",
      "yscale\n",
      "timewarp\n",
      "ynormal\n",
      "ywarp\n",
      "ywarp\n",
      "timewarp\n",
      "timenormal\n",
      "timewarp\n",
      "yscale\n",
      "timenormal\n",
      "ywarp\n",
      "ynormal\n",
      "yscale\n",
      "ynormal\n",
      "timewarp\n",
      "timenormal\n",
      "timewarp\n",
      "ynormal\n",
      "timewarp\n",
      "ywarp\n",
      "timewarp\n",
      "timenormal\n",
      "timewarp\n",
      "timenormal\n",
      "ywarp\n",
      "timewarp\n",
      "ynormal\n",
      "timewarp\n",
      "timewarp\n",
      "ynormal\n",
      "ywarp\n",
      "yscale\n",
      "ynormal\n",
      "timenormal\n",
      "timenormal\n",
      "timewarp\n",
      "ywarp\n",
      "timewarp\n",
      "ywarp\n",
      "ynormal\n",
      "yscale\n",
      "ynormal\n",
      "timewarp\n",
      "ywarp\n",
      "yscale\n",
      "timewarp\n",
      "timenormal\n",
      "yscale\n",
      "timenormal\n",
      "timewarp\n",
      "ywarp\n",
      "ynormal\n",
      "yscale\n",
      "timenormal\n",
      "timewarp\n",
      "yscale\n",
      "ywarp\n",
      "yscale\n",
      "ynormal\n",
      "ywarp\n",
      "ynormal\n",
      "ywarp\n",
      "timewarp\n",
      "ynormal\n",
      "timewarp\n",
      "yscale\n",
      "timewarp\n",
      "ywarp\n",
      "ynormal\n",
      "timewarp\n",
      "ywarp\n",
      "yscale\n",
      "ywarp\n",
      "timenormal\n",
      "yscale\n",
      "ynormal\n",
      "ynormal\n",
      "ywarp\n",
      "ynormal\n",
      "timenormal\n",
      "timenormal\n",
      "ywarp\n",
      "ynormal\n",
      "timenormal\n",
      "timewarp\n",
      "timenormal\n",
      "ynormal\n",
      "timenormal\n",
      "timenormal\n",
      "ynormal\n",
      "timewarp\n",
      "timenormal\n",
      "ywarp\n",
      "yscale\n",
      "ywarp\n",
      "ynormal\n",
      "ywarp\n",
      "yscale\n",
      "timewarp\n",
      "timenormal\n",
      "timenormal\n",
      "yscale\n",
      "ywarp\n",
      "yscale\n",
      "timenormal\n",
      "yscale\n",
      "ywarp\n",
      "yscale\n",
      "yscale\n",
      "timewarp\n",
      "timewarp\n",
      "ywarp\n",
      "ywarp\n",
      "timewarp\n",
      "ynormal\n",
      "ywarp\n",
      "timenormal\n",
      "ynormal\n",
      "ynormal\n",
      "timewarp\n",
      "timewarp\n",
      "ynormal\n",
      "ywarp\n",
      "timenormal\n",
      "timewarp\n",
      "ynormal\n",
      "timenormal\n",
      "ynormal\n",
      "ynormal\n",
      "timewarp\n",
      "ywarp\n",
      "timewarp\n",
      "timenormal\n",
      "ynormal\n",
      "yscale\n",
      "timewarp\n",
      "yscale\n",
      "ynormal\n",
      "yscale\n",
      "ynormal\n",
      "timewarp\n",
      "ywarp\n",
      "ynormal\n",
      "ywarp\n",
      "yscale\n",
      "timewarp\n",
      "ywarp\n",
      "ynormal\n",
      "timewarp\n",
      "yscale\n",
      "yscale\n",
      "ynormal\n",
      "timewarp\n",
      "ywarp\n",
      "yscale\n",
      "timewarp\n",
      "timenormal\n",
      "ynormal\n",
      "timewarp\n",
      "ynormal\n",
      "timewarp\n",
      "timenormal\n",
      "ynormal\n",
      "timenormal\n",
      "ywarp\n",
      "timewarp\n",
      "yscale\n",
      "ynormal\n",
      "ynormal\n",
      "ywarp\n",
      "yscale\n",
      "timenormal\n",
      "timewarp\n",
      "ynormal\n",
      "ynormal\n",
      "timenormal\n",
      "timewarp\n",
      "ywarp\n",
      "ywarp\n",
      "yscale\n",
      "timenormal\n",
      "ywarp\n",
      "timenormal\n",
      "yscale\n",
      "ynormal\n",
      "timewarp\n",
      "yscale\n",
      "timewarp\n",
      "timenormal\n",
      "yscale\n",
      "timewarp\n",
      "ywarp\n",
      "timenormal\n",
      "yscale\n",
      "ywarp\n",
      "timewarp\n",
      "ynormal\n",
      "ywarp\n",
      "timenormal\n",
      "ywarp\n",
      "timewarp\n",
      "yscale\n",
      "timenormal\n",
      "yscale\n",
      "timenormal\n",
      "yscale\n",
      "yscale\n",
      "timewarp\n",
      "ynormal\n",
      "timewarp\n",
      "ywarp\n",
      "yscale\n",
      "yscale\n",
      "ynormal\n",
      "ywarp\n",
      "timewarp\n",
      "ywarp\n",
      "timewarp\n",
      "timewarp\n",
      "ywarp\n",
      "ynormal\n",
      "ywarp\n",
      "yscale\n",
      "timenormal\n",
      "ywarp\n",
      "yscale\n",
      "ynormal\n",
      "yscale\n",
      "yscale\n",
      "ywarp\n",
      "timewarp\n",
      "ywarp\n",
      "yscale\n",
      "ynormal\n",
      "ynormal\n",
      "ywarp\n",
      "ywarp\n",
      "timenormal\n",
      "ynormal\n",
      "timenormal\n",
      "yscale\n",
      "timenormal\n",
      "timewarp\n",
      "ynormal\n",
      "timewarp\n",
      "yscale\n",
      "timenormal\n",
      "ynormal\n",
      "ynormal\n",
      "timenormal\n",
      "ynormal\n",
      "timewarp\n",
      "ynormal\n",
      "yscale\n",
      "timenormal\n",
      "ywarp\n",
      "ywarp\n",
      "timenormal\n",
      "timenormal\n",
      "yscale\n",
      "ynormal\n",
      "ywarp\n",
      "ywarp\n",
      "timewarp\n",
      "ynormal\n",
      "ywarp\n",
      "ynormal\n",
      "yscale\n",
      "yscale\n",
      "timenormal\n",
      "timewarp\n",
      "yscale\n",
      "ywarp\n",
      "timewarp\n",
      "yscale\n",
      "ywarp\n",
      "timenormal\n",
      "timewarp\n",
      "yscale\n",
      "ywarp\n",
      "ynormal\n",
      "yscale\n",
      "ywarp\n",
      "yscale\n",
      "yscale\n",
      "timewarp\n",
      "timewarp\n",
      "ywarp\n",
      "yscale\n",
      "ynormal\n",
      "yscale\n",
      "timenormal\n",
      "ywarp\n",
      "timewarp\n",
      "timewarp\n",
      "timenormal\n",
      "yscale\n",
      "ywarp\n",
      "ynormal\n",
      "timenormal\n",
      "ynormal\n",
      "ywarp\n",
      "yscale\n",
      "ynormal\n",
      "ynormal\n",
      "ywarp\n",
      "ynormal\n",
      "yscale\n",
      "ynormal\n",
      "timewarp\n",
      "timenormal\n",
      "yscale\n",
      "timenormal\n",
      "yscale\n",
      "timewarp\n",
      "ynormal\n",
      "timenormal\n",
      "yscale\n",
      "ywarp\n",
      "timenormal\n",
      "timewarp\n",
      "timenormal\n",
      "timenormal\n",
      "ynormal\n",
      "yscale\n",
      "timewarp\n",
      "ywarp\n",
      "timenormal\n",
      "timenormal\n",
      "ywarp\n",
      "yscale\n",
      "timewarp\n",
      "timenormal\n",
      "timewarp\n",
      "ynormal\n",
      "timenormal\n",
      "timewarp\n",
      "ynormal\n",
      "yscale\n",
      "ywarp\n",
      "yscale\n",
      "timenormal\n",
      "ynormal\n",
      "timenormal\n",
      "timewarp\n",
      "ynormal\n",
      "timewarp\n",
      "yscale\n",
      "timenormal\n",
      "timewarp\n",
      "timenormal\n",
      "ywarp\n",
      "timewarp\n",
      "ynormal\n",
      "ywarp\n",
      "ynormal\n",
      "timewarp\n",
      "ywarp\n",
      "timewarp\n",
      "ynormal\n",
      "ywarp\n",
      "timewarp\n",
      "yscale\n",
      "ynormal\n"
     ]
    }
   ],
   "source": [
    "learn.fit_one_cycle(1, 1e-5)"
   ]
  },
  {
   "cell_type": "code",
   "execution_count": null,
   "metadata": {},
   "outputs": [
    {
     "data": {
      "text/html": [],
      "text/plain": [
       "<IPython.core.display.HTML object>"
      ]
     },
     "metadata": {},
     "output_type": "display_data"
    },
    {
     "data": {
      "text/plain": [
       "(tensor([[0.3551],\n",
       "         [0.3895],\n",
       "         [0.2117],\n",
       "         ...,\n",
       "         [0.3557],\n",
       "         [0.2367],\n",
       "         [0.2034]]),\n",
       " tensor([100.0000, -10.9769, -43.8596,  ..., -12.8700, 100.0000, -40.6504]))"
      ]
     },
     "execution_count": null,
     "metadata": {},
     "output_type": "execute_result"
    }
   ],
   "source": [
    "#old\n",
    "learn.get_preds()"
   ]
  },
  {
   "cell_type": "code",
   "execution_count": null,
   "metadata": {},
   "outputs": [
    {
     "data": {
      "text/html": [],
      "text/plain": [
       "<IPython.core.display.HTML object>"
      ]
     },
     "metadata": {},
     "output_type": "display_data"
    },
    {
     "data": {
      "text/plain": [
       "(tensor([[0.3599],\n",
       "         [0.3881],\n",
       "         [0.2205],\n",
       "         ...,\n",
       "         [0.3792],\n",
       "         [0.2282],\n",
       "         [0.2047]]),\n",
       " tensor([100.0000, -10.9769, -43.8596,  ..., -12.8700, 100.0000, -40.6504]))"
      ]
     },
     "execution_count": null,
     "metadata": {},
     "output_type": "execute_result"
    }
   ],
   "source": [
    "#old\n",
    "learn.get_preds()"
   ]
  },
  {
   "cell_type": "code",
   "execution_count": null,
   "metadata": {},
   "outputs": [
    {
     "data": {
      "text/html": [],
      "text/plain": [
       "<IPython.core.display.HTML object>"
      ]
     },
     "metadata": {},
     "output_type": "display_data"
    },
    {
     "data": {
      "text/plain": [
       "(tensor([[0.3607],\n",
       "         [0.3812],\n",
       "         [0.2322],\n",
       "         ...,\n",
       "         [0.3762],\n",
       "         [0.2591],\n",
       "         [0.2031]]),\n",
       " tensor([100.0000, -10.9769, -43.8596,  ..., -12.8700, 100.0000, -40.6504]))"
      ]
     },
     "execution_count": null,
     "metadata": {},
     "output_type": "execute_result"
    }
   ],
   "source": [
    "#old\n",
    "learn.get_preds()"
   ]
  },
  {
   "cell_type": "code",
   "execution_count": null,
   "metadata": {},
   "outputs": [
    {
     "data": {
      "text/plain": [
       "torch.Size([20000, 1])"
      ]
     },
     "execution_count": null,
     "metadata": {},
     "output_type": "execute_result"
    }
   ],
   "source": []
  },
  {
   "cell_type": "code",
   "execution_count": null,
   "metadata": {},
   "outputs": [],
   "source": []
  }
 ],
 "metadata": {
  "kernelspec": {
   "display_name": "Python [conda env:nbdev]",
   "language": "python",
   "name": "conda-env-nbdev-py"
  }
 },
 "nbformat": 4,
 "nbformat_minor": 2
}
