{
 "cells": [
  {
   "cell_type": "code",
   "execution_count": null,
   "metadata": {},
   "outputs": [],
   "source": [
    "#default_exp augmentations"
   ]
  },
  {
   "cell_type": "markdown",
   "metadata": {},
   "source": [
    "## augmentations\n",
    "Implmentation heavily inspired by Ignacio Oguiza - oguiza@gmail.com"
   ]
  },
  {
   "cell_type": "code",
   "execution_count": null,
   "metadata": {},
   "outputs": [],
   "source": [
    "import numpy as np\n",
    "import random\n",
    "from functools import partial\n",
    "from scipy.interpolate import CubicSpline\n",
    "import torch"
   ]
  },
  {
   "cell_type": "code",
   "execution_count": null,
   "metadata": {},
   "outputs": [],
   "source": [
    "#exports\n",
    "def random_curve_generator(ts, magnitude=.1, order=4, noise=None):\n",
    "    seq_len = ts.shape[-1]\n",
    "    x = np.linspace(-seq_len, 2 * seq_len - 1, 3 * (order - 1) + 1, dtype=int)\n",
    "    x2 = np.random.normal(loc=1.0, scale=magnitude, size=len(x))\n",
    "    f = CubicSpline(x, x2, axis=-1)\n",
    "    return f(np.arange(seq_len))\n",
    "\n",
    "\n",
    "def random_cum_curve_generator(ts, magnitude=.1, order=4, noise=None):\n",
    "    x = random_curve_generator(ts, magnitude=magnitude, order=order, noise=noise).cumsum()\n",
    "    x -= x[0]\n",
    "    x /= x[-1]\n",
    "    x = np.clip(x, 0, 1)\n",
    "    return x * (ts.shape[-1] - 1)\n",
    "\n",
    "\n",
    "def random_cum_noise_generator(ts, magnitude=.1, noise=None):\n",
    "    seq_len = ts.shape[-1]\n",
    "    x = (np.ones(seq_len) + np.random.normal(loc=0, scale=magnitude, size=seq_len)).cumsum()\n",
    "    x -= x[0]\n",
    "    x /= x[-1]\n",
    "    x = np.clip(x, 0, 1)\n",
    "    return x * (ts.shape[-1] - 1)\n",
    "\n",
    "\n",
    "def magnoise(x, magnitude=.1, add=True):\n",
    "    if magnitude <= 0: return x\n",
    "    y = None\n",
    "    if isinstance(x, list):\n",
    "        y = x[1]\n",
    "        x = x[0]\n",
    "    seq_len = x.shape[-1]\n",
    "    noise = torch.normal(0, magnitude, (1, seq_len), dtype=x.dtype, device=x.device)\n",
    "    if add:\n",
    "        output = x + noise\n",
    "        return output if y is None else [output, y]\n",
    "    else:\n",
    "        output = x * (1 + noise)\n",
    "        return output if y is None else [output, y]\n"
   ]
  },
  {
   "cell_type": "code",
   "execution_count": null,
   "metadata": {},
   "outputs": [
    {
     "data": {
      "text/plain": [
       "tensor([[2.2296]])"
      ]
     },
     "execution_count": null,
     "metadata": {},
     "output_type": "execute_result"
    }
   ],
   "source": [
    "magnoise(torch.tensor([2.1]))"
   ]
  },
  {
   "cell_type": "code",
   "execution_count": null,
   "metadata": {},
   "outputs": [],
   "source": []
  }
 ],
 "metadata": {
  "kernelspec": {
   "display_name": "Python [conda env:nbdev]",
   "language": "python",
   "name": "conda-env-nbdev-py"
  }
 },
 "nbformat": 4,
 "nbformat_minor": 2
}
