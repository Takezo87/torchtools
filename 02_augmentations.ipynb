{
 "cells": [
  {
   "cell_type": "code",
   "execution_count": null,
   "metadata": {},
   "outputs": [],
   "source": [
    "#default_exp augmentations"
   ]
  },
  {
   "cell_type": "markdown",
   "metadata": {},
   "source": [
    "## augmentations\n",
    "Implmentation heavily inspired by Ignacio Oguiza - oguiza@gmail.com"
   ]
  },
  {
   "cell_type": "code",
   "execution_count": null,
   "metadata": {},
   "outputs": [],
   "source": [
    "#export\n",
    "import numpy as np\n",
    "import random\n",
    "from functools import partial\n",
    "from scipy.interpolate import CubicSpline\n",
    "import torch"
   ]
  },
  {
   "cell_type": "code",
   "execution_count": null,
   "metadata": {},
   "outputs": [
    {
     "ename": "ModuleNotFoundError",
     "evalue": "No module named 'fastai2'",
     "output_type": "error",
     "traceback": [
      "\u001b[0;31m---------------------------------------------------------------------------\u001b[0m",
      "\u001b[0;31mModuleNotFoundError\u001b[0m                       Traceback (most recent call last)",
      "\u001b[0;32m<ipython-input-3-28029e914c85>\u001b[0m in \u001b[0;36m<module>\u001b[0;34m\u001b[0m\n\u001b[0;32m----> 1\u001b[0;31m \u001b[0;32mfrom\u001b[0m \u001b[0mfastai2\u001b[0m\u001b[0;34m.\u001b[0m\u001b[0mtorch_basics\u001b[0m \u001b[0;32mimport\u001b[0m \u001b[0;34m*\u001b[0m\u001b[0;34m\u001b[0m\u001b[0;34m\u001b[0m\u001b[0m\n\u001b[0m\u001b[1;32m      2\u001b[0m \u001b[0;32mfrom\u001b[0m \u001b[0mfastai2\u001b[0m\u001b[0;34m.\u001b[0m\u001b[0mdata\u001b[0m\u001b[0;34m.\u001b[0m\u001b[0mall\u001b[0m \u001b[0;32mimport\u001b[0m \u001b[0;34m*\u001b[0m\u001b[0;34m\u001b[0m\u001b[0;34m\u001b[0m\u001b[0m\n",
      "\u001b[0;31mModuleNotFoundError\u001b[0m: No module named 'fastai2'"
     ]
    }
   ],
   "source": [
    "from fastai2.torch_basics import *\n",
    "from fastai2.data.all import *"
   ]
  },
  {
   "cell_type": "code",
   "execution_count": null,
   "metadata": {},
   "outputs": [],
   "source": [
    "#exports\n",
    "def random_curve_generator(ts, magnitude=.1, order=4, noise=None):\n",
    "    seq_len = ts.shape[-1]\n",
    "    x = np.linspace(-seq_len, 2 * seq_len - 1, 3 * (order - 1) + 1, dtype=int)\n",
    "    x2 = np.random.normal(loc=1.0, scale=magnitude, size=len(x))\n",
    "    f = CubicSpline(x, x2, axis=-1)\n",
    "    return f(np.arange(seq_len))\n",
    "\n",
    "\n",
    "def random_cum_curve_generator(ts, magnitude=.1, order=4, noise=None):\n",
    "    x = random_curve_generator(ts, magnitude=magnitude, order=order, noise=noise).cumsum()\n",
    "    x -= x[0]\n",
    "    x /= x[-1]\n",
    "    x = np.clip(x, 0, 1)\n",
    "    return x * (ts.shape[-1] - 1)\n",
    "\n",
    "\n",
    "def random_cum_noise_generator(ts, magnitude=.1, noise=None):\n",
    "    seq_len = ts.shape[-1]\n",
    "    x = (np.ones(seq_len) + np.random.normal(loc=0, scale=magnitude, size=seq_len)).cumsum()\n",
    "    x -= x[0]\n",
    "    x /= x[-1]\n",
    "    x = np.clip(x, 0, 1)\n",
    "    return x * (ts.shape[-1] - 1)"
   ]
  },
  {
   "cell_type": "code",
   "execution_count": null,
   "metadata": {},
   "outputs": [],
   "source": [
    "#export\n",
    "def magnoise(x, magnitude=.1, add=True):\n",
    "    if magnitude <= 0: return x\n",
    "    y = None\n",
    "    if isinstance(x, list):\n",
    "        y = x[1]\n",
    "        x = x[0]\n",
    "    seq_len = x.shape[-1]\n",
    "    noise = torch.normal(0, magnitude, (1, seq_len), dtype=x.dtype, device=x.device)\n",
    "    if add:\n",
    "        output = x + noise\n",
    "        return output if y is None else [output, y]\n",
    "    else:\n",
    "        output = x * (1 + noise)\n",
    "        return output if y is None else [output, y]"
   ]
  },
  {
   "cell_type": "code",
   "execution_count": null,
   "metadata": {},
   "outputs": [
    {
     "data": {
      "text/plain": [
       "tensor([[2.1190]])"
      ]
     },
     "execution_count": null,
     "metadata": {},
     "output_type": "execute_result"
    }
   ],
   "source": [
    "magnoise(torch.tensor([2.1]))"
   ]
  },
  {
   "cell_type": "code",
   "execution_count": null,
   "metadata": {},
   "outputs": [],
   "source": [
    "#export\n",
    "def timewarp(x, magnitude=.1, order=4):\n",
    "    '''This is a slow batch tfm on cpu'''\n",
    "    if magnitude <= 0: return x\n",
    "    y = None\n",
    "    if isinstance(x, list):\n",
    "        y = x[1]\n",
    "        x = x[0]\n",
    "    seq_len = x.shape[-1]\n",
    "    x_device = x.device ## make sure to put outpout on right device\n",
    "    x=x.cpu()\n",
    "\n",
    "    f = CubicSpline(np.arange(seq_len), x, axis=-1)\n",
    "    new_x = random_cum_curve_generator(x, magnitude=magnitude, order=order)\n",
    "    output = x.new(f(new_x))\n",
    "    return output.to(x_device) if y is None else [output.to(x_device), y]\n"
   ]
  },
  {
   "cell_type": "code",
   "execution_count": null,
   "metadata": {},
   "outputs": [],
   "source": [
    "#export\n",
    "def magwarp(x, magnitude=.1, order=4):\n",
    "    if magnitude <= 0: return x\n",
    "    y = None\n",
    "    if isinstance(x, list):\n",
    "        y = x[1]\n",
    "        x = x[0]\n",
    "    y_mult = random_curve_generator(x, magnitude=magnitude, order=order)\n",
    "    output = x * x.new(y_mult)\n",
    "    return output if y is None else [output, y]\n"
   ]
  },
  {
   "cell_type": "code",
   "execution_count": null,
   "metadata": {},
   "outputs": [],
   "source": [
    "def _timenoise(x, magnitude=.1):\n",
    "    '''This is a slow batch tfm, requires cpu'''\n",
    "    if magnitude <= 0: return x\n",
    "    y = None\n",
    "    if isinstance(x, list):\n",
    "        y = x[1]\n",
    "        x = x[0]\n",
    "    f = CubicSpline(np.arange(x.shape[-1]), x, axis=-1)\n",
    "    new_x = random_cum_noise_generator(x, magnitude=magnitude)\n",
    "    output = x.new(f(new_x))\n",
    "    return output if y is None else [output, y]"
   ]
  },
  {
   "cell_type": "code",
   "execution_count": null,
   "metadata": {},
   "outputs": [],
   "source": []
  },
  {
   "cell_type": "code",
   "execution_count": null,
   "metadata": {},
   "outputs": [],
   "source": [
    "t = torch.tensor([[0.5, 0.6, 0.9, 0.12, 1, 1, 1, 1], [0.2, 0.5, 0.2, 0.31, 1, 1, 1, 1]])"
   ]
  },
  {
   "cell_type": "code",
   "execution_count": null,
   "metadata": {},
   "outputs": [
    {
     "data": {
      "text/plain": [
       "torch.Size([2, 8])"
      ]
     },
     "execution_count": null,
     "metadata": {},
     "output_type": "execute_result"
    }
   ],
   "source": [
    "t.shape"
   ]
  },
  {
   "cell_type": "code",
   "execution_count": null,
   "metadata": {},
   "outputs": [],
   "source": [
    "# res = timewarp([t.to('cuda'), torch.tensor([0., 0.])])"
   ]
  },
  {
   "cell_type": "code",
   "execution_count": null,
   "metadata": {},
   "outputs": [
    {
     "data": {
      "text/plain": [
       "device(type='cpu')"
      ]
     },
     "execution_count": null,
     "metadata": {},
     "output_type": "execute_result"
    }
   ],
   "source": [
    "res[1].device"
   ]
  },
  {
   "cell_type": "code",
   "execution_count": null,
   "metadata": {},
   "outputs": [],
   "source": []
  }
 ],
 "metadata": {
  "kernelspec": {
   "display_name": "Python [conda env:nbdev]",
   "language": "python",
   "name": "conda-env-nbdev-py"
  }
 },
 "nbformat": 4,
 "nbformat_minor": 2
}
