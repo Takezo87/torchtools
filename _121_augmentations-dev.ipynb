{
 "cells": [
  {
   "cell_type": "code",
   "execution_count": null,
   "metadata": {},
   "outputs": [],
   "source": [
    "#default_exp augmentations"
   ]
  },
  {
   "cell_type": "markdown",
   "metadata": {},
   "source": [
    "# augmentations\n",
    "\n",
    ">Implmentation heavily inspired by Ignacio Oguiza - oguiza@gmail.com"
   ]
  },
  {
   "cell_type": "code",
   "execution_count": null,
   "metadata": {},
   "outputs": [],
   "source": [
    "#export\n",
    "import random\n",
    "from functools import partial\n",
    "from scipy.interpolate import CubicSpline\n",
    "from torchtools.data import *\n",
    "import pywt"
   ]
  },
  {
   "cell_type": "code",
   "execution_count": null,
   "metadata": {},
   "outputs": [],
   "source": [
    "#export\n",
    "import numpy as np\n",
    "import torch"
   ]
  },
  {
   "cell_type": "code",
   "execution_count": null,
   "metadata": {},
   "outputs": [],
   "source": [
    "#export\n",
    "from fastai2.torch_basics import *\n",
    "from fastai2.data.all import *"
   ]
  },
  {
   "cell_type": "code",
   "execution_count": null,
   "metadata": {},
   "outputs": [],
   "source": [
    "#export\n",
    "from torchtools.core import *\n",
    "from torchtools.data import *\n",
    "from torchtools.datasets import *\n",
    "from torchtools.dataloader import *\n",
    "from torchtools.models import *\n",
    "from torchtools.augmentations import *"
   ]
  },
  {
   "cell_type": "markdown",
   "metadata": {},
   "source": [
    "#### Helper Function"
   ]
  },
  {
   "cell_type": "markdown",
   "metadata": {},
   "source": [
    "Copy helper functions, should not be exposed"
   ]
  },
  {
   "cell_type": "code",
   "execution_count": null,
   "metadata": {},
   "outputs": [],
   "source": [
    "def _get_sin(dims=(1,20)): return torch.tensor([np.sin(x) for x in np.arange(dims[1])]).unsqueeze(0)\n",
    "def _get_log(dims=(1,20)): return torch.tensor([np.log(x+1) for x in np.arange(dims[1])]).unsqueeze(0)"
   ]
  },
  {
   "cell_type": "code",
   "execution_count": null,
   "metadata": {},
   "outputs": [],
   "source": [
    "def _get_sample_tensor(seq_len=20):\n",
    "    x = np.arange(seq_len)\n",
    "    return torch.stack([tensor(np.sin(x)), torch.ones(seq_len), torch.rand(seq_len)])\n"
   ]
  },
  {
   "cell_type": "code",
   "execution_count": null,
   "metadata": {},
   "outputs": [],
   "source": [
    "def _test_aug_func(fn):\n",
    "    '''\n",
    "    sanity checks for augmentation functions\n",
    "    '''\n",
    "    t1 = torch.randn(10,100)\n",
    "    t2 = torch.randn(128,10,100)\n",
    "    assert fn(t1).shape == t1.shape\n",
    "    assert fn(t2).shape == t2.shape\n",
    "    assert fn(t1.cuda()).shape == t1.shape\n",
    "    assert fn(t2.cuda()).shape == t2.shape    \n",
    "    assert fn(t2.cuda()).device == t2.cuda().device"
   ]
  },
  {
   "cell_type": "code",
   "execution_count": null,
   "metadata": {},
   "outputs": [],
   "source": [
    "def _plot_aug_func(func, magnitude=0.3):\n",
    "    ts = _get_sample_tensor()\n",
    "    _, axes = plt.subplots(nrows=1, ncols=3, figsize=(8,4))\n",
    "    for i,t in enumerate(ts):\n",
    "         axes[i].plot(t, label='orig')\n",
    "    \n",
    "    \n",
    "    for i,t in enumerate(func(ts, magnitude=magnitude)):\n",
    "        axes[i].plot(t, marker='d', linestyle='dashed', label='augmented')\n",
    "#         plt.plot(t, label='orig')\n",
    "#         plt.plot(_ynoise_warp(t), label='smooth')\n",
    "#         plt.plot(_ynoise_normal(t), label='normal')\n",
    "        plt.legend()\n",
    "    plt.tight_layout();"
   ]
  },
  {
   "cell_type": "code",
   "execution_count": null,
   "metadata": {},
   "outputs": [],
   "source": [
    "def _test_transform(tf, tsint=True):\n",
    "    '''\n",
    "    sanity checks for augmentation transforms\n",
    "    '''\n",
    "#     t1 = torch.randn(10,100)\n",
    "    t1 = TSTensor(torch.randn(128,10,100))\n",
    "    if tsint: t2=TSIntTensor(torch.randint(-5,5,(128,10,100), dtype=torch.int16))\n",
    "#     assert fn(t1).shape == t1.shape\n",
    "\n",
    "    tfms = listify(tf)\n",
    "    \n",
    "    for t in tfms:\n",
    "        assert t(t1).shape == t1.shape\n",
    "        assert t(t2).shape == t2.shape\n",
    "        assert t(t1.cuda()).shape == t1.shape    \n",
    "        assert t(t2.cuda()).shape == t2.shape   \n",
    "        assert t(t2.cuda()).dtype == t2.dtype"
   ]
  },
  {
   "cell_type": "code",
   "execution_count": null,
   "metadata": {},
   "outputs": [],
   "source": [
    "def _plot_transform(tf, tsint=False, f=_get_sin):\n",
    "    '''\n",
    "    sanity checks for augmentation transforms\n",
    "    '''\n",
    "    t = f() if not tsint else torch.randint(-5,5,(1,20))\n",
    "    ts = TSTensor(t) if not tsint else TSIntTensor(t)\n",
    "    \n",
    "    tfms = listify(tf)\n",
    "    n_cols= min(len(tfms), 3)\n",
    "    n_rows = (len(tfms)-1)//3 +1\n",
    "    _, axes = plt.subplots(nrows=n_rows, ncols=n_cols, figsize=(8,4), squeeze=False)\n",
    "\n",
    "    \n",
    "    for tfm, ax in zip(tfms, axes.flatten()):\n",
    "#         ax = axes[i] if len(tfms)>1 else axes\n",
    "        ax.plot(t.squeeze(),label='orig')\n",
    "        ax.plot(tfm(ts).squeeze(), linestyle='dashed',label=f'{tfm.name}')\n",
    "        ax.legend()\n",
    "    plt.tight_layout()"
   ]
  },
  {
   "cell_type": "markdown",
   "metadata": {},
   "source": [
    "### More Augmentations"
   ]
  },
  {
   "cell_type": "code",
   "execution_count": null,
   "metadata": {},
   "outputs": [],
   "source": [
    "from scipy.ndimage import convolve1d"
   ]
  },
  {
   "cell_type": "markdown",
   "metadata": {},
   "source": [
    "NOTE: scipy/numpy convolve1d/convolve flips the kernel!"
   ]
  },
  {
   "cell_type": "code",
   "execution_count": null,
   "metadata": {},
   "outputs": [],
   "source": [
    "# #tsai reference\n",
    "# class TSBlur(Transform):\n",
    "#     \"Blurs a sequence applying a filter of type [1, 0..., 1]\"\n",
    "#     order = 90\n",
    "#     def __init__(self, magnitude=.05, ex=None, **kwargs): self.magnitude, self.ex = magnitude, ex\n",
    "#     def encodes(self, o: TSTensor):\n",
    "#         if self.magnitude <= 0: return o\n",
    "#         if self.magnitude == 3:  filterargs = np.array([1, 0, 1])\n",
    "#         else: \n",
    "#             magnitude = tuple((3, 3 + int(self.magnitude * 4)))\n",
    "#             n_zeros = int(np.random.choice(np.arange(magnitude[0], magnitude[1] + 1, 2))) - 2\n",
    "#             filterargs = np.array([1] + [0] * n_zeros + [1])\n",
    "#         w = filterargs * np.random.rand(len(filterargs))\n",
    "#         w = w / w.sum()\n",
    "#         output = o.new(convolve1d(o.cpu(), w, mode='nearest'))\n",
    "#         if self.ex is not None: output[...,self.ex,:] = o[...,self.ex,:]\n",
    "#         return output"
   ]
  },
  {
   "cell_type": "markdown",
   "metadata": {},
   "source": [
    "filterargs [1, random number of zeroes, 1]"
   ]
  },
  {
   "cell_type": "code",
   "execution_count": null,
   "metadata": {},
   "outputs": [],
   "source": [
    "magnitude = tuple((3, 3 + int(0.5 * 4)))"
   ]
  },
  {
   "cell_type": "code",
   "execution_count": null,
   "metadata": {},
   "outputs": [
    {
     "data": {
      "text/plain": [
       "(3, 5)"
      ]
     },
     "execution_count": null,
     "metadata": {},
     "output_type": "execute_result"
    }
   ],
   "source": [
    "magnitude"
   ]
  },
  {
   "cell_type": "code",
   "execution_count": null,
   "metadata": {},
   "outputs": [],
   "source": [
    "n_zeros = int(np.random.choice(np.arange(magnitude[0], magnitude[1] + 1, 2))) - 2"
   ]
  },
  {
   "cell_type": "code",
   "execution_count": null,
   "metadata": {},
   "outputs": [
    {
     "data": {
      "text/plain": [
       "1"
      ]
     },
     "execution_count": null,
     "metadata": {},
     "output_type": "execute_result"
    }
   ],
   "source": [
    "n_zeros"
   ]
  },
  {
   "cell_type": "code",
   "execution_count": null,
   "metadata": {},
   "outputs": [],
   "source": [
    "filterargs = np.array([1] + [0] * n_zeros + [1])"
   ]
  },
  {
   "cell_type": "code",
   "execution_count": null,
   "metadata": {},
   "outputs": [
    {
     "data": {
      "text/plain": [
       "array([1, 0, 1])"
      ]
     },
     "execution_count": null,
     "metadata": {},
     "output_type": "execute_result"
    }
   ],
   "source": [
    "filterargs"
   ]
  },
  {
   "cell_type": "code",
   "execution_count": null,
   "metadata": {},
   "outputs": [],
   "source": [
    "w = filterargs * np.random.rand(len(filterargs))"
   ]
  },
  {
   "cell_type": "code",
   "execution_count": null,
   "metadata": {},
   "outputs": [],
   "source": [
    "w = w/w.sum() "
   ]
  },
  {
   "cell_type": "code",
   "execution_count": null,
   "metadata": {},
   "outputs": [
    {
     "data": {
      "text/plain": [
       "array([0.18718486, 0.        , 0.81281514])"
      ]
     },
     "execution_count": null,
     "metadata": {},
     "output_type": "execute_result"
    }
   ],
   "source": [
    "w"
   ]
  },
  {
   "cell_type": "code",
   "execution_count": null,
   "metadata": {},
   "outputs": [],
   "source": [
    "t = torch.rand((2,10))"
   ]
  },
  {
   "cell_type": "code",
   "execution_count": null,
   "metadata": {},
   "outputs": [
    {
     "data": {
      "text/plain": [
       "torch.Size([2, 10])"
      ]
     },
     "execution_count": null,
     "metadata": {},
     "output_type": "execute_result"
    }
   ],
   "source": [
    "t.new(convolve1d(t, w, mode='nearest')).shape"
   ]
  },
  {
   "cell_type": "code",
   "execution_count": null,
   "metadata": {},
   "outputs": [],
   "source": [
    "t= _get_sin()"
   ]
  },
  {
   "cell_type": "code",
   "execution_count": null,
   "metadata": {},
   "outputs": [
    {
     "data": {
      "text/plain": [
       "array([0.18718486, 0.        , 0.81281514])"
      ]
     },
     "execution_count": null,
     "metadata": {},
     "output_type": "execute_result"
    }
   ],
   "source": [
    "w"
   ]
  },
  {
   "cell_type": "code",
   "execution_count": null,
   "metadata": {},
   "outputs": [
    {
     "data": {
      "text/plain": [
       "tensor([[ 0.0000,  0.8415,  0.9093,  0.1411, -0.7568, -0.9589, -0.2794,  0.6570,\n",
       "          0.9894,  0.4121, -0.5440, -1.0000, -0.5366,  0.4202,  0.9906,  0.6503,\n",
       "         -0.2879, -0.9614, -0.7510,  0.1499]])"
      ]
     },
     "execution_count": null,
     "metadata": {},
     "output_type": "execute_result"
    }
   ],
   "source": [
    "t"
   ]
  },
  {
   "cell_type": "code",
   "execution_count": null,
   "metadata": {},
   "outputs": [
    {
     "data": {
      "text/plain": [
       "array([[ 0.15751062,  0.17020671,  0.71037585,  0.59742874, -0.06479164,\n",
       "        -0.66744286, -0.6564502 , -0.04192025,  0.611151  ,  0.70233285,\n",
       "         0.14779311, -0.5426269 , -0.7341583 , -0.2507079 ,  0.46324217,\n",
       "         0.75128955,  0.34860477, -0.3745856 , -0.7533837 , -0.582359  ]],\n",
       "      dtype=float32)"
      ]
     },
     "execution_count": null,
     "metadata": {},
     "output_type": "execute_result"
    }
   ],
   "source": [
    "convolve1d(t, w, mode='nearest')"
   ]
  },
  {
   "cell_type": "code",
   "execution_count": null,
   "metadata": {},
   "outputs": [
    {
     "data": {
      "text/plain": [
       "[<matplotlib.lines.Line2D at 0x7f131cecdd90>]"
      ]
     },
     "execution_count": null,
     "metadata": {},
     "output_type": "execute_result"
    },
    {
     "data": {
      "image/png": "[encoded data removed]",
      "text/plain": [
       "<Figure size 432x288 with 1 Axes>"
      ]
     },
     "metadata": {
      "needs_background": "light"
     },
     "output_type": "display_data"
    }
   ],
   "source": [
    "plt.plot(t[0])\n",
    "plt.plot(t.new(convolve1d(t,w,mode='nearest'))[0])"
   ]
  },
  {
   "cell_type": "code",
   "execution_count": null,
   "metadata": {},
   "outputs": [],
   "source": [
    "x = np.array([5,2,0,7,9])\n",
    "w = np.array([1,3])"
   ]
  },
  {
   "cell_type": "code",
   "execution_count": null,
   "metadata": {},
   "outputs": [
    {
     "data": {
      "text/plain": [
       "array([17,  6,  7, 30, 36])"
      ]
     },
     "execution_count": null,
     "metadata": {},
     "output_type": "execute_result"
    }
   ],
   "source": [
    "convolve1d(x,w, mode='nearest', axis=0)"
   ]
  },
  {
   "cell_type": "code",
   "execution_count": null,
   "metadata": {},
   "outputs": [
    {
     "data": {
      "text/plain": [
       "array([ 5, 17,  6,  7, 30, 27])"
      ]
     },
     "execution_count": null,
     "metadata": {},
     "output_type": "execute_result"
    }
   ],
   "source": [
    "np.convolve(x,w)"
   ]
  },
  {
   "cell_type": "code",
   "execution_count": null,
   "metadata": {},
   "outputs": [],
   "source": [
    "t = np.random.randn(1000)\n",
    "k = np.random.randn(5)"
   ]
  },
  {
   "cell_type": "code",
   "execution_count": null,
   "metadata": {},
   "outputs": [
    {
     "name": "stdout",
     "output_type": "stream",
     "text": [
      "7.21 µs ± 38.9 ns per loop (mean ± std. dev. of 7 runs, 100000 loops each)\n"
     ]
    }
   ],
   "source": [
    "%%timeit\n",
    "np.convolve(t,k, 'same')"
   ]
  },
  {
   "cell_type": "code",
   "execution_count": null,
   "metadata": {},
   "outputs": [
    {
     "name": "stdout",
     "output_type": "stream",
     "text": [
      "29.6 µs ± 160 ns per loop (mean ± std. dev. of 7 runs, 10000 loops each)\n"
     ]
    }
   ],
   "source": [
    "%%timeit\n",
    "convolve1d(t,k)"
   ]
  },
  {
   "cell_type": "code",
   "execution_count": null,
   "metadata": {},
   "outputs": [],
   "source": [
    "# First a 1-D  Gaussian\n",
    "t = np.linspace(-10, 10, 30)\n",
    "bump = np.exp(-0.1*t**2)\n",
    "bump /= np.trapz(bump) # normalize the integral to 1\n",
    "\n",
    "# make a 2-D kernel out of it\n",
    "kernel = bump[:, np.newaxis] * bump[np.newaxis, :]"
   ]
  },
  {
   "cell_type": "code",
   "execution_count": null,
   "metadata": {},
   "outputs": [
    {
     "data": {
      "text/plain": [
       "array([-10.        ,  -9.31034483,  -8.62068966,  -7.93103448,\n",
       "        -7.24137931,  -6.55172414,  -5.86206897,  -5.17241379,\n",
       "        -4.48275862,  -3.79310345,  -3.10344828,  -2.4137931 ,\n",
       "        -1.72413793,  -1.03448276,  -0.34482759,   0.34482759,\n",
       "         1.03448276,   1.72413793,   2.4137931 ,   3.10344828,\n",
       "         3.79310345,   4.48275862,   5.17241379,   5.86206897,\n",
       "         6.55172414,   7.24137931,   7.93103448,   8.62068966,\n",
       "         9.31034483,  10.        ])"
      ]
     },
     "execution_count": null,
     "metadata": {},
     "output_type": "execute_result"
    }
   ],
   "source": [
    "t"
   ]
  },
  {
   "cell_type": "code",
   "execution_count": null,
   "metadata": {},
   "outputs": [
    {
     "data": {
      "text/plain": [
       "[<matplotlib.lines.Line2D at 0x7f131ce6f210>]"
      ]
     },
     "execution_count": null,
     "metadata": {},
     "output_type": "execute_result"
    },
    {
     "data": {
      "image/png": "[encoded data removed]",
      "text/plain": [
       "<Figure size 432x288 with 1 Axes>"
      ]
     },
     "metadata": {
      "needs_background": "light"
     },
     "output_type": "display_data"
    }
   ],
   "source": [
    "plt.plot(bump)"
   ]
  },
  {
   "cell_type": "code",
   "execution_count": null,
   "metadata": {},
   "outputs": [
    {
     "data": {
      "text/plain": [
       "1.0000055861957333"
      ]
     },
     "execution_count": null,
     "metadata": {},
     "output_type": "execute_result"
    }
   ],
   "source": [
    "bump.sum()"
   ]
  },
  {
   "cell_type": "code",
   "execution_count": null,
   "metadata": {},
   "outputs": [
    {
     "data": {
      "text/plain": [
       "array([[3.12055828e-11, 1.18196079e-10, 4.07063015e-10, 1.27470010e-09,\n",
       "        3.62946155e-09, 9.39645807e-09, 2.21194316e-08, 4.73447194e-08,\n",
       "        9.21418511e-08, 1.63053498e-07, 2.62356067e-07, 3.83830873e-07,\n",
       "        5.10594930e-07, 6.17590908e-07, 6.79224108e-07, 6.79224108e-07,\n",
       "        6.17590908e-07, 5.10594930e-07, 3.83830873e-07, 2.62356067e-07,\n",
       "        1.63053498e-07, 9.21418511e-08, 4.73447194e-08, 2.21194316e-08,\n",
       "        9.39645807e-09, 3.62946155e-09, 1.27470010e-09, 4.07063015e-10,\n",
       "        1.18196079e-10, 3.12055828e-11],\n",
       "       [1.18196079e-10, 4.47686339e-10, 1.54181554e-09, 4.82812820e-09,\n",
       "        1.37471595e-08, 3.55905707e-08, 8.37808447e-08, 1.79325611e-07,\n",
       "        3.49001831e-07, 6.17590908e-07, 9.93715088e-07, 1.45382012e-06,\n",
       "        1.93395903e-06, 2.33922322e-06, 2.57266871e-06, 2.57266871e-06,\n",
       "        2.33922322e-06, 1.93395903e-06, 1.45382012e-06, 9.93715088e-07,\n",
       "        6.17590908e-07, 3.49001831e-07, 1.79325611e-07, 8.37808447e-08,\n",
       "        3.55905707e-08, 1.37471595e-08, 4.82812820e-09, 1.54181554e-09,\n",
       "        4.47686339e-10, 1.18196079e-10],\n",
       "       [4.07063015e-10, 1.54181554e-09, 5.30995685e-09, 1.66278986e-08,\n",
       "        4.73447194e-08, 1.22572636e-07, 2.88538194e-07, 6.17590908e-07,\n",
       "        1.20194966e-06, 2.12696071e-06, 3.42231876e-06, 5.00690384e-06,\n",
       "        6.66048485e-06, 8.05620003e-06, 8.86017784e-06, 8.86017784e-06,\n",
       "        8.05620003e-06, 6.66048485e-06, 5.00690384e-06, 3.42231876e-06,\n",
       "        2.12696071e-06, 1.20194966e-06, 6.17590908e-07, 2.88538194e-07,\n",
       "        1.22572636e-07, 4.73447194e-08, 1.66278986e-08, 5.30995685e-09,\n",
       "        1.54181554e-09, 4.07063015e-10],\n",
       "       [1.27470010e-09, 4.82812820e-09, 1.66278986e-08, 5.20695404e-08,\n",
       "        1.48257927e-07, 3.83830873e-07, 9.03544790e-07, 1.93395903e-06,\n",
       "        3.76385303e-06, 6.66048485e-06, 1.07168422e-05, 1.56789013e-05,\n",
       "        2.08570183e-05, 2.52276396e-05, 2.77452611e-05, 2.77452611e-05,\n",
       "        2.52276396e-05, 2.08570183e-05, 1.56789013e-05, 1.07168422e-05,\n",
       "        6.66048485e-06, 3.76385303e-06, 1.93395903e-06, 9.03544790e-07,\n",
       "        3.83830873e-07, 1.48257927e-07, 5.20695404e-08, 1.66278986e-08,\n",
       "        4.82812820e-09, 1.27470010e-09],\n",
       "       [3.62946155e-09, 1.37471595e-08, 4.73447194e-08, 1.48257927e-07,\n",
       "        4.22135719e-07, 1.09288404e-06, 2.57266871e-06, 5.50657361e-06,\n",
       "        1.07168422e-05, 1.89644400e-05, 3.05141315e-05, 4.46426335e-05,\n",
       "        5.93863180e-05, 7.18308153e-05, 7.89992547e-05, 7.89992547e-05,\n",
       "        7.18308153e-05, 5.93863180e-05, 4.46426335e-05, 3.05141315e-05,\n",
       "        1.89644400e-05, 1.07168422e-05, 5.50657361e-06, 2.57266871e-06,\n",
       "        1.09288404e-06, 4.22135719e-07, 1.48257927e-07, 4.73447194e-08,\n",
       "        1.37471595e-08, 3.62946155e-09],\n",
       "       [9.39645807e-09, 3.55905707e-08, 1.22572636e-07, 3.83830873e-07,\n",
       "        1.09288404e-06, 2.82941116e-06, 6.66048485e-06, 1.42561885e-05,\n",
       "        2.77452611e-05, 4.90977967e-05, 7.89992547e-05, 1.15577098e-04,\n",
       "        1.53747612e-04, 1.85965669e-04, 2.04524328e-04, 2.04524328e-04,\n",
       "        1.85965669e-04, 1.53747612e-04, 1.15577098e-04, 7.89992547e-05,\n",
       "        4.90977967e-05, 2.77452611e-05, 1.42561885e-05, 6.66048485e-06,\n",
       "        2.82941116e-06, 1.09288404e-06, 3.83830873e-07, 1.22572636e-07,\n",
       "        3.55905707e-08, 9.39645807e-09],\n",
       "       [2.21194316e-08, 8.37808447e-08, 2.88538194e-07, 9.03544790e-07,\n",
       "        2.57266871e-06, 6.66048485e-06, 1.56789013e-05, 3.35593246e-05,\n",
       "        6.53128444e-05, 1.15577098e-04, 1.85965669e-04, 2.72070571e-04,\n",
       "        3.61924650e-04, 4.37766535e-04, 4.81453953e-04, 4.81453953e-04,\n",
       "        4.37766535e-04, 3.61924650e-04, 2.72070571e-04, 1.85965669e-04,\n",
       "        1.15577098e-04, 6.53128444e-05, 3.35593246e-05, 1.56789013e-05,\n",
       "        6.66048485e-06, 2.57266871e-06, 9.03544790e-07, 2.88538194e-07,\n",
       "        8.37808447e-08, 2.21194316e-08],\n",
       "       [4.73447194e-08, 1.79325611e-07, 6.17590908e-07, 1.93395903e-06,\n",
       "        5.50657361e-06, 1.42561885e-05, 3.35593246e-05, 7.18308153e-05,\n",
       "        1.39796463e-04, 2.47382726e-04, 3.98043339e-04, 5.82343393e-04,\n",
       "        7.74668233e-04, 9.37001191e-04, 1.03051031e-03, 1.03051031e-03,\n",
       "        9.37001191e-04, 7.74668233e-04, 5.82343393e-04, 3.98043339e-04,\n",
       "        2.47382726e-04, 1.39796463e-04, 7.18308153e-05, 3.35593246e-05,\n",
       "        1.42561885e-05, 5.50657361e-06, 1.93395903e-06, 6.17590908e-07,\n",
       "        1.79325611e-07, 4.73447194e-08],\n",
       "       [9.21418511e-08, 3.49001831e-07, 1.20194966e-06, 3.76385303e-06,\n",
       "        1.07168422e-05, 2.77452611e-05, 6.53128444e-05, 1.39796463e-04,\n",
       "        2.72070571e-04, 4.81453953e-04, 7.74668233e-04, 1.13335128e-03,\n",
       "        1.50765209e-03, 1.82358298e-03, 2.00556955e-03, 2.00556955e-03,\n",
       "        1.82358298e-03, 1.50765209e-03, 1.13335128e-03, 7.74668233e-04,\n",
       "        4.81453953e-04, 2.72070571e-04, 1.39796463e-04, 6.53128444e-05,\n",
       "        2.77452611e-05, 1.07168422e-05, 3.76385303e-06, 1.20194966e-06,\n",
       "        3.49001831e-07, 9.21418511e-08],\n",
       "       [1.63053498e-07, 6.17590908e-07, 2.12696071e-06, 6.66048485e-06,\n",
       "        1.89644400e-05, 4.90977967e-05, 1.15577098e-04, 2.47382726e-04,\n",
       "        4.81453953e-04, 8.51977146e-04, 1.37084684e-03, 2.00556955e-03,\n",
       "        2.66792933e-03, 3.22699816e-03, 3.54904017e-03, 3.54904017e-03,\n",
       "        3.22699816e-03, 2.66792933e-03, 2.00556955e-03, 1.37084684e-03,\n",
       "        8.51977146e-04, 4.81453953e-04, 2.47382726e-04, 1.15577098e-04,\n",
       "        4.90977967e-05, 1.89644400e-05, 6.66048485e-06, 2.12696071e-06,\n",
       "        6.17590908e-07, 1.63053498e-07],\n",
       "       [2.62356067e-07, 9.93715088e-07, 3.42231876e-06, 1.07168422e-05,\n",
       "        3.05141315e-05, 7.89992547e-05, 1.85965669e-04, 3.98043339e-04,\n",
       "        7.74668233e-04, 1.37084684e-03, 2.20571768e-03, 3.22699816e-03,\n",
       "        4.29274718e-03, 5.19229917e-03, 5.71047068e-03, 5.71047068e-03,\n",
       "        5.19229917e-03, 4.29274718e-03, 3.22699816e-03, 2.20571768e-03,\n",
       "        1.37084684e-03, 7.74668233e-04, 3.98043339e-04, 1.85965669e-04,\n",
       "        7.89992547e-05, 3.05141315e-05, 1.07168422e-05, 3.42231876e-06,\n",
       "        9.93715088e-07, 2.62356067e-07],\n",
       "       [3.83830873e-07, 1.45382012e-06, 5.00690384e-06, 1.56789013e-05,\n",
       "        4.46426335e-05, 1.15577098e-04, 2.72070571e-04, 5.82343393e-04,\n",
       "        1.13335128e-03, 2.00556955e-03, 3.22699816e-03, 4.72114685e-03,\n",
       "        6.28035371e-03, 7.59641180e-03, 8.35450451e-03, 8.35450451e-03,\n",
       "        7.59641180e-03, 6.28035371e-03, 4.72114685e-03, 3.22699816e-03,\n",
       "        2.00556955e-03, 1.13335128e-03, 5.82343393e-04, 2.72070571e-04,\n",
       "        1.15577098e-04, 4.46426335e-05, 1.56789013e-05, 5.00690384e-06,\n",
       "        1.45382012e-06, 3.83830873e-07],\n",
       "       [5.10594930e-07, 1.93395903e-06, 6.66048485e-06, 2.08570183e-05,\n",
       "        5.93863180e-05, 1.53747612e-04, 3.61924650e-04, 7.74668233e-04,\n",
       "        1.50765209e-03, 2.66792933e-03, 4.29274718e-03, 6.28035371e-03,\n",
       "        8.35450451e-03, 1.01052042e-02, 1.11136648e-02, 1.11136648e-02,\n",
       "        1.01052042e-02, 8.35450451e-03, 6.28035371e-03, 4.29274718e-03,\n",
       "        2.66792933e-03, 1.50765209e-03, 7.74668233e-04, 3.61924650e-04,\n",
       "        1.53747612e-04, 5.93863180e-05, 2.08570183e-05, 6.66048485e-06,\n",
       "        1.93395903e-06, 5.10594930e-07],\n",
       "       [6.17590908e-07, 2.33922322e-06, 8.05620003e-06, 2.52276396e-05,\n",
       "        7.18308153e-05, 1.85965669e-04, 4.37766535e-04, 9.37001191e-04,\n",
       "        1.82358298e-03, 3.22699816e-03, 5.19229917e-03, 7.59641180e-03,\n",
       "        1.01052042e-02, 1.22227658e-02, 1.34425509e-02, 1.34425509e-02,\n",
       "        1.22227658e-02, 1.01052042e-02, 7.59641180e-03, 5.19229917e-03,\n",
       "        3.22699816e-03, 1.82358298e-03, 9.37001191e-04, 4.37766535e-04,\n",
       "        1.85965669e-04, 7.18308153e-05, 2.52276396e-05, 8.05620003e-06,\n",
       "        2.33922322e-06, 6.17590908e-07],\n",
       "       [6.79224108e-07, 2.57266871e-06, 8.86017784e-06, 2.77452611e-05,\n",
       "        7.89992547e-05, 2.04524328e-04, 4.81453953e-04, 1.03051031e-03,\n",
       "        2.00556955e-03, 3.54904017e-03, 5.71047068e-03, 8.35450451e-03,\n",
       "        1.11136648e-02, 1.34425509e-02, 1.47840658e-02, 1.47840658e-02,\n",
       "        1.34425509e-02, 1.11136648e-02, 8.35450451e-03, 5.71047068e-03,\n",
       "        3.54904017e-03, 2.00556955e-03, 1.03051031e-03, 4.81453953e-04,\n",
       "        2.04524328e-04, 7.89992547e-05, 2.77452611e-05, 8.86017784e-06,\n",
       "        2.57266871e-06, 6.79224108e-07],\n",
       "       [6.79224108e-07, 2.57266871e-06, 8.86017784e-06, 2.77452611e-05,\n",
       "        7.89992547e-05, 2.04524328e-04, 4.81453953e-04, 1.03051031e-03,\n",
       "        2.00556955e-03, 3.54904017e-03, 5.71047068e-03, 8.35450451e-03,\n",
       "        1.11136648e-02, 1.34425509e-02, 1.47840658e-02, 1.47840658e-02,\n",
       "        1.34425509e-02, 1.11136648e-02, 8.35450451e-03, 5.71047068e-03,\n",
       "        3.54904017e-03, 2.00556955e-03, 1.03051031e-03, 4.81453953e-04,\n",
       "        2.04524328e-04, 7.89992547e-05, 2.77452611e-05, 8.86017784e-06,\n",
       "        2.57266871e-06, 6.79224108e-07],\n",
       "       [6.17590908e-07, 2.33922322e-06, 8.05620003e-06, 2.52276396e-05,\n",
       "        7.18308153e-05, 1.85965669e-04, 4.37766535e-04, 9.37001191e-04,\n",
       "        1.82358298e-03, 3.22699816e-03, 5.19229917e-03, 7.59641180e-03,\n",
       "        1.01052042e-02, 1.22227658e-02, 1.34425509e-02, 1.34425509e-02,\n",
       "        1.22227658e-02, 1.01052042e-02, 7.59641180e-03, 5.19229917e-03,\n",
       "        3.22699816e-03, 1.82358298e-03, 9.37001191e-04, 4.37766535e-04,\n",
       "        1.85965669e-04, 7.18308153e-05, 2.52276396e-05, 8.05620003e-06,\n",
       "        2.33922322e-06, 6.17590908e-07],\n",
       "       [5.10594930e-07, 1.93395903e-06, 6.66048485e-06, 2.08570183e-05,\n",
       "        5.93863180e-05, 1.53747612e-04, 3.61924650e-04, 7.74668233e-04,\n",
       "        1.50765209e-03, 2.66792933e-03, 4.29274718e-03, 6.28035371e-03,\n",
       "        8.35450451e-03, 1.01052042e-02, 1.11136648e-02, 1.11136648e-02,\n",
       "        1.01052042e-02, 8.35450451e-03, 6.28035371e-03, 4.29274718e-03,\n",
       "        2.66792933e-03, 1.50765209e-03, 7.74668233e-04, 3.61924650e-04,\n",
       "        1.53747612e-04, 5.93863180e-05, 2.08570183e-05, 6.66048485e-06,\n",
       "        1.93395903e-06, 5.10594930e-07],\n",
       "       [3.83830873e-07, 1.45382012e-06, 5.00690384e-06, 1.56789013e-05,\n",
       "        4.46426335e-05, 1.15577098e-04, 2.72070571e-04, 5.82343393e-04,\n",
       "        1.13335128e-03, 2.00556955e-03, 3.22699816e-03, 4.72114685e-03,\n",
       "        6.28035371e-03, 7.59641180e-03, 8.35450451e-03, 8.35450451e-03,\n",
       "        7.59641180e-03, 6.28035371e-03, 4.72114685e-03, 3.22699816e-03,\n",
       "        2.00556955e-03, 1.13335128e-03, 5.82343393e-04, 2.72070571e-04,\n",
       "        1.15577098e-04, 4.46426335e-05, 1.56789013e-05, 5.00690384e-06,\n",
       "        1.45382012e-06, 3.83830873e-07],\n",
       "       [2.62356067e-07, 9.93715088e-07, 3.42231876e-06, 1.07168422e-05,\n",
       "        3.05141315e-05, 7.89992547e-05, 1.85965669e-04, 3.98043339e-04,\n",
       "        7.74668233e-04, 1.37084684e-03, 2.20571768e-03, 3.22699816e-03,\n",
       "        4.29274718e-03, 5.19229917e-03, 5.71047068e-03, 5.71047068e-03,\n",
       "        5.19229917e-03, 4.29274718e-03, 3.22699816e-03, 2.20571768e-03,\n",
       "        1.37084684e-03, 7.74668233e-04, 3.98043339e-04, 1.85965669e-04,\n",
       "        7.89992547e-05, 3.05141315e-05, 1.07168422e-05, 3.42231876e-06,\n",
       "        9.93715088e-07, 2.62356067e-07],\n",
       "       [1.63053498e-07, 6.17590908e-07, 2.12696071e-06, 6.66048485e-06,\n",
       "        1.89644400e-05, 4.90977967e-05, 1.15577098e-04, 2.47382726e-04,\n",
       "        4.81453953e-04, 8.51977146e-04, 1.37084684e-03, 2.00556955e-03,\n",
       "        2.66792933e-03, 3.22699816e-03, 3.54904017e-03, 3.54904017e-03,\n",
       "        3.22699816e-03, 2.66792933e-03, 2.00556955e-03, 1.37084684e-03,\n",
       "        8.51977146e-04, 4.81453953e-04, 2.47382726e-04, 1.15577098e-04,\n",
       "        4.90977967e-05, 1.89644400e-05, 6.66048485e-06, 2.12696071e-06,\n",
       "        6.17590908e-07, 1.63053498e-07],\n",
       "       [9.21418511e-08, 3.49001831e-07, 1.20194966e-06, 3.76385303e-06,\n",
       "        1.07168422e-05, 2.77452611e-05, 6.53128444e-05, 1.39796463e-04,\n",
       "        2.72070571e-04, 4.81453953e-04, 7.74668233e-04, 1.13335128e-03,\n",
       "        1.50765209e-03, 1.82358298e-03, 2.00556955e-03, 2.00556955e-03,\n",
       "        1.82358298e-03, 1.50765209e-03, 1.13335128e-03, 7.74668233e-04,\n",
       "        4.81453953e-04, 2.72070571e-04, 1.39796463e-04, 6.53128444e-05,\n",
       "        2.77452611e-05, 1.07168422e-05, 3.76385303e-06, 1.20194966e-06,\n",
       "        3.49001831e-07, 9.21418511e-08],\n",
       "       [4.73447194e-08, 1.79325611e-07, 6.17590908e-07, 1.93395903e-06,\n",
       "        5.50657361e-06, 1.42561885e-05, 3.35593246e-05, 7.18308153e-05,\n",
       "        1.39796463e-04, 2.47382726e-04, 3.98043339e-04, 5.82343393e-04,\n",
       "        7.74668233e-04, 9.37001191e-04, 1.03051031e-03, 1.03051031e-03,\n",
       "        9.37001191e-04, 7.74668233e-04, 5.82343393e-04, 3.98043339e-04,\n",
       "        2.47382726e-04, 1.39796463e-04, 7.18308153e-05, 3.35593246e-05,\n",
       "        1.42561885e-05, 5.50657361e-06, 1.93395903e-06, 6.17590908e-07,\n",
       "        1.79325611e-07, 4.73447194e-08],\n",
       "       [2.21194316e-08, 8.37808447e-08, 2.88538194e-07, 9.03544790e-07,\n",
       "        2.57266871e-06, 6.66048485e-06, 1.56789013e-05, 3.35593246e-05,\n",
       "        6.53128444e-05, 1.15577098e-04, 1.85965669e-04, 2.72070571e-04,\n",
       "        3.61924650e-04, 4.37766535e-04, 4.81453953e-04, 4.81453953e-04,\n",
       "        4.37766535e-04, 3.61924650e-04, 2.72070571e-04, 1.85965669e-04,\n",
       "        1.15577098e-04, 6.53128444e-05, 3.35593246e-05, 1.56789013e-05,\n",
       "        6.66048485e-06, 2.57266871e-06, 9.03544790e-07, 2.88538194e-07,\n",
       "        8.37808447e-08, 2.21194316e-08],\n",
       "       [9.39645807e-09, 3.55905707e-08, 1.22572636e-07, 3.83830873e-07,\n",
       "        1.09288404e-06, 2.82941116e-06, 6.66048485e-06, 1.42561885e-05,\n",
       "        2.77452611e-05, 4.90977967e-05, 7.89992547e-05, 1.15577098e-04,\n",
       "        1.53747612e-04, 1.85965669e-04, 2.04524328e-04, 2.04524328e-04,\n",
       "        1.85965669e-04, 1.53747612e-04, 1.15577098e-04, 7.89992547e-05,\n",
       "        4.90977967e-05, 2.77452611e-05, 1.42561885e-05, 6.66048485e-06,\n",
       "        2.82941116e-06, 1.09288404e-06, 3.83830873e-07, 1.22572636e-07,\n",
       "        3.55905707e-08, 9.39645807e-09],\n",
       "       [3.62946155e-09, 1.37471595e-08, 4.73447194e-08, 1.48257927e-07,\n",
       "        4.22135719e-07, 1.09288404e-06, 2.57266871e-06, 5.50657361e-06,\n",
       "        1.07168422e-05, 1.89644400e-05, 3.05141315e-05, 4.46426335e-05,\n",
       "        5.93863180e-05, 7.18308153e-05, 7.89992547e-05, 7.89992547e-05,\n",
       "        7.18308153e-05, 5.93863180e-05, 4.46426335e-05, 3.05141315e-05,\n",
       "        1.89644400e-05, 1.07168422e-05, 5.50657361e-06, 2.57266871e-06,\n",
       "        1.09288404e-06, 4.22135719e-07, 1.48257927e-07, 4.73447194e-08,\n",
       "        1.37471595e-08, 3.62946155e-09],\n",
       "       [1.27470010e-09, 4.82812820e-09, 1.66278986e-08, 5.20695404e-08,\n",
       "        1.48257927e-07, 3.83830873e-07, 9.03544790e-07, 1.93395903e-06,\n",
       "        3.76385303e-06, 6.66048485e-06, 1.07168422e-05, 1.56789013e-05,\n",
       "        2.08570183e-05, 2.52276396e-05, 2.77452611e-05, 2.77452611e-05,\n",
       "        2.52276396e-05, 2.08570183e-05, 1.56789013e-05, 1.07168422e-05,\n",
       "        6.66048485e-06, 3.76385303e-06, 1.93395903e-06, 9.03544790e-07,\n",
       "        3.83830873e-07, 1.48257927e-07, 5.20695404e-08, 1.66278986e-08,\n",
       "        4.82812820e-09, 1.27470010e-09],\n",
       "       [4.07063015e-10, 1.54181554e-09, 5.30995685e-09, 1.66278986e-08,\n",
       "        4.73447194e-08, 1.22572636e-07, 2.88538194e-07, 6.17590908e-07,\n",
       "        1.20194966e-06, 2.12696071e-06, 3.42231876e-06, 5.00690384e-06,\n",
       "        6.66048485e-06, 8.05620003e-06, 8.86017784e-06, 8.86017784e-06,\n",
       "        8.05620003e-06, 6.66048485e-06, 5.00690384e-06, 3.42231876e-06,\n",
       "        2.12696071e-06, 1.20194966e-06, 6.17590908e-07, 2.88538194e-07,\n",
       "        1.22572636e-07, 4.73447194e-08, 1.66278986e-08, 5.30995685e-09,\n",
       "        1.54181554e-09, 4.07063015e-10],\n",
       "       [1.18196079e-10, 4.47686339e-10, 1.54181554e-09, 4.82812820e-09,\n",
       "        1.37471595e-08, 3.55905707e-08, 8.37808447e-08, 1.79325611e-07,\n",
       "        3.49001831e-07, 6.17590908e-07, 9.93715088e-07, 1.45382012e-06,\n",
       "        1.93395903e-06, 2.33922322e-06, 2.57266871e-06, 2.57266871e-06,\n",
       "        2.33922322e-06, 1.93395903e-06, 1.45382012e-06, 9.93715088e-07,\n",
       "        6.17590908e-07, 3.49001831e-07, 1.79325611e-07, 8.37808447e-08,\n",
       "        3.55905707e-08, 1.37471595e-08, 4.82812820e-09, 1.54181554e-09,\n",
       "        4.47686339e-10, 1.18196079e-10],\n",
       "       [3.12055828e-11, 1.18196079e-10, 4.07063015e-10, 1.27470010e-09,\n",
       "        3.62946155e-09, 9.39645807e-09, 2.21194316e-08, 4.73447194e-08,\n",
       "        9.21418511e-08, 1.63053498e-07, 2.62356067e-07, 3.83830873e-07,\n",
       "        5.10594930e-07, 6.17590908e-07, 6.79224108e-07, 6.79224108e-07,\n",
       "        6.17590908e-07, 5.10594930e-07, 3.83830873e-07, 2.62356067e-07,\n",
       "        1.63053498e-07, 9.21418511e-08, 4.73447194e-08, 2.21194316e-08,\n",
       "        9.39645807e-09, 3.62946155e-09, 1.27470010e-09, 4.07063015e-10,\n",
       "        1.18196079e-10, 3.12055828e-11]])"
      ]
     },
     "execution_count": null,
     "metadata": {},
     "output_type": "execute_result"
    }
   ],
   "source": [
    "kernel"
   ]
  },
  {
   "cell_type": "code",
   "execution_count": null,
   "metadata": {},
   "outputs": [],
   "source": [
    "from scipy.ndimage import gaussian_filter"
   ]
  },
  {
   "cell_type": "code",
   "execution_count": null,
   "metadata": {},
   "outputs": [
    {
     "data": {
      "text/plain": [
       "array([1, 0, 1])"
      ]
     },
     "execution_count": null,
     "metadata": {},
     "output_type": "execute_result"
    }
   ],
   "source": [
    "gaussian_filter(np.array([1,0,1]), -2, mode='nearest')"
   ]
  },
  {
   "cell_type": "code",
   "execution_count": null,
   "metadata": {},
   "outputs": [],
   "source": [
    "#reference\n",
    "def _zoom(x, magnitude=.2, rand=False, zoomout=False, window=True, verbose=False):\n",
    "    '''This is a slow batch tfm\n",
    "    win_len: zoom into original ts into a section consisting of win_len original data points\n",
    "    randomly choose one of the seq_len-win_len possible starting points for that section\n",
    "    within that section, consider seq_len(number of original datapoints) evenly distributed new datapoints \n",
    "    and interpolate the respective values with a cubic spline \n",
    "    '''\n",
    "    if magnitude == 0: return x\n",
    "    x_device = x.device ## make sure to put outpout on right device\n",
    "    x=x.cpu() ## only on cpu with CubicSpline\n",
    "\n",
    "    n_channels, seq_len = x.shape[-2], x.shape[-1]\n",
    "    assert len(x.shape)==2 or len(x.shape)==3, 'tensor needs to be 2D or 3D'\n",
    "    \n",
    "    window=_rand_steps(seq_len, 1-magnitude, rand=rand, window=window)\n",
    "    if zoomout: window=np.arange(seq_len-len(window), seq_len)\n",
    "    pv(window, verbose)\n",
    "#     x2 = x[..., window]\n",
    "    fs = [CubicSpline(np.arange(len(window)), x[...,i, window], axis=-1) for i in range(n_channels)]\n",
    "    output = torch.stack(\n",
    "        [torch.tensor(fs[i](np.linspace(0,len(window)-1, num=seq_len))) for i in range(n_channels)])\n",
    "    if len(x.shape)==3: output = output.permute(1,0,2)\n",
    "#\n",
    "    return output.to(x_device, x.dtype)\n"
   ]
  },
  {
   "cell_type": "code",
   "execution_count": null,
   "metadata": {},
   "outputs": [],
   "source": [
    "def _apply_kernel(x, k, sp=True):\n",
    "    '''\n",
    "    `np.convolve` pads x with zeros, correpsonds to mode 'constant' with cval=0 in `convolve1d`\n",
    "    `convolve1d` is slower, but offers more padding options that might make more sense\n",
    "    `convolved1` pads on the right in the case of a kernel of even size, `np.convolve` on the left\n",
    "    convolved1d works with higher dimension xs\n",
    "    '''\n",
    "    ## on GPU?\n",
    "    if magnitude == 0: return x\n",
    "    x_device = x.device ## make sure to put outpout on right device\n",
    "    #x=x.cpu() ## move to cpu for now for usage with numpy and scipy, but should work on gpu actually\n",
    "#     output = np.convolve(x,k, mode='same') if not sp else convolve1d(x,k, mode='constant')\n",
    "#     output = tensor(np.convolve(x,k, mode='same') if not sp else convolve1d(x,k, mode='nearest'))\n",
    "    output = x.new(convolve1d(x.cpu(),k, mode='nearest'))\n",
    "#     output = convolve1d(x,k, mode='nearest')\n",
    "\n",
    "    return output"
   ]
  },
  {
   "cell_type": "code",
   "execution_count": null,
   "metadata": {},
   "outputs": [],
   "source": [
    "t = torch.rand((4,4,10)).cuda()"
   ]
  },
  {
   "cell_type": "code",
   "execution_count": null,
   "metadata": {},
   "outputs": [
    {
     "name": "stdout",
     "output_type": "stream",
     "text": [
      "109 µs ± 683 ns per loop (mean ± std. dev. of 7 runs, 10000 loops each)\n"
     ]
    }
   ],
   "source": [
    "%%timeit \n",
    "_apply_kernel(t, [0.5, 0, 0.5])"
   ]
  },
  {
   "cell_type": "code",
   "execution_count": null,
   "metadata": {},
   "outputs": [
    {
     "name": "stdout",
     "output_type": "stream",
     "text": [
      "80.6 µs ± 415 ns per loop (mean ± std. dev. of 7 runs, 10000 loops each)\n"
     ]
    }
   ],
   "source": [
    "%%timeit \n",
    "_apply_kernel(t.cpu(), [0.5, 0, 0.5])"
   ]
  },
  {
   "cell_type": "code",
   "execution_count": null,
   "metadata": {},
   "outputs": [],
   "source": [
    "t_sp = _apply_kernel(t, [0.5, 0, 0.5])"
   ]
  },
  {
   "cell_type": "code",
   "execution_count": null,
   "metadata": {},
   "outputs": [],
   "source": [
    "kt = tensor([1,0,1])"
   ]
  },
  {
   "cell_type": "code",
   "execution_count": null,
   "metadata": {},
   "outputs": [],
   "source": [
    "kt = tensor([0.5, 0., 0.5])[None, None, :].repeat(1,1,1)"
   ]
  },
  {
   "cell_type": "code",
   "execution_count": null,
   "metadata": {},
   "outputs": [
    {
     "name": "stdout",
     "output_type": "stream",
     "text": [
      "80.7 µs ± 465 ns per loop (mean ± std. dev. of 7 runs, 10000 loops each)\n"
     ]
    }
   ],
   "source": [
    "%%timeit\n",
    "torch.conv1d(t, kt.to(t.device))"
   ]
  },
  {
   "cell_type": "code",
   "execution_count": null,
   "metadata": {},
   "outputs": [
    {
     "data": {
      "text/plain": [
       "device(type='cpu')"
      ]
     },
     "execution_count": null,
     "metadata": {},
     "output_type": "execute_result"
    }
   ],
   "source": [
    "kt.device"
   ]
  },
  {
   "cell_type": "code",
   "execution_count": null,
   "metadata": {},
   "outputs": [
    {
     "name": "stdout",
     "output_type": "stream",
     "text": [
      "373 µs ± 3.69 µs per loop (mean ± std. dev. of 7 runs, 1000 loops each)\n"
     ]
    }
   ],
   "source": [
    "kt=kt.to(t.device)\n",
    "\n",
    "%timeit torch.cat([torch.conv1d(t[:,i:i+1,:], kt) for i in range(t.shape[1])], dim=1)"
   ]
  },
  {
   "cell_type": "code",
   "execution_count": null,
   "metadata": {},
   "outputs": [],
   "source": [
    "t_pt = torch.conv1d(t[:, 0:1, :], kt.to(t.device), padding=1)"
   ]
  },
  {
   "cell_type": "code",
   "execution_count": null,
   "metadata": {},
   "outputs": [
    {
     "data": {
      "text/plain": [
       "tensor([[[0.2820, 0.5370, 0.7541, 0.6647, 0.6939, 0.6276, 0.2827, 0.6077,\n",
       "          0.1476, 0.4269]],\n",
       "\n",
       "        [[0.4345, 0.5050, 0.5833, 0.3269, 0.2631, 0.2279, 0.5426, 0.4643,\n",
       "          0.6880, 0.3033]],\n",
       "\n",
       "        [[0.2051, 0.2833, 0.4173, 0.2826, 0.2342, 0.4235, 0.3813, 0.7870,\n",
       "          0.5481, 0.4925]],\n",
       "\n",
       "        [[0.4879, 0.5699, 0.6144, 0.5199, 0.2972, 0.2224, 0.4081, 0.5879,\n",
       "          0.6161, 0.4270]]], device='cuda:0')"
      ]
     },
     "execution_count": null,
     "metadata": {},
     "output_type": "execute_result"
    }
   ],
   "source": [
    "t_pt"
   ]
  },
  {
   "cell_type": "code",
   "execution_count": null,
   "metadata": {},
   "outputs": [
    {
     "data": {
      "text/plain": [
       "tensor([[[0.6011, 0.5370, 0.7541, 0.6647, 0.6939, 0.6276, 0.2827, 0.6077,\n",
       "          0.1476, 0.5136],\n",
       "         [0.5496, 0.3485, 0.7502, 0.3850, 0.4061, 0.4971, 0.4017, 0.4295,\n",
       "          0.4357, 0.2084],\n",
       "         [0.2988, 0.5592, 0.3795, 0.6295, 0.3688, 0.5021, 0.1449, 0.6770,\n",
       "          0.3754, 0.7638],\n",
       "         [0.6209, 0.3447, 0.5160, 0.2976, 0.3031, 0.6394, 0.2107, 0.5615,\n",
       "          0.3344, 0.4069]],\n",
       "\n",
       "        [[0.6794, 0.5050, 0.5833, 0.3269, 0.2631, 0.2279, 0.5426, 0.4643,\n",
       "          0.6880, 0.5629],\n",
       "         [0.6838, 0.5771, 0.5199, 0.1102, 0.7753, 0.1607, 0.7539, 0.5085,\n",
       "          0.4401, 0.5063],\n",
       "         [0.7778, 0.7833, 0.5761, 0.4860, 0.6694, 0.3855, 0.4649, 0.4829,\n",
       "          0.3638, 0.5700],\n",
       "         [0.2708, 0.5418, 0.3062, 0.8142, 0.4142, 0.5391, 0.2039, 0.0767,\n",
       "          0.1943, 0.1792]],\n",
       "\n",
       "        [[0.3348, 0.2833, 0.4173, 0.2826, 0.2342, 0.4235, 0.3813, 0.7870,\n",
       "          0.5481, 0.6813],\n",
       "         [0.4562, 0.5710, 0.3171, 0.3911, 0.0698, 0.3872, 0.2550, 0.8032,\n",
       "          0.3030, 0.4930],\n",
       "         [0.2301, 0.4914, 0.5270, 0.8957, 0.4644, 0.9243, 0.4525, 0.5296,\n",
       "          0.3637, 0.0884],\n",
       "         [0.7417, 0.5561, 0.4951, 0.3904, 0.5993, 0.5027, 0.6368, 0.5625,\n",
       "          0.4022, 0.5054]],\n",
       "\n",
       "        [[0.5994, 0.5699, 0.6144, 0.5199, 0.2972, 0.2224, 0.4081, 0.5879,\n",
       "          0.6161, 0.8057],\n",
       "         [0.3247, 0.4705, 0.5216, 0.4123, 0.7592, 0.0390, 0.9802, 0.2205,\n",
       "          0.7812, 0.4867],\n",
       "         [0.6203, 0.4349, 0.6771, 0.4456, 0.3982, 0.6335, 0.4332, 0.6557,\n",
       "          0.8552, 0.7962],\n",
       "         [0.4180, 0.2370, 0.6478, 0.3989, 0.6381, 0.2207, 0.8045, 0.3004,\n",
       "          0.9020, 0.7473]]], device='cuda:0')"
      ]
     },
     "execution_count": null,
     "metadata": {},
     "output_type": "execute_result"
    }
   ],
   "source": [
    "t_sp"
   ]
  },
  {
   "cell_type": "code",
   "execution_count": null,
   "metadata": {},
   "outputs": [
    {
     "data": {
      "text/plain": [
       "torch.Size([4, 1, 10])"
      ]
     },
     "execution_count": null,
     "metadata": {},
     "output_type": "execute_result"
    }
   ],
   "source": [
    "t[:, 0:1, :].shape"
   ]
  },
  {
   "cell_type": "code",
   "execution_count": null,
   "metadata": {},
   "outputs": [
    {
     "data": {
      "text/plain": [
       "torch.Size([4, 4, 10])"
      ]
     },
     "execution_count": null,
     "metadata": {},
     "output_type": "execute_result"
    }
   ],
   "source": [
    "t_sp.shape"
   ]
  },
  {
   "cell_type": "code",
   "execution_count": null,
   "metadata": {},
   "outputs": [
    {
     "data": {
      "text/plain": [
       "torch.Size([4, 1, 10])"
      ]
     },
     "execution_count": null,
     "metadata": {},
     "output_type": "execute_result"
    }
   ],
   "source": [
    "t_pt.shape"
   ]
  },
  {
   "cell_type": "code",
   "execution_count": null,
   "metadata": {},
   "outputs": [
    {
     "data": {
      "text/plain": [
       "tensor([[[1.2054, 1.7893, 2.3997, 1.9768, 1.7718, 2.2662, 1.0400, 2.2757,\n",
       "          1.2931, 1.0621]],\n",
       "\n",
       "        [[1.0454, 2.4072, 1.9855, 1.7374, 2.1219, 1.3132, 1.9652, 1.5322,\n",
       "          1.6861, 0.9157]],\n",
       "\n",
       "        [[0.9618, 1.9019, 1.7566, 1.9598, 1.3677, 2.2377, 1.7256, 2.6824,\n",
       "          1.6171, 1.3037]],\n",
       "\n",
       "        [[1.4345, 1.7123, 2.4609, 1.7767, 2.0928, 1.1156, 2.6260, 1.7645,\n",
       "          3.1545, 1.2412]]], device='cuda:0')"
      ]
     },
     "execution_count": null,
     "metadata": {},
     "output_type": "execute_result"
    }
   ],
   "source": [
    "t_pt"
   ]
  },
  {
   "cell_type": "code",
   "execution_count": null,
   "metadata": {},
   "outputs": [],
   "source": [
    "tk = _apply_kernel(t, [0.5, 0, 0.5])"
   ]
  },
  {
   "cell_type": "code",
   "execution_count": null,
   "metadata": {},
   "outputs": [
    {
     "data": {
      "text/plain": [
       "device(type='cuda', index=0)"
      ]
     },
     "execution_count": null,
     "metadata": {},
     "output_type": "execute_result"
    }
   ],
   "source": [
    "tk.device"
   ]
  },
  {
   "cell_type": "code",
   "execution_count": null,
   "metadata": {},
   "outputs": [],
   "source": [
    "t = _get_sin()"
   ]
  },
  {
   "cell_type": "code",
   "execution_count": null,
   "metadata": {},
   "outputs": [],
   "source": [
    "gaussian_filter??"
   ]
  },
  {
   "cell_type": "code",
   "execution_count": null,
   "metadata": {},
   "outputs": [
    {
     "data": {
      "text/plain": [
       "[<matplotlib.lines.Line2D at 0x7fd9d457a390>]"
      ]
     },
     "execution_count": null,
     "metadata": {},
     "output_type": "execute_result"
    },
    {
     "data": {
      "image/png": "[encoded data removed]",
      "text/plain": [
       "<Figure size 432x288 with 1 Axes>"
      ]
     },
     "metadata": {
      "needs_background": "light"
     },
     "output_type": "display_data"
    }
   ],
   "source": [
    "plt.plot(t[0])\n",
    "plt.plot(_apply_kernel(t[0], [0.25, 0.5, 0.25]))"
   ]
  },
  {
   "cell_type": "code",
   "execution_count": null,
   "metadata": {},
   "outputs": [
    {
     "data": {
      "text/plain": [
       "array([[ 0.2754134 ,  0.23995756,  0.17934582,  0.11132134,  0.05482545,\n",
       "         0.02183101,  0.01181277,  0.01343349,  0.01322122,  0.0051369 ,\n",
       "        -0.006509  , -0.01312284, -0.01152536, -0.00886259, -0.01845479,\n",
       "        -0.05011639, -0.10272266, -0.16415279, -0.21746586, -0.24809007]],\n",
       "      dtype=float32)"
      ]
     },
     "execution_count": null,
     "metadata": {},
     "output_type": "execute_result"
    }
   ],
   "source": [
    "gaussian_filter(t, 3)"
   ]
  },
  {
   "cell_type": "code",
   "execution_count": null,
   "metadata": {},
   "outputs": [
    {
     "data": {
      "text/plain": [
       "[<matplotlib.lines.Line2D at 0x7fd9d4cefd10>]"
      ]
     },
     "execution_count": null,
     "metadata": {},
     "output_type": "execute_result"
    },
    {
     "data": {
      "image/png": "[encoded data removed]",
      "text/plain": [
       "<Figure size 432x288 with 1 Axes>"
      ]
     },
     "metadata": {
      "needs_background": "light"
     },
     "output_type": "display_data"
    }
   ],
   "source": [
    "plt.plot(t[0])\n",
    "b = 0.1\n",
    "plt.plot(_apply_kernel(t[0], [b, 0, b], sp=True))"
   ]
  },
  {
   "cell_type": "code",
   "execution_count": null,
   "metadata": {},
   "outputs": [
    {
     "name": "stdout",
     "output_type": "stream",
     "text": [
      "tensor([[1., 1., 1., 1., 1., 1., 1., 1., 1., 1.]])\n",
      "[0.5 0.5 1.  1.  1.  1.  1.  1.  1.  0.5]\n",
      "[1. 1. 1. 1. 1. 1. 1. 1. 1. 1.]\n"
     ]
    }
   ],
   "source": [
    "k = [0.5,0,0,0.5]\n",
    "t=torch.ones((1,10))\n",
    "print(t)\n",
    "print(_apply_kernel(t[0], k))\n",
    "print(_apply_kernel(t[0], k, sp=True))"
   ]
  },
  {
   "cell_type": "code",
   "execution_count": null,
   "metadata": {},
   "outputs": [
    {
     "data": {
      "text/plain": [
       "array([0.5, 1. , 1. , 1. , 1. , 1. , 1. , 1. , 0.5, 0.5], dtype=float32)"
      ]
     },
     "execution_count": null,
     "metadata": {},
     "output_type": "execute_result"
    }
   ],
   "source": [
    "convolve1d(t[0], k, mode='constant')"
   ]
  },
  {
   "cell_type": "code",
   "execution_count": null,
   "metadata": {},
   "outputs": [],
   "source": [
    "ns = tuple((3, 3 + int(1.8) * 4))"
   ]
  },
  {
   "cell_type": "code",
   "execution_count": null,
   "metadata": {},
   "outputs": [
    {
     "data": {
      "text/plain": [
       "(3, 7)"
      ]
     },
     "execution_count": null,
     "metadata": {},
     "output_type": "execute_result"
    }
   ],
   "source": [
    "ns"
   ]
  },
  {
   "cell_type": "code",
   "execution_count": null,
   "metadata": {},
   "outputs": [],
   "source": []
  },
  {
   "cell_type": "code",
   "execution_count": null,
   "metadata": {},
   "outputs": [
    {
     "data": {
      "text/plain": [
       "1"
      ]
     },
     "execution_count": null,
     "metadata": {},
     "output_type": "execute_result"
    }
   ],
   "source": [
    "n_zeros = int(np.random.choice(np.arange(ns[0], ns[1] + 1, 2))) - 2\n",
    "n_zeros"
   ]
  },
  {
   "cell_type": "code",
   "execution_count": null,
   "metadata": {},
   "outputs": [],
   "source": [
    "def _create_blur_filter(x, magnitude=0.1):\n",
    "    '''\n",
    "    create a 1d filter for blurring, kernel size 3,5,7\n",
    "    '''\n",
    "    filter_len = np.random.choice(np.arange(3, 9, 2))\n",
    "    filter = ([1, *[0]*(filter_len-2), 1]) \n",
    "    filter *= np.random.rand(filter_len)\n",
    "    filter = np.array(filter)/filter.sum() * (1-magnitude)\n",
    "    print(filter)\n",
    "    return filter\n",
    "    \n",
    "    "
   ]
  },
  {
   "cell_type": "code",
   "execution_count": null,
   "metadata": {},
   "outputs": [],
   "source": [
    "def _create_smooth_filter(x, magnitude=0.1):\n",
    "    '''\n",
    "    create a 1d filter for blurring, kernel size 3,5,7\n",
    "    '''\n",
    "    filter_len = np.random.choice(np.arange(3, 9, 2))\n",
    "    filter = ([1, *[5]*(filter_len-2), 1]) \n",
    "    filter *= np.random.rand(filter_len)\n",
    "    filter = np.array(filter)/filter.sum() * (1-magnitude)\n",
    "    print(filter)\n",
    "    return filter\n",
    "    \n",
    "    "
   ]
  },
  {
   "cell_type": "code",
   "execution_count": null,
   "metadata": {},
   "outputs": [],
   "source": [
    "def _create_gaussian_filter(x, magnitude=0.1):\n",
    "    '''\n",
    "    create a 1d filter for blurring, kernel size 3,5,7\n",
    "    '''\n",
    "    filter_len = np.random.choice(np.arange(3, 9, 2))\n",
    "    filter = ([1, *[0]*(filter_len-2), 1]) \n",
    "    filter *= np.random.rand(filter_len)\n",
    "    filter = np.array(filter)/filter.sum() * (1-magnitude)\n",
    "    print(filter)\n",
    "    return filter\n",
    "    \n",
    "    "
   ]
  },
  {
   "cell_type": "code",
   "execution_count": null,
   "metadata": {},
   "outputs": [
    {
     "name": "stdout",
     "output_type": "stream",
     "text": [
      "[0.42404279 0.         0.         0.         0.47595721]\n",
      "[0.02266781 0.30035337 0.34276002 0.2112547  0.0229641 ]\n",
      "[0.29368072 0.         0.         0.         0.60631928]\n"
     ]
    },
    {
     "data": {
      "text/plain": [
       "(array([0.42404279, 0.        , 0.        , 0.        , 0.47595721]),\n",
       " array([0.02266781, 0.30035337, 0.34276002, 0.2112547 , 0.0229641 ]),\n",
       " array([0.29368072, 0.        , 0.        , 0.        , 0.60631928]))"
      ]
     },
     "execution_count": null,
     "metadata": {},
     "output_type": "execute_result"
    }
   ],
   "source": [
    "_create_blur_filter(t), _create_smooth_filter(t), _create_gaussian_filter(t)"
   ]
  },
  {
   "cell_type": "code",
   "execution_count": null,
   "metadata": {},
   "outputs": [
    {
     "name": "stdout",
     "output_type": "stream",
     "text": [
      "[0.35754551 0.         0.         0.         0.54245449]\n"
     ]
    },
    {
     "data": {
      "text/plain": [
       "array([0.35754551, 0.        , 0.        , 0.        , 0.54245449])"
      ]
     },
     "execution_count": null,
     "metadata": {},
     "output_type": "execute_result"
    }
   ],
   "source": [
    "_create_gaussian_filter(t)"
   ]
  },
  {
   "cell_type": "code",
   "execution_count": null,
   "metadata": {},
   "outputs": [
    {
     "name": "stdout",
     "output_type": "stream",
     "text": [
      "[0.33347216 0.         0.         0.         0.16652784]\n",
      "[0.10483314 0.2963906  0.09877626]\n"
     ]
    },
    {
     "data": {
      "text/plain": [
       "[<matplotlib.lines.Line2D at 0x7f131ce359d0>]"
      ]
     },
     "execution_count": null,
     "metadata": {},
     "output_type": "execute_result"
    },
    {
     "data": {
      "image/png": "[encoded data removed]",
      "text/plain": [
       "<Figure size 432x288 with 1 Axes>"
      ]
     },
     "metadata": {
      "needs_background": "light"
     },
     "output_type": "display_data"
    }
   ],
   "source": [
    "t = _get_sin()\n",
    "plt.plot(t[0])\n",
    "plt.plot(_apply_kernel(t[0], _create_blur_filter(t, magnitude=0.5), sp=True))\n",
    "plt.plot(_apply_kernel(t[0], _create_smooth_filter(t, magnitude=0.5), sp=True))"
   ]
  },
  {
   "cell_type": "code",
   "execution_count": null,
   "metadata": {},
   "outputs": [
    {
     "data": {
      "text/plain": [
       "0.13398295077188593"
      ]
     },
     "execution_count": null,
     "metadata": {},
     "output_type": "execute_result"
    }
   ],
   "source": [
    "np.random.rand()"
   ]
  },
  {
   "cell_type": "code",
   "execution_count": null,
   "metadata": {},
   "outputs": [
    {
     "data": {
      "text/plain": [
       "[1, 0, 0, 0, 0, 0, 1]"
      ]
     },
     "execution_count": null,
     "metadata": {},
     "output_type": "execute_result"
    }
   ],
   "source": [
    "[1, *[0]*5, 1]"
   ]
  },
  {
   "cell_type": "markdown",
   "metadata": {},
   "source": [
    "#### End to end"
   ]
  },
  {
   "cell_type": "code",
   "execution_count": null,
   "metadata": {},
   "outputs": [
    {
     "data": {
      "text/plain": [
       "tensor([[ 0.0000,  0.8415,  0.9093,  0.1411, -0.7568, -0.9589, -0.2794,  0.6570,\n",
       "          0.9894,  0.4121, -0.5440, -1.0000, -0.5366,  0.4202,  0.9906,  0.6503,\n",
       "         -0.2879, -0.9614, -0.7510,  0.1499]])"
      ]
     },
     "execution_count": null,
     "metadata": {},
     "output_type": "execute_result"
    }
   ],
   "source": [
    "t"
   ]
  },
  {
   "cell_type": "code",
   "execution_count": null,
   "metadata": {},
   "outputs": [
    {
     "data": {
      "text/plain": [
       "[<matplotlib.lines.Line2D at 0x7f131cdf5310>]"
      ]
     },
     "execution_count": null,
     "metadata": {},
     "output_type": "execute_result"
    },
    {
     "data": {
      "image/png": "[encoded data removed]",
      "text/plain": [
       "<Figure size 432x288 with 1 Axes>"
      ]
     },
     "metadata": {
      "needs_background": "light"
     },
     "output_type": "display_data"
    }
   ],
   "source": [
    "plt.plot(t[0,0].cpu())"
   ]
  },
  {
   "cell_type": "code",
   "execution_count": null,
   "metadata": {},
   "outputs": [
    {
     "name": "stdout",
     "output_type": "stream",
     "text": [
      "[0.20433869 0.         0.         0.         0.         0.\n",
      " 0.69566131]\n"
     ]
    }
   ],
   "source": [
    "k = _create_blur_filter(t)"
   ]
  },
  {
   "cell_type": "code",
   "execution_count": null,
   "metadata": {},
   "outputs": [],
   "source": [
    "t_trans = _apply_kernel(t, k, sp=True)"
   ]
  },
  {
   "cell_type": "code",
   "execution_count": null,
   "metadata": {},
   "outputs": [],
   "source": [
    "assert t_trans.shape == t.shape"
   ]
  },
  {
   "cell_type": "code",
   "execution_count": null,
   "metadata": {},
   "outputs": [
    {
     "data": {
      "text/plain": [
       "[<matplotlib.lines.Line2D at 0x7f131ce02910>]"
      ]
     },
     "execution_count": null,
     "metadata": {},
     "output_type": "execute_result"
    },
    {
     "data": {
      "image/png": "[encoded data removed]",
      "text/plain": [
       "<Figure size 432x288 with 1 Axes>"
      ]
     },
     "metadata": {
      "needs_background": "light"
     },
     "output_type": "display_data"
    }
   ],
   "source": [
    "plt.plot(t[0,0].cpu())\n",
    "plt.plot(t_trans[0,0].cpu())"
   ]
  },
  {
   "cell_type": "code",
   "execution_count": null,
   "metadata": {},
   "outputs": [],
   "source": [
    "AugTransform??"
   ]
  },
  {
   "cell_type": "code",
   "execution_count": null,
   "metadata": {},
   "outputs": [],
   "source": [
    "#export\n",
    "# @delegates()\n",
    "class TSBlur(AugTransform):\n",
    "    order=200\n",
    "    def encodes(self, x:TSTensor):\n",
    "        pv('ts_blur', self.verbose)\n",
    "        return _apply_kernel(x, _create_blur_filter(x, magnitude=self.magnitude), sp=True)\n",
    "\n",
    "@TSBlur\n",
    "def encodes(self, x:TSIntTensor):\n",
    "    return cast(self.__call__(TSTensor(x.float())).type(x.dtype), type(x))"
   ]
  },
  {
   "cell_type": "code",
   "execution_count": null,
   "metadata": {},
   "outputs": [],
   "source": [
    "tsblur = TSBlur()"
   ]
  },
  {
   "cell_type": "code",
   "execution_count": null,
   "metadata": {},
   "outputs": [],
   "source": [
    "t_int = np.random.randint(-2, 5, size=(16,1), dtype='int16')"
   ]
  },
  {
   "cell_type": "code",
   "execution_count": null,
   "metadata": {},
   "outputs": [],
   "source": [
    "t_int_t = TSIntTensor(t_int)"
   ]
  },
  {
   "cell_type": "code",
   "execution_count": null,
   "metadata": {},
   "outputs": [
    {
     "data": {
      "text/plain": [
       "torch.int16"
      ]
     },
     "execution_count": null,
     "metadata": {},
     "output_type": "execute_result"
    }
   ],
   "source": [
    "t_int_t.dtype"
   ]
  },
  {
   "cell_type": "code",
   "execution_count": null,
   "metadata": {},
   "outputs": [
    {
     "name": "stdout",
     "output_type": "stream",
     "text": [
      "[0.20341515 0.         0.         0.         0.69658485]\n"
     ]
    },
    {
     "data": {
      "text/plain": [
       "torch.int16"
      ]
     },
     "execution_count": null,
     "metadata": {},
     "output_type": "execute_result"
    }
   ],
   "source": [
    "tsblur(t_int_t).dtype"
   ]
  },
  {
   "cell_type": "code",
   "execution_count": null,
   "metadata": {},
   "outputs": [],
   "source": [
    "#%inline pylab # <-- add this if you're in an IPython notebook\n",
    "import pywt\n",
    "import numpy as np\n",
    "import seaborn\n",
    "from statsmodels.robust import mad\n",
    " \n",
    "def waveletSmooth( x, wavelet=\"db4\", level=1, title=None ):\n",
    "    # calculate the wavelet coefficients\n",
    "    coeff = pywt.wavedec( x, wavelet, mode=\"per\" )\n",
    "    # calculate a threshold\n",
    "    sigma = mad( coeff[-level] )\n",
    "    # changing this threshold also changes the behavior,\n",
    "    # but I have not played with this very much\n",
    "    uthresh = sigma * np.sqrt( 2*np.log( len( x ) ) )\n",
    "    coeff[1:] = ( pywt.threshold( i, value=uthresh, mode=\"soft\" ) for i in coeff[1:] )\n",
    "    # reconstruct the signal using the thresholded coefficients\n",
    "    y = pywt.waverec( coeff, wavelet, mode=\"per\" )\n",
    "    print(x)\n",
    "    print(y)\n",
    "    f, ax = plt.subplots()\n",
    "    plt.plot( x, color=\"b\", alpha=0.5 )\n",
    "    plt.plot( y, color='r')"
   ]
  },
  {
   "cell_type": "code",
   "execution_count": null,
   "metadata": {},
   "outputs": [],
   "source": [
    "#export\n",
    "def maddest(d, axis=None): #Mean Absolute Deviation\n",
    "    return np.mean(np.absolute(d - np.mean(d, axis)), axis)"
   ]
  },
  {
   "cell_type": "markdown",
   "metadata": {},
   "source": [
    "In ``soft`` thresholding [1]_, data values with absolute value less than\n",
    "`param` are replaced with `substitute`. Data values with absolute value\n",
    "greater or equal to the thresholding value are shrunk toward zero\n",
    "by `value`.  In other words, the new value is\n",
    "``data/np.abs(data) * np.maximum(np.abs(data) - value, 0)``.\n",
    "\n",
    "In ``hard`` thresholding, the data values where their absolute value is\n",
    "less than the value param are replaced with `substitute`. Data values with\n",
    "absolute value greater or equal to the thresholding value stay untouched."
   ]
  },
  {
   "cell_type": "code",
   "execution_count": null,
   "metadata": {},
   "outputs": [],
   "source": [
    "def _wavelet_noise(x, level=2, wavelet='db4', thr_mode='hard', magnitude=1.):\n",
    "    '''\n",
    "    basic idea: decompose the ts into a series of coefficients\n",
    "    truncate coefficients above a certain treshold\n",
    "    reconstruct ts from truncated coefficients ->smoothend\n",
    "    '''   \n",
    "    coeff = pywt.wavedec(x.cpu(), wavelet, mode=\"per\" )\n",
    "#     sigma = mad( coeff[-level] ) #median absolute deviation\n",
    "#     sigma = maddest( coeff[-level] )\n",
    "#     uthresh = sigma * np.sqrt( 2*np.log( len( x ) ) )\n",
    "    coeff[1:] = (i*(1+np.random.randn())*magnitude for i in coeff[1:] )\n",
    "    y = pywt.waverec( coeff, wavelet, mode=\"per\" )\n",
    "#     print(x)\n",
    "#     print(y)\n",
    "    return x.new(y)"
   ]
  },
  {
   "cell_type": "code",
   "execution_count": null,
   "metadata": {},
   "outputs": [],
   "source": [
    "def _wavelet_denoise(x, level=2, wavelet='db4', thr_mode='hard'):\n",
    "    '''\n",
    "    corresponds to denoise\n",
    "    basic idea: decompose the ts into a series of coefficients\n",
    "    truncate coefficients above a certain treshold\n",
    "    reconstruct ts from truncated coefficients ->smoothend\n",
    "    '''   \n",
    "    seq_len = x.shape[-1]\n",
    "    coeff = pywt.wavedec(x.cpu(), wavelet, mode=\"per\" )\n",
    "#     print(len(coeff), coeff[0].shape)\n",
    "#     sigma = mad( coeff[-level] ) #median absolute deviation\n",
    "    sigma = (1/0.6745)*maddest( coeff[-level])\n",
    "    uthresh = sigma * np.sqrt( 2*np.log(seq_len))\n",
    "    coeff[1:] = ( pywt.threshold(i, value=uthresh, mode=thr_mode ) for i in coeff[1:] )\n",
    "    y = pywt.waverec( coeff, wavelet, mode=\"per\" )\n",
    "#     print(x)\n",
    "#     print(y)\n",
    "    return x.new(y)"
   ]
  },
  {
   "cell_type": "code",
   "execution_count": null,
   "metadata": {},
   "outputs": [],
   "source": [
    "#export\n",
    "# @delegates()\n",
    "class TSWaveNoise(AugTransform):\n",
    "    order=200\n",
    "    def encodes(self, x:TSTensor):\n",
    "        pv('waveletNoise', self.verbose)\n",
    "        return _wavelet_noise(x, magnitude=self.magnitude)\n",
    "\n",
    "@TSWaveNoise\n",
    "def encodedes(self, x:TSIntTensor):\n",
    "    return cast(self.__call__(TSTensor(x.float())).type(x.dtype), type(x))"
   ]
  },
  {
   "cell_type": "code",
   "execution_count": null,
   "metadata": {},
   "outputs": [],
   "source": [
    "#export\n",
    "# @delegates()\n",
    "class TSDenoise(AugTransform):\n",
    "    order=200\n",
    "    def encodes(self, x:TSTensor):\n",
    "        pv('TSDenoise', self.verbose)\n",
    "        return _wavelet_denoise(x)\n",
    "\n",
    "@TSDenoise\n",
    "def encodedes(self, x:TSIntTensor):\n",
    "    return cast(self.__call__(TSTensor(x.float())).type(x.dtype), type(x))"
   ]
  },
  {
   "cell_type": "code",
   "execution_count": null,
   "metadata": {},
   "outputs": [
    {
     "name": "stdout",
     "output_type": "stream",
     "text": [
      "torch.int16 torch.int16\n",
      "torch.int16 torch.int16\n",
      "[0.51253938 0.         0.         0.         0.         0.\n",
      " 0.38746062]\n",
      "[0.81700256 0.         0.08299744]\n",
      "[0.44556647 0.         0.45443353]\n",
      "[0.64276729 0.         0.25723271]\n",
      "[0.46681082 0.         0.43318918]\n",
      "torch.int16 torch.int16\n",
      "[0.22237618 0.         0.         0.         0.67762382]\n"
     ]
    }
   ],
   "source": [
    "_test_transform(TSWaveNoise())\n",
    "_test_transform(TSDenoise())\n",
    "_test_transform(TSBlur())"
   ]
  },
  {
   "cell_type": "code",
   "execution_count": null,
   "metadata": {},
   "outputs": [
    {
     "data": {
      "image/png": "[encoded data removed]",
      "text/plain": [
       "<Figure size 432x288 with 1 Axes>"
      ]
     },
     "metadata": {
      "needs_background": "light"
     },
     "output_type": "display_data"
    }
   ],
   "source": [
    "_plot_transform(TSWaveNoise(magnitude=0.4),  f=lambda: torch.rand((1,20)))"
   ]
  },
  {
   "cell_type": "code",
   "execution_count": null,
   "metadata": {},
   "outputs": [
    {
     "data": {
      "image/png": "[encoded data removed]",
      "text/plain": [
       "<Figure size 432x288 with 1 Axes>"
      ]
     },
     "metadata": {
      "needs_background": "light"
     },
     "output_type": "display_data"
    }
   ],
   "source": [
    "_plot_transform(TSDenoise(),  f=lambda: torch.rand((1,20)))"
   ]
  },
  {
   "cell_type": "code",
   "execution_count": null,
   "metadata": {},
   "outputs": [
    {
     "name": "stdout",
     "output_type": "stream",
     "text": [
      "[0.27204242 0.         0.         0.         0.62795758]\n"
     ]
    },
    {
     "data": {
      "image/png": "[encoded data removed]",
      "text/plain": [
       "<Figure size 432x288 with 1 Axes>"
      ]
     },
     "metadata": {
      "needs_background": "light"
     },
     "output_type": "display_data"
    }
   ],
   "source": [
    "_plot_transform(TSBlur(), f=lambda: torch.rand((1,20)))"
   ]
  },
  {
   "cell_type": "code",
   "execution_count": null,
   "metadata": {},
   "outputs": [],
   "source": []
  },
  {
   "cell_type": "code",
   "execution_count": null,
   "metadata": {},
   "outputs": [
    {
     "name": "stdout",
     "output_type": "stream",
     "text": [
      "3 (5,)\n",
      "tensor([0.5297, 0.2735, 0.8319, 0.3143, 0.1887, 0.1547, 0.2590, 0.1716, 0.2639,\n",
      "        0.1906, 0.1925, 0.6384, 0.8382, 0.0485, 0.3794, 0.1228, 0.6239, 0.3772,\n",
      "        0.6468, 0.9287])\n",
      "[0.7179103  0.5226671  0.39881867 0.34636503 0.27478123 0.25367305\n",
      " 0.21904    0.17088206 0.12634811 0.30254516 0.41959754 0.47750518\n",
      " 0.55126065 0.43356434 0.3671674  0.35206985 0.3232267  0.48107708\n",
      " 0.58890307 0.6467047 ]\n"
     ]
    },
    {
     "data": {
      "text/plain": [
       "[<matplotlib.lines.Line2D at 0x7fd9b6781710>]"
      ]
     },
     "execution_count": null,
     "metadata": {},
     "output_type": "execute_result"
    },
    {
     "data": {
      "image/png": "[encoded data removed]",
      "text/plain": [
       "<Figure size 432x288 with 1 Axes>"
      ]
     },
     "metadata": {
      "needs_background": "light"
     },
     "output_type": "display_data"
    }
   ],
   "source": [
    "plt.plot(t[0])\n",
    "plt.plot(_waveletSmooth(t[0], wavelet='db2', level=2), color='b')\n",
    "# plt.plot(_waveletSmooth(t[0], level=2, thr_mode='soft'), color='r')\n",
    "# plt.plot(_waveletSmooth(t[0], level=1))"
   ]
  },
  {
   "cell_type": "code",
   "execution_count": null,
   "metadata": {},
   "outputs": [
    {
     "name": "stdout",
     "output_type": "stream",
     "text": [
      "tensor([0.5297, 0.2735, 0.8319, 0.3143, 0.1887, 0.1547, 0.2590, 0.1716, 0.2639,\n",
      "        0.1906, 0.1925, 0.6384, 0.8382, 0.0485, 0.3794, 0.1228, 0.6239, 0.3772,\n",
      "        0.6468, 0.9287])\n",
      "[ 0.55999315  0.1791147   0.9614943   0.21072403  0.19078854  0.17880324\n",
      "  0.2767513   0.14162514  0.31856513  0.1640293   0.07410962  0.7202514\n",
      "  1.0092198  -0.18621626  0.47042137  0.07978439  0.75548357  0.27374578\n",
      "  0.57371044  1.021708  ]\n",
      "tensor([0.5297, 0.2735, 0.8319, 0.3143, 0.1887, 0.1547, 0.2590, 0.1716, 0.2639,\n",
      "        0.1906, 0.1925, 0.6384, 0.8382, 0.0485, 0.3794, 0.1228, 0.6239, 0.3772,\n",
      "        0.6468, 0.9287])\n",
      "[0.4831166  0.418404   0.63271534 0.47344255 0.18547127 0.11771094\n",
      " 0.23183198 0.21753868 0.17990483 0.23148967 0.37436268 0.512611\n",
      " 0.5754186  0.40899444 0.23965415 0.18884024 0.42172676 0.53611225\n",
      " 0.75907457 0.78568643]\n"
     ]
    },
    {
     "data": {
      "text/plain": [
       "[<matplotlib.lines.Line2D at 0x7fd9b7c93d90>]"
      ]
     },
     "execution_count": null,
     "metadata": {},
     "output_type": "execute_result"
    },
    {
     "data": {
      "image/png": "[encoded data removed]",
      "text/plain": [
       "<Figure size 432x288 with 1 Axes>"
      ]
     },
     "metadata": {
      "needs_background": "light"
     },
     "output_type": "display_data"
    }
   ],
   "source": [
    "plt.plot(t[0])\n",
    "plt.plot(_waveletNoise(t[0], level=2), color='b')\n",
    "plt.plot(_waveletNoise(t[0], level=2, thr_mode='soft'), color='r')\n",
    "# plt.plot(_waveletSmooth(t[0], level=1))"
   ]
  },
  {
   "cell_type": "code",
   "execution_count": null,
   "metadata": {},
   "outputs": [
    {
     "data": {
      "text/plain": [
       "[array([0.929038  , 1.3239906 , 0.03579086, 0.91749805, 1.2901678 ,\n",
       "        0.20414951, 0.6596863 , 0.6534501 , 0.35354346, 0.3757751 ,\n",
       "        0.8007171 , 0.9163657 , 0.32656202], dtype=float32),\n",
       " array([ 0.0021041 ,  0.03790526,  0.0740702 ,  0.03611742,  0.23870447,\n",
       "         0.2260763 , -0.256643  , -0.11392312,  0.40455246, -0.5235015 ,\n",
       "         0.17472246,  0.34015703, -0.5011672 ], dtype=float32)]"
      ]
     },
     "execution_count": null,
     "metadata": {},
     "output_type": "execute_result"
    }
   ],
   "source": [
    "pywt.wavedec(t[0], \"db4\")"
   ]
  },
  {
   "cell_type": "code",
   "execution_count": null,
   "metadata": {},
   "outputs": [
    {
     "data": {
      "text/plain": [
       "tensor([ 0.0000,  0.8415,  0.9093,  0.1411, -0.7568, -0.9589, -0.2794,  0.6570,\n",
       "         0.9894,  0.4121, -0.5440, -1.0000, -0.5366,  0.4202,  0.9906,  0.6503,\n",
       "        -0.2879, -0.9614, -0.7510,  0.1499])"
      ]
     },
     "execution_count": null,
     "metadata": {},
     "output_type": "execute_result"
    }
   ],
   "source": [
    "t[0]"
   ]
  },
  {
   "cell_type": "code",
   "execution_count": null,
   "metadata": {},
   "outputs": [
    {
     "name": "stdout",
     "output_type": "stream",
     "text": [
      "tensor([0.0192, 0.6741, 0.9365, 0.8271, 0.7475, 0.1351, 0.0985, 0.3877, 0.7286,\n",
      "        0.1994, 0.5380, 0.3278, 0.0468, 0.4958, 0.2661, 0.2332, 0.9632, 0.8991,\n",
      "        0.1526, 0.3190])\n",
      "[0.27960628 0.48660052 0.9255268  0.94760466 0.5117363  0.31799403\n",
      " 0.24075256 0.2555459  0.48285216 0.5179568  0.37526742 0.3292558\n",
      " 0.30831516 0.25228927 0.19186322 0.3991107  0.8993553  0.8583455\n",
      " 0.2824456  0.13301753]\n"
     ]
    },
    {
     "data": {
      "image/png": "[encoded data removed]",
      "text/plain": [
       "<Figure size 432x288 with 1 Axes>"
      ]
     },
     "metadata": {
      "needs_background": "light"
     },
     "output_type": "display_data"
    },
    {
     "data": {
      "image/png": "[encoded data removed]",
      "text/plain": [
       "<Figure size 432x288 with 1 Axes>"
      ]
     },
     "metadata": {
      "needs_background": "light"
     },
     "output_type": "display_data"
    }
   ],
   "source": [
    "plt.plot(t[0])\n",
    "waveletSmooth(t[0])"
   ]
  },
  {
   "cell_type": "code",
   "execution_count": null,
   "metadata": {},
   "outputs": [
    {
     "data": {
      "text/plain": [
       "[<matplotlib.lines.Line2D at 0x7fd9b88e17d0>]"
      ]
     },
     "execution_count": null,
     "metadata": {},
     "output_type": "execute_result"
    },
    {
     "data": {
      "image/png": "[encoded data removed]",
      "text/plain": [
       "<Figure size 432x288 with 1 Axes>"
      ]
     },
     "metadata": {
      "needs_background": "light"
     },
     "output_type": "display_data"
    }
   ],
   "source": [
    "plt.plot(t[0])"
   ]
  },
  {
   "cell_type": "code",
   "execution_count": null,
   "metadata": {},
   "outputs": [],
   "source": []
  }
 ],
 "metadata": {
  "kernelspec": {
   "display_name": "Python [conda env:nbdev]",
   "language": "python",
   "name": "conda-env-nbdev-py"
  }
 },
 "nbformat": 4,
 "nbformat_minor": 2
}
