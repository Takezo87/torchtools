{
 "cells": [
  {
   "cell_type": "code",
   "execution_count": null,
   "metadata": {},
   "outputs": [],
   "source": [
    "#default_exp colab"
   ]
  },
  {
   "cell_type": "markdown",
   "metadata": {},
   "source": [
    "# Colab\n",
    "\n",
    "> refactor modelling, experiment functionality"
   ]
  },
  {
   "cell_type": "code",
   "execution_count": null,
   "metadata": {},
   "outputs": [],
   "source": [
    "import sys\n",
    "ISCOLAB = 'google.colab' in sys.modules\n",
    "if ISCOLAB:\n",
    "    # uncomment for bleeding edge\n",
    "    !pip install git+https://github.com/fastai/fastcore.git@master -q\n",
    "    !pip install git+https://github.com/fastai/fastai.git@master -q\n",
    "    !pip install git+https://github.com/Takezo87/torchtools.git -q\n",
    "    \n",
    "    # uncomment for latest stable version\n",
    "\n",
    "    # !pip install tsai -\n",
    "# from tsai.all import *\n",
    "# package_versions()\n",
    "# hardware_details()\n",
    "\n",
    "#export\n",
    "from torchtools.core import *\n",
    "from torchtools.data import *\n",
    "from torchtools.models import *\n",
    "from torchtools.datasets import *\n",
    "from torchtools.augmentations import *\n",
    "from torchtools.datablock import *\n",
    "from torchtools.dataloader import *\n",
    "from torchtools.experiments import *\n",
    "from torchtools.configs import *\n",
    "\n",
    "#export\n",
    "import pandas as pd\n",
    "import numpy as np\n",
    "from fastai.basics import *"
   ]
  },
  {
   "cell_type": "markdown",
   "metadata": {},
   "source": [
    "### Worklflow with Discrete Variables"
   ]
  },
  {
   "cell_type": "code",
   "execution_count": null,
   "metadata": {},
   "outputs": [],
   "source": [
    "COL_CONFIG = 'config2.json'"
   ]
  },
  {
   "cell_type": "code",
   "execution_count": null,
   "metadata": {},
   "outputs": [],
   "source": [
    "col_config = read_config('anon10hc_6c_y', COL_CONFIG)"
   ]
  },
  {
   "cell_type": "code",
   "execution_count": null,
   "metadata": {},
   "outputs": [
    {
     "data": {
      "text/plain": [
       "False"
      ]
     },
     "execution_count": null,
     "metadata": {},
     "output_type": "execute_result"
    }
   ],
   "source": [
    "ISCOLAB"
   ]
  },
  {
   "cell_type": "code",
   "execution_count": null,
   "metadata": {},
   "outputs": [
    {
     "data": {
      "text/plain": [
       "Path('/home/johannes/coding/python/torchtools')"
      ]
     },
     "execution_count": null,
     "metadata": {},
     "output_type": "execute_result"
    }
   ],
   "source": [
    "Path.cwd()"
   ]
  },
  {
   "cell_type": "code",
   "execution_count": null,
   "metadata": {},
   "outputs": [
    {
     "data": {
      "text/plain": [
       "<module 'os' from '/home/johannes/anaconda3/envs/nbdev/lib/python3.7/os.py'>"
      ]
     },
     "execution_count": null,
     "metadata": {},
     "output_type": "execute_result"
    }
   ],
   "source": [
    "def create_dirs(base_dir='.'):\n",
    "    '''\n",
    "    create experiments directory structure when running colab (experiments not in github)\n",
    "    '''\n",
    "    if ISCOLAB and not (Path(base_dir)/'experiments').exists():\n",
    "        os.makedirs()\n",
    "    \n",
    "    \n",
    "    "
   ]
  },
  {
   "cell_type": "code",
   "execution_count": null,
   "metadata": {},
   "outputs": [],
   "source": [
    "base_dir='.'\n",
    "\n",
    "p =Path(base_dir)/'experiments'"
   ]
  },
  {
   "cell_type": "code",
   "execution_count": null,
   "metadata": {},
   "outputs": [],
   "source": [
    "os.makedirs(Path('test')/'test2'/'test3', exist_ok=True)"
   ]
  },
  {
   "cell_type": "code",
   "execution_count": null,
   "metadata": {},
   "outputs": [
    {
     "data": {
      "text/plain": [
       "True"
      ]
     },
     "execution_count": null,
     "metadata": {},
     "output_type": "execute_result"
    }
   ],
   "source": [
    "p.exists()"
   ]
  },
  {
   "cell_type": "code",
   "execution_count": null,
   "metadata": {},
   "outputs": [
    {
     "name": "stdout",
     "output_type": "stream",
     "text": [
      "00_core.ipynb\t\t_40_datablock_old.ipynb   Makefile\r\n",
      "00_core.ipynb.bak\t_50_datablock_tsai.ipynb  MANIFEST.in\r\n",
      "01_models.ipynb\t\t60_dataloader.ipynb\t  models\r\n",
      "100_test.ipynb\t\tcols_config.ini\t\t  README.md\r\n",
      "10_data.ipynb\t\tconfig2.json\t\t  run_exp.sh\r\n",
      "200_experiments.ipynb\tCONTRIBUTING.md\t\t  settings.ini\r\n",
      "_201_exploratory.ipynb\tdata\t\t\t  setup.py\r\n",
      "202_colab.ipynb\t\tdocs\t\t\t  test\r\n",
      "202_configs.ipynb\texperiments\t\t  ToDo.txt\r\n",
      "20_augmentations.ipynb\texperiments.log\t\t  torchtools\r\n",
      "30_datasets.ipynb\tindex.ipynb\t\t  torchtools.egg-info\r\n",
      "40_datablock.ipynb\tLICENSE\r\n"
     ]
    }
   ],
   "source": [
    "!ls"
   ]
  },
  {
   "cell_type": "code",
   "execution_count": null,
   "metadata": {},
   "outputs": [],
   "source": []
  }
 ],
 "metadata": {
  "kernelspec": {
   "display_name": "Python [conda env:nbdev]",
   "language": "python",
   "name": "conda-env-nbdev-py"
  }
 },
 "nbformat": 4,
 "nbformat_minor": 2
}
