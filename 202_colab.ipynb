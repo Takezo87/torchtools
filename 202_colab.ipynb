{
 "cells": [
  {
   "cell_type": "code",
   "execution_count": null,
   "metadata": {},
   "outputs": [],
   "source": [
    "#default_exp colab"
   ]
  },
  {
   "cell_type": "markdown",
   "metadata": {},
   "source": [
    "# Colab\n",
    "\n",
    "> refactor modelling, experiment functionality"
   ]
  },
  {
   "cell_type": "code",
   "execution_count": null,
   "metadata": {},
   "outputs": [],
   "source": [
    "import sys\n",
    "ISCOLAB = 'google.colab' in sys.modules\n",
    "if ISCOLAB:\n",
    "    # uncomment for bleeding edge\n",
    "    !pip install git+https://github.com/fastai/fastcore.git@master -q\n",
    "    !pip install git+https://github.com/fastai/fastai2.git@master -q\n",
    "    !pip install git+https://github.com/timeseriesAI/timeseriesAI.git -q\n",
    "    \n",
    "    # uncomment for latest stable version\n",
    "\n",
    "    # !pip install tsai -\n",
    "# from tsai.all import *\n",
    "# package_versions()\n",
    "# hardware_details()\n",
    "\n",
    "#export\n",
    "from torchtools.core import *\n",
    "from torchtools.data import *\n",
    "from torchtools.models import *\n",
    "from torchtools.datasets import *\n",
    "from torchtools.augmentations import *\n",
    "from torchtools.datablock import *\n",
    "from torchtools.dataloader import *\n",
    "from torchtools.experiments import *\n",
    "from torchtools.configs import *\n",
    "\n",
    "#export\n",
    "import pandas as pd\n",
    "import numpy as np\n",
    "from fastai2.basics import *"
   ]
  },
  {
   "cell_type": "markdown",
   "metadata": {},
   "source": [
    "### Worklflow with Discrete Variables"
   ]
  },
  {
   "cell_type": "code",
   "execution_count": null,
   "metadata": {},
   "outputs": [],
   "source": [
    "COL_CONFIG = 'config2.json'"
   ]
  },
  {
   "cell_type": "code",
   "execution_count": null,
   "metadata": {},
   "outputs": [],
   "source": [
    "col_config = read_config('anon10hc_6c_y', COL_CONFIG)"
   ]
  }
 ],
 "metadata": {
  "kernelspec": {
   "display_name": "Python [conda env:nbdev]",
   "language": "python",
   "name": "conda-env-nbdev-py"
  }
 },
 "nbformat": 4,
 "nbformat_minor": 2
}
