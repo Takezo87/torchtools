{
 "cells": [
  {
   "cell_type": "code",
   "execution_count": null,
   "metadata": {
    "hide_input": true
   },
   "outputs": [],
   "source": [
    "from nbdev import *"
   ]
  },
  {
   "cell_type": "code",
   "execution_count": null,
   "metadata": {},
   "outputs": [],
   "source": [
    "#default_exp configs"
   ]
  },
  {
   "cell_type": "markdown",
   "metadata": {},
   "source": [
    "# Test Configurations\n",
    "\n",
    "> refactor modelling, experiment functionality"
   ]
  },
  {
   "cell_type": "markdown",
   "metadata": {},
   "source": [
    "#### JSON"
   ]
  },
  {
   "cell_type": "markdown",
   "metadata": {},
   "source": [
    "A column configuration is stored as a dictionaray:\n",
    " - cols_c: list of lists of columns (one list for each channel) for all continuous variables\n",
    " - cols_d: list of lists of columns (one list for each channel) for all discrete variables\n",
    " - cols_y: list of columns, or single column, target variable(s)\n",
    " - id: identifier string \n",
    " \n",
    " The column configs are stored in one json file with key 'id'"
   ]
  },
  {
   "cell_type": "code",
   "execution_count": null,
   "metadata": {},
   "outputs": [],
   "source": [
    "#export\n",
    "import json\n",
    "from pathlib import Path"
   ]
  },
  {
   "cell_type": "code",
   "execution_count": null,
   "metadata": {},
   "outputs": [],
   "source": [
    "#manual config\n",
    "#col_config is a column configuration\n",
    "col_config = dict()\n",
    "col_config['cols_c'] = [[f'x{i}_{j}' for j in range(10)] for i in [0,1,3,4]]\n",
    "# col_config['cols_d'] = [[f'x{i}_{j}' for j in range(30)] for i in [2,5]]\n",
    "col_config['cols_y']= ['y0', 'y1']\n",
    "col_config['cols_y']= 'y1'\n",
    "# col_config['id']='anon_30sl_4c_2d_2y'  ## put it all in one config file with this unique identifier\n",
    "col_config['id']='anon_10sl_4c_1yhc'  ## put it all in one config file with this unique identifier"
   ]
  },
  {
   "cell_type": "code",
   "execution_count": null,
   "metadata": {},
   "outputs": [],
   "source": [
    "#export\n",
    "def write_config(config, config_fn='config.json', overwrite=False):\n",
    "    '''write a column configuration to json'''\n",
    " \n",
    "    if not Path(config_fn).is_file():\n",
    "        print(f'{config_fn} does not exist, creating new config_dict')\n",
    "        config_dict={}\n",
    "    else:\n",
    "        with open(config_fn, 'r') as f:\n",
    "            config_dict=json.load(f)\n",
    "        \n",
    "        \n",
    "    if config['id'] in config_dict.keys() and not overwrite:\n",
    "        print(f'config with id {config[\"id\"]} already stored, use overwrite=True for overwriting')\n",
    "        return\n",
    "              \n",
    "    config_dict[config['id']] = config    \n",
    "\n",
    "    with open(config_fn, 'w+') as f:\n",
    "        json.dump(config_dict, f)"
   ]
  },
  {
   "cell_type": "code",
   "execution_count": null,
   "metadata": {},
   "outputs": [],
   "source": [
    "#export\n",
    "def delete_config(config_id, config_fn='config.json'):\n",
    "    '''delete configuration with id config_id from the configuration dictionary stored in config_fn,\n",
    "    write it back to disk'''\n",
    " \n",
    "    if not Path(config_fn).is_file():\n",
    "        print(f'{config_fn} does not exist')\n",
    "        return\n",
    "    else:\n",
    "        with open(config_fn, 'r') as f:\n",
    "            config_dict=json.load(f)\n",
    "        \n",
    "        \n",
    "    if config_id in config_dict.keys():\n",
    "        del config_dict[config_id]\n",
    "    \n",
    "    \n",
    "#     and not overwrite:\n",
    "#         print(f'config with id {config[\"id\"]} already stored, use overwrite=True for overwriting')\n",
    "#         return\n",
    "              \n",
    "#     config_dict[config['id']] = config    \n",
    "\n",
    "    with open(config_fn, 'w+') as f:\n",
    "        json.dump(config_dict, f)"
   ]
  },
  {
   "cell_type": "code",
   "execution_count": null,
   "metadata": {},
   "outputs": [],
   "source": [
    "#export\n",
    "def read_config(conf_id, config_fn='config_json'):\n",
    "    with open(config_fn, 'r') as f:\n",
    "        config_dict=json.load(f)\n",
    "#         print(config_dict)\n",
    "        try:\n",
    "            col_config = config_dict[conf_id]\n",
    "#             print(col_config)\n",
    "        except:\n",
    "            print(f'could not load config with id {conf_id}')\n",
    "    return col_config\n",
    "    "
   ]
  },
  {
   "cell_type": "code",
   "execution_count": null,
   "metadata": {},
   "outputs": [],
   "source": [
    "cnf_dict_fn = 'config2.json'"
   ]
  },
  {
   "cell_type": "code",
   "execution_count": null,
   "metadata": {},
   "outputs": [],
   "source": [
    "#export\n",
    "def config_keys(config_fn='config.json'):\n",
    "    '''get config ids of a config file'''\n",
    " \n",
    "    if not Path(config_fn).is_file():\n",
    "        print(f'{config_fn} does not exist, creating new config_dict')\n",
    "        config_dict={}\n",
    "    else:\n",
    "        with open(config_fn, 'r') as f:\n",
    "            config_dict=json.load(f)\n",
    "        \n",
    "    return list(config_dict.keys())    \n",
    "    "
   ]
  },
  {
   "cell_type": "code",
   "execution_count": null,
   "metadata": {},
   "outputs": [],
   "source": [
    "COLS_C, COLS_D, COLS_Y, ID = 'cols_c', 'cols_d', 'cols_y', 'id'"
   ]
  },
  {
   "cell_type": "code",
   "execution_count": null,
   "metadata": {},
   "outputs": [],
   "source": [
    "keys = config_keys(cnf_dict_fn)"
   ]
  },
  {
   "cell_type": "code",
   "execution_count": null,
   "metadata": {},
   "outputs": [
    {
     "data": {
      "text/plain": [
       "['anon_10sl_4c_2d_1yml',\n",
       " 'anon_10sl_6c_1yml',\n",
       " 'anon_10sl_6c_1yhc',\n",
       " 'anon_10sl_6c_2y',\n",
       " 'anon_10sl_4c_2d_1yhc',\n",
       " 'anon_10sl_4c_2d_2y',\n",
       " 'anon_20sl_4c_2d_2y',\n",
       " 'anon_30sl_4c_2d_2y',\n",
       " 'anon_10sl_4c_2d_4tc_4cat_2y',\n",
       " 'anon_10sl_4c_2d_4tc_4cat_1yhc',\n",
       " 'anon_10sl_4c_1yhc',\n",
       " 'anon_10sl_6c_1yclass',\n",
       " 'anon_10sl_4c_2d_1yclass',\n",
       " 'anon_10sl_4c_2d_4tc_4cat_1yclass',\n",
       " 'tsexp_10sl_12c_1yhc',\n",
       " 'tsexp_10sl_12c_1yclass',\n",
       " 'anon_10sl_4c_2d_1yhc_prune',\n",
       " 'bets_processed_6c_1yhc',\n",
       " 'bets_processed_14c_1you',\n",
       " 'bets_processed_15c_1yover',\n",
       " 'bets_processed_8c_1yover',\n",
       " 'bets_processed_8c_2yoverunder',\n",
       " 'bets_processed_26c_2yoverunder',\n",
       " 'bets_processed_12c_2yoverunder',\n",
       " 'bets_processed_6c_2yahopp',\n",
       " 'bets_processed_14c_2yahopp',\n",
       " 'bets_tennis_6c_2yahopp',\n",
       " 'bets_tennis_6c_2y_ha_opp',\n",
       " 'bets_tennis_12c_2y_over_under']"
      ]
     },
     "execution_count": null,
     "metadata": {},
     "output_type": "execute_result"
    }
   ],
   "source": [
    "keys"
   ]
  },
  {
   "cell_type": "code",
   "execution_count": null,
   "metadata": {},
   "outputs": [],
   "source": [
    "config_new = read_config('anon_10sl_4c_2d_1yhc', cnf_dict_fn)\n",
    "config_new = read_config('bets_processed_15c_1yover', cnf_dict_fn)\n",
    "config_new = read_config('bets_tennis_12c_2y_over_under', cnf_dict_fn)"
   ]
  },
  {
   "cell_type": "code",
   "execution_count": null,
   "metadata": {},
   "outputs": [
    {
     "data": {
      "text/plain": [
       "{'cols_c': [['f_on_horse_pl_over_back_1',\n",
       "   'f_on_horse_pl_over_back_2',\n",
       "   'f_on_horse_pl_over_back_3',\n",
       "   'f_on_horse_pl_over_back_4',\n",
       "   'f_on_horse_pl_over_back_5',\n",
       "   'f_on_horse_pl_over_back_6',\n",
       "   'f_on_horse_pl_over_back_7',\n",
       "   'f_on_horse_pl_over_back_8',\n",
       "   'f_on_horse_pl_over_back_9',\n",
       "   'f_on_horse_pl_over_back_10'],\n",
       "  ['f_on_horse_pl_under_back_1',\n",
       "   'f_on_horse_pl_under_back_2',\n",
       "   'f_on_horse_pl_under_back_3',\n",
       "   'f_on_horse_pl_under_back_4',\n",
       "   'f_on_horse_pl_under_back_5',\n",
       "   'f_on_horse_pl_under_back_6',\n",
       "   'f_on_horse_pl_under_back_7',\n",
       "   'f_on_horse_pl_under_back_8',\n",
       "   'f_on_horse_pl_under_back_9',\n",
       "   'f_on_horse_pl_under_back_10'],\n",
       "  ['f_on_horse_diff_back_1',\n",
       "   'f_on_horse_diff_back_2',\n",
       "   'f_on_horse_diff_back_3',\n",
       "   'f_on_horse_diff_back_4',\n",
       "   'f_on_horse_diff_back_5',\n",
       "   'f_on_horse_diff_back_6',\n",
       "   'f_on_horse_diff_back_7',\n",
       "   'f_on_horse_diff_back_8',\n",
       "   'f_on_horse_diff_back_9',\n",
       "   'f_on_horse_diff_back_10'],\n",
       "  ['f_on_horse_total_score_back_1',\n",
       "   'f_on_horse_total_score_back_2',\n",
       "   'f_on_horse_total_score_back_3',\n",
       "   'f_on_horse_total_score_back_4',\n",
       "   'f_on_horse_total_score_back_5',\n",
       "   'f_on_horse_total_score_back_6',\n",
       "   'f_on_horse_total_score_back_7',\n",
       "   'f_on_horse_total_score_back_8',\n",
       "   'f_on_horse_total_score_back_9',\n",
       "   'f_on_horse_total_score_back_10'],\n",
       "  ['f_on_horse_horse_score_back_1',\n",
       "   'f_on_horse_horse_score_back_2',\n",
       "   'f_on_horse_horse_score_back_3',\n",
       "   'f_on_horse_horse_score_back_4',\n",
       "   'f_on_horse_horse_score_back_5',\n",
       "   'f_on_horse_horse_score_back_6',\n",
       "   'f_on_horse_horse_score_back_7',\n",
       "   'f_on_horse_horse_score_back_8',\n",
       "   'f_on_horse_horse_score_back_9',\n",
       "   'f_on_horse_horse_score_back_10'],\n",
       "  ['f_on_horse_opponent_score_back_1',\n",
       "   'f_on_horse_opponent_score_back_2',\n",
       "   'f_on_horse_opponent_score_back_3',\n",
       "   'f_on_horse_opponent_score_back_4',\n",
       "   'f_on_horse_opponent_score_back_5',\n",
       "   'f_on_horse_opponent_score_back_6',\n",
       "   'f_on_horse_opponent_score_back_7',\n",
       "   'f_on_horse_opponent_score_back_8',\n",
       "   'f_on_horse_opponent_score_back_9',\n",
       "   'f_on_horse_opponent_score_back_10'],\n",
       "  ['f_on_opponent_pl_over_opp_back_1',\n",
       "   'f_on_opponent_pl_over_opp_back_2',\n",
       "   'f_on_opponent_pl_over_opp_back_3',\n",
       "   'f_on_opponent_pl_over_opp_back_4',\n",
       "   'f_on_opponent_pl_over_opp_back_5',\n",
       "   'f_on_opponent_pl_over_opp_back_6',\n",
       "   'f_on_opponent_pl_over_opp_back_7',\n",
       "   'f_on_opponent_pl_over_opp_back_8',\n",
       "   'f_on_opponent_pl_over_opp_back_9',\n",
       "   'f_on_opponent_pl_over_opp_back_10'],\n",
       "  ['f_on_opponent_pl_under_opp_back_1',\n",
       "   'f_on_opponent_pl_under_opp_back_2',\n",
       "   'f_on_opponent_pl_under_opp_back_3',\n",
       "   'f_on_opponent_pl_under_opp_back_4',\n",
       "   'f_on_opponent_pl_under_opp_back_5',\n",
       "   'f_on_opponent_pl_under_opp_back_6',\n",
       "   'f_on_opponent_pl_under_opp_back_7',\n",
       "   'f_on_opponent_pl_under_opp_back_8',\n",
       "   'f_on_opponent_pl_under_opp_back_9',\n",
       "   'f_on_opponent_pl_under_opp_back_10'],\n",
       "  ['f_on_opponent_diff_opp_back_1',\n",
       "   'f_on_opponent_diff_opp_back_2',\n",
       "   'f_on_opponent_diff_opp_back_3',\n",
       "   'f_on_opponent_diff_opp_back_4',\n",
       "   'f_on_opponent_diff_opp_back_5',\n",
       "   'f_on_opponent_diff_opp_back_6',\n",
       "   'f_on_opponent_diff_opp_back_7',\n",
       "   'f_on_opponent_diff_opp_back_8',\n",
       "   'f_on_opponent_diff_opp_back_9',\n",
       "   'f_on_opponent_diff_opp_back_10'],\n",
       "  ['f_on_opponent_total_score_opp_back_1',\n",
       "   'f_on_opponent_total_score_opp_back_2',\n",
       "   'f_on_opponent_total_score_opp_back_3',\n",
       "   'f_on_opponent_total_score_opp_back_4',\n",
       "   'f_on_opponent_total_score_opp_back_5',\n",
       "   'f_on_opponent_total_score_opp_back_6',\n",
       "   'f_on_opponent_total_score_opp_back_7',\n",
       "   'f_on_opponent_total_score_opp_back_8',\n",
       "   'f_on_opponent_total_score_opp_back_9',\n",
       "   'f_on_opponent_total_score_opp_back_10'],\n",
       "  ['f_on_opponent_horse_score_opp_back_1',\n",
       "   'f_on_opponent_horse_score_opp_back_2',\n",
       "   'f_on_opponent_horse_score_opp_back_3',\n",
       "   'f_on_opponent_horse_score_opp_back_4',\n",
       "   'f_on_opponent_horse_score_opp_back_5',\n",
       "   'f_on_opponent_horse_score_opp_back_6',\n",
       "   'f_on_opponent_horse_score_opp_back_7',\n",
       "   'f_on_opponent_horse_score_opp_back_8',\n",
       "   'f_on_opponent_horse_score_opp_back_9',\n",
       "   'f_on_opponent_horse_score_opp_back_10'],\n",
       "  ['f_on_opponent_opponent_score_opp_back_1',\n",
       "   'f_on_opponent_opponent_score_opp_back_2',\n",
       "   'f_on_opponent_opponent_score_opp_back_3',\n",
       "   'f_on_opponent_opponent_score_opp_back_4',\n",
       "   'f_on_opponent_opponent_score_opp_back_5',\n",
       "   'f_on_opponent_opponent_score_opp_back_6',\n",
       "   'f_on_opponent_opponent_score_opp_back_7',\n",
       "   'f_on_opponent_opponent_score_opp_back_8',\n",
       "   'f_on_opponent_opponent_score_opp_back_9',\n",
       "   'f_on_opponent_opponent_score_opp_back_10']],\n",
       " 'cols_y': ['pl_over', 'pl_under'],\n",
       " 'id': 'bets_tennis_12c_2y_over_under',\n",
       " 'cols_d': None}"
      ]
     },
     "execution_count": null,
     "metadata": {},
     "output_type": "execute_result"
    }
   ],
   "source": [
    "config_new"
   ]
  },
  {
   "cell_type": "code",
   "execution_count": null,
   "metadata": {},
   "outputs": [],
   "source": [
    "config_new['prune']='hcodds_col'\n",
    "config_new['hcodds_col']='nf2'\n",
    "config_new[ID]='anon_10sl_4c_2d_1yhc_prune'"
   ]
  },
  {
   "cell_type": "code",
   "execution_count": null,
   "metadata": {},
   "outputs": [],
   "source": [
    "write_config(config_new, cnf_dict_fn)"
   ]
  },
  {
   "cell_type": "code",
   "execution_count": null,
   "metadata": {},
   "outputs": [],
   "source": [
    "delete_config('anon_10sl_4c_1hc', cnf_dict_fn)"
   ]
  },
  {
   "cell_type": "code",
   "execution_count": null,
   "metadata": {},
   "outputs": [],
   "source": [
    "conf = read_config(keys[-1], cnf_dict_fn)"
   ]
  },
  {
   "cell_type": "code",
   "execution_count": null,
   "metadata": {},
   "outputs": [],
   "source": [
    "conf = read_config('anon_10sl_4c_2d_2y', cnf_dict_fn)"
   ]
  },
  {
   "cell_type": "code",
   "execution_count": null,
   "metadata": {},
   "outputs": [],
   "source": [
    "conf[COLS_Y], conf['cols_cat'], conf[ID]"
   ]
  },
  {
   "cell_type": "code",
   "execution_count": null,
   "metadata": {},
   "outputs": [],
   "source": [
    "conf[COLS_Y]='y1'\n",
    "conf[ID]='anon_10sl_4c_2d_4tc_4cat_1yhc'"
   ]
  },
  {
   "cell_type": "code",
   "execution_count": null,
   "metadata": {},
   "outputs": [],
   "source": [
    "conf"
   ]
  },
  {
   "cell_type": "code",
   "execution_count": null,
   "metadata": {},
   "outputs": [],
   "source": [
    "conf[COLS_Y],  conf[ID]"
   ]
  },
  {
   "cell_type": "code",
   "execution_count": null,
   "metadata": {},
   "outputs": [],
   "source": [
    "conf[ID]"
   ]
  },
  {
   "cell_type": "code",
   "execution_count": null,
   "metadata": {},
   "outputs": [],
   "source": [
    "conf['cols_cont']=['tc0', 'tc1', 'tc2', 'tc3']\n",
    "conf['cols_cat']=['tcat0', 'tcat1', 'tcat2', 'tcat3']"
   ]
  },
  {
   "cell_type": "code",
   "execution_count": null,
   "metadata": {},
   "outputs": [],
   "source": [
    "conf[ID]"
   ]
  },
  {
   "cell_type": "code",
   "execution_count": null,
   "metadata": {},
   "outputs": [],
   "source": [
    "#dataset_sequencelenght_channels_c_channels_d_numbertargetstargettype\n",
    "conf[ID]='anon_10sl_4c_2d_4tc_4cat_2y'"
   ]
  },
  {
   "cell_type": "code",
   "execution_count": null,
   "metadata": {},
   "outputs": [],
   "source": [
    "conf[ID]"
   ]
  },
  {
   "cell_type": "code",
   "execution_count": null,
   "metadata": {},
   "outputs": [],
   "source": [
    "len(conf[COLS_C])"
   ]
  },
  {
   "cell_type": "code",
   "execution_count": null,
   "metadata": {},
   "outputs": [],
   "source": [
    "conf[COLS_Y]"
   ]
  },
  {
   "cell_type": "code",
   "execution_count": null,
   "metadata": {},
   "outputs": [],
   "source": [
    "write_config(conf, cnf_dict_fn)"
   ]
  },
  {
   "cell_type": "code",
   "execution_count": null,
   "metadata": {},
   "outputs": [],
   "source": [
    "delete_config('anon2hc_4c_2d_2y', cnf_dict_fn)"
   ]
  },
  {
   "cell_type": "code",
   "execution_count": null,
   "metadata": {},
   "outputs": [],
   "source": [
    "conf['cols_y']=['y0', 'y1']"
   ]
  },
  {
   "cell_type": "code",
   "execution_count": null,
   "metadata": {},
   "outputs": [],
   "source": [
    "keys = config_keys(cnf_dict_fn)"
   ]
  },
  {
   "cell_type": "code",
   "execution_count": null,
   "metadata": {},
   "outputs": [],
   "source": [
    "keys"
   ]
  },
  {
   "cell_type": "code",
   "execution_count": null,
   "metadata": {},
   "outputs": [],
   "source": [
    "config_loaded = read_config('anon_10sl_4c_2d_4tc_4cat_2y', cnf_dict_fn)"
   ]
  },
  {
   "cell_type": "code",
   "execution_count": null,
   "metadata": {},
   "outputs": [],
   "source": [
    "config_loaded"
   ]
  },
  {
   "cell_type": "code",
   "execution_count": null,
   "metadata": {},
   "outputs": [],
   "source": [
    "conf['cols_y']='y1'"
   ]
  },
  {
   "cell_type": "code",
   "execution_count": null,
   "metadata": {},
   "outputs": [],
   "source": [
    "conf['id'] = 'anon2hc_4c_2d_2y'"
   ]
  },
  {
   "cell_type": "code",
   "execution_count": null,
   "metadata": {},
   "outputs": [],
   "source": []
  },
  {
   "cell_type": "code",
   "execution_count": null,
   "metadata": {},
   "outputs": [],
   "source": [
    "write_config(conf, cnf_dict_fn)"
   ]
  },
  {
   "cell_type": "code",
   "execution_count": null,
   "metadata": {},
   "outputs": [],
   "source": [
    "config_keys(cnf_dict_fn)"
   ]
  },
  {
   "cell_type": "code",
   "execution_count": null,
   "metadata": {},
   "outputs": [],
   "source": [
    "Path(cnf_dict_fn).is_file()"
   ]
  },
  {
   "cell_type": "code",
   "execution_count": null,
   "metadata": {},
   "outputs": [],
   "source": [
    "write_config(col_config, config_fn=cnf_dict_fn)"
   ]
  },
  {
   "cell_type": "code",
   "execution_count": null,
   "metadata": {},
   "outputs": [],
   "source": [
    "Path(cnf_dict_fn).is_file()"
   ]
  },
  {
   "cell_type": "code",
   "execution_count": null,
   "metadata": {},
   "outputs": [],
   "source": [
    "#manual config\n",
    "#col_config is a column configuration\n",
    "col_config = dict()\n",
    "col_config['cols_c'] = [[f'x{i}_{j}' for j in range(10)] for i in [0,1,3,4]]\n",
    "col_config['cols_d'] = [[f'x{i}_{j}' for j in range(10)] for i in [2,5]]\n",
    "col_config['cols_y']= 'y0'\n",
    "col_config['id']='anonMODhc_4c_2d_y'  ## put it all in one config file with this unique identifier"
   ]
  },
  {
   "cell_type": "code",
   "execution_count": null,
   "metadata": {},
   "outputs": [],
   "source": [
    "write_config(col_config, config_fn=cnf_dict_fn)"
   ]
  },
  {
   "cell_type": "code",
   "execution_count": null,
   "metadata": {},
   "outputs": [],
   "source": [
    "!less config2.json"
   ]
  },
  {
   "cell_type": "code",
   "execution_count": null,
   "metadata": {},
   "outputs": [],
   "source": [
    "col_config_back = read_config('anon2hc_4c_2d_y', config_fn='config2.json')"
   ]
  },
  {
   "cell_type": "code",
   "execution_count": null,
   "metadata": {},
   "outputs": [],
   "source": [
    "col_config_back"
   ]
  },
  {
   "cell_type": "markdown",
   "metadata": {},
   "source": [
    "### Legacy Code"
   ]
  },
  {
   "cell_type": "code",
   "execution_count": null,
   "metadata": {},
   "outputs": [],
   "source": [
    "#export\n",
    "#copied from datasets\n",
    "def get_simple_config(discrete=False):\n",
    "    '''get a simple column configuration for development'''\n",
    "    if not discrete:\n",
    "        x_cols = [[f'x{i}_{j}' for j in range(10)] for i in range(6)]\n",
    "    else:\n",
    "        x_cols_cont = [[f'x{i}_{j}' for j in range(10)] for i in [0,1,3,4]] \n",
    "        x_cols_discrete = [[f'x{i}_{j}' for j in range(10)] for i in [2,5]]\n",
    "        x_cols = x_cols_cont, x_cols_discrete\n",
    "    dep = 'y0'\n",
    "    n_train = 8000\n",
    "    \n",
    "    return x_cols, dep, n_train"
   ]
  },
  {
   "cell_type": "code",
   "execution_count": null,
   "metadata": {},
   "outputs": [],
   "source": [
    "#export\n",
    "#copied from datablock\n",
    "def get_discrete_config():\n",
    "    '''get a simple column configuration for development'''\n",
    "    x_cols_cont = [[f'x{i}_{j}' for j in range(10)] for i in [0,1,3,4]] \n",
    "    x_cols_discrete = [[f'x{i}_{j}' for j in range(10)] for i in [2,5]]\n",
    "    dep = 'y0'\n",
    "    n_train = 8000\n",
    "    \n",
    "    return x_cols_cont, x_cols_discrete, dep, n_train"
   ]
  },
  {
   "cell_type": "markdown",
   "metadata": {},
   "source": [
    " ## Production Config"
   ]
  },
  {
   "cell_type": "code",
   "execution_count": null,
   "metadata": {},
   "outputs": [],
   "source": [
    "import pandas as pd\n",
    "import datetime"
   ]
  },
  {
   "cell_type": "code",
   "execution_count": null,
   "metadata": {},
   "outputs": [],
   "source": [
    "ds_fn = 'bets_historic_20210302_over.csv'\n",
    "ds_fn = 'bets_tennis_20210330_opp.csv'\n",
    "ds_fn = 'bets_historic_ou_tennis.csv'\n",
    "ds_path = Path('/home/johannes/coding/python/scrape/')\n",
    "DATE = 'date'\n",
    "df_processed = pd.read_csv(ds_path/ds_fn, parse_dates=[DATE])\n",
    "\n",
    "now = datetime.datetime.now()\n",
    "df_base = df_processed.loc[df_processed[DATE]<=now]\n",
    "df_upcoming = df_processed.loc[df_processed[DATE]>now]\n",
    "PL_1x2, PL_AH, DIFF = 'pl_1x2', 'pl_ah', 'diff'\n",
    "PL_OVER, PL_UNDER, TOTAL_SCORE, HORSE_SCORE, OPPONENT_SCORE = 'pl_over', 'pl_under', 'total_score', 'horse_score', 'opponent_score'\n",
    "PL_1x2_OPP, PL_AH_OPP = 'pl_1x2_opp', 'pl_ah_opp'\n",
    "PL_HOME_AWAY, PL_HOME_AWAY_OPP = 'pl_home_away', 'pl_home_away_opp'\n"
   ]
  },
  {
   "cell_type": "code",
   "execution_count": null,
   "metadata": {},
   "outputs": [],
   "source": [
    "df_processed.columns[50:100]"
   ]
  },
  {
   "cell_type": "code",
   "execution_count": null,
   "metadata": {},
   "outputs": [],
   "source": [
    "h_cols_res, h_cols_hc, h_cols_diff = [[c for c in df_base.columns if c.startswith('f_on_horse') and f in c and '_back' in c] for f in [PL_1x2, PL_AH, DIFF]]\n",
    "o_cols_res, o_cols_hc, o_cols_diff = [[c for c in df_base.columns if c.startswith('f_vs_opponent') and f in c and '_back' in c] for f in [PL_1x2, PL_AH, DIFF]]\n",
    "\n",
    "ts_cols = [h_cols_res, h_cols_hc, h_cols_diff, o_cols_res, o_cols_hc, o_cols_diff]\n"
   ]
  },
  {
   "cell_type": "code",
   "execution_count": null,
   "metadata": {},
   "outputs": [],
   "source": [
    "#basic 6c tennis\n",
    "h_cols_res, h_cols_hc, h_cols_diff = [[c for c in df_base.columns if c.startswith('f_on_horse') and f in c and '_back' in c] for f in [PL_HOME_AWAY, PL_AH, DIFF]]\n",
    "o_cols_res, o_cols_hc, o_cols_diff = [[c for c in df_base.columns if c.startswith('f_vs_opponent') and f in c and '_back' in c] for f in [PL_HOME_AWAY, PL_AH, DIFF]]\n",
    "\n",
    "ts_cols = [h_cols_res, h_cols_hc, h_cols_diff, o_cols_res, o_cols_hc, o_cols_diff]\n"
   ]
  },
  {
   "cell_type": "code",
   "execution_count": null,
   "metadata": {},
   "outputs": [],
   "source": [
    "# 14c ahc\n",
    "h_cols = [[c for c in df_base.columns if c.startswith('f_on_horse') and f in c and '_back' in c]\n",
    "                                      for f in [PL_1x2, PL_AH, DIFF, HORSE_SCORE, OPPONENT_SCORE]]\n",
    "o_cols = [[c for c in df_base.columns if c.startswith('f_on_opponent') and f in c and '_back' in c]\n",
    "                                      for f in [PL_1x2, PL_AH, DIFF, HORSE_SCORE, OPPONENT_SCORE]]\n",
    "vh_cols = [[c for c in df_base.columns if c.startswith('f_vs_horse') and f in c and '_back' in c]\n",
    "                                      for f in [PL_1x2, PL_AH]]\n",
    "vo_cols = [[c for c in df_base.columns if c.startswith('f_vs_opponent') and f in c and '_back' in c]\n",
    "                                      for f in [PL_1x2, PL_AH]]\n",
    "\n",
    "ts_cols = [*h_cols, *o_cols, *vh_cols, *vo_cols]"
   ]
  },
  {
   "cell_type": "code",
   "execution_count": null,
   "metadata": {},
   "outputs": [],
   "source": [
    "# for using overunder\n",
    "h_cols = [[c for c in df_base.columns if c.startswith('f_on_horse') and f in c and '_back' in c]\n",
    "                                      for f in [PL_1x2, PL_AH, PL_OVER, PL_UNDER, DIFF, TOTAL_SCORE, HORSE_SCORE, OPPONENT_SCORE]]\n",
    "o_cols = [[c for c in df_base.columns if c.startswith('f_on_opponent') and f in c and '_back' in c]\n",
    "                                      for f in [PL_1x2, PL_AH, PL_OVER, PL_UNDER, DIFF, TOTAL_SCORE, HORSE_SCORE, OPPONENT_SCORE]]\n",
    "vh_cols = [[c for c in df_base.columns if c.startswith('f_vs_horse') and f in c and '_back' in c]\n",
    "                                      for f in [PL_1x2, PL_AH, DIFF, TOTAL_SCORE, OPPONENT_SCORE]]\n",
    "vo_cols = [[c for c in df_base.columns if c.startswith('f_vs_opponent') and f in c and '_back' in c]\n",
    "                                      for f in [PL_1x2, PL_AH, DIFF, TOTAL_SCORE, OPPONENT_SCORE]]\n",
    "\n",
    "ts_cols = [*h_cols, *o_cols, *vh_cols, *vo_cols]\n"
   ]
  },
  {
   "cell_type": "code",
   "execution_count": null,
   "metadata": {},
   "outputs": [],
   "source": [
    "# for using overunder basic\n",
    "h_cols = [[c for c in df_base.columns if c.startswith('f_on_horse') and f in c and '_back' in c]\n",
    "                                      for f in [PL_OVER, PL_UNDER, DIFF, TOTAL_SCORE, HORSE_SCORE, OPPONENT_SCORE]]\n",
    "o_cols = [[c  for c in df_base.columns if c.startswith('f_on_opponent') and f in c and '_back' in c]\n",
    "                                      for f in [PL_OVER, PL_UNDER, DIFF, TOTAL_SCORE, HORSE_SCORE, OPPONENT_SCORE]]\n",
    "#vh_cols = [[c for c in df_base.columns if c.startswith('f_vs_horse') and f in c and '_back' in c]\n",
    "#                                     for f in [DIFF, TOTAL_SCORE, OPPONENT_SCORE]]\n",
    "#vo_cols = [[c for c in df_base.columns if c.startswith('f_vs_opponent') and f in c and '_back' in c]\n",
    "#                                      for f in [TOTAL_SCORE, OPPONENT_SCORE]]\n",
    "\n",
    "ts_cols = [*h_cols, *o_cols]\n"
   ]
  },
  {
   "cell_type": "code",
   "execution_count": null,
   "metadata": {},
   "outputs": [],
   "source": [
    "col_config['cols_c'] = ts_cols"
   ]
  },
  {
   "cell_type": "code",
   "execution_count": null,
   "metadata": {},
   "outputs": [],
   "source": [
    "col_config['cols_y'] = [PL_OVER, PL_UNDER]\n",
    "#col_config['cols_y'] = [PL_AH, PL_AH_OPP]\n",
    "#col_config['cols_y'] = [PL_HOME_AWAY_OPP, PL_HOME_AWAY_OPP]"
   ]
  },
  {
   "cell_type": "code",
   "execution_count": null,
   "metadata": {},
   "outputs": [],
   "source": [
    "df_base.columns[-200:-150]"
   ]
  },
  {
   "cell_type": "code",
   "execution_count": null,
   "metadata": {},
   "outputs": [],
   "source": [
    "col_config[ID] = 'bets_tennis_12c_2y_over_under'"
   ]
  },
  {
   "cell_type": "code",
   "execution_count": null,
   "metadata": {},
   "outputs": [],
   "source": [
    "col_config[COLS_D] = None\n"
   ]
  },
  {
   "cell_type": "code",
   "execution_count": null,
   "metadata": {},
   "outputs": [],
   "source": [
    "print([len(c) for c in ts_cols])"
   ]
  },
  {
   "cell_type": "code",
   "execution_count": null,
   "metadata": {},
   "outputs": [],
   "source": [
    "col_config['cols_y']"
   ]
  },
  {
   "cell_type": "code",
   "execution_count": null,
   "metadata": {},
   "outputs": [],
   "source": [
    "col_config['cols_c']"
   ]
  },
  {
   "cell_type": "code",
   "execution_count": null,
   "metadata": {},
   "outputs": [],
   "source": [
    "ts_cols"
   ]
  },
  {
   "cell_type": "code",
   "execution_count": null,
   "metadata": {},
   "outputs": [],
   "source": [
    "write_config(col_config, config_fn=cnf_dict_fn)"
   ]
  },
  {
   "cell_type": "code",
   "execution_count": null,
   "metadata": {},
   "outputs": [],
   "source": [
    "col_config"
   ]
  },
  {
   "cell_type": "code",
   "execution_count": null,
   "metadata": {},
   "outputs": [],
   "source": [
    "df_base.columns[:50]"
   ]
  },
  {
   "cell_type": "code",
   "execution_count": null,
   "metadata": {},
   "outputs": [],
   "source": [
    "df_base[ts_cols[2]].tail(20)"
   ]
  },
  {
   "cell_type": "raw",
   "metadata": {},
   "source": [
    "    "
   ]
  }
 ],
 "metadata": {
  "kernelspec": {
   "display_name": "Python [conda env:ttools]",
   "language": "python",
   "name": "conda-env-ttools-py"
  }
 },
 "nbformat": 4,
 "nbformat_minor": 2
}
