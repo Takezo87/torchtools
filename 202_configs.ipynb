{
 "cells": [
  {
   "cell_type": "code",
   "execution_count": null,
   "metadata": {},
   "outputs": [],
   "source": [
    "#default_exp configs"
   ]
  },
  {
   "cell_type": "markdown",
   "metadata": {},
   "source": [
    "# Test Configurations\n",
    "\n",
    "> refactor modelling, experiment functionality"
   ]
  },
  {
   "cell_type": "markdown",
   "metadata": {},
   "source": [
    "#### JSON"
   ]
  },
  {
   "cell_type": "markdown",
   "metadata": {},
   "source": [
    "A column configuration is stored as a dictionaray:\n",
    " - cols_c: list of lists of columns (one list for each channel) for all continuous variables\n",
    " - cols_d: list of lists of columns (one list for each channel) for all discrete variables\n",
    " - cols_y: list of columns, or single column, target variable(s)\n",
    " - id: identifier string \n",
    " \n",
    " The column configs are stored in one json file with key 'id'"
   ]
  },
  {
   "cell_type": "code",
   "execution_count": null,
   "metadata": {},
   "outputs": [],
   "source": [
    "#export\n",
    "import json\n",
    "from pathlib import Path"
   ]
  },
  {
   "cell_type": "code",
   "execution_count": null,
   "metadata": {},
   "outputs": [],
   "source": [
    "#manual config\n",
    "#col_config is a column configuration\n",
    "col_config = dict()\n",
    "col_config['cols_c'] = [[f'x{i}_{j}' for j in range(10)] for i in [0,1,3,4]]\n",
    "col_config['cols_d'] = [[f'x{i}_{j}' for j in range(10)] for i in [2,5]]\n",
    "col_config['cols_y']= 'y0'\n",
    "col_config['id']='anon2hc_4c_2d_y'  ## put it all in one config file with this unique identifier"
   ]
  },
  {
   "cell_type": "code",
   "execution_count": null,
   "metadata": {},
   "outputs": [],
   "source": [
    "#export\n",
    "def write_config(config, config_fn='config.json', overwrite=False):\n",
    "    '''write a column configuration to json'''\n",
    " \n",
    "    if not Path(config_fn).is_file():\n",
    "        print(f'{config_fn} does not exist, creating new config_dict')\n",
    "        config_dict={}\n",
    "    else:\n",
    "        with open(config_fn, 'r') as f:\n",
    "            config_dict=json.load(f)\n",
    "        \n",
    "        \n",
    "    if config['id'] in config_dict.keys() and not overwrite:\n",
    "        print(f'config with id {config[\"id\"]} already stored, use overwrite=True for overwriting')\n",
    "        return\n",
    "              \n",
    "    config_dict[config['id']] = config    \n",
    "\n",
    "    with open(config_fn, 'w+') as f:\n",
    "        json.dump(config_dict, f)"
   ]
  },
  {
   "cell_type": "code",
   "execution_count": null,
   "metadata": {},
   "outputs": [],
   "source": [
    "cnf_dict_fn = 'config2.json'"
   ]
  },
  {
   "cell_type": "code",
   "execution_count": null,
   "metadata": {},
   "outputs": [
    {
     "data": {
      "text/plain": [
       "False"
      ]
     },
     "execution_count": null,
     "metadata": {},
     "output_type": "execute_result"
    }
   ],
   "source": [
    "Path(cnf_dict_fn).is_file()"
   ]
  },
  {
   "cell_type": "code",
   "execution_count": null,
   "metadata": {},
   "outputs": [
    {
     "name": "stdout",
     "output_type": "stream",
     "text": [
      "config2.json does not exist, creating new config_dict\n"
     ]
    }
   ],
   "source": [
    "write_config(col_config, config_fn=cnf_dict_fn)"
   ]
  },
  {
   "cell_type": "code",
   "execution_count": null,
   "metadata": {},
   "outputs": [
    {
     "data": {
      "text/plain": [
       "True"
      ]
     },
     "execution_count": null,
     "metadata": {},
     "output_type": "execute_result"
    }
   ],
   "source": [
    "Path(cnf_dict_fn).is_file()"
   ]
  },
  {
   "cell_type": "code",
   "execution_count": null,
   "metadata": {},
   "outputs": [],
   "source": [
    "#manual config\n",
    "#col_config is a column configuration\n",
    "col_config = dict()\n",
    "col_config['cols_c'] = [[f'x{i}_{j}' for j in range(10)] for i in [0,1,3,4]]\n",
    "col_config['cols_d'] = [[f'x{i}_{j}' for j in range(10)] for i in [2,5]]\n",
    "col_config['cols_y']= 'y0'\n",
    "col_config['id']='anonMODhc_4c_2d_y'  ## put it all in one config file with this unique identifier"
   ]
  },
  {
   "cell_type": "code",
   "execution_count": null,
   "metadata": {},
   "outputs": [],
   "source": [
    "write_config(col_config, config_fn=cnf_dict_fn)"
   ]
  },
  {
   "cell_type": "code",
   "execution_count": null,
   "metadata": {},
   "outputs": [
    {
     "name": "stdout",
     "output_type": "stream",
     "text": [
      "{\"anon2hc_4c_2d_y\": {\"cols_c\": [[\"x0_0\", \"x0_1\", \"x0_2\", \"x0_3\", \"x0_4\", \"x0_5\", \"x0_6\", \"x0_7\", \"x0_8\", \"x0_9\"], [\"x1_0\", \"x1_1\", \"x1_2\", \"x1_3\", \"x1_4\", \"x1_5\", \"x1_6\", \"x1_7\", \"x1_8\", \"x1_9\"], [\"x3_0\", \"x3_1\", \"x3_2\", \"x3_3\", \"x3_4\", \"x3_5\", \"x3_6\", \"x3_7\", \"x3_8\", \"x3_9\"], [\"x4_0\", \"x4_1\", \"x4_2\", \"x4_3\", \"x4_4\", \"x4_5\", \"x4_6\", \"x4_7\", \"x4_8\", \"x4_9\"]], \"cols_d\": [[\"x2_0\", \"x2_1\", \"x2_2\", \"x2_3\", \"x2_4\", \"x2_5\", \"x2_6\", \"x2_7\", \"x2_8\", \"x2_9\"], [\"x5_0\", \"x5_1\", \"x5_2\", \"x5_3\", \"x5_4\", \"x5_5\", \"x5_6\", \"x5_7\", \"x5_8\", \"x5_9\"]], \"cols_y\": \"y0\", \"id\": \"anon2hc_4c_2d_y\"}, \"anonMODhc_4c_2d_y\": {\"cols_c\": [[\"x0_0\", \"x0_1\", \"x0_2\", \"x0_3\", \"x0_4\", \"x0_5\", \"x0_6\", \"x0_7\", \"x0_8\", \"x0_9\"], [\"x1_0\", \"x1_1\", \"x1_2\", \"x1_3\", \"x1_4\", \"x1_5\", \"x1_6\", \"x1_7\", \"x1_8\", \"x1_9\"], [\"x3_0\", \"x3_1\", \"x3_2\", \"x3_3\", \"x3_4\", \"x3_5\", \"x3_6\", \"x3_7\", \"x3_8\", \"x3_9\"], [\"x4_0\", \"x4_1\", \"x4_2\", \"x4_3\", \"x4_4\", \"x4_5\", \"x4_6\", \"x4_7\", \"x4_8\", \"x4_9\"]], \"cols_d\": [[\"x2_0\", \"x2_1\", \"x2_2\", \"x2_3\", \"x2_4\", \"x2_5\", \"x2_6\", \"x2_7\", \"x2_8\", \"x2_9\"], [\"x5_0\", \"x5_1\", \"x5_2\", \"x5_3\", \"x5_4\", \"x5_5\", \"x5_6\", \"x5_7\", \"x5_8\", \"x5_9\"]], \"cols_y\": \"y0\", \"id\": \"anonMODhc_4c_2d_y\"}}\n",
      "\u001b[K\u001b[7m(END)\u001b[m\u001b[KEND)\u001b[m\u001b[K\u0007"
     ]
    }
   ],
   "source": [
    "!less config2.json"
   ]
  },
  {
   "cell_type": "code",
   "execution_count": null,
   "metadata": {},
   "outputs": [],
   "source": [
    "#export\n",
    "def read_config(conf_id, config_fn='config_json'):\n",
    "    with open(config_fn, 'r') as f:\n",
    "        config_dict=json.load(f)\n",
    "    try:\n",
    "        col_config = config_dict[conf_id]\n",
    "    except:\n",
    "        print(f'could not load config with id {conf_id}')\n",
    "    return col_config\n",
    "    "
   ]
  },
  {
   "cell_type": "code",
   "execution_count": null,
   "metadata": {},
   "outputs": [],
   "source": [
    "col_config_back = read_config('anon2hc_4c_2d_y', config_fn='config2.json')"
   ]
  },
  {
   "cell_type": "code",
   "execution_count": null,
   "metadata": {},
   "outputs": [
    {
     "data": {
      "text/plain": [
       "{'cols_c': [['x0_0',\n",
       "   'x0_1',\n",
       "   'x0_2',\n",
       "   'x0_3',\n",
       "   'x0_4',\n",
       "   'x0_5',\n",
       "   'x0_6',\n",
       "   'x0_7',\n",
       "   'x0_8',\n",
       "   'x0_9'],\n",
       "  ['x1_0',\n",
       "   'x1_1',\n",
       "   'x1_2',\n",
       "   'x1_3',\n",
       "   'x1_4',\n",
       "   'x1_5',\n",
       "   'x1_6',\n",
       "   'x1_7',\n",
       "   'x1_8',\n",
       "   'x1_9'],\n",
       "  ['x3_0',\n",
       "   'x3_1',\n",
       "   'x3_2',\n",
       "   'x3_3',\n",
       "   'x3_4',\n",
       "   'x3_5',\n",
       "   'x3_6',\n",
       "   'x3_7',\n",
       "   'x3_8',\n",
       "   'x3_9'],\n",
       "  ['x4_0',\n",
       "   'x4_1',\n",
       "   'x4_2',\n",
       "   'x4_3',\n",
       "   'x4_4',\n",
       "   'x4_5',\n",
       "   'x4_6',\n",
       "   'x4_7',\n",
       "   'x4_8',\n",
       "   'x4_9']],\n",
       " 'cols_d': [['x2_0',\n",
       "   'x2_1',\n",
       "   'x2_2',\n",
       "   'x2_3',\n",
       "   'x2_4',\n",
       "   'x2_5',\n",
       "   'x2_6',\n",
       "   'x2_7',\n",
       "   'x2_8',\n",
       "   'x2_9'],\n",
       "  ['x5_0',\n",
       "   'x5_1',\n",
       "   'x5_2',\n",
       "   'x5_3',\n",
       "   'x5_4',\n",
       "   'x5_5',\n",
       "   'x5_6',\n",
       "   'x5_7',\n",
       "   'x5_8',\n",
       "   'x5_9']],\n",
       " 'cols_y': 'y0',\n",
       " 'id': 'anon2hc_4c_2d_y'}"
      ]
     },
     "execution_count": null,
     "metadata": {},
     "output_type": "execute_result"
    }
   ],
   "source": [
    "col_config_back"
   ]
  }
 ],
 "metadata": {
  "kernelspec": {
   "display_name": "Python [conda env:nbdev]",
   "language": "python",
   "name": "conda-env-nbdev-py"
  }
 },
 "nbformat": 4,
 "nbformat_minor": 2
}
