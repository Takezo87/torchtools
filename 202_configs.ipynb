{
 "cells": [
  {
   "cell_type": "code",
   "execution_count": null,
   "metadata": {
    "hide_input": true
   },
   "outputs": [],
   "source": [
    "from nbdev import *"
   ]
  },
  {
   "cell_type": "code",
   "execution_count": null,
   "metadata": {},
   "outputs": [],
   "source": [
    "#default_exp configs"
   ]
  },
  {
   "cell_type": "markdown",
   "metadata": {},
   "source": [
    "# Test Configurations\n",
    "\n",
    "> refactor modelling, experiment functionality"
   ]
  },
  {
   "cell_type": "markdown",
   "metadata": {},
   "source": [
    "#### JSON"
   ]
  },
  {
   "cell_type": "markdown",
   "metadata": {},
   "source": [
    "A column configuration is stored as a dictionaray:\n",
    " - cols_c: list of lists of columns (one list for each channel) for all continuous variables\n",
    " - cols_d: list of lists of columns (one list for each channel) for all discrete variables\n",
    " - cols_y: list of columns, or single column, target variable(s)\n",
    " - id: identifier string \n",
    " \n",
    " The column configs are stored in one json file with key 'id'"
   ]
  },
  {
   "cell_type": "code",
   "execution_count": null,
   "metadata": {},
   "outputs": [],
   "source": [
    "#export\n",
    "import json\n",
    "from pathlib import Path"
   ]
  },
  {
   "cell_type": "code",
   "execution_count": null,
   "metadata": {},
   "outputs": [],
   "source": [
    "#manual config\n",
    "#col_config is a column configuration\n",
    "col_config = dict()\n",
    "col_config['cols_c'] = [[f'x{i}_{j}' for j in range(10)] for i in [0,1,3,4]]\n",
    "# col_config['cols_d'] = [[f'x{i}_{j}' for j in range(30)] for i in [2,5]]\n",
    "col_config['cols_y']= ['y0', 'y1']\n",
    "col_config['cols_y']= 'y1'\n",
    "# col_config['id']='anon_30sl_4c_2d_2y'  ## put it all in one config file with this unique identifier\n",
    "col_config['id']='anon_10sl_4c_1yhc'  ## put it all in one config file with this unique identifier"
   ]
  },
  {
   "cell_type": "code",
   "execution_count": null,
   "metadata": {},
   "outputs": [],
   "source": [
    "#export\n",
    "def write_config(config, config_fn='config.json', overwrite=False):\n",
    "    '''write a column configuration to json'''\n",
    " \n",
    "    if not Path(config_fn).is_file():\n",
    "        print(f'{config_fn} does not exist, creating new config_dict')\n",
    "        config_dict={}\n",
    "    else:\n",
    "        with open(config_fn, 'r') as f:\n",
    "            config_dict=json.load(f)\n",
    "        \n",
    "        \n",
    "    if config['id'] in config_dict.keys() and not overwrite:\n",
    "        print(f'config with id {config[\"id\"]} already stored, use overwrite=True for overwriting')\n",
    "        return\n",
    "              \n",
    "    config_dict[config['id']] = config    \n",
    "\n",
    "    with open(config_fn, 'w+') as f:\n",
    "        json.dump(config_dict, f)"
   ]
  },
  {
   "cell_type": "code",
   "execution_count": null,
   "metadata": {},
   "outputs": [],
   "source": [
    "#export\n",
    "def delete_config(config_id, config_fn='config.json'):\n",
    "    '''delete configuration with id config_id from the configuration dictionary stored in config_fn,\n",
    "    write it back to disk'''\n",
    " \n",
    "    if not Path(config_fn).is_file():\n",
    "        print(f'{config_fn} does not exist')\n",
    "        return\n",
    "    else:\n",
    "        with open(config_fn, 'r') as f:\n",
    "            config_dict=json.load(f)\n",
    "        \n",
    "        \n",
    "    if config_id in config_dict.keys():\n",
    "        del config_dict[config_id]\n",
    "    \n",
    "    \n",
    "#     and not overwrite:\n",
    "#         print(f'config with id {config[\"id\"]} already stored, use overwrite=True for overwriting')\n",
    "#         return\n",
    "              \n",
    "#     config_dict[config['id']] = config    \n",
    "\n",
    "    with open(config_fn, 'w+') as f:\n",
    "        json.dump(config_dict, f)"
   ]
  },
  {
   "cell_type": "code",
   "execution_count": null,
   "metadata": {},
   "outputs": [],
   "source": [
    "#export\n",
    "def read_config(conf_id, config_fn='config_json'):\n",
    "    with open(config_fn, 'r') as f:\n",
    "        config_dict=json.load(f)\n",
    "#         print(config_dict)\n",
    "        try:\n",
    "            col_config = config_dict[conf_id]\n",
    "#             print(col_config)\n",
    "        except:\n",
    "            print(f'could not load config with id {conf_id}')\n",
    "    return col_config\n",
    "    "
   ]
  },
  {
   "cell_type": "code",
   "execution_count": null,
   "metadata": {},
   "outputs": [],
   "source": [
    "cnf_dict_fn = 'config2.json'"
   ]
  },
  {
   "cell_type": "code",
   "execution_count": null,
   "metadata": {},
   "outputs": [],
   "source": [
    "#export\n",
    "def config_keys(config_fn='config.json'):\n",
    "    '''get config ids of a config file'''\n",
    " \n",
    "    if not Path(config_fn).is_file():\n",
    "        print(f'{config_fn} does not exist, creating new config_dict')\n",
    "        config_dict={}\n",
    "    else:\n",
    "        with open(config_fn, 'r') as f:\n",
    "            config_dict=json.load(f)\n",
    "        \n",
    "    return list(config_dict.keys())    \n",
    "    "
   ]
  },
  {
   "cell_type": "code",
   "execution_count": null,
   "metadata": {},
   "outputs": [],
   "source": [
    "COLS_C, COLS_D, COLS_Y, ID = 'cols_c', 'cols_d', 'cols_y', 'id'"
   ]
  },
  {
   "cell_type": "code",
   "execution_count": null,
   "metadata": {},
   "outputs": [],
   "source": [
    "keys = config_keys(cnf_dict_fn)"
   ]
  },
  {
   "cell_type": "code",
   "execution_count": null,
   "metadata": {},
   "outputs": [
    {
     "data": {
      "text/plain": [
       "['anon_10sl_4c_2d_1yml',\n",
       " 'anon_10sl_6c_1yml',\n",
       " 'anon_10sl_6c_1yhc',\n",
       " 'anon_10sl_6c_2y',\n",
       " 'anon_10sl_4c_2d_1yhc',\n",
       " 'anon_10sl_4c_2d_2y',\n",
       " 'anon_20sl_4c_2d_2y',\n",
       " 'anon_30sl_4c_2d_2y',\n",
       " 'anon_10sl_4c_2d_4tc_4cat_2y',\n",
       " 'anon_10sl_4c_2d_4tc_4cat_1yhc',\n",
       " 'anon_10sl_4c_1yhc',\n",
       " 'anon_10sl_6c_1yclass',\n",
       " 'anon_10sl_4c_2d_1yclass']"
      ]
     },
     "execution_count": null,
     "metadata": {},
     "output_type": "execute_result"
    }
   ],
   "source": [
    "keys"
   ]
  },
  {
   "cell_type": "code",
   "execution_count": null,
   "metadata": {},
   "outputs": [],
   "source": [
    "config_new = read_config('anon_10sl_4c_2d_4tc_4cat_1yhc', cnf_dict_fn)"
   ]
  },
  {
   "cell_type": "code",
   "execution_count": null,
   "metadata": {},
   "outputs": [
    {
     "data": {
      "text/plain": [
       "{'cols_c': [['x0_0',\n",
       "   'x0_1',\n",
       "   'x0_2',\n",
       "   'x0_3',\n",
       "   'x0_4',\n",
       "   'x0_5',\n",
       "   'x0_6',\n",
       "   'x0_7',\n",
       "   'x0_8',\n",
       "   'x0_9'],\n",
       "  ['x1_0',\n",
       "   'x1_1',\n",
       "   'x1_2',\n",
       "   'x1_3',\n",
       "   'x1_4',\n",
       "   'x1_5',\n",
       "   'x1_6',\n",
       "   'x1_7',\n",
       "   'x1_8',\n",
       "   'x1_9'],\n",
       "  ['x3_0',\n",
       "   'x3_1',\n",
       "   'x3_2',\n",
       "   'x3_3',\n",
       "   'x3_4',\n",
       "   'x3_5',\n",
       "   'x3_6',\n",
       "   'x3_7',\n",
       "   'x3_8',\n",
       "   'x3_9'],\n",
       "  ['x4_0',\n",
       "   'x4_1',\n",
       "   'x4_2',\n",
       "   'x4_3',\n",
       "   'x4_4',\n",
       "   'x4_5',\n",
       "   'x4_6',\n",
       "   'x4_7',\n",
       "   'x4_8',\n",
       "   'x4_9']],\n",
       " 'cols_d': [['x2_0',\n",
       "   'x2_1',\n",
       "   'x2_2',\n",
       "   'x2_3',\n",
       "   'x2_4',\n",
       "   'x2_5',\n",
       "   'x2_6',\n",
       "   'x2_7',\n",
       "   'x2_8',\n",
       "   'x2_9'],\n",
       "  ['x5_0',\n",
       "   'x5_1',\n",
       "   'x5_2',\n",
       "   'x5_3',\n",
       "   'x5_4',\n",
       "   'x5_5',\n",
       "   'x5_6',\n",
       "   'x5_7',\n",
       "   'x5_8',\n",
       "   'x5_9']],\n",
       " 'cols_y': 'y1',\n",
       " 'id': 'anon_10sl_4c_2d_4tc_4cat_1yhc',\n",
       " 'cols_cont': ['tc0', 'tc1', 'tc2', 'tc3'],\n",
       " 'cols_cat': ['tcat0', 'tcat1', 'tcat2', 'tcat3']}"
      ]
     },
     "execution_count": null,
     "metadata": {},
     "output_type": "execute_result"
    }
   ],
   "source": [
    "config_new"
   ]
  },
  {
   "cell_type": "code",
   "execution_count": null,
   "metadata": {},
   "outputs": [],
   "source": [
    "config_new[COLS_Y]='y2'\n",
    "config_new[ID]='anon_10sl_4c_2d_4tc_4cat_1yclass'"
   ]
  },
  {
   "cell_type": "code",
   "execution_count": null,
   "metadata": {},
   "outputs": [],
   "source": [
    "write_config(config_new, cnf_dict_fn)"
   ]
  },
  {
   "cell_type": "code",
   "execution_count": null,
   "metadata": {},
   "outputs": [],
   "source": [
    "delete_config('anon_10sl_4c_1hc', cnf_dict_fn)"
   ]
  },
  {
   "cell_type": "code",
   "execution_count": null,
   "metadata": {},
   "outputs": [],
   "source": [
    "conf = read_config(keys[-1], cnf_dict_fn)"
   ]
  },
  {
   "cell_type": "code",
   "execution_count": null,
   "metadata": {},
   "outputs": [],
   "source": [
    "conf = read_config('anon_10sl_4c_2d_2y', cnf_dict_fn)"
   ]
  },
  {
   "cell_type": "code",
   "execution_count": null,
   "metadata": {},
   "outputs": [
    {
     "data": {
      "text/plain": [
       "('y1', ['tcat0', 'tcat1', 'tcat2', 'tcat3'], 'anon_10sl_4c_2d_4tc_4cat_1yhc')"
      ]
     },
     "execution_count": null,
     "metadata": {},
     "output_type": "execute_result"
    }
   ],
   "source": [
    "conf[COLS_Y], conf['cols_cat'], conf[ID]"
   ]
  },
  {
   "cell_type": "code",
   "execution_count": null,
   "metadata": {},
   "outputs": [],
   "source": [
    "conf[COLS_Y]='y1'\n",
    "conf[ID]='anon_10sl_4c_2d_4tc_4cat_1yhc'"
   ]
  },
  {
   "cell_type": "code",
   "execution_count": null,
   "metadata": {},
   "outputs": [
    {
     "data": {
      "text/plain": [
       "{'cols_c': [['x0_0',\n",
       "   'x0_1',\n",
       "   'x0_2',\n",
       "   'x0_3',\n",
       "   'x0_4',\n",
       "   'x0_5',\n",
       "   'x0_6',\n",
       "   'x0_7',\n",
       "   'x0_8',\n",
       "   'x0_9'],\n",
       "  ['x1_0',\n",
       "   'x1_1',\n",
       "   'x1_2',\n",
       "   'x1_3',\n",
       "   'x1_4',\n",
       "   'x1_5',\n",
       "   'x1_6',\n",
       "   'x1_7',\n",
       "   'x1_8',\n",
       "   'x1_9'],\n",
       "  ['x3_0',\n",
       "   'x3_1',\n",
       "   'x3_2',\n",
       "   'x3_3',\n",
       "   'x3_4',\n",
       "   'x3_5',\n",
       "   'x3_6',\n",
       "   'x3_7',\n",
       "   'x3_8',\n",
       "   'x3_9'],\n",
       "  ['x4_0',\n",
       "   'x4_1',\n",
       "   'x4_2',\n",
       "   'x4_3',\n",
       "   'x4_4',\n",
       "   'x4_5',\n",
       "   'x4_6',\n",
       "   'x4_7',\n",
       "   'x4_8',\n",
       "   'x4_9']],\n",
       " 'cols_d': [['x2_0',\n",
       "   'x2_1',\n",
       "   'x2_2',\n",
       "   'x2_3',\n",
       "   'x2_4',\n",
       "   'x2_5',\n",
       "   'x2_6',\n",
       "   'x2_7',\n",
       "   'x2_8',\n",
       "   'x2_9'],\n",
       "  ['x5_0',\n",
       "   'x5_1',\n",
       "   'x5_2',\n",
       "   'x5_3',\n",
       "   'x5_4',\n",
       "   'x5_5',\n",
       "   'x5_6',\n",
       "   'x5_7',\n",
       "   'x5_8',\n",
       "   'x5_9']],\n",
       " 'cols_y': 'y1',\n",
       " 'id': 'anon_10sl_4c_2d_4tc_4cat_1yhc',\n",
       " 'cols_cont': ['tc0', 'tc1', 'tc2', 'tc3'],\n",
       " 'cols_cat': ['tcat0', 'tcat1', 'tcat2', 'tcat3']}"
      ]
     },
     "execution_count": null,
     "metadata": {},
     "output_type": "execute_result"
    }
   ],
   "source": [
    "conf"
   ]
  },
  {
   "cell_type": "code",
   "execution_count": null,
   "metadata": {},
   "outputs": [
    {
     "data": {
      "text/plain": [
       "('y0', 'anon_10sl_4c_2d_1yml')"
      ]
     },
     "execution_count": null,
     "metadata": {},
     "output_type": "execute_result"
    }
   ],
   "source": [
    "conf[COLS_Y],  conf[ID]"
   ]
  },
  {
   "cell_type": "code",
   "execution_count": null,
   "metadata": {},
   "outputs": [
    {
     "data": {
      "text/plain": [
       "'anon_10sl_4c_2d_2y'"
      ]
     },
     "execution_count": null,
     "metadata": {},
     "output_type": "execute_result"
    }
   ],
   "source": [
    "conf[ID]"
   ]
  },
  {
   "cell_type": "code",
   "execution_count": null,
   "metadata": {},
   "outputs": [],
   "source": [
    "conf['cols_cont']=['tc0', 'tc1', 'tc2', 'tc3']\n",
    "conf['cols_cat']=['tcat0', 'tcat1', 'tcat2', 'tcat3']"
   ]
  },
  {
   "cell_type": "code",
   "execution_count": null,
   "metadata": {},
   "outputs": [
    {
     "data": {
      "text/plain": [
       "'anon_10sl_4c_2d_2y'"
      ]
     },
     "execution_count": null,
     "metadata": {},
     "output_type": "execute_result"
    }
   ],
   "source": [
    "conf[ID]"
   ]
  },
  {
   "cell_type": "code",
   "execution_count": null,
   "metadata": {},
   "outputs": [],
   "source": [
    "#dataset_sequencelenght_channels_c_channels_d_numbertargetstargettype\n",
    "conf[ID]='anon_10sl_4c_2d_4tc_4cat_2y'"
   ]
  },
  {
   "cell_type": "code",
   "execution_count": null,
   "metadata": {},
   "outputs": [
    {
     "data": {
      "text/plain": [
       "'anon_10sl_4c_2d_2y'"
      ]
     },
     "execution_count": null,
     "metadata": {},
     "output_type": "execute_result"
    }
   ],
   "source": [
    "conf[ID]"
   ]
  },
  {
   "cell_type": "code",
   "execution_count": null,
   "metadata": {},
   "outputs": [
    {
     "data": {
      "text/plain": [
       "4"
      ]
     },
     "execution_count": null,
     "metadata": {},
     "output_type": "execute_result"
    }
   ],
   "source": [
    "len(conf[COLS_C])"
   ]
  },
  {
   "cell_type": "code",
   "execution_count": null,
   "metadata": {},
   "outputs": [
    {
     "data": {
      "text/plain": [
       "['y0', 'y1']"
      ]
     },
     "execution_count": null,
     "metadata": {},
     "output_type": "execute_result"
    }
   ],
   "source": [
    "conf[COLS_Y]"
   ]
  },
  {
   "cell_type": "code",
   "execution_count": null,
   "metadata": {},
   "outputs": [],
   "source": [
    "write_config(conf, cnf_dict_fn)"
   ]
  },
  {
   "cell_type": "code",
   "execution_count": null,
   "metadata": {},
   "outputs": [],
   "source": [
    "delete_config('anon2hc_4c_2d_2y', cnf_dict_fn)"
   ]
  },
  {
   "cell_type": "code",
   "execution_count": null,
   "metadata": {},
   "outputs": [],
   "source": [
    "conf['cols_y']=['y0', 'y1']"
   ]
  },
  {
   "cell_type": "code",
   "execution_count": null,
   "metadata": {},
   "outputs": [],
   "source": [
    "keys = config_keys(cnf_dict_fn)"
   ]
  },
  {
   "cell_type": "code",
   "execution_count": null,
   "metadata": {},
   "outputs": [
    {
     "data": {
      "text/plain": [
       "['anon_10sl_4c_2d_1yml',\n",
       " 'anon_10sl_6c_1yml',\n",
       " 'anon_10sl_6c_1yhc',\n",
       " 'anon_10sl_6c_2y',\n",
       " 'anon_10sl_4c_2d_1yhc',\n",
       " 'anon_10sl_4c_2d_2y',\n",
       " 'anon_20sl_4c_2d_2y',\n",
       " 'anon_30sl_4c_2d_2y',\n",
       " 'anon_10sl_4c_2d_4tc_4cat_2y']"
      ]
     },
     "execution_count": null,
     "metadata": {},
     "output_type": "execute_result"
    }
   ],
   "source": [
    "keys"
   ]
  },
  {
   "cell_type": "code",
   "execution_count": null,
   "metadata": {},
   "outputs": [],
   "source": [
    "config_loaded = read_config('anon_10sl_4c_2d_4tc_4cat_2y', cnf_dict_fn)"
   ]
  },
  {
   "cell_type": "code",
   "execution_count": null,
   "metadata": {},
   "outputs": [
    {
     "data": {
      "text/plain": [
       "{'cols_c': [['x0_0',\n",
       "   'x0_1',\n",
       "   'x0_2',\n",
       "   'x0_3',\n",
       "   'x0_4',\n",
       "   'x0_5',\n",
       "   'x0_6',\n",
       "   'x0_7',\n",
       "   'x0_8',\n",
       "   'x0_9'],\n",
       "  ['x1_0',\n",
       "   'x1_1',\n",
       "   'x1_2',\n",
       "   'x1_3',\n",
       "   'x1_4',\n",
       "   'x1_5',\n",
       "   'x1_6',\n",
       "   'x1_7',\n",
       "   'x1_8',\n",
       "   'x1_9'],\n",
       "  ['x3_0',\n",
       "   'x3_1',\n",
       "   'x3_2',\n",
       "   'x3_3',\n",
       "   'x3_4',\n",
       "   'x3_5',\n",
       "   'x3_6',\n",
       "   'x3_7',\n",
       "   'x3_8',\n",
       "   'x3_9'],\n",
       "  ['x4_0',\n",
       "   'x4_1',\n",
       "   'x4_2',\n",
       "   'x4_3',\n",
       "   'x4_4',\n",
       "   'x4_5',\n",
       "   'x4_6',\n",
       "   'x4_7',\n",
       "   'x4_8',\n",
       "   'x4_9']],\n",
       " 'cols_d': [['x2_0',\n",
       "   'x2_1',\n",
       "   'x2_2',\n",
       "   'x2_3',\n",
       "   'x2_4',\n",
       "   'x2_5',\n",
       "   'x2_6',\n",
       "   'x2_7',\n",
       "   'x2_8',\n",
       "   'x2_9'],\n",
       "  ['x5_0',\n",
       "   'x5_1',\n",
       "   'x5_2',\n",
       "   'x5_3',\n",
       "   'x5_4',\n",
       "   'x5_5',\n",
       "   'x5_6',\n",
       "   'x5_7',\n",
       "   'x5_8',\n",
       "   'x5_9']],\n",
       " 'cols_y': ['y0', 'y1'],\n",
       " 'id': 'anon_10sl_4c_2d_4tc_4cat_2y',\n",
       " 'cols_cont': ['tc0', 'tc1', 'tc2', 'tc3'],\n",
       " 'cols_cat': ['tcat0', 'tcat1', 'tcat2', 'tcat3']}"
      ]
     },
     "execution_count": null,
     "metadata": {},
     "output_type": "execute_result"
    }
   ],
   "source": [
    "config_loaded"
   ]
  },
  {
   "cell_type": "code",
   "execution_count": null,
   "metadata": {},
   "outputs": [],
   "source": [
    "conf['cols_y']='y1'"
   ]
  },
  {
   "cell_type": "code",
   "execution_count": null,
   "metadata": {},
   "outputs": [],
   "source": [
    "conf['id'] = 'anon2hc_4c_2d_2y'"
   ]
  },
  {
   "cell_type": "code",
   "execution_count": null,
   "metadata": {},
   "outputs": [],
   "source": []
  },
  {
   "cell_type": "code",
   "execution_count": null,
   "metadata": {},
   "outputs": [],
   "source": [
    "write_config(conf, cnf_dict_fn)"
   ]
  },
  {
   "cell_type": "code",
   "execution_count": null,
   "metadata": {},
   "outputs": [
    {
     "data": {
      "text/plain": [
       "['anon2hc_4c_2d_y', 'anon10hc_6c_y', 'anon2hc_4c_2d_yhc', 'anon2hc_4c_2d_2y']"
      ]
     },
     "execution_count": null,
     "metadata": {},
     "output_type": "execute_result"
    }
   ],
   "source": [
    "config_keys(cnf_dict_fn)"
   ]
  },
  {
   "cell_type": "code",
   "execution_count": null,
   "metadata": {},
   "outputs": [
    {
     "data": {
      "text/plain": [
       "False"
      ]
     },
     "execution_count": null,
     "metadata": {},
     "output_type": "execute_result"
    }
   ],
   "source": [
    "Path(cnf_dict_fn).is_file()"
   ]
  },
  {
   "cell_type": "code",
   "execution_count": null,
   "metadata": {},
   "outputs": [
    {
     "name": "stdout",
     "output_type": "stream",
     "text": [
      "config2.json does not exist, creating new config_dict\n"
     ]
    }
   ],
   "source": [
    "write_config(col_config, config_fn=cnf_dict_fn)"
   ]
  },
  {
   "cell_type": "code",
   "execution_count": null,
   "metadata": {},
   "outputs": [
    {
     "data": {
      "text/plain": [
       "True"
      ]
     },
     "execution_count": null,
     "metadata": {},
     "output_type": "execute_result"
    }
   ],
   "source": [
    "Path(cnf_dict_fn).is_file()"
   ]
  },
  {
   "cell_type": "code",
   "execution_count": null,
   "metadata": {},
   "outputs": [],
   "source": [
    "#manual config\n",
    "#col_config is a column configuration\n",
    "col_config = dict()\n",
    "col_config['cols_c'] = [[f'x{i}_{j}' for j in range(10)] for i in [0,1,3,4]]\n",
    "col_config['cols_d'] = [[f'x{i}_{j}' for j in range(10)] for i in [2,5]]\n",
    "col_config['cols_y']= 'y0'\n",
    "col_config['id']='anonMODhc_4c_2d_y'  ## put it all in one config file with this unique identifier"
   ]
  },
  {
   "cell_type": "code",
   "execution_count": null,
   "metadata": {},
   "outputs": [],
   "source": [
    "write_config(col_config, config_fn=cnf_dict_fn)"
   ]
  },
  {
   "cell_type": "code",
   "execution_count": null,
   "metadata": {},
   "outputs": [
    {
     "name": "stdout",
     "output_type": "stream",
     "text": [
      "{\"anon2hc_4c_2d_y\": {\"cols_c\": [[\"x0_0\", \"x0_1\", \"x0_2\", \"x0_3\", \"x0_4\", \"x0_5\", \"x0_6\", \"x0_7\", \"x0_8\", \"x0_9\"], [\"x1_0\", \"x1_1\", \"x1_2\", \"x1_3\", \"x1_4\", \"x1_5\", \"x1_6\", \"x1_7\", \"x1_8\", \"x1_9\"], [\"x3_0\", \"x3_1\", \"x3_2\", \"x3_3\", \"x3_4\", \"x3_5\", \"x3_6\", \"x3_7\", \"x3_8\", \"x3_9\"], [\"x4_0\", \"x4_1\", \"x4_2\", \"x4_3\", \"x4_4\", \"x4_5\", \"x4_6\", \"x4_7\", \"x4_8\", \"x4_9\"]], \"cols_d\": [[\"x2_0\", \"x2_1\", \"x2_2\", \"x2_3\", \"x2_4\", \"x2_5\", \"x2_6\", \"x2_7\", \"x2_8\", \"x2_9\"], [\"x5_0\", \"x5_1\", \"x5_2\", \"x5_3\", \"x5_4\", \"x5_5\", \"x5_6\", \"x5_7\", \"x5_8\", \"x5_9\"]], \"cols_y\": \"y0\", \"id\": \"anon2hc_4c_2d_y\"}, \"anonMODhc_4c_2d_y\": {\"cols_c\": [[\"x0_0\", \"x0_1\", \"x0_2\", \"x0_3\", \"x0_4\", \"x0_5\", \"x0_6\", \"x0_7\", \"x0_8\", \"x0_9\"], [\"x1_0\", \"x1_1\", \"x1_2\", \"x1_3\", \"x1_4\", \"x1_5\", \"x1_6\", \"x1_7\", \"x1_8\", \"x1_9\"], [\"x3_0\", \"x3_1\", \"x3_2\", \"x3_3\", \"x3_4\", \"x3_5\", \"x3_6\", \"x3_7\", \"x3_8\", \"x3_9\"], [\"x4_0\", \"x4_1\", \"x4_2\", \"x4_3\", \"x4_4\", \"x4_5\", \"x4_6\", \"x4_7\", \"x4_8\", \"x4_9\"]], \"cols_d\": [[\"x2_0\", \"x2_1\", \"x2_2\", \"x2_3\", \"x2_4\", \"x2_5\", \"x2_6\", \"x2_7\", \"x2_8\", \"x2_9\"], [\"x5_0\", \"x5_1\", \"x5_2\", \"x5_3\", \"x5_4\", \"x5_5\", \"x5_6\", \"x5_7\", \"x5_8\", \"x5_9\"]], \"cols_y\": \"y0\", \"id\": \"anonMODhc_4c_2d_y\"}}\n",
      "\u001b[K\u001b[7m(END)\u001b[m\u001b[KEND)\u001b[m\u001b[K\u0007"
     ]
    }
   ],
   "source": [
    "!less config2.json"
   ]
  },
  {
   "cell_type": "code",
   "execution_count": null,
   "metadata": {},
   "outputs": [
    {
     "name": "stdout",
     "output_type": "stream",
     "text": [
      "{'anon2hc_4c_2d_y': {'cols_c': [['x0_0', 'x0_1', 'x0_2', 'x0_3', 'x0_4', 'x0_5', 'x0_6', 'x0_7', 'x0_8', 'x0_9'], ['x1_0', 'x1_1', 'x1_2', 'x1_3', 'x1_4', 'x1_5', 'x1_6', 'x1_7', 'x1_8', 'x1_9'], ['x3_0', 'x3_1', 'x3_2', 'x3_3', 'x3_4', 'x3_5', 'x3_6', 'x3_7', 'x3_8', 'x3_9'], ['x4_0', 'x4_1', 'x4_2', 'x4_3', 'x4_4', 'x4_5', 'x4_6', 'x4_7', 'x4_8', 'x4_9']], 'cols_d': [['x2_0', 'x2_1', 'x2_2', 'x2_3', 'x2_4', 'x2_5', 'x2_6', 'x2_7', 'x2_8', 'x2_9'], ['x5_0', 'x5_1', 'x5_2', 'x5_3', 'x5_4', 'x5_5', 'x5_6', 'x5_7', 'x5_8', 'x5_9']], 'cols_y': 'y0', 'id': 'anon2hc_4c_2d_y'}, 'anonMODhc_4c_2d_y': {'cols_c': [['x0_0', 'x0_1', 'x0_2', 'x0_3', 'x0_4', 'x0_5', 'x0_6', 'x0_7', 'x0_8', 'x0_9'], ['x1_0', 'x1_1', 'x1_2', 'x1_3', 'x1_4', 'x1_5', 'x1_6', 'x1_7', 'x1_8', 'x1_9'], ['x3_0', 'x3_1', 'x3_2', 'x3_3', 'x3_4', 'x3_5', 'x3_6', 'x3_7', 'x3_8', 'x3_9'], ['x4_0', 'x4_1', 'x4_2', 'x4_3', 'x4_4', 'x4_5', 'x4_6', 'x4_7', 'x4_8', 'x4_9']], 'cols_d': [['x2_0', 'x2_1', 'x2_2', 'x2_3', 'x2_4', 'x2_5', 'x2_6', 'x2_7', 'x2_8', 'x2_9'], ['x5_0', 'x5_1', 'x5_2', 'x5_3', 'x5_4', 'x5_5', 'x5_6', 'x5_7', 'x5_8', 'x5_9']], 'cols_y': 'y0', 'id': 'anonMODhc_4c_2d_y'}, 'anon10hc_6c_y': {'cols_c': [['x0_0', 'x0_1', 'x0_2', 'x0_3', 'x0_4', 'x0_5', 'x0_6', 'x0_7', 'x0_8', 'x0_9'], ['x1_0', 'x1_1', 'x1_2', 'x1_3', 'x1_4', 'x1_5', 'x1_6', 'x1_7', 'x1_8', 'x1_9'], ['x2_0', 'x2_1', 'x2_2', 'x2_3', 'x2_4', 'x2_5', 'x2_6', 'x2_7', 'x2_8', 'x2_9'], ['x3_0', 'x3_1', 'x3_2', 'x3_3', 'x3_4', 'x3_5', 'x3_6', 'x3_7', 'x3_8', 'x3_9'], ['x4_0', 'x4_1', 'x4_2', 'x4_3', 'x4_4', 'x4_5', 'x4_6', 'x4_7', 'x4_8', 'x4_9'], ['x5_0', 'x5_1', 'x5_2', 'x5_3', 'x5_4', 'x5_5', 'x5_6', 'x5_7', 'x5_8', 'x5_9']], 'cols_d': None, 'cols_y': 'y0', 'id': 'anon10hc_6c_y'}}\n",
      "{'cols_c': [['x0_0', 'x0_1', 'x0_2', 'x0_3', 'x0_4', 'x0_5', 'x0_6', 'x0_7', 'x0_8', 'x0_9'], ['x1_0', 'x1_1', 'x1_2', 'x1_3', 'x1_4', 'x1_5', 'x1_6', 'x1_7', 'x1_8', 'x1_9'], ['x3_0', 'x3_1', 'x3_2', 'x3_3', 'x3_4', 'x3_5', 'x3_6', 'x3_7', 'x3_8', 'x3_9'], ['x4_0', 'x4_1', 'x4_2', 'x4_3', 'x4_4', 'x4_5', 'x4_6', 'x4_7', 'x4_8', 'x4_9']], 'cols_d': [['x2_0', 'x2_1', 'x2_2', 'x2_3', 'x2_4', 'x2_5', 'x2_6', 'x2_7', 'x2_8', 'x2_9'], ['x5_0', 'x5_1', 'x5_2', 'x5_3', 'x5_4', 'x5_5', 'x5_6', 'x5_7', 'x5_8', 'x5_9']], 'cols_y': 'y0', 'id': 'anon2hc_4c_2d_y'}\n"
     ]
    }
   ],
   "source": [
    "col_config_back = read_config('anon2hc_4c_2d_y', config_fn='config2.json')"
   ]
  },
  {
   "cell_type": "code",
   "execution_count": null,
   "metadata": {},
   "outputs": [
    {
     "data": {
      "text/plain": [
       "{'cols_c': [['x0_0',\n",
       "   'x0_1',\n",
       "   'x0_2',\n",
       "   'x0_3',\n",
       "   'x0_4',\n",
       "   'x0_5',\n",
       "   'x0_6',\n",
       "   'x0_7',\n",
       "   'x0_8',\n",
       "   'x0_9'],\n",
       "  ['x1_0',\n",
       "   'x1_1',\n",
       "   'x1_2',\n",
       "   'x1_3',\n",
       "   'x1_4',\n",
       "   'x1_5',\n",
       "   'x1_6',\n",
       "   'x1_7',\n",
       "   'x1_8',\n",
       "   'x1_9'],\n",
       "  ['x3_0',\n",
       "   'x3_1',\n",
       "   'x3_2',\n",
       "   'x3_3',\n",
       "   'x3_4',\n",
       "   'x3_5',\n",
       "   'x3_6',\n",
       "   'x3_7',\n",
       "   'x3_8',\n",
       "   'x3_9'],\n",
       "  ['x4_0',\n",
       "   'x4_1',\n",
       "   'x4_2',\n",
       "   'x4_3',\n",
       "   'x4_4',\n",
       "   'x4_5',\n",
       "   'x4_6',\n",
       "   'x4_7',\n",
       "   'x4_8',\n",
       "   'x4_9']],\n",
       " 'cols_d': [['x2_0',\n",
       "   'x2_1',\n",
       "   'x2_2',\n",
       "   'x2_3',\n",
       "   'x2_4',\n",
       "   'x2_5',\n",
       "   'x2_6',\n",
       "   'x2_7',\n",
       "   'x2_8',\n",
       "   'x2_9'],\n",
       "  ['x5_0',\n",
       "   'x5_1',\n",
       "   'x5_2',\n",
       "   'x5_3',\n",
       "   'x5_4',\n",
       "   'x5_5',\n",
       "   'x5_6',\n",
       "   'x5_7',\n",
       "   'x5_8',\n",
       "   'x5_9']],\n",
       " 'cols_y': 'y0',\n",
       " 'id': 'anon2hc_4c_2d_y'}"
      ]
     },
     "execution_count": null,
     "metadata": {},
     "output_type": "execute_result"
    }
   ],
   "source": [
    "col_config_back"
   ]
  },
  {
   "cell_type": "markdown",
   "metadata": {},
   "source": [
    "### Legacy Code"
   ]
  },
  {
   "cell_type": "code",
   "execution_count": null,
   "metadata": {},
   "outputs": [],
   "source": [
    "#export\n",
    "#copied from datasets\n",
    "def get_simple_config(discrete=False):\n",
    "    '''get a simple column configuration for development'''\n",
    "    if not discrete:\n",
    "        x_cols = [[f'x{i}_{j}' for j in range(10)] for i in range(6)]\n",
    "    else:\n",
    "        x_cols_cont = [[f'x{i}_{j}' for j in range(10)] for i in [0,1,3,4]] \n",
    "        x_cols_discrete = [[f'x{i}_{j}' for j in range(10)] for i in [2,5]]\n",
    "        x_cols = x_cols_cont, x_cols_discrete\n",
    "    dep = 'y0'\n",
    "    n_train = 8000\n",
    "    \n",
    "    return x_cols, dep, n_train"
   ]
  },
  {
   "cell_type": "code",
   "execution_count": null,
   "metadata": {},
   "outputs": [],
   "source": [
    "#export\n",
    "#copied from datablock\n",
    "def get_discrete_config():\n",
    "    '''get a simple column configuration for development'''\n",
    "    x_cols_cont = [[f'x{i}_{j}' for j in range(10)] for i in [0,1,3,4]] \n",
    "    x_cols_discrete = [[f'x{i}_{j}' for j in range(10)] for i in [2,5]]\n",
    "    dep = 'y0'\n",
    "    n_train = 8000\n",
    "    \n",
    "    return x_cols_cont, x_cols_discrete, dep, n_train"
   ]
  }
 ],
 "metadata": {
  "kernelspec": {
   "display_name": "Python [conda env:ttools]",
   "language": "python",
   "name": "conda-env-ttools-py"
  }
 },
 "nbformat": 4,
 "nbformat_minor": 2
}
