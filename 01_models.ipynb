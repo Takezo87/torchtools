{
 "cells": [
  {
   "cell_type": "code",
   "execution_count": null,
   "metadata": {},
   "outputs": [],
   "source": [
    "# default_exp models"
   ]
  },
  {
   "cell_type": "markdown",
   "metadata": {},
   "source": [
    "## models"
   ]
  },
  {
   "cell_type": "code",
   "execution_count": null,
   "metadata": {},
   "outputs": [],
   "source": [
    "#hide\n",
    "from torchtools.core import *"
   ]
  },
  {
   "cell_type": "code",
   "execution_count": null,
   "metadata": {},
   "outputs": [],
   "source": [
    "#export\n",
    "import torch.nn as nn\n",
    "import torch as torch\n",
    "import torch.nn.functional as F\n",
    "\n",
    "from functools import partial"
   ]
  },
  {
   "cell_type": "code",
   "execution_count": null,
   "metadata": {},
   "outputs": [
    {
     "data": {
      "text/plain": [
       "'1.3.1'"
      ]
     },
     "execution_count": null,
     "metadata": {},
     "output_type": "execute_result"
    }
   ],
   "source": [
    "torch.__version__"
   ]
  },
  {
   "cell_type": "code",
   "execution_count": null,
   "metadata": {},
   "outputs": [
    {
     "data": {
      "text/plain": [
       "tensor([-0.7616])"
      ]
     },
     "execution_count": null,
     "metadata": {},
     "output_type": "execute_result"
    }
   ],
   "source": [
    "torch.sigmoid(torch.tensor([-2.])) * (1 - -1) + -1"
   ]
  },
  {
   "cell_type": "code",
   "execution_count": null,
   "metadata": {},
   "outputs": [],
   "source": []
  },
  {
   "cell_type": "code",
   "execution_count": null,
   "metadata": {},
   "outputs": [
    {
     "data": {
      "text/plain": [
       "[<matplotlib.lines.Line2D at 0x7f01b00f21d0>]"
      ]
     },
     "execution_count": null,
     "metadata": {},
     "output_type": "execute_result"
    },
    {
     "data": {
      "image/png": "[encoded data removed]",
      "text/plain": [
       "<Figure size 432x288 with 1 Axes>"
      ]
     },
     "metadata": {
      "needs_background": "light"
     },
     "output_type": "display_data"
    }
   ],
   "source": [
    "import matplotlib.pyplot as plt\n",
    "t = torch.arange(-10,10).float()\n",
    "# plt.plot(t)\n",
    "plt.plot(F.softplus(t, beta=1))\n",
    "plt.plot(F.softplus(t, beta=3))"
   ]
  },
  {
   "cell_type": "code",
   "execution_count": null,
   "metadata": {},
   "outputs": [],
   "source": [
    "#export\n",
    "# This is an unofficial PyTorch implementation by Ignacio Oguiza - oguiza@gmail.com based on:\n",
    "\n",
    "# Fawaz, H. I., Lucas, B., Forestier, G., Pelletier, C., Schmidt, D. F., Weber, J., ... & Petitjean, F. (2019). InceptionTime: Finding AlexNet for Time Series Classification. arXiv preprint arXiv:1909.04939.\n",
    "# Official InceptionTime tensorflow implementation: https://github.com/hfawaz/InceptionTime\n",
    "\n",
    "\n",
    "def noop(x):\n",
    "    return x\n",
    "\n",
    "def shortcut(c_in, c_out):\n",
    "    return nn.Sequential(*[nn.Conv1d(c_in, c_out, kernel_size=1), \n",
    "                           nn.BatchNorm1d(c_out)])\n",
    "    \n",
    "class Inception(nn.Module):\n",
    "    def __init__(self, c_in, bottleneck=32, ks=40, nb_filters=32):\n",
    "\n",
    "        super().__init__()\n",
    "        self.bottleneck = nn.Conv1d(c_in, bottleneck, 1) if bottleneck and c_in > 1 else noop\n",
    "        mts_feat = bottleneck or c_in\n",
    "        conv_layers = []\n",
    "        kss = [ks // (2**i) for i in range(3)]\n",
    "        # ensure odd kss until nn.Conv1d with padding='same' is available in pytorch 1.3\n",
    "        kss = [ksi if ksi % 2 != 0 else ksi - 1 for ksi in kss]  \n",
    "        for i in range(len(kss)):\n",
    "            conv_layers.append(\n",
    "                nn.Conv1d(mts_feat, nb_filters, kernel_size=kss[i], padding=kss[i] // 2))\n",
    "        self.conv_layers = nn.ModuleList(conv_layers)\n",
    "        self.maxpool = nn.MaxPool1d(3, stride=1, padding=1)\n",
    "        self.conv = nn.Conv1d(c_in, nb_filters, kernel_size=1)\n",
    "        self.bn = nn.BatchNorm1d(nb_filters * 4)\n",
    "        self.act = nn.ReLU()\n",
    "\n",
    "    def forward(self, x):\n",
    "        input_tensor = x.to(torch.float)\n",
    "        x = self.bottleneck(input_tensor)\n",
    "        for i in range(3):\n",
    "            out_ = self.conv_layers[i](x)\n",
    "            if i == 0: out = out_\n",
    "            else: out = torch.cat((out, out_), 1)\n",
    "        mp = self.conv(self.maxpool(input_tensor))\n",
    "        inc_out = torch.cat((out, mp), 1)\n",
    "        return self.act(self.bn(inc_out))\n",
    "\n",
    "\n",
    "class InceptionBlock(nn.Module):\n",
    "    def __init__(self,c_in,bottleneck=32,ks=40,nb_filters=32,residual=True,depth=6):\n",
    "\n",
    "        super().__init__()\n",
    "\n",
    "        self.residual = residual\n",
    "        self.depth = depth\n",
    "\n",
    "        #inception & residual layers\n",
    "        inc_mods = []\n",
    "        res_layers = []\n",
    "        res = 0\n",
    "        for d in range(depth):\n",
    "            inc_mods.append(\n",
    "                Inception(c_in if d == 0 else nb_filters * 4, bottleneck=bottleneck if d > 0 else 0,ks=ks,\n",
    "                          nb_filters=nb_filters))\n",
    "            if self.residual and d % 3 == 2:\n",
    "                res_layers.append(shortcut(c_in if res == 0 else nb_filters * 4, nb_filters * 4))\n",
    "                res += 1\n",
    "            else: res_layer = res_layers.append(None)\n",
    "        self.inc_mods = nn.ModuleList(inc_mods)\n",
    "        self.res_layers = nn.ModuleList(res_layers)\n",
    "        self.act = nn.ReLU()\n",
    "        \n",
    "    def forward(self, x):\n",
    "        res = x\n",
    "        for d, l in enumerate(range(self.depth)):\n",
    "            x = self.inc_mods[d](x)\n",
    "            if self.residual and d % 3 == 2:\n",
    "                res = self.res_layers[d](res)\n",
    "                x += res\n",
    "                res = x\n",
    "                x = self.act(x)\n",
    "        return x"
   ]
  },
  {
   "cell_type": "code",
   "execution_count": null,
   "metadata": {},
   "outputs": [],
   "source": [
    "#export    \n",
    "class InceptionTime(nn.Module):\n",
    "    def __init__(self,c_in,c_out,bottleneck=32,ks=40,nb_filters=32,residual=True,depth=6):\n",
    "        super().__init__()\n",
    "        self.block = InceptionBlock(c_in,bottleneck=bottleneck,ks=ks,nb_filters=nb_filters,\n",
    "                                    residual=residual,depth=depth)\n",
    "        self.gap = nn.AdaptiveAvgPool1d(1)\n",
    "        self.fc = nn.Linear(nb_filters * 4, c_out)\n",
    "\n",
    "    def forward(self, x):\n",
    "        x = self.block(x)\n",
    "        x = self.gap(x).squeeze(-1)\n",
    "        x = self.fc(x)\n",
    "        return x"
   ]
  },
  {
   "cell_type": "code",
   "execution_count": null,
   "metadata": {},
   "outputs": [],
   "source": [
    "#export\n",
    "class Sigmoid(nn.Module):\n",
    "    '''\n",
    "    sigmoid layer\n",
    "    '''\n",
    "    def __init__(self, low, high):\n",
    "        super().__init__()\n",
    "        self.high, self.low = high, low\n",
    "        \n",
    "    def forward(self, x):\n",
    "        return torch.sigmoid(x)*(self.high-self.low)+self.low"
   ]
  },
  {
   "cell_type": "code",
   "execution_count": null,
   "metadata": {},
   "outputs": [],
   "source": [
    "#export\n",
    "class InceptionTimeSgmOld(nn.Module):\n",
    "    '''\n",
    "    add a sigmoid layer to InceptionTime to get the ouput in a certain range\n",
    "    '''\n",
    "    \n",
    "    def __init__(self, n_in, n_out):\n",
    "        super().__init__()\n",
    "        nn.Sequential()\n",
    "        self.inc = InceptionTime(n_in, n_out)\n",
    "        self.low, self.high = -1., 1.\n",
    "        \n",
    "    def forward(self, x):\n",
    "        return torch.sigmoid(self.inc(x)) * (self.high - self.low) + self.low\n",
    "        "
   ]
  },
  {
   "cell_type": "code",
   "execution_count": null,
   "metadata": {},
   "outputs": [],
   "source": [
    "#export\n",
    "class InceptionTimeSgm(nn.Module):\n",
    "    '''\n",
    "    add a sigmoid layer to InceptionTime to get the ouput in a certain range\n",
    "    '''\n",
    "    \n",
    "    def __init__(self, n_in, n_out, range=(-1,1)):\n",
    "        super().__init__()\n",
    "        self.mod = nn.Sequential(InceptionTime(n_in, n_out), Sigmoid(*range))\n",
    "        \n",
    "    def forward(self, x):\n",
    "        x = x.float()\n",
    "        return self.mod(x)\n",
    "        "
   ]
  },
  {
   "cell_type": "code",
   "execution_count": null,
   "metadata": {},
   "outputs": [],
   "source": [
    "#export\n",
    "class InceptionTimeD(nn.Module):\n",
    "    '''\n",
    "    add a sigmoid layer to InceptionTime to get the ouput in a certain range\n",
    "    '''\n",
    "    \n",
    "    def __init__(self, n_in, n_out):\n",
    "        super().__init__()\n",
    "        self.mod = nn.Sequential(InceptionTime(n_in, n_out), Sigmoid(-1., 1.))\n",
    "        \n",
    "    def forward(self, xc, xd):\n",
    "        x = torch.cat([xc.float(), xd.float()], dim=-2)\n",
    "        x = x.float()\n",
    "#         print(f'InceptionTimeSgm dtype {x.dtype}')\n",
    "        return self.mod(x)"
   ]
  },
  {
   "cell_type": "markdown",
   "metadata": {},
   "source": [
    "### Development"
   ]
  },
  {
   "cell_type": "code",
   "execution_count": null,
   "metadata": {},
   "outputs": [],
   "source": [
    "#export\n",
    "class InceptionTimeVar(nn.Module):\n",
    "    '''\n",
    "    output mean and variance\n",
    "    regression model, sigmoid for the mean output optional\n",
    "    '''\n",
    "    \n",
    "    def __init__(self, n_in, n_out, meanrange=None):\n",
    "        super().__init__()\n",
    "        models  = [InceptionTime(n_in, n_out+1)]\n",
    "        if meanrange:\n",
    "            self.sigmoid = Sigmoid(*meanrange)\n",
    "        self.mod = nn.Sequential(*models)\n",
    "        \n",
    "    def forward(self, x):\n",
    "        x = x.float()\n",
    "        output = self.mod(x)\n",
    "        ## enforce positivity of sigma^2\n",
    "        ##output_sig_pos = tf.log(1 + tf.exp(output_sig)) + 1e-06\n",
    "#         output[:,-1] = (output[:,-1].exp()+1).log_() + 1e-06\n",
    "        output[:,-1] = F.softplus(output[:,-1])\n",
    "        \n",
    "        if getattr(self, 'sigmoid', None): output[:,:-1] = self.sigmoid(output[:,:-1])\n",
    "        return output\n",
    "        "
   ]
  },
  {
   "cell_type": "code",
   "execution_count": null,
   "metadata": {},
   "outputs": [],
   "source": [
    "# model sanity checks\n",
    "xb = torch.randn((128,10,100))\n",
    "yb = torch.rand(128,1)\n",
    "model = InceptionTimeVar(10,1)\n",
    "\n",
    "preds = model(xb)\n",
    "assert preds.shape == (128,2)"
   ]
  },
  {
   "cell_type": "code",
   "execution_count": null,
   "metadata": {},
   "outputs": [],
   "source": [
    "#export\n",
    "def nll_regression(preds, y_true, c=5):\n",
    "    '''\n",
    "    negative log likelihood loss for regression, both mu and sigma are predicted\n",
    "    \n",
    "    Simple and Scalable Predictive UncertaintyEstimation using Deep Ensembles\n",
    "    Balaji Lakshminarayanan, Alexander Pritzel, Charles Blundell, DeepMind\n",
    "\n",
    "    '''\n",
    "    \n",
    "    s1 = 0.5*preds[:,1].log() \n",
    "    s2 = 0.5*(yb.squeeze()-preds[:,0]).pow(2).div(preds[:,1])\n",
    "    loss = (s1+s2).mean() + c\n",
    "    return loss"
   ]
  },
  {
   "cell_type": "code",
   "execution_count": null,
   "metadata": {},
   "outputs": [],
   "source": [
    "#export\n",
    "def nll_leaky_loss(preds, y_true, c=5, alpha=0.5):\n",
    "    '''\n",
    "    leaky_loss with variance\n",
    "    \n",
    "    Simple and Scalable Predictive UncertaintyEstimation using Deep Ensembles\n",
    "    Balaji Lakshminarayanan, Alexander Pritzel, Charles Blundell, DeepMind\n",
    "\n",
    "    '''\n",
    "    \n",
    "    s1 = 0.5*preds[:,1].log() \n",
    "    l1 = -F.leaky_relu(preds[:,0], alpha)*y_true.float().squeeze()\n",
    "    s2 = 0.5*(l1.div(preds[:,1]+1)) ## +1 to prevent optimizing for variance, maybe just an artifical problem\n",
    "    loss = (s1+s2).mean() + c\n",
    "    return loss"
   ]
  },
  {
   "cell_type": "code",
   "execution_count": null,
   "metadata": {},
   "outputs": [
    {
     "name": "stdout",
     "output_type": "stream",
     "text": [
      "tensor(4.7944, grad_fn=<AddBackward0>)\n"
     ]
    }
   ],
   "source": [
    "loss = nll_leaky_loss(preds, yb)\n",
    "\n",
    "print(loss)"
   ]
  },
  {
   "cell_type": "code",
   "execution_count": null,
   "metadata": {},
   "outputs": [],
   "source": [
    "model_var = InceptionTimeVar(10,1,meanrange=(-1,1))"
   ]
  },
  {
   "cell_type": "code",
   "execution_count": null,
   "metadata": {},
   "outputs": [
    {
     "name": "stdout",
     "output_type": "stream",
     "text": [
      "tensor(4.7193, grad_fn=<AddBackward0>)\n",
      "tensor(4.6247, grad_fn=<AddBackward0>)\n",
      "tensor(4.5210, grad_fn=<AddBackward0>)\n",
      "tensor(4.4083, grad_fn=<AddBackward0>)\n",
      "tensor(4.2872, grad_fn=<AddBackward0>)\n",
      "tensor(4.1583, grad_fn=<AddBackward0>)\n",
      "tensor(4.0228, grad_fn=<AddBackward0>)\n",
      "tensor(3.8817, grad_fn=<AddBackward0>)\n",
      "tensor(3.7362, grad_fn=<AddBackward0>)\n",
      "tensor(3.5873, grad_fn=<AddBackward0>)\n"
     ]
    }
   ],
   "source": [
    "#simple training loop\n",
    "\n",
    "lr = 0.01\n",
    "epochs = 10\n",
    "loss_fn = nll_regression\n",
    "m = model_var\n",
    "loss_fn = nll_leaky_loss\n",
    "\n",
    "\n",
    "for i in range(epochs):\n",
    "    preds = m(xb)\n",
    "    loss = loss_fn(preds, yb)\n",
    "    print(loss)\n",
    "    loss.backward()\n",
    "    with torch.no_grad():\n",
    "        for p in m.parameters():\n",
    "            p.sub_(lr*p.grad)\n",
    "    m.zero_grad()"
   ]
  },
  {
   "cell_type": "code",
   "execution_count": null,
   "metadata": {},
   "outputs": [
    {
     "data": {
      "text/plain": [
       "tensor(0.4946)"
      ]
     },
     "execution_count": null,
     "metadata": {},
     "output_type": "execute_result"
    }
   ],
   "source": [
    "unweighted_profit(m(xb)[:,0], yb)"
   ]
  },
  {
   "cell_type": "code",
   "execution_count": null,
   "metadata": {},
   "outputs": [],
   "source": [
    "model_var = InceptionTimeVar(10,1)\n",
    "opt = torch.optim.Adam(model_var.parameters(), lr=0.001)"
   ]
  },
  {
   "cell_type": "code",
   "execution_count": null,
   "metadata": {},
   "outputs": [
    {
     "name": "stdout",
     "output_type": "stream",
     "text": [
      "tensor(5.4290, grad_fn=<AddBackward0>)\n",
      "tensor(5.0269, grad_fn=<AddBackward0>)\n",
      "tensor(4.8126, grad_fn=<AddBackward0>)\n",
      "tensor(4.6762, grad_fn=<AddBackward0>)\n",
      "tensor(4.5883, grad_fn=<AddBackward0>)\n",
      "tensor(4.5294, grad_fn=<AddBackward0>)\n",
      "tensor(4.4923, grad_fn=<AddBackward0>)\n",
      "tensor(4.4652, grad_fn=<AddBackward0>)\n",
      "tensor(4.4323, grad_fn=<AddBackward0>)\n",
      "tensor(4.3830, grad_fn=<AddBackward0>)\n"
     ]
    }
   ],
   "source": [
    "m = model_var\n",
    "for i in range(epochs):\n",
    "    preds = m(xb)\n",
    "    loss = nll_regression(preds, yb)\n",
    "    print(loss)\n",
    "    loss.backward()\n",
    "    with torch.no_grad():\n",
    "        opt.step()\n",
    "        opt.zero_grad()\n",
    "        "
   ]
  },
  {
   "cell_type": "code",
   "execution_count": null,
   "metadata": {},
   "outputs": [
    {
     "name": "stdout",
     "output_type": "stream",
     "text": [
      "tensor(5.1520, grad_fn=<AddBackward0>)\n",
      "tensor(0.)\n",
      "tensor(5.1394, grad_fn=<AddBackward0>)\n",
      "tensor(0.)\n",
      "tensor(5.1270, grad_fn=<AddBackward0>)\n",
      "tensor(0.)\n",
      "tensor(5.1148, grad_fn=<AddBackward0>)\n",
      "tensor(0.)\n",
      "tensor(5.1026, grad_fn=<AddBackward0>)\n",
      "tensor(0.)\n",
      "tensor(5.0905, grad_fn=<AddBackward0>)\n",
      "tensor(0.)\n",
      "tensor(5.0783, grad_fn=<AddBackward0>)\n",
      "tensor(0.)\n",
      "tensor(5.0660, grad_fn=<AddBackward0>)\n",
      "tensor(0.)\n",
      "tensor(5.0535, grad_fn=<AddBackward0>)\n",
      "tensor(0.)\n",
      "tensor(5.0408, grad_fn=<AddBackward0>)\n",
      "tensor(0.)\n"
     ]
    }
   ],
   "source": [
    "model_var = InceptionTimeVar(10,1,meanrange=(-10,5))\n",
    "m = model_var\n",
    "loss_fn = partial(nll_leaky_loss, alpha=0.5)\n",
    "epochs=10\n",
    "\n",
    "opt = torch.optim.Adam(m.parameters(), lr=1e-4)\n",
    "\n",
    "for i in range(epochs):\n",
    "    preds = m(xb)\n",
    "    loss = loss_fn(preds, yb)\n",
    "    print(loss)\n",
    "    print(unweighted_profit(preds[:,0], yb))\n",
    "    loss.backward()\n",
    "    with torch.no_grad():\n",
    "        opt.step()\n",
    "        opt.zero_grad()\n",
    "        "
   ]
  },
  {
   "cell_type": "code",
   "execution_count": null,
   "metadata": {},
   "outputs": [
    {
     "data": {
      "text/plain": [
       "tensor(0.)"
      ]
     },
     "execution_count": null,
     "metadata": {},
     "output_type": "execute_result"
    }
   ],
   "source": [
    "unweighted_profit(m(xb)[:,0],yb)"
   ]
  },
  {
   "cell_type": "code",
   "execution_count": null,
   "metadata": {},
   "outputs": [],
   "source": [
    "import numpy as np"
   ]
  },
  {
   "cell_type": "code",
   "execution_count": null,
   "metadata": {},
   "outputs": [
    {
     "data": {
      "text/plain": [
       "array([[-2.17,  0.8 ],\n",
       "       [-1.8 ,  0.75],\n",
       "       [-3.86,  0.76],\n",
       "       [-3.1 ,  0.73],\n",
       "       [-2.33,  0.75],\n",
       "       [-3.93,  0.74],\n",
       "       [-2.93,  0.75],\n",
       "       [-2.35,  0.72],\n",
       "       [-3.42,  0.78],\n",
       "       [-3.2 ,  0.74],\n",
       "       [-1.83,  0.83],\n",
       "       [-3.06,  0.71],\n",
       "       [-3.48,  0.8 ],\n",
       "       [-4.16,  0.73],\n",
       "       [-3.68,  0.76],\n",
       "       [-3.1 ,  0.69],\n",
       "       [-1.5 ,  0.76],\n",
       "       [-1.45,  0.79],\n",
       "       [-5.18,  0.68],\n",
       "       [-2.34,  0.76],\n",
       "       [-4.19,  0.66],\n",
       "       [-4.51,  0.66],\n",
       "       [-2.35,  0.8 ],\n",
       "       [-2.4 ,  0.82],\n",
       "       [-2.24,  0.73],\n",
       "       [-3.72,  0.72],\n",
       "       [-3.03,  0.74],\n",
       "       [-3.01,  0.72],\n",
       "       [-2.87,  0.77],\n",
       "       [-4.23,  0.71],\n",
       "       [-2.57,  0.83],\n",
       "       [-3.53,  0.7 ],\n",
       "       [-3.51,  0.74],\n",
       "       [-2.64,  0.68],\n",
       "       [-2.39,  0.78],\n",
       "       [-2.61,  0.76],\n",
       "       [-1.85,  0.77],\n",
       "       [-2.53,  0.76],\n",
       "       [-1.52,  0.74],\n",
       "       [-2.99,  0.74],\n",
       "       [-4.16,  0.75],\n",
       "       [-2.63,  0.7 ],\n",
       "       [-3.39,  0.71],\n",
       "       [-1.79,  0.76],\n",
       "       [-3.11,  0.73],\n",
       "       [-3.11,  0.67],\n",
       "       [-3.37,  0.71],\n",
       "       [-3.49,  0.81],\n",
       "       [-2.36,  0.75],\n",
       "       [-2.  ,  0.77],\n",
       "       [-3.13,  0.74],\n",
       "       [-2.73,  0.78],\n",
       "       [-3.4 ,  0.7 ],\n",
       "       [-2.06,  0.76],\n",
       "       [-1.51,  0.71],\n",
       "       [-3.2 ,  0.67],\n",
       "       [-1.8 ,  0.76],\n",
       "       [-2.58,  0.76],\n",
       "       [-2.24,  0.71],\n",
       "       [-3.05,  0.72],\n",
       "       [-2.82,  0.74],\n",
       "       [-2.73,  0.82],\n",
       "       [-4.15,  0.65],\n",
       "       [-2.79,  0.76],\n",
       "       [-1.93,  0.79],\n",
       "       [-2.85,  0.74],\n",
       "       [-3.91,  0.77],\n",
       "       [-4.43,  0.72],\n",
       "       [-2.14,  0.74],\n",
       "       [-4.33,  0.66],\n",
       "       [-2.22,  0.86],\n",
       "       [-3.27,  0.71],\n",
       "       [-2.87,  0.78],\n",
       "       [-4.13,  0.75],\n",
       "       [-4.44,  0.66],\n",
       "       [-3.48,  0.72],\n",
       "       [-3.49,  0.71],\n",
       "       [-2.37,  0.79],\n",
       "       [-1.89,  0.79],\n",
       "       [-4.88,  0.75],\n",
       "       [-2.9 ,  0.77],\n",
       "       [-3.53,  0.74],\n",
       "       [-3.69,  0.76],\n",
       "       [-3.33,  0.74],\n",
       "       [-2.63,  0.83],\n",
       "       [-2.1 ,  0.73],\n",
       "       [-2.99,  0.73],\n",
       "       [-2.43,  0.75],\n",
       "       [-2.7 ,  0.78],\n",
       "       [-2.76,  0.75],\n",
       "       [-3.92,  0.77],\n",
       "       [-1.77,  0.8 ],\n",
       "       [-1.19,  0.8 ],\n",
       "       [-3.92,  0.72],\n",
       "       [-1.82,  0.74],\n",
       "       [-3.02,  0.73],\n",
       "       [-3.69,  0.77],\n",
       "       [-1.8 ,  0.78],\n",
       "       [-2.65,  0.84],\n",
       "       [-2.96,  0.72],\n",
       "       [-3.71,  0.79],\n",
       "       [-4.7 ,  0.68],\n",
       "       [-1.71,  0.78],\n",
       "       [-2.74,  0.79],\n",
       "       [-1.77,  0.88],\n",
       "       [-1.62,  0.84],\n",
       "       [-3.2 ,  0.81],\n",
       "       [-3.12,  0.74],\n",
       "       [-2.73,  0.8 ],\n",
       "       [-1.64,  0.8 ],\n",
       "       [-4.35,  0.68],\n",
       "       [-2.69,  0.77],\n",
       "       [-1.41,  0.77],\n",
       "       [-0.88,  0.78],\n",
       "       [-1.67,  0.75],\n",
       "       [-4.48,  0.7 ],\n",
       "       [-3.3 ,  0.78],\n",
       "       [-1.41,  0.83],\n",
       "       [-1.58,  0.74],\n",
       "       [-1.22,  0.73],\n",
       "       [-4.23,  0.76],\n",
       "       [-3.92,  0.69],\n",
       "       [-2.95,  0.7 ],\n",
       "       [-2.48,  0.82],\n",
       "       [-2.73,  0.71],\n",
       "       [-3.36,  0.71],\n",
       "       [-3.71,  0.76],\n",
       "       [-3.5 ,  0.82]], dtype=float32)"
      ]
     },
     "execution_count": null,
     "metadata": {},
     "output_type": "execute_result"
    }
   ],
   "source": [
    "np.round(m(xb).detach().numpy(), 2)"
   ]
  },
  {
   "cell_type": "code",
   "execution_count": null,
   "metadata": {},
   "outputs": [],
   "source": [
    "x1 = torch.zeros(128,1)\n",
    "x2 = torch.ones(128,1)"
   ]
  },
  {
   "cell_type": "code",
   "execution_count": null,
   "metadata": {},
   "outputs": [],
   "source": [
    "x_p = torch.cat([x1,x2], dim=1)"
   ]
  },
  {
   "cell_type": "code",
   "execution_count": null,
   "metadata": {},
   "outputs": [
    {
     "data": {
      "text/plain": [
       "tensor(5.1679)"
      ]
     },
     "execution_count": null,
     "metadata": {},
     "output_type": "execute_result"
    }
   ],
   "source": [
    "nll_regression(x_p, yb)"
   ]
  },
  {
   "cell_type": "code",
   "execution_count": null,
   "metadata": {},
   "outputs": [
    {
     "data": {
      "text/plain": [
       "tensor([1.1095, 1.1603, 1.1815, 1.1474, 1.1794, 1.2441, 1.1129, 1.1118, 1.1436,\n",
       "        1.0182, 1.0465, 0.9802, 1.2020, 1.0536, 1.2171, 1.0186, 0.9801, 1.0531,\n",
       "        0.9563, 1.1134, 0.9458, 0.9907, 1.2233, 1.0600, 1.1663, 1.0706, 1.1901,\n",
       "        1.1641, 1.0343, 1.1157, 1.0153, 0.9864, 1.1957, 1.1244, 1.0309, 1.0621,\n",
       "        1.0693, 0.9547, 1.0510, 1.2013, 1.1592, 1.1030, 1.1770, 1.1139, 1.1817,\n",
       "        1.0980, 0.9601, 1.1749, 1.1532, 1.2252, 1.0789, 1.1025, 1.0111, 1.1277,\n",
       "        1.0475, 1.0164, 1.2084, 0.9721, 1.0259, 1.0407, 1.1503, 1.1958, 1.1083,\n",
       "        1.1249, 1.2411, 0.9974, 0.9957, 1.0811, 1.0228, 0.9572, 1.0547, 1.0277,\n",
       "        0.9785, 1.2495, 0.9694, 1.0753, 1.2210, 1.1757, 1.1876, 1.0128, 0.9789,\n",
       "        1.2055, 1.0980, 1.0387, 1.0779, 1.0374, 0.9951, 1.1748, 1.1349, 0.9995,\n",
       "        1.0444, 1.1635, 1.2683, 1.0247, 1.0698, 1.0439, 1.1007, 1.1141, 1.1531,\n",
       "        1.0812])"
      ]
     },
     "execution_count": null,
     "metadata": {},
     "output_type": "execute_result"
    }
   ],
   "source": [
    "t=torch.randn(100)\n",
    "torch.sigmoid(t)*(1.3-0.9)+0.9\n"
   ]
  },
  {
   "cell_type": "code",
   "execution_count": null,
   "metadata": {},
   "outputs": [
    {
     "data": {
      "text/plain": [
       "tensor([0.5913, 0.7275, 0.6183, 0.5189, 0.6616, 0.6775, 0.7000, 0.7109, 0.5841,\n",
       "        0.6315, 0.7232, 0.5411, 0.6829, 0.7191, 0.5508, 0.5162, 0.7131, 0.7207,\n",
       "        0.5158, 0.7128, 0.6950, 0.5704, 0.6903, 0.7302, 0.5538, 0.5747, 0.6909,\n",
       "        0.6565, 0.6839, 0.5790, 0.7144, 0.6901, 0.7021, 0.5765, 0.6108, 0.6747,\n",
       "        0.7227, 0.7173, 0.7185, 0.5146, 0.6119, 0.7285, 0.6731, 0.7155, 0.5086,\n",
       "        0.6942, 0.6788, 0.5290, 0.5611, 0.7158, 0.6941, 0.6132, 0.6277, 0.6278,\n",
       "        0.6790, 0.6894, 0.5219, 0.5740, 0.7114, 0.7063, 0.6639, 0.5869, 0.6681,\n",
       "        0.6533, 0.6566, 0.6462, 0.6430, 0.7135, 0.6631, 0.5016, 0.6098, 0.6257,\n",
       "        0.7183, 0.7010, 0.7022, 0.6265, 0.6993, 0.7100, 0.6913, 0.5921, 0.6228,\n",
       "        0.7095, 0.5008, 0.6969, 0.5941, 0.5423, 0.7106, 0.6369, 0.6663, 0.6127,\n",
       "        0.6994, 0.5936, 0.6483, 0.5113, 0.5580, 0.5715, 0.5325, 0.6815, 0.6862,\n",
       "        0.6572])"
      ]
     },
     "execution_count": null,
     "metadata": {},
     "output_type": "execute_result"
    }
   ],
   "source": [
    "torch.sigmoid(t)"
   ]
  },
  {
   "cell_type": "code",
   "execution_count": null,
   "metadata": {},
   "outputs": [],
   "source": [
    "F.sigmoid()"
   ]
  },
  {
   "cell_type": "code",
   "execution_count": null,
   "metadata": {},
   "outputs": [],
   "source": [
    "torch.ra"
   ]
  },
  {
   "cell_type": "code",
   "execution_count": null,
   "metadata": {},
   "outputs": [],
   "source": [
    "def _create_random_results(size):\n",
    "    high, low = 1.2, 0.9\n",
    "    res=torch.randn(size)\n",
    "    res = torch.sigmoid(res)*(high-low)+low\n",
    "    res *= -100\n",
    "    res[torch.rand(size)>0.5] = 100.\n",
    "    return res"
   ]
  },
  {
   "cell_type": "code",
   "execution_count": null,
   "metadata": {},
   "outputs": [],
   "source": [
    "yb = _create_random_results((128,1))"
   ]
  },
  {
   "cell_type": "code",
   "execution_count": null,
   "metadata": {},
   "outputs": [
    {
     "data": {
      "text/plain": [
       "tensor(38.1166, grad_fn=<AddBackward0>)"
      ]
     },
     "execution_count": null,
     "metadata": {},
     "output_type": "execute_result"
    }
   ],
   "source": [
    "nll_leaky_loss(preds, yb)"
   ]
  },
  {
   "cell_type": "code",
   "execution_count": null,
   "metadata": {},
   "outputs": [
    {
     "data": {
      "text/plain": [
       "tensor(-7.1893)"
      ]
     },
     "execution_count": null,
     "metadata": {},
     "output_type": "execute_result"
    }
   ],
   "source": [
    "yb.mean()"
   ]
  },
  {
   "cell_type": "code",
   "execution_count": null,
   "metadata": {},
   "outputs": [],
   "source": [
    "model_var = InceptionTimeVar(10,1,meanrange=(-1,1))\n",
    "m = model_var\n",
    "loss_fn = partial(nll_leaky_loss, alpha=0.5)\n",
    "epochs=20\n",
    "\n",
    "opt = torch.optim.Adam(m.parameters(), lr=1e-4)"
   ]
  },
  {
   "cell_type": "code",
   "execution_count": null,
   "metadata": {},
   "outputs": [
    {
     "name": "stdout",
     "output_type": "stream",
     "text": [
      "tensor(-5.8582, grad_fn=<AddBackward0>)\n",
      "tensor(-3.5385)\n",
      "tensor(-6.6025, grad_fn=<AddBackward0>)\n",
      "tensor(-3.4823)\n",
      "tensor(-7.3244, grad_fn=<AddBackward0>)\n",
      "tensor(-3.4261)\n",
      "tensor(-8.0178, grad_fn=<AddBackward0>)\n",
      "tensor(-3.4261)\n",
      "tensor(-8.6825, grad_fn=<AddBackward0>)\n",
      "tensor(-3.4261)\n",
      "tensor(-9.3129, grad_fn=<AddBackward0>)\n",
      "tensor(-3.4261)\n",
      "tensor(-9.9017, grad_fn=<AddBackward0>)\n",
      "tensor(-3.4261)\n",
      "tensor(-10.4434, grad_fn=<AddBackward0>)\n",
      "tensor(-3.4261)\n",
      "tensor(-10.9383, grad_fn=<AddBackward0>)\n",
      "tensor(-3.4261)\n",
      "tensor(-11.3915, grad_fn=<AddBackward0>)\n",
      "tensor(-3.4261)\n",
      "tensor(-11.8113, grad_fn=<AddBackward0>)\n",
      "tensor(-3.4261)\n",
      "tensor(-12.2062, grad_fn=<AddBackward0>)\n",
      "tensor(-3.4261)\n",
      "tensor(-12.5798, grad_fn=<AddBackward0>)\n",
      "tensor(-3.4261)\n",
      "tensor(-12.9334, grad_fn=<AddBackward0>)\n",
      "tensor(-3.4261)\n",
      "tensor(-13.2676, grad_fn=<AddBackward0>)\n",
      "tensor(-3.4261)\n",
      "tensor(-13.5844, grad_fn=<AddBackward0>)\n",
      "tensor(-3.4261)\n",
      "tensor(-13.8866, grad_fn=<AddBackward0>)\n",
      "tensor(-3.4261)\n",
      "tensor(-14.1788, grad_fn=<AddBackward0>)\n",
      "tensor(-3.4261)\n",
      "tensor(-14.4650, grad_fn=<AddBackward0>)\n",
      "tensor(-3.4261)\n",
      "tensor(-14.7484, grad_fn=<AddBackward0>)\n",
      "tensor(-3.4261)\n"
     ]
    }
   ],
   "source": [
    "for i in range(epochs):\n",
    "    preds = m(xb)\n",
    "    loss = loss_fn(preds, yb)\n",
    "    print(loss)\n",
    "    print(unweighted_profit(preds[:,0], yb))\n",
    "    loss.backward()\n",
    "    with torch.no_grad():\n",
    "        opt.step()\n",
    "        opt.zero_grad()\n",
    "        "
   ]
  },
  {
   "cell_type": "code",
   "execution_count": null,
   "metadata": {},
   "outputs": [
    {
     "name": "stdout",
     "output_type": "stream",
     "text": [
      "tensor(-9317.9912, grad_fn=<AddBackward0>)\n",
      "tensor(-3.7070)\n",
      "tensor(-30340.9004, grad_fn=<AddBackward0>)\n",
      "tensor(-3.7070)\n",
      "tensor(-90235.2656, grad_fn=<AddBackward0>)\n",
      "tensor(-3.8755)\n",
      "tensor(-214640.3750, grad_fn=<AddBackward0>)\n",
      "tensor(-3.9878)\n",
      "tensor(-359202.5312, grad_fn=<AddBackward0>)\n",
      "tensor(-4.0440)\n",
      "tensor(-397443.5000, grad_fn=<AddBackward0>)\n",
      "tensor(-4.1001)\n",
      "tensor(-444806.8125, grad_fn=<AddBackward0>)\n",
      "tensor(-4.1001)\n",
      "tensor(-444799.9375, grad_fn=<AddBackward0>)\n",
      "tensor(-4.1001)\n",
      "tensor(-444794.8438, grad_fn=<AddBackward0>)\n",
      "tensor(-4.1001)\n",
      "tensor(-444791.0625, grad_fn=<AddBackward0>)\n",
      "tensor(-4.1001)\n",
      "tensor(-444788.1875, grad_fn=<AddBackward0>)\n",
      "tensor(-4.1001)\n",
      "tensor(-444786., grad_fn=<AddBackward0>)\n",
      "tensor(-4.1563)\n",
      "tensor(-444784.2500, grad_fn=<AddBackward0>)\n",
      "tensor(-4.1563)\n",
      "tensor(-444782.7812, grad_fn=<AddBackward0>)\n",
      "tensor(-4.3248)\n",
      "tensor(-444781.6250, grad_fn=<AddBackward0>)\n",
      "tensor(-4.3248)\n",
      "tensor(-444780.6250, grad_fn=<AddBackward0>)\n",
      "tensor(-4.4933)\n",
      "tensor(-444779.7500, grad_fn=<AddBackward0>)\n",
      "tensor(-4.6056)\n",
      "tensor(-444778.9688, grad_fn=<AddBackward0>)\n",
      "tensor(-4.6618)\n",
      "tensor(-444778.1875, grad_fn=<AddBackward0>)\n",
      "tensor(-4.6618)\n",
      "tensor(-444777.6250, grad_fn=<AddBackward0>)\n",
      "tensor(-4.8303)\n"
     ]
    }
   ],
   "source": [
    "for i in range(epochs):\n",
    "    preds = m(xb)\n",
    "    loss = loss_fn(preds, yb)\n",
    "    print(loss)\n",
    "    print(unweighted_profit(preds[:,0], yb))\n",
    "    loss.backward()\n",
    "    with torch.no_grad():\n",
    "        opt.step()\n",
    "        opt.zero_grad()\n",
    "        "
   ]
  },
  {
   "cell_type": "code",
   "execution_count": null,
   "metadata": {},
   "outputs": [
    {
     "data": {
      "text/plain": [
       "tensor([[ 0.8102,  0.3178],\n",
       "        [-0.5239,  0.6837],\n",
       "        [ 0.7969,  0.3428],\n",
       "        [ 0.8238,  0.3040],\n",
       "        [-0.6941,  0.6855],\n",
       "        [-0.5750,  0.6674],\n",
       "        [ 0.8599,  0.2828],\n",
       "        [-0.6396,  0.6581],\n",
       "        [-0.6178,  0.6803],\n",
       "        [-0.6704,  0.7044],\n",
       "        [ 0.7746,  0.3350],\n",
       "        [-0.4117,  0.6518],\n",
       "        [ 0.7976,  0.3109],\n",
       "        [-0.6089,  0.6810],\n",
       "        [ 0.7839,  0.3432],\n",
       "        [ 0.8260,  0.3253],\n",
       "        [-0.6338,  0.7247],\n",
       "        [ 0.8098,  0.2983],\n",
       "        [-0.7259,  0.6800],\n",
       "        [ 0.7886,  0.3059],\n",
       "        [-0.4271,  0.6483],\n",
       "        [ 0.8405,  0.2760],\n",
       "        [ 0.8067,  0.3065],\n",
       "        [ 0.7801,  0.3093],\n",
       "        [-0.6602,  0.6911],\n",
       "        [ 0.7929,  0.3536],\n",
       "        [ 0.7634,  0.3492],\n",
       "        [-0.7213,  0.6978],\n",
       "        [-0.6269,  0.7063],\n",
       "        [ 0.7730,  0.3216],\n",
       "        [ 0.8197,  0.2993],\n",
       "        [ 0.8387,  0.2986],\n",
       "        [ 0.8390,  0.2937],\n",
       "        [ 0.7963,  0.3075],\n",
       "        [-0.6434,  0.7037],\n",
       "        [-0.5897,  0.6951],\n",
       "        [ 0.8069,  0.3289],\n",
       "        [-0.5431,  0.6712],\n",
       "        [-0.5118,  0.6954],\n",
       "        [ 0.8070,  0.3409],\n",
       "        [-0.5894,  0.6192],\n",
       "        [ 0.8343,  0.2936],\n",
       "        [-0.5271,  0.6456],\n",
       "        [-0.6154,  0.6583],\n",
       "        [ 0.8333,  0.3005],\n",
       "        [-0.6157,  0.7255],\n",
       "        [-0.5690,  0.6801],\n",
       "        [ 0.8136,  0.2901],\n",
       "        [ 0.8361,  0.3272],\n",
       "        [-0.5298,  0.7013],\n",
       "        [ 0.8339,  0.3044],\n",
       "        [-0.6459,  0.6985],\n",
       "        [-0.6424,  0.7266],\n",
       "        [-0.5261,  0.6575],\n",
       "        [ 0.8036,  0.3322],\n",
       "        [ 0.8275,  0.3105],\n",
       "        [ 0.8149,  0.3106],\n",
       "        [ 0.8105,  0.2903],\n",
       "        [-0.4714,  0.6741],\n",
       "        [ 0.8174,  0.3127],\n",
       "        [ 0.7837,  0.3433],\n",
       "        [-0.6115,  0.6627],\n",
       "        [-0.6071,  0.7099],\n",
       "        [ 0.8061,  0.3094],\n",
       "        [ 0.8387,  0.3063],\n",
       "        [-0.6945,  0.7227],\n",
       "        [ 0.8292,  0.2883],\n",
       "        [ 0.8283,  0.2970],\n",
       "        [ 0.8274,  0.2986],\n",
       "        [ 0.8054,  0.3035],\n",
       "        [ 0.8054,  0.3292],\n",
       "        [-0.5444,  0.6650],\n",
       "        [-0.6767,  0.7035],\n",
       "        [-0.5492,  0.6872],\n",
       "        [-0.5918,  0.6855],\n",
       "        [-0.6481,  0.6900],\n",
       "        [ 0.8205,  0.3029],\n",
       "        [-0.5748,  0.6860],\n",
       "        [ 0.8184,  0.2873],\n",
       "        [-0.5876,  0.6837],\n",
       "        [ 0.7957,  0.3320],\n",
       "        [ 0.8325,  0.2979],\n",
       "        [-0.5924,  0.7199],\n",
       "        [ 0.8353,  0.3017],\n",
       "        [ 0.8656,  0.2744],\n",
       "        [-0.5516,  0.6911],\n",
       "        [-0.6387,  0.6578],\n",
       "        [ 0.8391,  0.3027],\n",
       "        [-0.5607,  0.6783],\n",
       "        [-0.5742,  0.6996],\n",
       "        [-0.5799,  0.6655],\n",
       "        [-0.5217,  0.6808],\n",
       "        [ 0.8239,  0.3124],\n",
       "        [-0.5923,  0.6208],\n",
       "        [-0.6012,  0.6716],\n",
       "        [ 0.8322,  0.2753],\n",
       "        [-0.5909,  0.6835],\n",
       "        [-0.4380,  0.6229],\n",
       "        [ 0.7928,  0.3090],\n",
       "        [-0.5745,  0.6928],\n",
       "        [ 0.7712,  0.3466],\n",
       "        [ 0.8064,  0.3226],\n",
       "        [-0.6104,  0.6598],\n",
       "        [ 0.8143,  0.3111],\n",
       "        [-0.5438,  0.6740],\n",
       "        [ 0.7976,  0.3137],\n",
       "        [-0.4920,  0.6633],\n",
       "        [-0.7181,  0.7156],\n",
       "        [-0.5889,  0.6741],\n",
       "        [ 0.7896,  0.3479],\n",
       "        [ 0.7899,  0.3399],\n",
       "        [-0.6214,  0.6625],\n",
       "        [ 0.8369,  0.2983],\n",
       "        [-0.5505,  0.6481],\n",
       "        [ 0.8312,  0.3085],\n",
       "        [-0.6113,  0.6070],\n",
       "        [-0.6210,  0.6519],\n",
       "        [-0.5778,  0.6665],\n",
       "        [-0.6429,  0.6874],\n",
       "        [ 0.8278,  0.2942],\n",
       "        [-0.6555,  0.7006],\n",
       "        [-0.5862,  0.6934],\n",
       "        [-0.5371,  0.7025],\n",
       "        [-0.6234,  0.6196],\n",
       "        [-0.6825,  0.6794],\n",
       "        [ 0.7964,  0.3077],\n",
       "        [-0.6964,  0.6912],\n",
       "        [ 0.8083,  0.2941]], grad_fn=<CopySlices>)"
      ]
     },
     "execution_count": null,
     "metadata": {},
     "output_type": "execute_result"
    }
   ],
   "source": [
    "m(xb)"
   ]
  },
  {
   "cell_type": "code",
   "execution_count": null,
   "metadata": {},
   "outputs": [
    {
     "name": "stdout",
     "output_type": "stream",
     "text": [
      "tensor(-0.1196, grad_fn=<MulBackward0>)\n",
      "tensor(0.)\n",
      "tensor(-0.1918, grad_fn=<MulBackward0>)\n",
      "tensor(0.)\n",
      "tensor(-0.2503, grad_fn=<MulBackward0>)\n",
      "tensor(0.)\n",
      "tensor(-0.3002, grad_fn=<MulBackward0>)\n",
      "tensor(0.)\n",
      "tensor(-0.3442, grad_fn=<MulBackward0>)\n",
      "tensor(0.)\n",
      "tensor(-0.3833, grad_fn=<MulBackward0>)\n",
      "tensor(0.)\n",
      "tensor(-0.4182, grad_fn=<MulBackward0>)\n",
      "tensor(0.)\n",
      "tensor(-0.4494, grad_fn=<MulBackward0>)\n",
      "tensor(0.)\n",
      "tensor(-0.4771, grad_fn=<MulBackward0>)\n",
      "tensor(0.)\n",
      "tensor(-0.5019, grad_fn=<MulBackward0>)\n",
      "tensor(0.)\n",
      "tensor(-0.5238, grad_fn=<MulBackward0>)\n",
      "tensor(0.)\n",
      "tensor(-0.5433, grad_fn=<MulBackward0>)\n",
      "tensor(0.)\n",
      "tensor(-0.5605, grad_fn=<MulBackward0>)\n",
      "tensor(0.)\n",
      "tensor(-0.5757, grad_fn=<MulBackward0>)\n",
      "tensor(0.)\n",
      "tensor(-0.5891, grad_fn=<MulBackward0>)\n",
      "tensor(0.)\n",
      "tensor(-0.6010, grad_fn=<MulBackward0>)\n",
      "tensor(0.)\n",
      "tensor(-0.6116, grad_fn=<MulBackward0>)\n",
      "tensor(0.)\n",
      "tensor(-0.6209, grad_fn=<MulBackward0>)\n",
      "tensor(0.)\n",
      "tensor(-0.6293, grad_fn=<MulBackward0>)\n",
      "tensor(0.)\n",
      "tensor(-0.6368, grad_fn=<MulBackward0>)\n",
      "tensor(0.)\n"
     ]
    }
   ],
   "source": [
    "model_mean = InceptionTimeSgm(10,1, range=(-1,1))\n",
    "m = model_mean\n",
    "loss_fn = partial(leaky_loss, alpha=0.1)\n",
    "# loss_fn = F.mse_loss\n",
    "\n",
    "epochs=20\n",
    "\n",
    "opt = torch.optim.Adam(m.parameters(), lr=1e-3)\n",
    "\n",
    "for i in range(epochs):\n",
    "    preds = m(xb)\n",
    "    loss = loss_fn(preds, yb)\n",
    "    print(loss)\n",
    "    print(unweighted_profit(preds, yb))\n",
    "    loss.backward()\n",
    "    with torch.no_grad():\n",
    "        opt.step()\n",
    "        opt.zero_grad()\n",
    "        "
   ]
  },
  {
   "cell_type": "code",
   "execution_count": null,
   "metadata": {},
   "outputs": [
    {
     "data": {
      "text/plain": [
       "array([[ 59.69],\n",
       "       [-44.33],\n",
       "       [ 32.03],\n",
       "       [ 48.34],\n",
       "       [-71.35],\n",
       "       [-90.21],\n",
       "       [ 31.71],\n",
       "       [-74.66],\n",
       "       [-63.18],\n",
       "       [-85.05],\n",
       "       [ 27.3 ],\n",
       "       [-40.44],\n",
       "       [ 22.68],\n",
       "       [-72.75],\n",
       "       [ 16.64],\n",
       "       [ 59.72],\n",
       "       [-79.17],\n",
       "       [ 51.5 ],\n",
       "       [-74.85],\n",
       "       [ 15.23],\n",
       "       [-46.47],\n",
       "       [ 54.3 ],\n",
       "       [ 39.65],\n",
       "       [ 40.41],\n",
       "       [-78.55],\n",
       "       [ 23.05],\n",
       "       [ 19.68],\n",
       "       [-73.84],\n",
       "       [-63.5 ],\n",
       "       [ 15.34],\n",
       "       [ 32.78],\n",
       "       [ 43.81],\n",
       "       [ 47.92],\n",
       "       [ 21.04],\n",
       "       [-72.07],\n",
       "       [-62.32],\n",
       "       [ 55.13],\n",
       "       [-50.59],\n",
       "       [-22.92],\n",
       "       [ 25.04],\n",
       "       [-52.25],\n",
       "       [ 58.79],\n",
       "       [-80.96],\n",
       "       [-63.03],\n",
       "       [ 45.97],\n",
       "       [-51.07],\n",
       "       [-44.96],\n",
       "       [ 36.12],\n",
       "       [ 38.38],\n",
       "       [-35.93],\n",
       "       [ 48.57],\n",
       "       [-81.71],\n",
       "       [-75.16],\n",
       "       [-14.51],\n",
       "       [ 18.78],\n",
       "       [ 45.45],\n",
       "       [ 64.61],\n",
       "       [ 21.41],\n",
       "       [-47.83],\n",
       "       [ 25.56],\n",
       "       [ 29.67],\n",
       "       [-45.24],\n",
       "       [-74.35],\n",
       "       [ 51.18],\n",
       "       [ 70.01],\n",
       "       [-66.95],\n",
       "       [ 50.7 ],\n",
       "       [ 31.65],\n",
       "       [ 73.51],\n",
       "       [ 45.24],\n",
       "       [ 15.79],\n",
       "       [-46.97],\n",
       "       [-66.19],\n",
       "       [-52.27],\n",
       "       [-31.99],\n",
       "       [-62.17],\n",
       "       [ 47.18],\n",
       "       [-61.29],\n",
       "       [ 51.05],\n",
       "       [-81.69],\n",
       "       [ 36.47],\n",
       "       [ 60.53],\n",
       "       [-59.38],\n",
       "       [ 49.58],\n",
       "       [ 55.02],\n",
       "       [-46.87],\n",
       "       [-52.48],\n",
       "       [ 68.52],\n",
       "       [-59.73],\n",
       "       [-65.89],\n",
       "       [-70.77],\n",
       "       [-42.74],\n",
       "       [ 25.96],\n",
       "       [-74.5 ],\n",
       "       [-51.23],\n",
       "       [ 45.24],\n",
       "       [-54.63],\n",
       "       [-35.25],\n",
       "       [ 22.76],\n",
       "       [-82.95],\n",
       "       [ 40.13],\n",
       "       [ 42.83],\n",
       "       [-79.73],\n",
       "       [  9.94],\n",
       "       [-79.8 ],\n",
       "       [ 56.69],\n",
       "       [-59.82],\n",
       "       [-77.28],\n",
       "       [-72.12],\n",
       "       [ 25.76],\n",
       "       [ 33.63],\n",
       "       [-40.13],\n",
       "       [ 39.33],\n",
       "       [-19.84],\n",
       "       [ 59.07],\n",
       "       [-38.63],\n",
       "       [-71.31],\n",
       "       [-52.19],\n",
       "       [-67.08],\n",
       "       [ 41.86],\n",
       "       [-78.22],\n",
       "       [-73.28],\n",
       "       [-64.8 ],\n",
       "       [-40.85],\n",
       "       [-87.33],\n",
       "       [ 46.48],\n",
       "       [-61.11],\n",
       "       [ 50.97]], dtype=float32)"
      ]
     },
     "execution_count": null,
     "metadata": {},
     "output_type": "execute_result"
    }
   ],
   "source": [
    "np.round(preds.detach().numpy(),2)"
   ]
  },
  {
   "cell_type": "code",
   "execution_count": null,
   "metadata": {},
   "outputs": [
    {
     "data": {
      "text/plain": [
       "tensor(-8.0606, grad_fn=<MeanBackward0>)"
      ]
     },
     "execution_count": null,
     "metadata": {},
     "output_type": "execute_result"
    }
   ],
   "source": [
    "weighted_profit(preds, yb, threshold=70)"
   ]
  },
  {
   "cell_type": "code",
   "execution_count": null,
   "metadata": {},
   "outputs": [],
   "source": [
    "s1 = 0.5*preds[:,1].log() "
   ]
  },
  {
   "cell_type": "code",
   "execution_count": null,
   "metadata": {},
   "outputs": [
    {
     "data": {
      "text/plain": [
       "tensor(-0.4077, grad_fn=<MeanBackward0>)"
      ]
     },
     "execution_count": null,
     "metadata": {},
     "output_type": "execute_result"
    }
   ],
   "source": [
    "s1.mean()"
   ]
  },
  {
   "cell_type": "code",
   "execution_count": null,
   "metadata": {},
   "outputs": [],
   "source": [
    "l1 = F.leaky_relu(preds[:,0], 0.5)*yb.float().squeeze()"
   ]
  },
  {
   "cell_type": "code",
   "execution_count": null,
   "metadata": {},
   "outputs": [
    {
     "data": {
      "text/plain": [
       "tensor(50.2426, grad_fn=<MeanBackward0>)"
      ]
     },
     "execution_count": null,
     "metadata": {},
     "output_type": "execute_result"
    }
   ],
   "source": [
    "l1.mean()"
   ]
  },
  {
   "cell_type": "code",
   "execution_count": null,
   "metadata": {},
   "outputs": [
    {
     "data": {
      "text/plain": [
       "tensor(-4.0440)"
      ]
     },
     "execution_count": null,
     "metadata": {},
     "output_type": "execute_result"
    }
   ],
   "source": [
    "unweighted_profit(preds[:,0], yb)"
   ]
  },
  {
   "cell_type": "code",
   "execution_count": null,
   "metadata": {},
   "outputs": [
    {
     "data": {
      "text/plain": [
       "tensor([ 8.1925e-01,  2.2035e-01,  7.7802e-01,  7.5209e-01, -9.6370e-03,\n",
       "        -5.4069e-03,  8.3000e-01, -5.6366e-03, -9.5591e-03,  1.5291e-02,\n",
       "         8.0178e-01,  1.9101e-01,  6.7007e-01, -9.8845e-03,  5.9902e-01,\n",
       "         7.5299e-01, -1.4802e-03,  7.7943e-01, -9.4004e-03,  7.8837e-01,\n",
       "        -4.1210e-03,  7.9112e-01,  7.8203e-01,  7.0024e-01, -1.0000e-02,\n",
       "         7.9763e-01,  7.3333e-01, -4.8869e-03, -6.0198e-03,  5.9659e-01,\n",
       "         6.4868e-01,  8.3074e-01,  8.6674e-01,  8.1339e-01, -8.5559e-03,\n",
       "        -8.0417e-03,  8.7010e-01, -7.2772e-03,  2.4229e-01,  6.5914e-01,\n",
       "        -9.9913e-03,  8.0144e-01, -6.2689e-03, -5.1532e-03,  8.4950e-01,\n",
       "        -7.8629e-04, -5.0912e-03,  8.3450e-01,  6.9821e-01, -6.6265e-03,\n",
       "         8.4684e-01, -1.4540e-03, -1.1866e-03, -5.2012e-04,  6.9449e-01,\n",
       "         8.3494e-01,  7.6754e-01,  8.4125e-01, -7.3983e-03,  8.4954e-01,\n",
       "         6.6644e-01, -7.9540e-03, -9.4522e-03,  7.9308e-01,  5.6524e-01,\n",
       "        -4.2100e-03,  4.8191e-01,  8.4140e-01,  8.2408e-01,  8.4799e-01,\n",
       "         7.0922e-01, -2.8092e-03, -9.7226e-03, -2.9480e-04, -1.5744e-03,\n",
       "        -7.0143e-03,  6.9547e-01, -2.8341e-03,  6.0642e-01, -9.1840e-03,\n",
       "         8.6263e-01,  8.9377e-01,  7.6320e-02,  8.4966e-01,  8.5309e-01,\n",
       "        -1.5595e-03,  8.9373e-02,  7.4599e-01, -9.4146e-03, -6.8390e-03,\n",
       "        -6.1355e-03, -6.6092e-03,  8.2144e-01, -8.1095e-03,  5.5224e-03,\n",
       "         8.5346e-01,  4.2325e-02, -2.0239e-03,  8.7500e-01, -3.8894e-03,\n",
       "         6.3018e-01,  8.1290e-01, -9.7854e-03,  7.9471e-01, -1.9305e-03,\n",
       "         6.8138e-01, -9.0449e-03, -9.6631e-03, -3.2488e-03,  7.9622e-01,\n",
       "         8.0945e-01,  1.5524e-02,  8.8755e-01,  2.4855e-01,  6.4081e-01,\n",
       "        -9.5659e-03, -9.2554e-03, -8.2808e-03, -9.9988e-03,  8.0530e-01,\n",
       "         2.1511e-02, -7.4787e-03, -4.0604e-04, -9.1842e-03, -6.4931e-03,\n",
       "         8.6702e-01, -8.8407e-03,  8.4123e-01], grad_fn=<LeakyReluBackward0>)"
      ]
     },
     "execution_count": null,
     "metadata": {},
     "output_type": "execute_result"
    }
   ],
   "source": [
    "F.leaky_relu(preds[:,0], 0.01)"
   ]
  },
  {
   "cell_type": "code",
   "execution_count": null,
   "metadata": {},
   "outputs": [
    {
     "data": {
      "text/plain": [
       "tensor([ 81.9255, -22.0001,  77.8021,  75.2093,  52.1226,  25.8011,  82.9995,\n",
       "         28.4714,  48.0399,  -1.5908,  80.1777, -19.7501,  67.0073,  55.0419,\n",
       "         59.9020,  75.2989,   7.4788,  77.9432,  54.3332,  78.8372,  20.9156,\n",
       "         79.1120,  78.2034,  70.0237,  56.1900,  79.7627,  73.3333,  27.1952,\n",
       "         33.1130,  59.6591,  64.8677,  83.0743,  86.6744,  81.3389,  45.9245,\n",
       "         42.3194,  87.0103,  41.0345, -25.5582,  65.9136,  55.6011,  80.1443,\n",
       "         29.4647,  28.9230,  84.9501,   3.7070,  26.5617,  83.4499,  69.8207,\n",
       "         33.9378,  84.6835,   7.3470,   5.6708,   2.5431,  69.4486,  83.4943,\n",
       "         76.7540,  84.1252,  37.5089,  84.9543,  66.6443,  41.6723,  44.7566,\n",
       "         79.3078,  56.5244,  21.7490,  48.1913,  84.1402,  82.4076,  84.7987,\n",
       "         70.9222,  15.2145,  51.2575,   1.5143,   7.5915,  38.2872,  69.5466,\n",
       "         15.8526,  60.6424,  48.2346,  86.2634,  89.3767,  -7.8546,  84.9656,\n",
       "         85.3088,   7.4551,  -8.3118,  74.5987,  50.2686,  32.9276,  32.0365,\n",
       "         35.4898,  82.1441,  46.4378,  -0.5498,  85.3464,  -4.3913,   9.9212,\n",
       "         87.5000,  18.6303,  63.0184,  81.2898,  55.2142,  79.4711,  10.0563,\n",
       "         68.1381,  44.9391,  55.2910,  16.6259,  79.6222,  80.9447,  -1.5727,\n",
       "         88.7554, -27.5071,  64.0814,  54.4578,  52.9549,  45.0890,  50.1575,\n",
       "         80.5303,  -2.4074,  38.8905,   2.2394,  49.3734,  36.0351,  86.7023,\n",
       "         49.4738,  84.1235], grad_fn=<MulBackward0>)"
      ]
     },
     "execution_count": null,
     "metadata": {},
     "output_type": "execute_result"
    }
   ],
   "source": [
    "l1"
   ]
  },
  {
   "cell_type": "code",
   "execution_count": null,
   "metadata": {},
   "outputs": [],
   "source": [
    "s2 = 0.5*(l1.div(preds[:,1]))"
   ]
  },
  {
   "cell_type": "code",
   "execution_count": null,
   "metadata": {},
   "outputs": [
    {
     "data": {
      "text/plain": [
       "array([ 5.300000e+01, -8.000000e+00,  9.100000e+01,  4.700000e+01,\n",
       "        5.150000e+02,  2.200000e+01,  4.500000e+01,  2.800000e+01,\n",
       "        3.400000e+02, -1.000000e+00,  9.500000e+01, -7.000000e+00,\n",
       "        4.400000e+01,  1.124000e+03,  5.500000e+01,  3.700000e+01,\n",
       "        3.000000e+00,  4.100000e+01,  3.570000e+02,  9.000000e+01,\n",
       "        1.500000e+01,  8.000000e+01,  1.010000e+02,  9.400000e+01,\n",
       "        3.717994e+06,  5.000000e+01,  4.800000e+01,  3.100000e+01,\n",
       "        3.200000e+01,  4.700000e+01,  4.500000e+01,  4.100000e+01,\n",
       "        4.600000e+01,  7.500000e+01,  1.430000e+02,  7.400000e+01,\n",
       "        6.100000e+01,  4.700000e+01, -6.000000e+00,  5.600000e+01,\n",
       "        1.050800e+04,  6.000000e+01,  5.800000e+01,  2.400000e+01,\n",
       "        4.300000e+01,  2.000000e+00,  2.100000e+01,  5.900000e+01,\n",
       "        4.300000e+01,  4.900000e+01,  4.000000e+01,  3.000000e+00,\n",
       "        3.000000e+00,  1.000000e+00,  4.100000e+01,  4.700000e+01,\n",
       "        4.800000e+01,  1.710000e+02,  5.800000e+01,  7.900000e+01,\n",
       "        4.900000e+01,  1.140000e+02,  3.100000e+02,  4.900000e+01,\n",
       "        2.900000e+01,  1.800000e+01,  6.800000e+01,  3.900000e+01,\n",
       "        3.900000e+01,  5.700000e+01,  3.600000e+01,  9.000000e+00,\n",
       "        5.560000e+02,  1.000000e+00,  4.000000e+00,  5.700000e+01,\n",
       "        5.100000e+01,  7.000000e+00,  7.300000e+01,  1.870000e+02,\n",
       "        5.200000e+01,  4.600000e+01, -3.000000e+00,  4.200000e+01,\n",
       "        4.100000e+01,  4.000000e+00, -2.000000e+00,  6.800000e+01,\n",
       "        2.520000e+02,  4.800000e+01,  5.400000e+01,  3.700000e+01,\n",
       "        9.500000e+01,  1.080000e+02, -0.000000e+00,  4.600000e+01,\n",
       "       -2.000000e+00,  4.000000e+00,  7.200000e+01,  1.500000e+01,\n",
       "        4.500000e+01,  3.300000e+01,  8.200000e+02,  6.800000e+01,\n",
       "        7.000000e+00,  5.000000e+01,  1.490000e+02,  5.370000e+02,\n",
       "        1.000000e+01,  6.700000e+01,  5.500000e+01, -1.000000e+00,\n",
       "        4.700000e+01, -1.100000e+01,  2.800000e+01,  5.210000e+02,\n",
       "        2.570000e+02,  1.210000e+02,  2.937700e+04,  5.300000e+01,\n",
       "       -1.000000e+00,  4.300000e+01,  1.000000e+00,  2.440000e+02,\n",
       "        3.400000e+01,  6.200000e+01,  1.480000e+02,  4.500000e+01],\n",
       "      dtype=float32)"
      ]
     },
     "execution_count": null,
     "metadata": {},
     "output_type": "execute_result"
    }
   ],
   "source": [
    "np.round(s2.detach().numpy(), 0)"
   ]
  },
  {
   "cell_type": "code",
   "execution_count": null,
   "metadata": {},
   "outputs": [],
   "source": [
    "    loss = (s1+s2).mean() + c"
   ]
  },
  {
   "cell_type": "code",
   "execution_count": null,
   "metadata": {},
   "outputs": [],
   "source": [
    "lr = 0.01\n",
    "with torch.no_grad():\n",
    "    for p in model_v.parameters():\n",
    "        p -= p.grad * lr"
   ]
  },
  {
   "cell_type": "code",
   "execution_count": null,
   "metadata": {},
   "outputs": [],
   "source": [
    "preds_2 = model_v(xb)"
   ]
  },
  {
   "cell_type": "code",
   "execution_count": null,
   "metadata": {},
   "outputs": [],
   "source": [
    "loss_2 = nll_regression(preds_2, yb)"
   ]
  },
  {
   "cell_type": "code",
   "execution_count": null,
   "metadata": {},
   "outputs": [
    {
     "data": {
      "text/plain": [
       "tensor(6.6749, grad_fn=<AddBackward0>)"
      ]
     },
     "execution_count": null,
     "metadata": {},
     "output_type": "execute_result"
    }
   ],
   "source": [
    "loss_2"
   ]
  },
  {
   "cell_type": "code",
   "execution_count": null,
   "metadata": {},
   "outputs": [
    {
     "data": {
      "text/plain": [
       "tensor(9.1327, grad_fn=<AddBackward0>)"
      ]
     },
     "execution_count": null,
     "metadata": {},
     "output_type": "execute_result"
    }
   ],
   "source": [
    "(0.5*preds[:,1].log() + 0.5*(yb.squeeze()-preds[:,0]).pow(2).div(preds[:,1].pow(2))).mean() + 5"
   ]
  },
  {
   "cell_type": "code",
   "execution_count": null,
   "metadata": {},
   "outputs": [],
   "source": [
    "p = list(model.parameters())[1]"
   ]
  },
  {
   "cell_type": "code",
   "execution_count": null,
   "metadata": {},
   "outputs": [],
   "source": [
    "p.grad"
   ]
  },
  {
   "cell_type": "markdown",
   "metadata": {},
   "source": [
    "### QD loss"
   ]
  },
  {
   "cell_type": "markdown",
   "metadata": {},
   "source": [
    "High-Quality Prediction Intervals for Deep Learning: A Distribution-Free, Ensembled Approach"
   ]
  },
  {
   "cell_type": "code",
   "execution_count": null,
   "metadata": {},
   "outputs": [],
   "source": [
    "y_results = _create_random_results(10)"
   ]
  },
  {
   "cell_type": "code",
   "execution_count": null,
   "metadata": {},
   "outputs": [
    {
     "data": {
      "text/plain": [
       "tensor([ 100.0000,  100.0000, -105.5246,  100.0000,  100.0000, -103.9725,\n",
       "        -109.0025, -103.6679,  100.0000, -109.7297])"
      ]
     },
     "execution_count": null,
     "metadata": {},
     "output_type": "execute_result"
    }
   ],
   "source": [
    "y_results"
   ]
  },
  {
   "cell_type": "code",
   "execution_count": null,
   "metadata": {},
   "outputs": [],
   "source": [
    "preds = torch.randn(10)"
   ]
  },
  {
   "cell_type": "code",
   "execution_count": null,
   "metadata": {},
   "outputs": [],
   "source": [
    "y_lower=preds"
   ]
  },
  {
   "cell_type": "code",
   "execution_count": null,
   "metadata": {},
   "outputs": [],
   "source": [
    "y_upper = preds + torch.rand(10)"
   ]
  },
  {
   "cell_type": "code",
   "execution_count": null,
   "metadata": {},
   "outputs": [
    {
     "data": {
      "text/plain": [
       "(tensor([ 0.5228,  0.6698, -1.3370, -1.4433,  1.6161, -1.7076,  1.1021,  0.2209,\n",
       "         -0.4566,  0.1096]),\n",
       " tensor([ 1.4219,  1.4838, -0.6285, -0.9521,  2.0129, -1.4467,  1.1511,  0.5733,\n",
       "          0.2181,  0.3509]),\n",
       " tensor([-0.4609,  1.7691, -0.4418, -0.9305,  1.5658, -0.4735, -0.2524, -0.1192,\n",
       "          1.4725,  0.7472]))"
      ]
     },
     "execution_count": null,
     "metadata": {},
     "output_type": "execute_result"
    }
   ],
   "source": [
    "y_lower, y_upper, y_toy"
   ]
  },
  {
   "cell_type": "code",
   "execution_count": null,
   "metadata": {},
   "outputs": [],
   "source": [
    "#hard\n",
    "y_toy = torch.randn(10)"
   ]
  },
  {
   "cell_type": "code",
   "execution_count": null,
   "metadata": {},
   "outputs": [],
   "source": [
    "khu = (torch.sign(y_upper-y_toy) > 0).int()"
   ]
  },
  {
   "cell_type": "code",
   "execution_count": null,
   "metadata": {},
   "outputs": [],
   "source": [
    "khl = (torch.sign(y_toy-y_lower) > 0).int()"
   ]
  },
  {
   "cell_type": "code",
   "execution_count": null,
   "metadata": {},
   "outputs": [
    {
     "data": {
      "text/plain": [
       "tensor([0, 0, 1, 1, 0, 1, 0, 1, 0, 1], dtype=torch.int32)"
      ]
     },
     "execution_count": null,
     "metadata": {},
     "output_type": "execute_result"
    }
   ],
   "source": [
    "khl"
   ]
  },
  {
   "cell_type": "code",
   "execution_count": null,
   "metadata": {},
   "outputs": [
    {
     "data": {
      "text/plain": [
       "tensor([1, 1, 0, 0, 1, 0, 1, 1, 1, 0], dtype=torch.int32)"
      ]
     },
     "execution_count": null,
     "metadata": {},
     "output_type": "execute_result"
    }
   ],
   "source": [
    "khu"
   ]
  },
  {
   "cell_type": "code",
   "execution_count": null,
   "metadata": {},
   "outputs": [],
   "source": [
    "##soft\n",
    "s = 10\n",
    "ksu = torch.sigmoid((y_upper-y_toy)*s)\n",
    "ksl = torch.sigmoid((y_toy-y_lower)*s)\n"
   ]
  },
  {
   "cell_type": "code",
   "execution_count": null,
   "metadata": {},
   "outputs": [
    {
     "data": {
      "text/plain": [
       "array([1.    , 1.    , 0.    , 0.    , 1.    , 0.    , 0.9997, 0.9653,\n",
       "       0.9992, 0.005 ], dtype=float32)"
      ]
     },
     "execution_count": null,
     "metadata": {},
     "output_type": "execute_result"
    }
   ],
   "source": [
    "np.round(ksu.numpy(),4)"
   ]
  },
  {
   "cell_type": "code",
   "execution_count": null,
   "metadata": {},
   "outputs": [
    {
     "data": {
      "text/plain": [
       "array([0.   , 0.   , 1.   , 1.   , 0.   , 1.   , 0.   , 0.55 , 0.393,\n",
       "       1.   ], dtype=float32)"
      ]
     },
     "execution_count": null,
     "metadata": {},
     "output_type": "execute_result"
    }
   ],
   "source": [
    "np.round(ksl.numpy(), 3)"
   ]
  },
  {
   "cell_type": "code",
   "execution_count": null,
   "metadata": {},
   "outputs": [],
   "source": [
    "##soft\n",
    "s = 10\n",
    "ksu = torch.sigmoid((y_upper-y_results)*s)\n",
    "ksl = torch.sigmoid((y_results-y_lower)*s)"
   ]
  },
  {
   "cell_type": "code",
   "execution_count": null,
   "metadata": {},
   "outputs": [
    {
     "data": {
      "text/plain": [
       "tensor([0., 0., 1., 0., 0., 1., 1., 1., 0., 1.])"
      ]
     },
     "execution_count": null,
     "metadata": {},
     "output_type": "execute_result"
    }
   ],
   "source": [
    "ksu"
   ]
  },
  {
   "cell_type": "code",
   "execution_count": null,
   "metadata": {},
   "outputs": [
    {
     "data": {
      "text/plain": [
       "tensor([1., 1., 0., 1., 1., 0., 0., 0., 1., 0.])"
      ]
     },
     "execution_count": null,
     "metadata": {},
     "output_type": "execute_result"
    }
   ],
   "source": [
    "ksl"
   ]
  },
  {
   "cell_type": "code",
   "execution_count": null,
   "metadata": {},
   "outputs": [
    {
     "data": {
      "text/plain": [
       "tensor([ 100.0000,  100.0000, -105.5246,  100.0000,  100.0000, -103.9725,\n",
       "        -109.0025, -103.6679,  100.0000, -109.7297])"
      ]
     },
     "execution_count": null,
     "metadata": {},
     "output_type": "execute_result"
    }
   ],
   "source": [
    "y_results"
   ]
  },
  {
   "cell_type": "code",
   "execution_count": null,
   "metadata": {},
   "outputs": [
    {
     "data": {
      "text/plain": [
       "tensor([ 1.4219,  1.4838, -0.6285, -0.9521,  2.0129, -1.4467,  1.1511,  0.5733,\n",
       "         0.2181,  0.3509])"
      ]
     },
     "execution_count": null,
     "metadata": {},
     "output_type": "execute_result"
    }
   ],
   "source": [
    "y_upper"
   ]
  },
  {
   "cell_type": "code",
   "execution_count": null,
   "metadata": {},
   "outputs": [
    {
     "data": {
      "text/plain": [
       "tensor([0.8056, 0.8152, 0.6600, 0.2785, 0.8821, 0.8182, 0.2219, 0.3556, 0.5543,\n",
       "        0.4049])"
      ]
     },
     "execution_count": null,
     "metadata": {},
     "output_type": "execute_result"
    }
   ],
   "source": [
    "torch.sigmoid(y_upper*y_results*0.01)"
   ]
  },
  {
   "cell_type": "markdown",
   "metadata": {},
   "source": [
    "Betting adaption"
   ]
  },
  {
   "cell_type": "markdown",
   "metadata": {},
   "source": [
    "Given results targets `y_results`"
   ]
  },
  {
   "cell_type": "code",
   "execution_count": null,
   "metadata": {},
   "outputs": [
    {
     "data": {
      "text/plain": [
       "tensor([ 100.0000,  100.0000, -105.5246,  100.0000,  100.0000, -103.9725,\n",
       "        -109.0025, -103.6679,  100.0000, -109.7297])"
      ]
     },
     "execution_count": null,
     "metadata": {},
     "output_type": "execute_result"
    }
   ],
   "source": [
    "y_results"
   ]
  },
  {
   "cell_type": "markdown",
   "metadata": {},
   "source": [
    "the NN predicts upper and lower bounds `y_upper`, `y_lower`"
   ]
  },
  {
   "cell_type": "code",
   "execution_count": null,
   "metadata": {},
   "outputs": [
    {
     "data": {
      "text/plain": [
       "(tensor([ 1.4219,  1.4838, -0.6285, -0.9521,  2.0129, -1.4467,  1.1511,  0.5733,\n",
       "          0.2181,  0.3509]),\n",
       " tensor([ 0.5228,  0.6698, -1.3370, -1.4433,  1.6161, -1.7076,  1.1021,  0.2209,\n",
       "         -0.4566,  0.1096]))"
      ]
     },
     "execution_count": null,
     "metadata": {},
     "output_type": "execute_result"
    }
   ],
   "source": [
    "y_upper, y_lower"
   ]
  },
  {
   "cell_type": "markdown",
   "metadata": {},
   "source": [
    "Similarly to leaky loss, we want both bounds to have the same sign as the target `y_results` and higher absolute values for more confidence"
   ]
  },
  {
   "cell_type": "code",
   "execution_count": null,
   "metadata": {},
   "outputs": [],
   "source": [
    "#export\n",
    "def qd_loss(preds, y_true, alpha=0.4, l=0.01, s=0.01, add=False):\n",
    "    '''\n",
    "    qd loss implementation adapted for \"leaky loss problems\"\n",
    "    preds: predictions for both lower and upper bounds\n",
    "    alpha: confidence intervall parameter, different from alpha in leaky_loss\n",
    "    s: smoothing factor for sigmoid\n",
    "    l: agrangian controlling width vs coverage (default in the paper impl. is 0.01 which seems lowI)\n",
    "    '''\n",
    "    if not add:\n",
    "        y_lower, y_upper = preds[:, 0].clone(), preds[:, 1].clone()\n",
    "    else:\n",
    "        y_lower, y_upper = preds[:, 0].clone(), preds[:,0]+preds[:, 1]\n",
    "    # hard counts, how many of the predictions have the right sign?\n",
    "    khu = (torch.sign(y_upper*y_true) > 0).int()\n",
    "    khl = (torch.sign(y_lower*y_true) > 0).int()\n",
    "    # soft counts, sign step function replaced by a smoother sigmoid\n",
    "    ksu = torch.sigmoid((y_upper*y_true)*s)\n",
    "    ksl = torch.sigmoid((y_true*y_lower)*s)\n",
    "    kh,ks = khu*khl, ksu*ksl\n",
    "    print(kh.sum(), ks.sum())\n",
    "    \n",
    "    #mpiw: mean predicted interval width\n",
    "    f = 1/kh.sum() if kh.sum()>0 else 1000 ## hack\n",
    "    mpiw = ((y_upper-y_lower)*kh).sum()*f\n",
    "    \n",
    "    #picp: predicted interval coverage probability\n",
    "    picp_s = ks.mean()\n",
    "    \n",
    "    print(mpiw, picp_s)\n",
    "    s2 = l*preds.shape[0]/(alpha*(1-alpha))\n",
    "    s3 = torch.max(torch.zeros(1, device=preds.device), picp_s).pow(2)\n",
    "    loss_s = mpiw + l*preds.shape[0]/(alpha*(1-alpha)) * torch.max(torch.zeros(1, device=preds.device), \n",
    "                                                                   picp_s).pow(2)\n",
    "    return loss_s"
   ]
  },
  {
   "cell_type": "code",
   "execution_count": null,
   "metadata": {},
   "outputs": [
    {
     "data": {
      "text/plain": [
       "[<matplotlib.lines.Line2D at 0x7f019c50a310>]"
      ]
     },
     "execution_count": null,
     "metadata": {},
     "output_type": "execute_result"
    },
    {
     "data": {
      "image/png": "[encoded data removed]",
      "text/plain": [
       "<Figure size 432x288 with 1 Axes>"
      ]
     },
     "metadata": {
      "needs_background": "light"
     },
     "output_type": "display_data"
    }
   ],
   "source": [
    "plt.plot(F.softplus(torch.arange(-5,5).float()))"
   ]
  },
  {
   "cell_type": "code",
   "execution_count": null,
   "metadata": {},
   "outputs": [
    {
     "name": "stderr",
     "output_type": "stream",
     "text": [
      "/home/johannes/anaconda3/envs/nbdev/lib/python3.7/site-packages/ipykernel_launcher.py:1: UserWarning: Implicit dimension choice for softmax has been deprecated. Change the call to include dim=X as an argument.\n",
      "  \"\"\"Entry point for launching an IPython kernel.\n"
     ]
    },
    {
     "data": {
      "text/plain": [
       "[<matplotlib.lines.Line2D at 0x7f019c4c51d0>]"
      ]
     },
     "execution_count": null,
     "metadata": {},
     "output_type": "execute_result"
    },
    {
     "data": {
      "image/png": "[encoded data removed]",
      "text/plain": [
       "<Figure size 432x288 with 1 Axes>"
      ]
     },
     "metadata": {
      "needs_background": "light"
     },
     "output_type": "display_data"
    }
   ],
   "source": [
    "plt.plot(F.softmax(torch.arange(-5,5).float()))"
   ]
  },
  {
   "cell_type": "code",
   "execution_count": null,
   "metadata": {},
   "outputs": [],
   "source": [
    "y_lower, y_upper = preds[:, 0], preds[:, 0]+preds[:, 1]"
   ]
  },
  {
   "cell_type": "code",
   "execution_count": null,
   "metadata": {},
   "outputs": [],
   "source": [
    "ksu = torch.sigmoid((y_upper*y_true)*s)"
   ]
  },
  {
   "cell_type": "code",
   "execution_count": null,
   "metadata": {},
   "outputs": [],
   "source": [
    "khu = (torch.sign(y_upper*y_true) > 0).int()"
   ]
  },
  {
   "cell_type": "code",
   "execution_count": null,
   "metadata": {},
   "outputs": [
    {
     "data": {
      "text/plain": [
       "tensor([[1, 1, 1,  ..., 1, 1, 1],\n",
       "        [1, 1, 1,  ..., 1, 1, 1],\n",
       "        [0, 0, 0,  ..., 0, 0, 0],\n",
       "        ...,\n",
       "        [0, 0, 0,  ..., 0, 0, 0],\n",
       "        [1, 1, 1,  ..., 1, 1, 1],\n",
       "        [0, 0, 0,  ..., 0, 0, 0]], dtype=torch.int32)"
      ]
     },
     "execution_count": null,
     "metadata": {},
     "output_type": "execute_result"
    }
   ],
   "source": [
    "khu"
   ]
  },
  {
   "cell_type": "code",
   "execution_count": null,
   "metadata": {},
   "outputs": [
    {
     "data": {
      "text/plain": [
       "tensor([-0.2150, -0.0373, -0.0664, -0.1514, -0.0763, -0.1669, -0.2402, -0.2522,\n",
       "        -0.2219, -0.1682, -0.2088, -0.1296, -0.0894, -0.2470, -0.0757, -0.1998,\n",
       "         0.0426, -0.2163, -0.0432, -0.1383, -0.2627, -0.1482, -0.2261, -0.1615,\n",
       "        -0.1781, -0.1812, -0.1635, -0.3006, -0.1287, -0.3097, -0.1423, -0.0867,\n",
       "        -0.3076, -0.2707, -0.1401, -0.1619, -0.1846, -0.1943, -0.3508, -0.2030,\n",
       "        -0.0949, -0.2206, -0.1296, -0.0740, -0.1855, -0.0868, -0.0605, -0.1596,\n",
       "        -0.1182, -0.1774, -0.1584, -0.0428, -0.1503, -0.3000, -0.2229, -0.0940,\n",
       "        -0.1599,  0.0036, -0.1962, -0.1582, -0.1363, -0.1152, -0.1080, -0.0295,\n",
       "        -0.1667, -0.1917, -0.1041, -0.0410, -0.0946, -0.0379, -0.1147, -0.1163,\n",
       "        -0.2333, -0.3011, -0.2240, -0.0911, -0.1724, -0.1288, -0.1447, -0.1738,\n",
       "        -0.1851, -0.1214, -0.1903, -0.1865, -0.1321, -0.2168, -0.1115, -0.1393,\n",
       "        -0.1593, -0.1440, -0.1833, -0.1896, -0.0744, -0.1577, -0.0946, -0.2391,\n",
       "        -0.2719,  0.0006, -0.1742, -0.1997, -0.1440, -0.1906, -0.2540, -0.1729,\n",
       "        -0.1432, -0.1905, -0.2166, -0.2520, -0.1877, -0.2848, -0.1640, -0.0961,\n",
       "        -0.1329, -0.1534, -0.0458, -0.2350,  0.0208, -0.0539, -0.1917, -0.2521,\n",
       "        -0.1840, -0.2482, -0.1150, -0.0458, -0.0821,  0.0129, -0.2282, -0.2099],\n",
       "       grad_fn=<SelectBackward>)"
      ]
     },
     "execution_count": null,
     "metadata": {},
     "output_type": "execute_result"
    }
   ],
   "source": [
    "y_lower"
   ]
  },
  {
   "cell_type": "code",
   "execution_count": null,
   "metadata": {},
   "outputs": [
    {
     "data": {
      "text/plain": [
       "tensor([1.0125, 0.9507, 1.1341, 1.2261, 0.9578, 1.2655, 1.0331, 1.3799, 1.1758,\n",
       "        1.0343, 1.0520, 1.1780, 1.1278, 0.9600, 1.1459, 1.0721, 1.2432, 0.8925,\n",
       "        1.3539, 1.2006, 1.2460, 1.3015, 1.1666, 1.1699, 1.3345, 1.0551, 1.3872,\n",
       "        1.3417, 1.1222, 1.0703, 1.1570, 1.1313, 1.2327, 1.3396, 1.1941, 1.1885,\n",
       "        1.3074, 1.0672, 1.0710, 1.2454, 1.4943, 1.1268, 1.2031, 1.4435, 1.1855,\n",
       "        1.1028, 1.1619, 1.4476, 1.1487, 1.5705, 1.3223, 0.8941, 1.0758, 1.2868,\n",
       "        1.3020, 1.2579, 1.2519, 1.1587, 1.1629, 1.0649, 1.1168, 1.2001, 1.0949,\n",
       "        1.0564, 1.0763, 1.0126, 1.3438, 0.9129, 1.1583, 0.9154, 1.1087, 1.3220,\n",
       "        1.2802, 1.0433, 1.3633, 1.2038, 1.0183, 1.3108, 1.1089, 1.2248, 1.2072,\n",
       "        1.1324, 1.2276, 1.1366, 1.4469, 1.0298, 1.1344, 1.2845, 1.4002, 0.8993,\n",
       "        1.0610, 1.3647, 1.1205, 1.1292, 1.1420, 1.0606, 1.0974, 0.9439, 1.1388,\n",
       "        1.4899, 1.3278, 1.1295, 1.2323, 1.1965, 1.1490, 1.0899, 0.9409, 0.9582,\n",
       "        1.1029, 1.0597, 1.1515, 1.0839, 1.3351, 1.4174, 1.5295, 1.0450, 1.1649,\n",
       "        1.1465, 1.2916, 1.1645, 1.1412, 1.1342, 1.1175, 1.3182, 1.3614, 1.0792,\n",
       "        1.2999, 1.3858], grad_fn=<SelectBackward>)"
      ]
     },
     "execution_count": null,
     "metadata": {},
     "output_type": "execute_result"
    }
   ],
   "source": [
    "y_upper"
   ]
  },
  {
   "cell_type": "code",
   "execution_count": null,
   "metadata": {},
   "outputs": [
    {
     "data": {
      "text/plain": [
       "tensor([0.3678])"
      ]
     },
     "execution_count": null,
     "metadata": {},
     "output_type": "execute_result"
    }
   ],
   "source": [
    "torch.max(torch.zeros(1), picp_s)"
   ]
  },
  {
   "cell_type": "code",
   "execution_count": null,
   "metadata": {},
   "outputs": [],
   "source": [
    "preds = torch.cat([y_lower[:,None], y_upper[:, None]], dim=1)"
   ]
  },
  {
   "cell_type": "code",
   "execution_count": null,
   "metadata": {},
   "outputs": [
    {
     "data": {
      "text/plain": [
       "(torch.Size([10, 2]), torch.Size([10]))"
      ]
     },
     "execution_count": null,
     "metadata": {},
     "output_type": "execute_result"
    }
   ],
   "source": [
    "preds.shape, y_results.shape"
   ]
  },
  {
   "cell_type": "code",
   "execution_count": null,
   "metadata": {},
   "outputs": [
    {
     "name": "stdout",
     "output_type": "stream",
     "text": [
      "tensor(0.6159) tensor(0.3678)\n"
     ]
    },
    {
     "data": {
      "text/plain": [
       "tensor(1.0650)"
      ]
     },
     "execution_count": null,
     "metadata": {},
     "output_type": "execute_result"
    }
   ],
   "source": [
    "qd_loss(preds, y_results, alpha=0.4, l=0.2)"
   ]
  },
  {
   "cell_type": "code",
   "execution_count": null,
   "metadata": {},
   "outputs": [],
   "source": [
    "#export\n",
    "class InceptionTimeBounds(nn.Module):\n",
    "    '''\n",
    "    use InceptionTimeVar implementation for bounds\n",
    "    output[:, -1] is positive and y_upper corresponds to output[:,0]+output[:,1] --> loss\n",
    "    '''\n",
    "    \n",
    "    def __init__(self, n_in, n_out, meanrange=None):\n",
    "        super().__init__()\n",
    "        models  = [InceptionTime(n_in, n_out+1)]\n",
    "        if meanrange:\n",
    "            self.sigmoid = Sigmoid(*meanrange)\n",
    "        self.mod = nn.Sequential(*models)\n",
    "        \n",
    "    def forward(self, x):\n",
    "        x = x.float()\n",
    "        output = self.mod(x)\n",
    "        ## enforce positivity of sigma^2\n",
    "        ##output_sig_pos = tf.log(1 + tf.exp(output_sig)) + 1e-06\n",
    "#         output[:,-1] = (output[:,-1].exp()+1).log_() + 1e-06\n",
    "        output[:,-1] = F.softplus(output[:,-1])\n",
    "        \n",
    "        if getattr(self, 'sigmoid', None): output[:,:-1] = self.sigmoid(output[:,:-1])\n",
    "        return output"
   ]
  },
  {
   "cell_type": "code",
   "execution_count": null,
   "metadata": {},
   "outputs": [],
   "source": [
    "model = InceptionTimeBounds(10,1, meanrange=(-3,3))"
   ]
  },
  {
   "cell_type": "code",
   "execution_count": null,
   "metadata": {},
   "outputs": [
    {
     "name": "stdout",
     "output_type": "stream",
     "text": [
      "tensor(3760) tensor(3948.7781, grad_fn=<SumBackward0>)\n",
      "tensor(0.5312, grad_fn=<DivBackward0>) tensor(0.2410, grad_fn=<MeanBackward0>)\n"
     ]
    },
    {
     "data": {
      "text/plain": [
       "tensor([0.8410], grad_fn=<AddBackward0>)"
      ]
     },
     "execution_count": null,
     "metadata": {},
     "output_type": "execute_result"
    }
   ],
   "source": [
    "qd_loss(model(xb), y_true, add=True)"
   ]
  },
  {
   "cell_type": "code",
   "execution_count": null,
   "metadata": {},
   "outputs": [],
   "source": []
  }
 ],
 "metadata": {
  "kernelspec": {
   "display_name": "Python [conda env:nbdev]",
   "language": "python",
   "name": "conda-env-nbdev-py"
  }
 },
 "nbformat": 4,
 "nbformat_minor": 2
}
