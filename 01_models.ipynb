{
 "cells": [
  {
   "cell_type": "code",
   "execution_count": null,
   "metadata": {},
   "outputs": [],
   "source": [
    "# default_exp models"
   ]
  },
  {
   "cell_type": "markdown",
   "metadata": {},
   "source": [
    "## models"
   ]
  },
  {
   "cell_type": "code",
   "execution_count": null,
   "metadata": {},
   "outputs": [],
   "source": [
    "#export\n",
    "from torchtools.core import *"
   ]
  },
  {
   "cell_type": "code",
   "execution_count": null,
   "metadata": {},
   "outputs": [],
   "source": [
    "#export\n",
    "import torch.nn as nn\n",
    "import torch as torch\n",
    "import torch.nn.functional as F\n",
    "\n",
    "from functools import partial\n",
    "\n",
    "from fastai2.layers import SigmoidRange\n",
    "from fast_tabnet.core import *\n",
    "\n",
    "import numpy as np"
   ]
  },
  {
   "cell_type": "markdown",
   "metadata": {},
   "source": []
  },
  {
   "cell_type": "code",
   "execution_count": null,
   "metadata": {},
   "outputs": [],
   "source": []
  },
  {
   "cell_type": "code",
   "execution_count": null,
   "metadata": {},
   "outputs": [
    {
     "data": {
      "text/plain": [
       "'1.3.1'"
      ]
     },
     "execution_count": null,
     "metadata": {},
     "output_type": "execute_result"
    }
   ],
   "source": [
    "torch.__version__"
   ]
  },
  {
   "cell_type": "code",
   "execution_count": null,
   "metadata": {},
   "outputs": [
    {
     "data": {
      "text/plain": [
       "tensor([-0.7616])"
      ]
     },
     "execution_count": null,
     "metadata": {},
     "output_type": "execute_result"
    }
   ],
   "source": [
    "torch.sigmoid(torch.tensor([-2.])) * (1 - -1) + -1"
   ]
  },
  {
   "cell_type": "code",
   "execution_count": null,
   "metadata": {},
   "outputs": [],
   "source": []
  },
  {
   "cell_type": "code",
   "execution_count": null,
   "metadata": {},
   "outputs": [
    {
     "data": {
      "text/plain": [
       "[<matplotlib.lines.Line2D at 0x7f8ce02dac10>]"
      ]
     },
     "execution_count": null,
     "metadata": {},
     "output_type": "execute_result"
    },
    {
     "data": {
      "image/png": "[encoded data removed]",
      "text/plain": [
       "<Figure size 432x288 with 1 Axes>"
      ]
     },
     "metadata": {
      "needs_background": "light"
     },
     "output_type": "display_data"
    }
   ],
   "source": [
    "import matplotlib.pyplot as plt\n",
    "t = torch.arange(-10,10).float()\n",
    "# plt.plot(t)\n",
    "plt.plot(F.softplus(t, beta=1))\n",
    "plt.plot(F.softplus(t, beta=3))"
   ]
  },
  {
   "cell_type": "code",
   "execution_count": null,
   "metadata": {},
   "outputs": [],
   "source": [
    "#export\n",
    "# This is an unofficial PyTorch implementation by Ignacio Oguiza - oguiza@gmail.com based on:\n",
    "\n",
    "# Fawaz, H. I., Lucas, B., Forestier, G., Pelletier, C., Schmidt, D. F., Weber, J., ... & Petitjean, F. (2019). InceptionTime: Finding AlexNet for Time Series Classification. arXiv preprint arXiv:1909.04939.\n",
    "# Official InceptionTime tensorflow implementation: https://github.com/hfawaz/InceptionTime\n",
    "\n",
    "\n",
    "def noop(x):\n",
    "    return x\n",
    "\n",
    "def shortcut(c_in, c_out):\n",
    "    return nn.Sequential(*[nn.Conv1d(c_in, c_out, kernel_size=1), \n",
    "                           nn.BatchNorm1d(c_out)])\n",
    "    \n",
    "class Inception(nn.Module):\n",
    "    def __init__(self, c_in, bottleneck=32, ks=40, nb_filters=32):\n",
    "\n",
    "        super().__init__()\n",
    "        self.bottleneck = nn.Conv1d(c_in, bottleneck, 1) if bottleneck and c_in > 1 else noop\n",
    "        mts_feat = bottleneck or c_in\n",
    "        conv_layers = []\n",
    "        kss = [ks // (2**i) for i in range(3)]\n",
    "        # ensure odd kss until nn.Conv1d with padding='same' is available in pytorch 1.3\n",
    "        kss = [ksi if ksi % 2 != 0 else ksi - 1 for ksi in kss]  \n",
    "        for i in range(len(kss)):\n",
    "            conv_layers.append(\n",
    "                nn.Conv1d(mts_feat, nb_filters, kernel_size=kss[i], padding=kss[i] // 2))\n",
    "        self.conv_layers = nn.ModuleList(conv_layers)\n",
    "        self.maxpool = nn.MaxPool1d(3, stride=1, padding=1)\n",
    "        self.conv = nn.Conv1d(c_in, nb_filters, kernel_size=1)\n",
    "        self.bn = nn.BatchNorm1d(nb_filters * 4)\n",
    "        self.act = nn.ReLU()\n",
    "\n",
    "    def forward(self, x):\n",
    "        input_tensor = x.to(torch.float)\n",
    "        x = self.bottleneck(input_tensor)\n",
    "        for i in range(3):\n",
    "            out_ = self.conv_layers[i](x)\n",
    "            if i == 0: out = out_\n",
    "            else: out = torch.cat((out, out_), 1)\n",
    "        mp = self.conv(self.maxpool(input_tensor))\n",
    "        inc_out = torch.cat((out, mp), 1)\n",
    "        return self.act(self.bn(inc_out))\n",
    "\n",
    "\n",
    "class InceptionBlock(nn.Module):\n",
    "    def __init__(self,c_in,bottleneck=32,ks=40,nb_filters=32,residual=True,depth=6):\n",
    "\n",
    "        super().__init__()\n",
    "\n",
    "        self.residual = residual\n",
    "        self.depth = depth\n",
    "\n",
    "        #inception & residual layers\n",
    "        inc_mods = []\n",
    "        res_layers = []\n",
    "        res = 0\n",
    "        for d in range(depth):\n",
    "            inc_mods.append(\n",
    "                Inception(c_in if d == 0 else nb_filters * 4, bottleneck=bottleneck if d > 0 else 0,ks=ks,\n",
    "                          nb_filters=nb_filters))\n",
    "            if self.residual and d % 3 == 2:\n",
    "                res_layers.append(shortcut(c_in if res == 0 else nb_filters * 4, nb_filters * 4))\n",
    "                res += 1\n",
    "            else: res_layer = res_layers.append(None)\n",
    "        self.inc_mods = nn.ModuleList(inc_mods)\n",
    "        self.res_layers = nn.ModuleList(res_layers)\n",
    "        self.act = nn.ReLU()\n",
    "        \n",
    "    def forward(self, x):\n",
    "        res = x\n",
    "        for d, l in enumerate(range(self.depth)):\n",
    "            x = self.inc_mods[d](x)\n",
    "            if self.residual and d % 3 == 2:\n",
    "                res = self.res_layers[d](res)\n",
    "                x += res\n",
    "                res = x\n",
    "                x = self.act(x)\n",
    "        return x"
   ]
  },
  {
   "cell_type": "code",
   "execution_count": null,
   "metadata": {},
   "outputs": [],
   "source": [
    "#export    \n",
    "class InceptionTime(nn.Module):\n",
    "    def __init__(self,c_in,c_out,bottleneck=32,ks=40,nb_filters=32,residual=True,depth=6):\n",
    "        super().__init__()\n",
    "        self.block = InceptionBlock(c_in,bottleneck=bottleneck,ks=ks,nb_filters=nb_filters,\n",
    "                                    residual=residual,depth=depth)\n",
    "        self.gap = nn.AdaptiveAvgPool1d(1)\n",
    "        self.fc = nn.Linear(nb_filters * 4, c_out)\n",
    "\n",
    "    def forward(self, *x):\n",
    "        x = torch.cat(x, dim=-2)\n",
    "        x = self.block(x)\n",
    "        x = self.gap(x).squeeze(-1)\n",
    "        x = self.fc(x)\n",
    "        return x"
   ]
  },
  {
   "cell_type": "code",
   "execution_count": null,
   "metadata": {},
   "outputs": [],
   "source": [
    "#export\n",
    "class Sigmoid(nn.Module):\n",
    "    '''\n",
    "    sigmoid layer\n",
    "    '''\n",
    "    def __init__(self, low, high):\n",
    "        super().__init__()\n",
    "        self.high, self.low = high, low\n",
    "        \n",
    "    def forward(self, x):\n",
    "        return torch.sigmoid(x)*(self.high-self.low)+self.low"
   ]
  },
  {
   "cell_type": "code",
   "execution_count": null,
   "metadata": {},
   "outputs": [],
   "source": [
    "#export\n",
    "class InceptionTimeSgmOld(nn.Module):\n",
    "    '''\n",
    "    add a sigmoid layer to InceptionTime to get the ouput in a certain range\n",
    "    '''\n",
    "    \n",
    "    def __init__(self, n_in, n_out):\n",
    "        super().__init__()\n",
    "        nn.Sequential()\n",
    "        self.inc = InceptionTime(n_in, n_out)\n",
    "        self.low, self.high = -1., 1.\n",
    "        \n",
    "    def forward(self, x):\n",
    "        return torch.sigmoid(self.inc(x)) * (self.high - self.low) + self.low\n",
    "        "
   ]
  },
  {
   "cell_type": "code",
   "execution_count": null,
   "metadata": {},
   "outputs": [],
   "source": [
    "#export\n",
    "class InceptionTimeSgm(nn.Module):\n",
    "    '''\n",
    "    add a sigmoid layer to InceptionTime to get the ouput in a certain range\n",
    "    '''\n",
    "    \n",
    "    def __init__(self, n_in, n_out, range=(-1,1)):\n",
    "        super().__init__()\n",
    "        self.mod = nn.Sequential(InceptionTime(n_in, n_out), SigmoidRange(*range))\n",
    "        \n",
    "    def forward(self, x):\n",
    "        x = x.float()\n",
    "        return self.mod(x)\n",
    "        "
   ]
  },
  {
   "cell_type": "code",
   "execution_count": null,
   "metadata": {},
   "outputs": [],
   "source": [
    "#export\n",
    "class InceptionTimeD(nn.Module):\n",
    "    '''\n",
    "    add a sigmoid layer to InceptionTime to get the ouput in a certain range\n",
    "    '''\n",
    "    \n",
    "    def __init__(self, n_in, n_out):\n",
    "        super().__init__()\n",
    "        self.mod = nn.Sequential(InceptionTime(n_in, n_out), Sigmoid(-1., 1.))\n",
    "        \n",
    "    def forward(self, xc, xd):\n",
    "        x = torch.cat([xc.float(), xd.float()], dim=-2)\n",
    "        x = x.float()\n",
    "#         print(f'InceptionTimeSgm dtype {x.dtype}')\n",
    "        return self.mod(x)"
   ]
  },
  {
   "cell_type": "markdown",
   "metadata": {},
   "source": [
    "### Mixed"
   ]
  },
  {
   "cell_type": "code",
   "execution_count": null,
   "metadata": {},
   "outputs": [],
   "source": [
    "#export    \n",
    "class InceptionTime_NH(nn.Module):\n",
    "    '''inceptiontime, no final layer'''\n",
    "    def __init__(self,c_in,c_out,bottleneck=32,ks=40,nb_filters=32,residual=True,depth=6):\n",
    "        super().__init__()\n",
    "        self.block = InceptionBlock(c_in,bottleneck=bottleneck,ks=ks,nb_filters=nb_filters,\n",
    "                                    residual=residual,depth=depth)\n",
    "        self.gap = nn.AdaptiveAvgPool1d(1)\n",
    "#         self.fc = nn.Linear(nb_filters * 4, c_out)\n",
    "\n",
    "    def forward(self, x):\n",
    "        x = self.block(x)\n",
    "#         print(x.shape)\n",
    "        x = self.gap(x).squeeze(-1)\n",
    "#         x = self.fc(x)\n",
    "        return x"
   ]
  },
  {
   "cell_type": "code",
   "execution_count": null,
   "metadata": {},
   "outputs": [],
   "source": [
    "def emb_sz_rule(n_cat):\n",
    "    \"Rule of thumb to pick embedding size corresponding to `n_cat`\"\n",
    "    return min(600, round(1.6 * n_cat**0.56))\n",
    "\n",
    "# Cell\n",
    "def _one_emb_sz(classes, n, sz_dict=None):\n",
    "    \"Pick an embedding size for `n` depending on `classes` if not given in `sz_dict`.\"\n",
    "    sz_dict = ifnone(sz_dict, {})\n",
    "    n_cat = len(classes[n])\n",
    "    sz = sz_dict.get(n, int(emb_sz_rule(n_cat)))  # rule of thumb\n",
    "    return n_cat,sz\n",
    "\n",
    "# Cell\n",
    "def get_emb_sz(to, sz_dict=None):\n",
    "    \"Get default embedding size from `TabularPreprocessor` `proc` or the ones in `sz_dict`\"\n",
    "    return [_one_emb_sz(to.classes,v n, sz_dict) for n in to.cat_names]"
   ]
  },
  {
   "cell_type": "code",
   "execution_count": null,
   "metadata": {},
   "outputs": [],
   "source": [
    "#export\n",
    "def _map_xs(xs, xs_mask):\n",
    "    '''\n",
    "    xs: i-tuple of tensors\n",
    "    xs_mask: length j>=i mask\n",
    "    xs_id: lenght j>=i string list of x identifiers \n",
    "    '''\n",
    "    assert np.array(xs_mask).sum()==len(xs)\n",
    "    res = np.array([None]*len(xs_mask))\n",
    "    res[np.where(xs_mask)[0]]=xs\n",
    "    return res"
   ]
  },
  {
   "cell_type": "code",
   "execution_count": null,
   "metadata": {},
   "outputs": [],
   "source": [
    "#export\n",
    "class InceptionTimeD_Mixed(nn.Module):\n",
    "    '''\n",
    "    mixed model for timeseries and tabular data\n",
    "    ts_mod: InceptionTime model without final fully connected lay\n",
    "    tab_mod: MLP or TabNet, currently both cont and cat is required\n",
    "    outputs are concatenated, then put through a fully connected layer, then sigmoid range\n",
    "    '''\n",
    "    \n",
    "    def __init__(self, n_c, n_d, n_out, n_cont, emb_szs=None):\n",
    "        super().__init__()\n",
    "        self.n_c, self.n_d, self.n_cont, self.emb_szs = n_c, n_d, n_out, emb_szs\n",
    "        assert n_c>0, 'at least one continuous channel required'\n",
    "        self.ts_mod = InceptionTime_NH(n_c+n_d, n_out) #128\n",
    "        self.sgm = Sigmoid(-1,1)\n",
    "#         self.mod = nn.Sequential(InceptionTime(n_in, n_out), Sigmoid(-1., 1.))\n",
    "#         self.tab_mod = nn.Sequential(nn.Linear(2,100), nn.ReLU(), nn.Linear(100,64))\n",
    "        self.tab_mod = TabNetModel(emb_szs=emb_szs, n_cont=n_cont, out_sz=64)\n",
    "        self.fc = nn.Linear(192,n_out)\n",
    "        \n",
    "#     def forward(self, xc, xd, xt, xcat=None):\n",
    "    def forward(self, *xs):\n",
    "        \n",
    "        \n",
    "        xs_mask = [self.n_c>0, self.n_d>0, self.n_cont>0, len(self.emb_szs)>0]\n",
    "#         x_type_idxs = [i for i in range(4) if has_x[i]]\n",
    "        xc,xd,xt,xcat = map_xs(xs, xs_mask)\n",
    "        \n",
    "        x_ts=xc.float()\n",
    "        if xd is not None: x_ts = torch.cat([x_ts, xd.float()], dim=-2)\n",
    "        \n",
    "#         x_ts=torch.cat([xs[0].float(), xd.float()], dim=-2) if self.n_d>0 else x_ts\n",
    "        \n",
    "        \n",
    "#         x = t\n",
    "#         x = x.float()\n",
    "#         print(f'InceptionTimeSgm dtype {x.dtype}')\n",
    "#         print(self.ts_mod(x).shape, self.tab_mod(xt.float().squeeze(-2)).shape )\n",
    "        xcat=xcat.long() if xcat is not None else None\n",
    "        xt=xt.float() if xt is not None else None\n",
    "        x_all = torch.cat([self.ts_mod(x_ts), self.tab_mod(xcat, xt)], dim=-1)\n",
    "        return self.sgm(self.fc(x_all))"
   ]
  },
  {
   "cell_type": "code",
   "execution_count": null,
   "metadata": {},
   "outputs": [],
   "source": [
    "#export\n",
    "class InceptionTime_Mixed(nn.Module):\n",
    "    '''\n",
    "    mixed model for timeseries and tabular data\n",
    "    ts_mod: InceptionTime model without final fully connected lay\n",
    "    tab_mod: MLP or TabNet, currently both cont and cat is required\n",
    "    outputs are concatenated, then put through a fully connected layer, no sigmoid for classification\n",
    "    '''\n",
    "    \n",
    "    def __init__(self, n_c, n_d, n_out, n_cont, emb_szs=None):\n",
    "        super().__init__()\n",
    "        self.n_c, self.n_d, self.n_cont, self.emb_szs = n_c, n_d, n_out, emb_szs\n",
    "        assert n_c>0, 'at least one continuous channel required'\n",
    "        self.ts_mod = InceptionTime_NH(n_c+n_d, n_out) #128\n",
    "#         self.mod = nn.Sequential(InceptionTime(n_in, n_out), Sigmoid(-1., 1.))\n",
    "#         self.tab_mod = nn.Sequential(nn.Linear(2,100), nn.ReLU(), nn.Linear(100,64))\n",
    "        self.tab_mod = TabNetModel(emb_szs=emb_szs, n_cont=n_cont, out_sz=64)\n",
    "        self.fc = nn.Linear(192,n_out)\n",
    "        \n",
    "#     def forward(self, xc, xd, xt, xcat=None):\n",
    "    def forward(self, *xs):\n",
    "        \n",
    "        \n",
    "        xs_mask = [self.n_c>0, self.n_d>0, self.n_cont>0, len(self.emb_szs)>0]\n",
    "#         x_type_idxs = [i for i in range(4) if has_x[i]]\n",
    "        xc,xd,xt,xcat = map_xs(xs, xs_mask)\n",
    "        \n",
    "        x_ts=xc.float()\n",
    "        if xd is not None: x_ts = torch.cat([x_ts, xd.float()], dim=-2)\n",
    "        \n",
    "#         x_ts=torch.cat([xs[0].float(), xd.float()], dim=-2) if self.n_d>0 else x_ts\n",
    "        \n",
    "        \n",
    "#         x = t\n",
    "#         x = x.float()\n",
    "#         print(f'InceptionTimeSgm dtype {x.dtype}')\n",
    "#         print(self.ts_mod(x).shape, self.tab_mod(xt.float().squeeze(-2)).shape )\n",
    "        xcat=xcat.long() if xcat is not None else None\n",
    "        xt=xt.float() if xt is not None else None\n",
    "        x_all = torch.cat([self.ts_mod(x_ts), self.tab_mod(xcat, xt)], dim=-1)\n",
    "        return self.fc(x_all)"
   ]
  },
  {
   "cell_type": "code",
   "execution_count": null,
   "metadata": {},
   "outputs": [],
   "source": [
    "TabNetModel()"
   ]
  },
  {
   "cell_type": "code",
   "execution_count": null,
   "metadata": {},
   "outputs": [],
   "source": [
    "#export\n",
    "class TabNetTT(nn.Module):\n",
    "    '''\n",
    "    convenience wrapper for pure TabNetModel models\n",
    "    '''\n",
    "    def __init__(self, emb_szs, n_cont, out_sz, **kwargs):\n",
    "        super().__init__()\n",
    "        self.tab = TabNetModel(emb_szs, n_cont, out_sz, **kwargs)\n",
    "        \n",
    "    def forward(self, xt, xcat):\n",
    "        xcat=xcat.long() if xcat is not None else None\n",
    "        xt=xt.float() if xt is not None else None\n",
    "        return self.tab(xcat, xt)    "
   ]
  },
  {
   "cell_type": "code",
   "execution_count": null,
   "metadata": {},
   "outputs": [],
   "source": [
    "xs = (torch.rand(5), torch.rand(5))\n",
    "xs_mask = [True, False, False, True]\n",
    "# xs_id = ['xa', 'xb', 'xc', 'xd']"
   ]
  },
  {
   "cell_type": "code",
   "execution_count": null,
   "metadata": {},
   "outputs": [],
   "source": [
    "a,b,c,d = map_xs(xs, xs_mask)"
   ]
  },
  {
   "cell_type": "code",
   "execution_count": null,
   "metadata": {},
   "outputs": [
    {
     "data": {
      "text/plain": [
       "(tensor([0.7881, 0.9778, 0.3140, 0.2567, 0.1967]),\n",
       " None,\n",
       " None,\n",
       " tensor([0.6820, 0.7085, 0.3898, 0.3335, 0.7590]))"
      ]
     },
     "execution_count": null,
     "metadata": {},
     "output_type": "execute_result"
    }
   ],
   "source": [
    "a, b, c, d"
   ]
  },
  {
   "cell_type": "code",
   "execution_count": null,
   "metadata": {},
   "outputs": [
    {
     "ename": "TypeError",
     "evalue": "only integer scalar arrays can be converted to a scalar index",
     "output_type": "error",
     "traceback": [
      "\u001b[0;31m---------------------------------------------------------------------------\u001b[0m",
      "\u001b[0;31mTypeError\u001b[0m                                 Traceback (most recent call last)",
      "\u001b[0;32m<ipython-input-80-b883e28c3c1e>\u001b[0m in \u001b[0;36m<module>\u001b[0;34m\u001b[0m\n\u001b[0;32m----> 1\u001b[0;31m \u001b[0ml\u001b[0m\u001b[0;34m[\u001b[0m\u001b[0mnp\u001b[0m\u001b[0;34m.\u001b[0m\u001b[0mwhere\u001b[0m\u001b[0;34m(\u001b[0m\u001b[0mnp\u001b[0m\u001b[0;34m.\u001b[0m\u001b[0marray\u001b[0m\u001b[0;34m(\u001b[0m\u001b[0mxs_mask\u001b[0m\u001b[0;34m)\u001b[0m\u001b[0;34m)\u001b[0m\u001b[0;34m[\u001b[0m\u001b[0;36m0\u001b[0m\u001b[0;34m]\u001b[0m\u001b[0;34m]\u001b[0m\u001b[0;34m\u001b[0m\u001b[0;34m\u001b[0m\u001b[0m\n\u001b[0m",
      "\u001b[0;31mTypeError\u001b[0m: only integer scalar arrays can be converted to a scalar index"
     ]
    }
   ],
   "source": [
    "l[np.where(np.array(xs_mask))[0]]"
   ]
  },
  {
   "cell_type": "code",
   "execution_count": null,
   "metadata": {},
   "outputs": [],
   "source": [
    "l = [None, None, None, None, None]\n",
    "l=np.array(l)\n",
    "l[np.where(np.array(xs_mask))[0]]=xs"
   ]
  },
  {
   "cell_type": "code",
   "execution_count": null,
   "metadata": {},
   "outputs": [
    {
     "data": {
      "text/plain": [
       "array([tensor([0.6260, 0.2170, 0.5897, 0.6390, 0.7939]), None, None,\n",
       "       tensor([0.3255, 0.9235, 0.8020, 0.9128, 0.3032]), None],\n",
       "      dtype=object)"
      ]
     },
     "execution_count": null,
     "metadata": {},
     "output_type": "execute_result"
    }
   ],
   "source": [
    "l"
   ]
  },
  {
   "cell_type": "code",
   "execution_count": null,
   "metadata": {},
   "outputs": [
    {
     "ename": "TypeError",
     "evalue": "list indices must be integers or slices, not tuple",
     "output_type": "error",
     "traceback": [
      "\u001b[0;31m---------------------------------------------------------------------------\u001b[0m",
      "\u001b[0;31mTypeError\u001b[0m                                 Traceback (most recent call last)",
      "\u001b[0;32m<ipython-input-83-47bad7d53b7c>\u001b[0m in \u001b[0;36m<module>\u001b[0;34m\u001b[0m\n\u001b[0;32m----> 1\u001b[0;31m \u001b[0ml\u001b[0m\u001b[0;34m[\u001b[0m\u001b[0;36m0\u001b[0m\u001b[0;34m,\u001b[0m\u001b[0;36m2\u001b[0m\u001b[0;34m]\u001b[0m\u001b[0;34m\u001b[0m\u001b[0;34m\u001b[0m\u001b[0m\n\u001b[0m",
      "\u001b[0;31mTypeError\u001b[0m: list indices must be integers or slices, not tuple"
     ]
    }
   ],
   "source": [
    "l[0,2]"
   ]
  },
  {
   "cell_type": "code",
   "execution_count": null,
   "metadata": {},
   "outputs": [
    {
     "name": "stdout",
     "output_type": "stream",
     "text": [
      "(tensor([0.6263, 0.9378, 0.4598, 0.1943, 0.2437]), None, None, tensor([0.8345, 0.0159, 0.7012, 0.8561, 0.9810]))\n"
     ]
    }
   ],
   "source": [
    "xa,xb,xc,xd = map_xs(xs, xs_mask, xs_id)\n",
    "print((xa, xb, xc, xd))"
   ]
  },
  {
   "cell_type": "code",
   "execution_count": null,
   "metadata": {},
   "outputs": [
    {
     "name": "stdout",
     "output_type": "stream",
     "text": [
      "(None, tensor([0.1152, 0.8739, 0.6097, 0.4476, 0.8327]), None, tensor([0.7637, 0.0014, 0.7492, 0.7462, 0.4787]))\n"
     ]
    }
   ],
   "source": [
    "xs = (torch.rand(5), torch.rand(5))\n",
    "xs_mask = [False, True, False, True]\n",
    "xs_id = ['xa', 'xb', 'xc', 'xd']\n",
    "xa,xb,xc,xd = map_xs(xs, xs_mask, xs_id)\n",
    "print((xa, xb, xc, xd))"
   ]
  },
  {
   "cell_type": "code",
   "execution_count": null,
   "metadata": {},
   "outputs": [
    {
     "data": {
      "text/plain": [
       "array([0, 2, 3])"
      ]
     },
     "execution_count": null,
     "metadata": {},
     "output_type": "execute_result"
    }
   ],
   "source": [
    "np.where(np.array([True, False, True,True, False, False]))[0]"
   ]
  },
  {
   "cell_type": "code",
   "execution_count": null,
   "metadata": {},
   "outputs": [],
   "source": []
  },
  {
   "cell_type": "code",
   "execution_count": null,
   "metadata": {},
   "outputs": [],
   "source": [
    "m = InceptionTimeD_Mixed(4,2,7,2,[])"
   ]
  },
  {
   "cell_type": "code",
   "execution_count": null,
   "metadata": {},
   "outputs": [
    {
     "data": {
      "text/plain": [
       "InceptionTimeD_Mixed(\n",
       "  (ts_mod): InceptionTime_NH(\n",
       "    (block): InceptionBlock(\n",
       "      (inc_mods): ModuleList(\n",
       "        (0): Inception(\n",
       "          (conv_layers): ModuleList(\n",
       "            (0): Conv1d(6, 32, kernel_size=(39,), stride=(1,), padding=(19,))\n",
       "            (1): Conv1d(6, 32, kernel_size=(19,), stride=(1,), padding=(9,))\n",
       "            (2): Conv1d(6, 32, kernel_size=(9,), stride=(1,), padding=(4,))\n",
       "          )\n",
       "          (maxpool): MaxPool1d(kernel_size=3, stride=1, padding=1, dilation=1, ceil_mode=False)\n",
       "          (conv): Conv1d(6, 32, kernel_size=(1,), stride=(1,))\n",
       "          (bn): BatchNorm1d(128, eps=1e-05, momentum=0.1, affine=True, track_running_stats=True)\n",
       "          (act): ReLU()\n",
       "        )\n",
       "        (1): Inception(\n",
       "          (bottleneck): Conv1d(128, 32, kernel_size=(1,), stride=(1,))\n",
       "          (conv_layers): ModuleList(\n",
       "            (0): Conv1d(32, 32, kernel_size=(39,), stride=(1,), padding=(19,))\n",
       "            (1): Conv1d(32, 32, kernel_size=(19,), stride=(1,), padding=(9,))\n",
       "            (2): Conv1d(32, 32, kernel_size=(9,), stride=(1,), padding=(4,))\n",
       "          )\n",
       "          (maxpool): MaxPool1d(kernel_size=3, stride=1, padding=1, dilation=1, ceil_mode=False)\n",
       "          (conv): Conv1d(128, 32, kernel_size=(1,), stride=(1,))\n",
       "          (bn): BatchNorm1d(128, eps=1e-05, momentum=0.1, affine=True, track_running_stats=True)\n",
       "          (act): ReLU()\n",
       "        )\n",
       "        (2): Inception(\n",
       "          (bottleneck): Conv1d(128, 32, kernel_size=(1,), stride=(1,))\n",
       "          (conv_layers): ModuleList(\n",
       "            (0): Conv1d(32, 32, kernel_size=(39,), stride=(1,), padding=(19,))\n",
       "            (1): Conv1d(32, 32, kernel_size=(19,), stride=(1,), padding=(9,))\n",
       "            (2): Conv1d(32, 32, kernel_size=(9,), stride=(1,), padding=(4,))\n",
       "          )\n",
       "          (maxpool): MaxPool1d(kernel_size=3, stride=1, padding=1, dilation=1, ceil_mode=False)\n",
       "          (conv): Conv1d(128, 32, kernel_size=(1,), stride=(1,))\n",
       "          (bn): BatchNorm1d(128, eps=1e-05, momentum=0.1, affine=True, track_running_stats=True)\n",
       "          (act): ReLU()\n",
       "        )\n",
       "        (3): Inception(\n",
       "          (bottleneck): Conv1d(128, 32, kernel_size=(1,), stride=(1,))\n",
       "          (conv_layers): ModuleList(\n",
       "            (0): Conv1d(32, 32, kernel_size=(39,), stride=(1,), padding=(19,))\n",
       "            (1): Conv1d(32, 32, kernel_size=(19,), stride=(1,), padding=(9,))\n",
       "            (2): Conv1d(32, 32, kernel_size=(9,), stride=(1,), padding=(4,))\n",
       "          )\n",
       "          (maxpool): MaxPool1d(kernel_size=3, stride=1, padding=1, dilation=1, ceil_mode=False)\n",
       "          (conv): Conv1d(128, 32, kernel_size=(1,), stride=(1,))\n",
       "          (bn): BatchNorm1d(128, eps=1e-05, momentum=0.1, affine=True, track_running_stats=True)\n",
       "          (act): ReLU()\n",
       "        )\n",
       "        (4): Inception(\n",
       "          (bottleneck): Conv1d(128, 32, kernel_size=(1,), stride=(1,))\n",
       "          (conv_layers): ModuleList(\n",
       "            (0): Conv1d(32, 32, kernel_size=(39,), stride=(1,), padding=(19,))\n",
       "            (1): Conv1d(32, 32, kernel_size=(19,), stride=(1,), padding=(9,))\n",
       "            (2): Conv1d(32, 32, kernel_size=(9,), stride=(1,), padding=(4,))\n",
       "          )\n",
       "          (maxpool): MaxPool1d(kernel_size=3, stride=1, padding=1, dilation=1, ceil_mode=False)\n",
       "          (conv): Conv1d(128, 32, kernel_size=(1,), stride=(1,))\n",
       "          (bn): BatchNorm1d(128, eps=1e-05, momentum=0.1, affine=True, track_running_stats=True)\n",
       "          (act): ReLU()\n",
       "        )\n",
       "        (5): Inception(\n",
       "          (bottleneck): Conv1d(128, 32, kernel_size=(1,), stride=(1,))\n",
       "          (conv_layers): ModuleList(\n",
       "            (0): Conv1d(32, 32, kernel_size=(39,), stride=(1,), padding=(19,))\n",
       "            (1): Conv1d(32, 32, kernel_size=(19,), stride=(1,), padding=(9,))\n",
       "            (2): Conv1d(32, 32, kernel_size=(9,), stride=(1,), padding=(4,))\n",
       "          )\n",
       "          (maxpool): MaxPool1d(kernel_size=3, stride=1, padding=1, dilation=1, ceil_mode=False)\n",
       "          (conv): Conv1d(128, 32, kernel_size=(1,), stride=(1,))\n",
       "          (bn): BatchNorm1d(128, eps=1e-05, momentum=0.1, affine=True, track_running_stats=True)\n",
       "          (act): ReLU()\n",
       "        )\n",
       "      )\n",
       "      (res_layers): ModuleList(\n",
       "        (0): None\n",
       "        (1): None\n",
       "        (2): Sequential(\n",
       "          (0): Conv1d(6, 128, kernel_size=(1,), stride=(1,))\n",
       "          (1): BatchNorm1d(128, eps=1e-05, momentum=0.1, affine=True, track_running_stats=True)\n",
       "        )\n",
       "        (3): None\n",
       "        (4): None\n",
       "        (5): Sequential(\n",
       "          (0): Conv1d(128, 128, kernel_size=(1,), stride=(1,))\n",
       "          (1): BatchNorm1d(128, eps=1e-05, momentum=0.1, affine=True, track_running_stats=True)\n",
       "        )\n",
       "      )\n",
       "      (act): ReLU()\n",
       "    )\n",
       "    (gap): AdaptiveAvgPool1d(output_size=1)\n",
       "  )\n",
       "  (sgm): Sigmoid()\n",
       "  (tab_mod): TabNetModel(\n",
       "    (embeds): ModuleList()\n",
       "    (emb_drop): Dropout(p=0.0, inplace=False)\n",
       "    (bn_cont): BatchNorm1d(2, eps=1e-05, momentum=0.1, affine=True, track_running_stats=True)\n",
       "    (tab_net): TabNetNoEmbeddings(\n",
       "      (initial_bn): BatchNorm1d(2, eps=1e-05, momentum=0.01, affine=True, track_running_stats=True)\n",
       "      (initial_splitter): FeatTransformer(\n",
       "        (shared): GLU_Block(\n",
       "          (shared_layers): ModuleList(\n",
       "            (0): Linear(in_features=2, out_features=32, bias=False)\n",
       "            (1): Linear(in_features=16, out_features=32, bias=False)\n",
       "          )\n",
       "          (glu_layers): ModuleList(\n",
       "            (0): GLU_Layer(\n",
       "              (fc): Linear(in_features=2, out_features=32, bias=False)\n",
       "              (bn): GBN(\n",
       "                (bn): BatchNorm1d(32, eps=1e-05, momentum=0.02, affine=True, track_running_stats=True)\n",
       "              )\n",
       "            )\n",
       "            (1): GLU_Layer(\n",
       "              (fc): Linear(in_features=16, out_features=32, bias=False)\n",
       "              (bn): GBN(\n",
       "                (bn): BatchNorm1d(32, eps=1e-05, momentum=0.02, affine=True, track_running_stats=True)\n",
       "              )\n",
       "            )\n",
       "          )\n",
       "        )\n",
       "        (specifics): GLU_Block(\n",
       "          (glu_layers): ModuleList(\n",
       "            (0): GLU_Layer(\n",
       "              (fc): Linear(in_features=16, out_features=32, bias=False)\n",
       "              (bn): GBN(\n",
       "                (bn): BatchNorm1d(32, eps=1e-05, momentum=0.02, affine=True, track_running_stats=True)\n",
       "              )\n",
       "            )\n",
       "            (1): GLU_Layer(\n",
       "              (fc): Linear(in_features=16, out_features=32, bias=False)\n",
       "              (bn): GBN(\n",
       "                (bn): BatchNorm1d(32, eps=1e-05, momentum=0.02, affine=True, track_running_stats=True)\n",
       "              )\n",
       "            )\n",
       "          )\n",
       "        )\n",
       "      )\n",
       "      (feat_transformers): ModuleList(\n",
       "        (0): FeatTransformer(\n",
       "          (shared): GLU_Block(\n",
       "            (shared_layers): ModuleList(\n",
       "              (0): Linear(in_features=2, out_features=32, bias=False)\n",
       "              (1): Linear(in_features=16, out_features=32, bias=False)\n",
       "            )\n",
       "            (glu_layers): ModuleList(\n",
       "              (0): GLU_Layer(\n",
       "                (fc): Linear(in_features=2, out_features=32, bias=False)\n",
       "                (bn): GBN(\n",
       "                  (bn): BatchNorm1d(32, eps=1e-05, momentum=0.02, affine=True, track_running_stats=True)\n",
       "                )\n",
       "              )\n",
       "              (1): GLU_Layer(\n",
       "                (fc): Linear(in_features=16, out_features=32, bias=False)\n",
       "                (bn): GBN(\n",
       "                  (bn): BatchNorm1d(32, eps=1e-05, momentum=0.02, affine=True, track_running_stats=True)\n",
       "                )\n",
       "              )\n",
       "            )\n",
       "          )\n",
       "          (specifics): GLU_Block(\n",
       "            (glu_layers): ModuleList(\n",
       "              (0): GLU_Layer(\n",
       "                (fc): Linear(in_features=16, out_features=32, bias=False)\n",
       "                (bn): GBN(\n",
       "                  (bn): BatchNorm1d(32, eps=1e-05, momentum=0.02, affine=True, track_running_stats=True)\n",
       "                )\n",
       "              )\n",
       "              (1): GLU_Layer(\n",
       "                (fc): Linear(in_features=16, out_features=32, bias=False)\n",
       "                (bn): GBN(\n",
       "                  (bn): BatchNorm1d(32, eps=1e-05, momentum=0.02, affine=True, track_running_stats=True)\n",
       "                )\n",
       "              )\n",
       "            )\n",
       "          )\n",
       "        )\n",
       "        (1): FeatTransformer(\n",
       "          (shared): GLU_Block(\n",
       "            (shared_layers): ModuleList(\n",
       "              (0): Linear(in_features=2, out_features=32, bias=False)\n",
       "              (1): Linear(in_features=16, out_features=32, bias=False)\n",
       "            )\n",
       "            (glu_layers): ModuleList(\n",
       "              (0): GLU_Layer(\n",
       "                (fc): Linear(in_features=2, out_features=32, bias=False)\n",
       "                (bn): GBN(\n",
       "                  (bn): BatchNorm1d(32, eps=1e-05, momentum=0.02, affine=True, track_running_stats=True)\n",
       "                )\n",
       "              )\n",
       "              (1): GLU_Layer(\n",
       "                (fc): Linear(in_features=16, out_features=32, bias=False)\n",
       "                (bn): GBN(\n",
       "                  (bn): BatchNorm1d(32, eps=1e-05, momentum=0.02, affine=True, track_running_stats=True)\n",
       "                )\n",
       "              )\n",
       "            )\n",
       "          )\n",
       "          (specifics): GLU_Block(\n",
       "            (glu_layers): ModuleList(\n",
       "              (0): GLU_Layer(\n",
       "                (fc): Linear(in_features=16, out_features=32, bias=False)\n",
       "                (bn): GBN(\n",
       "                  (bn): BatchNorm1d(32, eps=1e-05, momentum=0.02, affine=True, track_running_stats=True)\n",
       "                )\n",
       "              )\n",
       "              (1): GLU_Layer(\n",
       "                (fc): Linear(in_features=16, out_features=32, bias=False)\n",
       "                (bn): GBN(\n",
       "                  (bn): BatchNorm1d(32, eps=1e-05, momentum=0.02, affine=True, track_running_stats=True)\n",
       "                )\n",
       "              )\n",
       "            )\n",
       "          )\n",
       "        )\n",
       "        (2): FeatTransformer(\n",
       "          (shared): GLU_Block(\n",
       "            (shared_layers): ModuleList(\n",
       "              (0): Linear(in_features=2, out_features=32, bias=False)\n",
       "              (1): Linear(in_features=16, out_features=32, bias=False)\n",
       "            )\n",
       "            (glu_layers): ModuleList(\n",
       "              (0): GLU_Layer(\n",
       "                (fc): Linear(in_features=2, out_features=32, bias=False)\n",
       "                (bn): GBN(\n",
       "                  (bn): BatchNorm1d(32, eps=1e-05, momentum=0.02, affine=True, track_running_stats=True)\n",
       "                )\n",
       "              )\n",
       "              (1): GLU_Layer(\n",
       "                (fc): Linear(in_features=16, out_features=32, bias=False)\n",
       "                (bn): GBN(\n",
       "                  (bn): BatchNorm1d(32, eps=1e-05, momentum=0.02, affine=True, track_running_stats=True)\n",
       "                )\n",
       "              )\n",
       "            )\n",
       "          )\n",
       "          (specifics): GLU_Block(\n",
       "            (glu_layers): ModuleList(\n",
       "              (0): GLU_Layer(\n",
       "                (fc): Linear(in_features=16, out_features=32, bias=False)\n",
       "                (bn): GBN(\n",
       "                  (bn): BatchNorm1d(32, eps=1e-05, momentum=0.02, affine=True, track_running_stats=True)\n",
       "                )\n",
       "              )\n",
       "              (1): GLU_Layer(\n",
       "                (fc): Linear(in_features=16, out_features=32, bias=False)\n",
       "                (bn): GBN(\n",
       "                  (bn): BatchNorm1d(32, eps=1e-05, momentum=0.02, affine=True, track_running_stats=True)\n",
       "                )\n",
       "              )\n",
       "            )\n",
       "          )\n",
       "        )\n",
       "      )\n",
       "      (att_transformers): ModuleList(\n",
       "        (0): AttentiveTransformer(\n",
       "          (fc): Linear(in_features=8, out_features=2, bias=False)\n",
       "          (bn): GBN(\n",
       "            (bn): BatchNorm1d(2, eps=1e-05, momentum=0.02, affine=True, track_running_stats=True)\n",
       "          )\n",
       "          (sp_max): Sparsemax()\n",
       "        )\n",
       "        (1): AttentiveTransformer(\n",
       "          (fc): Linear(in_features=8, out_features=2, bias=False)\n",
       "          (bn): GBN(\n",
       "            (bn): BatchNorm1d(2, eps=1e-05, momentum=0.02, affine=True, track_running_stats=True)\n",
       "          )\n",
       "          (sp_max): Sparsemax()\n",
       "        )\n",
       "        (2): AttentiveTransformer(\n",
       "          (fc): Linear(in_features=8, out_features=2, bias=False)\n",
       "          (bn): GBN(\n",
       "            (bn): BatchNorm1d(2, eps=1e-05, momentum=0.02, affine=True, track_running_stats=True)\n",
       "          )\n",
       "          (sp_max): Sparsemax()\n",
       "        )\n",
       "      )\n",
       "      (final_mapping): Linear(in_features=8, out_features=64, bias=False)\n",
       "    )\n",
       "  )\n",
       "  (fc): Linear(in_features=192, out_features=7, bias=True)\n",
       ")"
      ]
     },
     "execution_count": null,
     "metadata": {},
     "output_type": "execute_result"
    }
   ],
   "source": [
    "m"
   ]
  },
  {
   "cell_type": "code",
   "execution_count": null,
   "metadata": {},
   "outputs": [],
   "source": [
    "TabNetModel??"
   ]
  },
  {
   "cell_type": "code",
   "execution_count": null,
   "metadata": {},
   "outputs": [],
   "source": [
    "has_x = [True, False, True, True, False, True]\n",
    "xs = (3,)"
   ]
  },
  {
   "cell_type": "code",
   "execution_count": null,
   "metadata": {},
   "outputs": [
    {
     "data": {
      "text/plain": [
       "2"
      ]
     },
     "execution_count": null,
     "metadata": {},
     "output_type": "execute_result"
    }
   ],
   "source": [
    "import numpy as np\n",
    "np.array(has_x[:3]).sum()"
   ]
  },
  {
   "cell_type": "code",
   "execution_count": null,
   "metadata": {},
   "outputs": [],
   "source": [
    "def f(*xs):\n",
    "        print(xs)"
   ]
  },
  {
   "cell_type": "code",
   "execution_count": null,
   "metadata": {},
   "outputs": [
    {
     "data": {
      "text/plain": [
       "tensor([0.4212, 0.7626, 0.0298, 0.4731, 0.0086])"
      ]
     },
     "execution_count": null,
     "metadata": {},
     "output_type": "execute_result"
    }
   ],
   "source": [
    "torch.cat([torch.rand(5)])"
   ]
  },
  {
   "cell_type": "code",
   "execution_count": null,
   "metadata": {},
   "outputs": [],
   "source": [
    "emb_szs=[]"
   ]
  },
  {
   "cell_type": "code",
   "execution_count": null,
   "metadata": {},
   "outputs": [],
   "source": [
    "embeds = nn.ModuleList([Embedding(ni, nf) for ni,nf in emb_szs])\n",
    "n_emb = sum(e.embedding_dim for e in embeds)"
   ]
  },
  {
   "cell_type": "code",
   "execution_count": null,
   "metadata": {},
   "outputs": [
    {
     "data": {
      "text/plain": [
       "InceptionTimeD_Mixed(\n",
       "  (ts_mod): InceptionTime_NH(\n",
       "    (block): InceptionBlock(\n",
       "      (inc_mods): ModuleList(\n",
       "        (0): Inception(\n",
       "          (conv_layers): ModuleList(\n",
       "            (0): Conv1d(6, 32, kernel_size=(39,), stride=(1,), padding=(19,))\n",
       "            (1): Conv1d(6, 32, kernel_size=(19,), stride=(1,), padding=(9,))\n",
       "            (2): Conv1d(6, 32, kernel_size=(9,), stride=(1,), padding=(4,))\n",
       "          )\n",
       "          (maxpool): MaxPool1d(kernel_size=3, stride=1, padding=1, dilation=1, ceil_mode=False)\n",
       "          (conv): Conv1d(6, 32, kernel_size=(1,), stride=(1,))\n",
       "          (bn): BatchNorm1d(128, eps=1e-05, momentum=0.1, affine=True, track_running_stats=True)\n",
       "          (act): ReLU()\n",
       "        )\n",
       "        (1): Inception(\n",
       "          (bottleneck): Conv1d(128, 32, kernel_size=(1,), stride=(1,))\n",
       "          (conv_layers): ModuleList(\n",
       "            (0): Conv1d(32, 32, kernel_size=(39,), stride=(1,), padding=(19,))\n",
       "            (1): Conv1d(32, 32, kernel_size=(19,), stride=(1,), padding=(9,))\n",
       "            (2): Conv1d(32, 32, kernel_size=(9,), stride=(1,), padding=(4,))\n",
       "          )\n",
       "          (maxpool): MaxPool1d(kernel_size=3, stride=1, padding=1, dilation=1, ceil_mode=False)\n",
       "          (conv): Conv1d(128, 32, kernel_size=(1,), stride=(1,))\n",
       "          (bn): BatchNorm1d(128, eps=1e-05, momentum=0.1, affine=True, track_running_stats=True)\n",
       "          (act): ReLU()\n",
       "        )\n",
       "        (2): Inception(\n",
       "          (bottleneck): Conv1d(128, 32, kernel_size=(1,), stride=(1,))\n",
       "          (conv_layers): ModuleList(\n",
       "            (0): Conv1d(32, 32, kernel_size=(39,), stride=(1,), padding=(19,))\n",
       "            (1): Conv1d(32, 32, kernel_size=(19,), stride=(1,), padding=(9,))\n",
       "            (2): Conv1d(32, 32, kernel_size=(9,), stride=(1,), padding=(4,))\n",
       "          )\n",
       "          (maxpool): MaxPool1d(kernel_size=3, stride=1, padding=1, dilation=1, ceil_mode=False)\n",
       "          (conv): Conv1d(128, 32, kernel_size=(1,), stride=(1,))\n",
       "          (bn): BatchNorm1d(128, eps=1e-05, momentum=0.1, affine=True, track_running_stats=True)\n",
       "          (act): ReLU()\n",
       "        )\n",
       "        (3): Inception(\n",
       "          (bottleneck): Conv1d(128, 32, kernel_size=(1,), stride=(1,))\n",
       "          (conv_layers): ModuleList(\n",
       "            (0): Conv1d(32, 32, kernel_size=(39,), stride=(1,), padding=(19,))\n",
       "            (1): Conv1d(32, 32, kernel_size=(19,), stride=(1,), padding=(9,))\n",
       "            (2): Conv1d(32, 32, kernel_size=(9,), stride=(1,), padding=(4,))\n",
       "          )\n",
       "          (maxpool): MaxPool1d(kernel_size=3, stride=1, padding=1, dilation=1, ceil_mode=False)\n",
       "          (conv): Conv1d(128, 32, kernel_size=(1,), stride=(1,))\n",
       "          (bn): BatchNorm1d(128, eps=1e-05, momentum=0.1, affine=True, track_running_stats=True)\n",
       "          (act): ReLU()\n",
       "        )\n",
       "        (4): Inception(\n",
       "          (bottleneck): Conv1d(128, 32, kernel_size=(1,), stride=(1,))\n",
       "          (conv_layers): ModuleList(\n",
       "            (0): Conv1d(32, 32, kernel_size=(39,), stride=(1,), padding=(19,))\n",
       "            (1): Conv1d(32, 32, kernel_size=(19,), stride=(1,), padding=(9,))\n",
       "            (2): Conv1d(32, 32, kernel_size=(9,), stride=(1,), padding=(4,))\n",
       "          )\n",
       "          (maxpool): MaxPool1d(kernel_size=3, stride=1, padding=1, dilation=1, ceil_mode=False)\n",
       "          (conv): Conv1d(128, 32, kernel_size=(1,), stride=(1,))\n",
       "          (bn): BatchNorm1d(128, eps=1e-05, momentum=0.1, affine=True, track_running_stats=True)\n",
       "          (act): ReLU()\n",
       "        )\n",
       "        (5): Inception(\n",
       "          (bottleneck): Conv1d(128, 32, kernel_size=(1,), stride=(1,))\n",
       "          (conv_layers): ModuleList(\n",
       "            (0): Conv1d(32, 32, kernel_size=(39,), stride=(1,), padding=(19,))\n",
       "            (1): Conv1d(32, 32, kernel_size=(19,), stride=(1,), padding=(9,))\n",
       "            (2): Conv1d(32, 32, kernel_size=(9,), stride=(1,), padding=(4,))\n",
       "          )\n",
       "          (maxpool): MaxPool1d(kernel_size=3, stride=1, padding=1, dilation=1, ceil_mode=False)\n",
       "          (conv): Conv1d(128, 32, kernel_size=(1,), stride=(1,))\n",
       "          (bn): BatchNorm1d(128, eps=1e-05, momentum=0.1, affine=True, track_running_stats=True)\n",
       "          (act): ReLU()\n",
       "        )\n",
       "      )\n",
       "      (res_layers): ModuleList(\n",
       "        (0): None\n",
       "        (1): None\n",
       "        (2): Sequential(\n",
       "          (0): Conv1d(6, 128, kernel_size=(1,), stride=(1,))\n",
       "          (1): BatchNorm1d(128, eps=1e-05, momentum=0.1, affine=True, track_running_stats=True)\n",
       "        )\n",
       "        (3): None\n",
       "        (4): None\n",
       "        (5): Sequential(\n",
       "          (0): Conv1d(128, 128, kernel_size=(1,), stride=(1,))\n",
       "          (1): BatchNorm1d(128, eps=1e-05, momentum=0.1, affine=True, track_running_stats=True)\n",
       "        )\n",
       "      )\n",
       "      (act): ReLU()\n",
       "    )\n",
       "    (gap): AdaptiveAvgPool1d(output_size=1)\n",
       "  )\n",
       "  (sgm): Sigmoid()\n",
       "  (tab_mod): TabNetModel(\n",
       "    (embeds): ModuleList(\n",
       "      (0): Embedding(11, 4)\n",
       "    )\n",
       "    (emb_drop): Dropout(p=0.0, inplace=False)\n",
       "    (bn_cont): BatchNorm1d(2, eps=1e-05, momentum=0.1, affine=True, track_running_stats=True)\n",
       "    (tab_net): TabNetNoEmbeddings(\n",
       "      (initial_bn): BatchNorm1d(6, eps=1e-05, momentum=0.01, affine=True, track_running_stats=True)\n",
       "      (initial_splitter): FeatTransformer(\n",
       "        (shared): GLU_Block(\n",
       "          (shared_layers): ModuleList(\n",
       "            (0): Linear(in_features=6, out_features=32, bias=False)\n",
       "            (1): Linear(in_features=16, out_features=32, bias=False)\n",
       "          )\n",
       "          (glu_layers): ModuleList(\n",
       "            (0): GLU_Layer(\n",
       "              (fc): Linear(in_features=6, out_features=32, bias=False)\n",
       "              (bn): GBN(\n",
       "                (bn): BatchNorm1d(32, eps=1e-05, momentum=0.02, affine=True, track_running_stats=True)\n",
       "              )\n",
       "            )\n",
       "            (1): GLU_Layer(\n",
       "              (fc): Linear(in_features=16, out_features=32, bias=False)\n",
       "              (bn): GBN(\n",
       "                (bn): BatchNorm1d(32, eps=1e-05, momentum=0.02, affine=True, track_running_stats=True)\n",
       "              )\n",
       "            )\n",
       "          )\n",
       "        )\n",
       "        (specifics): GLU_Block(\n",
       "          (glu_layers): ModuleList(\n",
       "            (0): GLU_Layer(\n",
       "              (fc): Linear(in_features=16, out_features=32, bias=False)\n",
       "              (bn): GBN(\n",
       "                (bn): BatchNorm1d(32, eps=1e-05, momentum=0.02, affine=True, track_running_stats=True)\n",
       "              )\n",
       "            )\n",
       "            (1): GLU_Layer(\n",
       "              (fc): Linear(in_features=16, out_features=32, bias=False)\n",
       "              (bn): GBN(\n",
       "                (bn): BatchNorm1d(32, eps=1e-05, momentum=0.02, affine=True, track_running_stats=True)\n",
       "              )\n",
       "            )\n",
       "          )\n",
       "        )\n",
       "      )\n",
       "      (feat_transformers): ModuleList(\n",
       "        (0): FeatTransformer(\n",
       "          (shared): GLU_Block(\n",
       "            (shared_layers): ModuleList(\n",
       "              (0): Linear(in_features=6, out_features=32, bias=False)\n",
       "              (1): Linear(in_features=16, out_features=32, bias=False)\n",
       "            )\n",
       "            (glu_layers): ModuleList(\n",
       "              (0): GLU_Layer(\n",
       "                (fc): Linear(in_features=6, out_features=32, bias=False)\n",
       "                (bn): GBN(\n",
       "                  (bn): BatchNorm1d(32, eps=1e-05, momentum=0.02, affine=True, track_running_stats=True)\n",
       "                )\n",
       "              )\n",
       "              (1): GLU_Layer(\n",
       "                (fc): Linear(in_features=16, out_features=32, bias=False)\n",
       "                (bn): GBN(\n",
       "                  (bn): BatchNorm1d(32, eps=1e-05, momentum=0.02, affine=True, track_running_stats=True)\n",
       "                )\n",
       "              )\n",
       "            )\n",
       "          )\n",
       "          (specifics): GLU_Block(\n",
       "            (glu_layers): ModuleList(\n",
       "              (0): GLU_Layer(\n",
       "                (fc): Linear(in_features=16, out_features=32, bias=False)\n",
       "                (bn): GBN(\n",
       "                  (bn): BatchNorm1d(32, eps=1e-05, momentum=0.02, affine=True, track_running_stats=True)\n",
       "                )\n",
       "              )\n",
       "              (1): GLU_Layer(\n",
       "                (fc): Linear(in_features=16, out_features=32, bias=False)\n",
       "                (bn): GBN(\n",
       "                  (bn): BatchNorm1d(32, eps=1e-05, momentum=0.02, affine=True, track_running_stats=True)\n",
       "                )\n",
       "              )\n",
       "            )\n",
       "          )\n",
       "        )\n",
       "        (1): FeatTransformer(\n",
       "          (shared): GLU_Block(\n",
       "            (shared_layers): ModuleList(\n",
       "              (0): Linear(in_features=6, out_features=32, bias=False)\n",
       "              (1): Linear(in_features=16, out_features=32, bias=False)\n",
       "            )\n",
       "            (glu_layers): ModuleList(\n",
       "              (0): GLU_Layer(\n",
       "                (fc): Linear(in_features=6, out_features=32, bias=False)\n",
       "                (bn): GBN(\n",
       "                  (bn): BatchNorm1d(32, eps=1e-05, momentum=0.02, affine=True, track_running_stats=True)\n",
       "                )\n",
       "              )\n",
       "              (1): GLU_Layer(\n",
       "                (fc): Linear(in_features=16, out_features=32, bias=False)\n",
       "                (bn): GBN(\n",
       "                  (bn): BatchNorm1d(32, eps=1e-05, momentum=0.02, affine=True, track_running_stats=True)\n",
       "                )\n",
       "              )\n",
       "            )\n",
       "          )\n",
       "          (specifics): GLU_Block(\n",
       "            (glu_layers): ModuleList(\n",
       "              (0): GLU_Layer(\n",
       "                (fc): Linear(in_features=16, out_features=32, bias=False)\n",
       "                (bn): GBN(\n",
       "                  (bn): BatchNorm1d(32, eps=1e-05, momentum=0.02, affine=True, track_running_stats=True)\n",
       "                )\n",
       "              )\n",
       "              (1): GLU_Layer(\n",
       "                (fc): Linear(in_features=16, out_features=32, bias=False)\n",
       "                (bn): GBN(\n",
       "                  (bn): BatchNorm1d(32, eps=1e-05, momentum=0.02, affine=True, track_running_stats=True)\n",
       "                )\n",
       "              )\n",
       "            )\n",
       "          )\n",
       "        )\n",
       "        (2): FeatTransformer(\n",
       "          (shared): GLU_Block(\n",
       "            (shared_layers): ModuleList(\n",
       "              (0): Linear(in_features=6, out_features=32, bias=False)\n",
       "              (1): Linear(in_features=16, out_features=32, bias=False)\n",
       "            )\n",
       "            (glu_layers): ModuleList(\n",
       "              (0): GLU_Layer(\n",
       "                (fc): Linear(in_features=6, out_features=32, bias=False)\n",
       "                (bn): GBN(\n",
       "                  (bn): BatchNorm1d(32, eps=1e-05, momentum=0.02, affine=True, track_running_stats=True)\n",
       "                )\n",
       "              )\n",
       "              (1): GLU_Layer(\n",
       "                (fc): Linear(in_features=16, out_features=32, bias=False)\n",
       "                (bn): GBN(\n",
       "                  (bn): BatchNorm1d(32, eps=1e-05, momentum=0.02, affine=True, track_running_stats=True)\n",
       "                )\n",
       "              )\n",
       "            )\n",
       "          )\n",
       "          (specifics): GLU_Block(\n",
       "            (glu_layers): ModuleList(\n",
       "              (0): GLU_Layer(\n",
       "                (fc): Linear(in_features=16, out_features=32, bias=False)\n",
       "                (bn): GBN(\n",
       "                  (bn): BatchNorm1d(32, eps=1e-05, momentum=0.02, affine=True, track_running_stats=True)\n",
       "                )\n",
       "              )\n",
       "              (1): GLU_Layer(\n",
       "                (fc): Linear(in_features=16, out_features=32, bias=False)\n",
       "                (bn): GBN(\n",
       "                  (bn): BatchNorm1d(32, eps=1e-05, momentum=0.02, affine=True, track_running_stats=True)\n",
       "                )\n",
       "              )\n",
       "            )\n",
       "          )\n",
       "        )\n",
       "      )\n",
       "      (att_transformers): ModuleList(\n",
       "        (0): AttentiveTransformer(\n",
       "          (fc): Linear(in_features=8, out_features=6, bias=False)\n",
       "          (bn): GBN(\n",
       "            (bn): BatchNorm1d(6, eps=1e-05, momentum=0.02, affine=True, track_running_stats=True)\n",
       "          )\n",
       "          (sp_max): Sparsemax()\n",
       "        )\n",
       "        (1): AttentiveTransformer(\n",
       "          (fc): Linear(in_features=8, out_features=6, bias=False)\n",
       "          (bn): GBN(\n",
       "            (bn): BatchNorm1d(6, eps=1e-05, momentum=0.02, affine=True, track_running_stats=True)\n",
       "          )\n",
       "          (sp_max): Sparsemax()\n",
       "        )\n",
       "        (2): AttentiveTransformer(\n",
       "          (fc): Linear(in_features=8, out_features=6, bias=False)\n",
       "          (bn): GBN(\n",
       "            (bn): BatchNorm1d(6, eps=1e-05, momentum=0.02, affine=True, track_running_stats=True)\n",
       "          )\n",
       "          (sp_max): Sparsemax()\n",
       "        )\n",
       "      )\n",
       "      (final_mapping): Linear(in_features=8, out_features=64, bias=False)\n",
       "    )\n",
       "  )\n",
       "  (fc): Linear(in_features=192, out_features=4, bias=True)\n",
       ")"
      ]
     },
     "execution_count": null,
     "metadata": {},
     "output_type": "execute_result"
    }
   ],
   "source": [
    "InceptionTimeD_Mixed(6,4,2,emb_szs=[(11,4)])"
   ]
  },
  {
   "cell_type": "markdown",
   "metadata": {},
   "source": [
    "### Development"
   ]
  },
  {
   "cell_type": "code",
   "execution_count": null,
   "metadata": {},
   "outputs": [],
   "source": [
    "#export\n",
    "class InceptionTimeVar(nn.Module):\n",
    "    '''\n",
    "    output mean and variance\n",
    "    regression model, sigmoid for the mean output optional\n",
    "    '''\n",
    "    \n",
    "    def __init__(self, n_in, n_out, meanrange=None):\n",
    "        super().__init__()\n",
    "        models  = [InceptionTime(n_in, n_out+1)]\n",
    "        if meanrange:\n",
    "            self.sigmoid = Sigmoid(*meanrange)\n",
    "        self.mod = nn.Sequential(*models)\n",
    "        \n",
    "    def forward(self, x):\n",
    "        x = x.float()\n",
    "        output = self.mod(x)\n",
    "        ## enforce positivity of sigma^2\n",
    "        ##output_sig_pos = tf.log(1 + tf.exp(output_sig)) + 1e-06\n",
    "#         output[:,-1] = (output[:,-1].exp()+1).log_() + 1e-06\n",
    "        output[:,-1] = F.softplus(output[:,-1].clone())\n",
    "        \n",
    "        if getattr(self, 'sigmoid', None): output[:,:-1] = self.sigmoid(output[:,:-1])\n",
    "        return output\n",
    "        "
   ]
  },
  {
   "cell_type": "code",
   "execution_count": null,
   "metadata": {},
   "outputs": [],
   "source": [
    "# model sanity checks\n",
    "xb = torch.randn((128,10,100))\n",
    "yb = torch.rand(128,1)\n",
    "model = InceptionTimeVar(10,1)\n",
    "\n",
    "preds = model(xb)\n",
    "assert preds.shape == (128,2)"
   ]
  },
  {
   "cell_type": "code",
   "execution_count": null,
   "metadata": {},
   "outputs": [],
   "source": [
    "#export\n",
    "def nll_regression(preds, y_true, c=5):\n",
    "    '''\n",
    "    negative log likelihood loss for regression, both mu and sigma are predicted\n",
    "    \n",
    "    Simple and Scalable Predictive UncertaintyEstimation using Deep Ensembles\n",
    "    Balaji Lakshminarayanan, Alexander Pritzel, Charles Blundell, DeepMind\n",
    "\n",
    "    '''\n",
    "    \n",
    "    s1 = 0.5*preds[:,1].log() \n",
    "    s2 = 0.5*(yb.squeeze()-preds[:,0]).pow(2).div(preds[:,1])\n",
    "    loss = (s1+s2).mean() + c\n",
    "    return loss"
   ]
  },
  {
   "cell_type": "code",
   "execution_count": null,
   "metadata": {},
   "outputs": [],
   "source": [
    "#export\n",
    "def nll_leaky_loss(preds, y_true, c=5, alpha=0.5):\n",
    "    '''\n",
    "    leaky_loss with variance\n",
    "    \n",
    "    Simple and Scalable Predictive UncertaintyEstimation using Deep Ensembles\n",
    "    Balaji Lakshminarayanan, Alexander Pritzel, Charles Blundell, DeepMind\n",
    "\n",
    "    '''\n",
    "    \n",
    "    s1 = 0.5*preds[:,1].log() \n",
    "    l1 = -F.leaky_relu(preds[:,0], alpha)*y_true.float().squeeze()\n",
    "    s2 = 0.5*(l1.div(preds[:,1]+1)) ## +1 to prevent optimizing for variance, maybe just an artifical problem\n",
    "    loss = (s1+s2).mean() + c\n",
    "    return loss"
   ]
  },
  {
   "cell_type": "code",
   "execution_count": null,
   "metadata": {},
   "outputs": [
    {
     "name": "stdout",
     "output_type": "stream",
     "text": [
      "tensor(5.0285, grad_fn=<AddBackward0>)\n"
     ]
    }
   ],
   "source": [
    "loss = nll_leaky_loss(preds, yb)\n",
    "\n",
    "print(loss)"
   ]
  },
  {
   "cell_type": "code",
   "execution_count": null,
   "metadata": {},
   "outputs": [],
   "source": [
    "model_var = InceptionTimeVar(10,1,meanrange=(-1,1))"
   ]
  },
  {
   "cell_type": "code",
   "execution_count": null,
   "metadata": {},
   "outputs": [
    {
     "name": "stdout",
     "output_type": "stream",
     "text": [
      "tensor(4.9921, grad_fn=<AddBackward0>)\n",
      "tensor(4.9292, grad_fn=<AddBackward0>)\n",
      "tensor(4.8599, grad_fn=<AddBackward0>)\n",
      "tensor(4.7835, grad_fn=<AddBackward0>)\n",
      "tensor(4.6996, grad_fn=<AddBackward0>)\n",
      "tensor(4.6080, grad_fn=<AddBackward0>)\n",
      "tensor(4.5083, grad_fn=<AddBackward0>)\n",
      "tensor(4.4009, grad_fn=<AddBackward0>)\n",
      "tensor(4.2859, grad_fn=<AddBackward0>)\n",
      "tensor(4.1640, grad_fn=<AddBackward0>)\n"
     ]
    }
   ],
   "source": [
    "#cuda\n",
    "#simple training loop\n",
    "\n",
    "lr = 0.01\n",
    "epochs = 10\n",
    "loss_fn = nll_regression\n",
    "m = model_var\n",
    "loss_fn = nll_leaky_loss\n",
    "\n",
    "\n",
    "for i in range(epochs):\n",
    "    preds = m(xb)\n",
    "    loss = loss_fn(preds, yb)\n",
    "    print(loss)\n",
    "    loss.backward()\n",
    "    with torch.no_grad():\n",
    "        for p in m.parameters():\n",
    "            p.sub_(lr*p.grad)\n",
    "    m.zero_grad()"
   ]
  },
  {
   "cell_type": "code",
   "execution_count": null,
   "metadata": {},
   "outputs": [
    {
     "data": {
      "text/plain": [
       "tensor(0.)"
      ]
     },
     "execution_count": null,
     "metadata": {},
     "output_type": "execute_result"
    }
   ],
   "source": [
    "unweighted_profit(m(xb)[:,0], yb)"
   ]
  },
  {
   "cell_type": "code",
   "execution_count": null,
   "metadata": {},
   "outputs": [],
   "source": [
    "model_var = InceptionTimeVar(10,1)\n",
    "opt = torch.optim.Adam(model_var.parameters(), lr=0.001)"
   ]
  },
  {
   "cell_type": "code",
   "execution_count": null,
   "metadata": {},
   "outputs": [
    {
     "name": "stdout",
     "output_type": "stream",
     "text": [
      "tensor(5.3211, grad_fn=<AddBackward0>)\n",
      "tensor(5.0782, grad_fn=<AddBackward0>)\n",
      "tensor(4.9166, grad_fn=<AddBackward0>)\n",
      "tensor(4.8056, grad_fn=<AddBackward0>)\n",
      "tensor(4.7254, grad_fn=<AddBackward0>)\n",
      "tensor(4.6706, grad_fn=<AddBackward0>)\n",
      "tensor(4.6308, grad_fn=<AddBackward0>)\n",
      "tensor(4.5937, grad_fn=<AddBackward0>)\n",
      "tensor(4.5542, grad_fn=<AddBackward0>)\n",
      "tensor(4.4943, grad_fn=<AddBackward0>)\n"
     ]
    }
   ],
   "source": [
    "#cuda\n",
    "m = model_var\n",
    "for i in range(epochs):\n",
    "    preds = m(xb)\n",
    "    loss = nll_regression(preds, yb)\n",
    "    print(loss)\n",
    "    loss.backward()\n",
    "    with torch.no_grad():\n",
    "        opt.step()\n",
    "        opt.zero_grad()\n",
    "        "
   ]
  },
  {
   "cell_type": "code",
   "execution_count": null,
   "metadata": {},
   "outputs": [
    {
     "name": "stdout",
     "output_type": "stream",
     "text": [
      "tensor(4.7368, grad_fn=<AddBackward0>)\n",
      "tensor(0.)\n",
      "tensor(4.7209, grad_fn=<AddBackward0>)\n",
      "tensor(0.)\n",
      "tensor(4.7053, grad_fn=<AddBackward0>)\n",
      "tensor(0.)\n",
      "tensor(4.6899, grad_fn=<AddBackward0>)\n",
      "tensor(0.)\n",
      "tensor(4.6746, grad_fn=<AddBackward0>)\n",
      "tensor(0.)\n",
      "tensor(4.6594, grad_fn=<AddBackward0>)\n",
      "tensor(0.)\n",
      "tensor(4.6443, grad_fn=<AddBackward0>)\n",
      "tensor(0.)\n",
      "tensor(4.6291, grad_fn=<AddBackward0>)\n",
      "tensor(0.)\n",
      "tensor(4.6138, grad_fn=<AddBackward0>)\n",
      "tensor(0.)\n",
      "tensor(4.5980, grad_fn=<AddBackward0>)\n",
      "tensor(0.0075)\n"
     ]
    }
   ],
   "source": [
    "#cuda\n",
    "model_var = InceptionTimeVar(10,1,meanrange=(-10,5))\n",
    "m = model_var\n",
    "loss_fn = partial(nll_leaky_loss, alpha=0.5)\n",
    "epochs=10\n",
    "\n",
    "opt = torch.optim.Adam(m.parameters(), lr=1e-4)\n",
    "\n",
    "for i in range(epochs):\n",
    "    preds = m(xb)\n",
    "    loss = loss_fn(preds, yb)\n",
    "    print(loss)\n",
    "    print(unweighted_profit(preds[:,0], yb))\n",
    "    loss.backward()\n",
    "    with torch.no_grad():\n",
    "        opt.step()\n",
    "        opt.zero_grad()\n",
    "        "
   ]
  },
  {
   "cell_type": "code",
   "execution_count": null,
   "metadata": {},
   "outputs": [
    {
     "data": {
      "text/plain": [
       "tensor(0.0187)"
      ]
     },
     "execution_count": null,
     "metadata": {},
     "output_type": "execute_result"
    }
   ],
   "source": [
    "unweighted_profit(m(xb)[:,0],yb)"
   ]
  },
  {
   "cell_type": "code",
   "execution_count": null,
   "metadata": {},
   "outputs": [],
   "source": [
    "import numpy as np"
   ]
  },
  {
   "cell_type": "code",
   "execution_count": null,
   "metadata": {},
   "outputs": [
    {
     "data": {
      "text/plain": [
       "array([[-0.24,  0.41],\n",
       "       [-0.77,  0.37],\n",
       "       [-1.81,  0.34],\n",
       "       [-3.6 ,  0.34],\n",
       "       [ 0.49,  0.42],\n",
       "       [-0.82,  0.41],\n",
       "       [-0.84,  0.4 ],\n",
       "       [-1.05,  0.35],\n",
       "       [-1.3 ,  0.34],\n",
       "       [-3.04,  0.29],\n",
       "       [-1.94,  0.36],\n",
       "       [-1.5 ,  0.37],\n",
       "       [-0.93,  0.4 ],\n",
       "       [-1.24,  0.39],\n",
       "       [-2.31,  0.34],\n",
       "       [-2.13,  0.35],\n",
       "       [-2.28,  0.34],\n",
       "       [-1.16,  0.4 ],\n",
       "       [-2.3 ,  0.37],\n",
       "       [-0.31,  0.4 ],\n",
       "       [-0.99,  0.39],\n",
       "       [-2.82,  0.32],\n",
       "       [-1.4 ,  0.36],\n",
       "       [-1.21,  0.38],\n",
       "       [-1.85,  0.35],\n",
       "       [-2.52,  0.31],\n",
       "       [-0.78,  0.39],\n",
       "       [-0.78,  0.35],\n",
       "       [-1.72,  0.36],\n",
       "       [-0.28,  0.42],\n",
       "       [-1.53,  0.39],\n",
       "       [-1.91,  0.38],\n",
       "       [-0.84,  0.38],\n",
       "       [ 0.08,  0.4 ],\n",
       "       [-1.78,  0.36],\n",
       "       [-2.64,  0.34],\n",
       "       [-1.59,  0.38],\n",
       "       [-0.46,  0.37],\n",
       "       [-2.69,  0.41],\n",
       "       [-1.29,  0.36],\n",
       "       [-1.29,  0.37],\n",
       "       [-0.14,  0.43],\n",
       "       [-0.64,  0.42],\n",
       "       [-1.41,  0.39],\n",
       "       [-1.29,  0.37],\n",
       "       [-1.66,  0.36],\n",
       "       [-0.98,  0.4 ],\n",
       "       [ 0.04,  0.43],\n",
       "       [-1.94,  0.39],\n",
       "       [-0.69,  0.41],\n",
       "       [-1.81,  0.37],\n",
       "       [-0.37,  0.39],\n",
       "       [-1.61,  0.36],\n",
       "       [-2.83,  0.29],\n",
       "       [-1.5 ,  0.31],\n",
       "       [-0.3 ,  0.4 ],\n",
       "       [-0.88,  0.38],\n",
       "       [-0.58,  0.42],\n",
       "       [-0.88,  0.38],\n",
       "       [-3.04,  0.31],\n",
       "       [-0.95,  0.35],\n",
       "       [ 0.15,  0.39],\n",
       "       [-1.81,  0.36],\n",
       "       [-0.62,  0.37],\n",
       "       [-2.63,  0.37],\n",
       "       [-0.46,  0.34],\n",
       "       [-0.07,  0.37],\n",
       "       [-0.61,  0.39],\n",
       "       [-2.88,  0.29],\n",
       "       [-3.02,  0.3 ],\n",
       "       [-1.92,  0.37],\n",
       "       [-1.98,  0.38],\n",
       "       [-0.3 ,  0.39],\n",
       "       [-2.23,  0.33],\n",
       "       [-1.89,  0.38],\n",
       "       [-2.58,  0.36],\n",
       "       [-2.81,  0.33],\n",
       "       [-2.72,  0.35],\n",
       "       [-0.56,  0.38],\n",
       "       [-0.85,  0.37],\n",
       "       [-1.04,  0.39],\n",
       "       [-0.22,  0.42],\n",
       "       [-0.72,  0.39],\n",
       "       [-1.29,  0.38],\n",
       "       [-1.56,  0.35],\n",
       "       [-0.99,  0.4 ],\n",
       "       [-1.27,  0.39],\n",
       "       [-1.19,  0.36],\n",
       "       [-1.76,  0.39],\n",
       "       [-1.79,  0.38],\n",
       "       [-1.83,  0.33],\n",
       "       [-1.94,  0.39],\n",
       "       [-1.05,  0.35],\n",
       "       [-2.46,  0.35],\n",
       "       [-2.79,  0.3 ],\n",
       "       [-2.23,  0.37],\n",
       "       [-0.42,  0.41],\n",
       "       [-1.69,  0.34],\n",
       "       [-2.06,  0.33],\n",
       "       [ 0.37,  0.45],\n",
       "       [-1.51,  0.38],\n",
       "       [-1.29,  0.39],\n",
       "       [-2.05,  0.34],\n",
       "       [-2.7 ,  0.32],\n",
       "       [-1.79,  0.36],\n",
       "       [-1.95,  0.37],\n",
       "       [-1.07,  0.37],\n",
       "       [-0.39,  0.4 ],\n",
       "       [-0.65,  0.39],\n",
       "       [-1.01,  0.34],\n",
       "       [-1.73,  0.41],\n",
       "       [-2.51,  0.36],\n",
       "       [-1.76,  0.36],\n",
       "       [-0.4 ,  0.39],\n",
       "       [-0.64,  0.42],\n",
       "       [-0.64,  0.41],\n",
       "       [-2.  ,  0.37],\n",
       "       [-2.64,  0.31],\n",
       "       [-0.63,  0.38],\n",
       "       [-0.8 ,  0.38],\n",
       "       [-0.19,  0.42],\n",
       "       [-1.85,  0.33],\n",
       "       [-0.77,  0.41],\n",
       "       [-0.  ,  0.38],\n",
       "       [-0.98,  0.39],\n",
       "       [-0.51,  0.37],\n",
       "       [-2.52,  0.34],\n",
       "       [-0.16,  0.41]], dtype=float32)"
      ]
     },
     "execution_count": null,
     "metadata": {},
     "output_type": "execute_result"
    }
   ],
   "source": [
    "np.round(m(xb).detach().numpy(), 2)"
   ]
  },
  {
   "cell_type": "code",
   "execution_count": null,
   "metadata": {},
   "outputs": [],
   "source": [
    "x1 = torch.zeros(128,1)\n",
    "x2 = torch.ones(128,1)"
   ]
  },
  {
   "cell_type": "code",
   "execution_count": null,
   "metadata": {},
   "outputs": [],
   "source": [
    "x_p = torch.cat([x1,x2], dim=1)"
   ]
  },
  {
   "cell_type": "code",
   "execution_count": null,
   "metadata": {},
   "outputs": [
    {
     "data": {
      "text/plain": [
       "tensor(5.1578)"
      ]
     },
     "execution_count": null,
     "metadata": {},
     "output_type": "execute_result"
    }
   ],
   "source": [
    "nll_regression(x_p, yb)"
   ]
  },
  {
   "cell_type": "code",
   "execution_count": null,
   "metadata": {},
   "outputs": [
    {
     "data": {
      "text/plain": [
       "tensor([1.2412, 1.1038, 1.0968, 1.1289, 1.1712, 1.2208, 1.1951, 1.1454, 1.1252,\n",
       "        1.1933, 1.0675, 1.1149, 1.1066, 1.0956, 1.1696, 1.0552, 1.0579, 0.9636,\n",
       "        1.0129, 1.0893, 0.9862, 1.0107, 1.0038, 1.0636, 1.1439, 0.9745, 1.1000,\n",
       "        1.2131, 1.1016, 1.2258, 1.1087, 1.2406, 1.0853, 1.1349, 1.0362, 1.1309,\n",
       "        1.0748, 1.2192, 0.9677, 1.0714, 1.2125, 0.9704, 1.0656, 1.1497, 1.1989,\n",
       "        1.0258, 1.0785, 1.2363, 1.1467, 1.2652, 1.1868, 1.0978, 1.2464, 1.0098,\n",
       "        1.2476, 1.1435, 1.1949, 1.2127, 1.1184, 1.0172, 1.1773, 1.0714, 1.2171,\n",
       "        1.2256, 1.0014, 1.1111, 1.0696, 0.9619, 1.0394, 1.0350, 1.1551, 1.2075,\n",
       "        1.1798, 1.0780, 1.0359, 1.1595, 1.1368, 1.2355, 1.0904, 1.1077, 1.2141,\n",
       "        1.1579, 1.2191, 0.9764, 1.1609, 1.1440, 1.1462, 1.0915, 1.2595, 1.1571,\n",
       "        1.0948, 1.0177, 1.0333, 1.1375, 1.0431, 1.1731, 1.1842, 1.1336, 1.0594,\n",
       "        0.9231])"
      ]
     },
     "execution_count": null,
     "metadata": {},
     "output_type": "execute_result"
    }
   ],
   "source": [
    "t=torch.randn(100)\n",
    "torch.sigmoid(t)*(1.3-0.9)+0.9\n"
   ]
  },
  {
   "cell_type": "code",
   "execution_count": null,
   "metadata": {},
   "outputs": [
    {
     "data": {
      "text/plain": [
       "tensor([0.8529, 0.5096, 0.4920, 0.5722, 0.6781, 0.8021, 0.7378, 0.6134, 0.5630,\n",
       "        0.7333, 0.4188, 0.5373, 0.5166, 0.4889, 0.6739, 0.3879, 0.3948, 0.1589,\n",
       "        0.2823, 0.4732, 0.2154, 0.2768, 0.2596, 0.4089, 0.6098, 0.1863, 0.4999,\n",
       "        0.7829, 0.5040, 0.8145, 0.5218, 0.8515, 0.4632, 0.5873, 0.3405, 0.5772,\n",
       "        0.4370, 0.7979, 0.1692, 0.4284, 0.7813, 0.1761, 0.4139, 0.6243, 0.7473,\n",
       "        0.3146, 0.4463, 0.8406, 0.6166, 0.9130, 0.7170, 0.4946, 0.8661, 0.2745,\n",
       "        0.8691, 0.6086, 0.7372, 0.7816, 0.5459, 0.2930, 0.6932, 0.4285, 0.7927,\n",
       "        0.8141, 0.2535, 0.5278, 0.4240, 0.1548, 0.3485, 0.3376, 0.6376, 0.7688,\n",
       "        0.6995, 0.4450, 0.3398, 0.6487, 0.5921, 0.8388, 0.4760, 0.5193, 0.7853,\n",
       "        0.6446, 0.7977, 0.1909, 0.6523, 0.6101, 0.6155, 0.4787, 0.8987, 0.6428,\n",
       "        0.4870, 0.2943, 0.3332, 0.5939, 0.3577, 0.6827, 0.7106, 0.5839, 0.3985,\n",
       "        0.0578])"
      ]
     },
     "execution_count": null,
     "metadata": {},
     "output_type": "execute_result"
    }
   ],
   "source": [
    "torch.sigmoid(t)"
   ]
  },
  {
   "cell_type": "code",
   "execution_count": null,
   "metadata": {},
   "outputs": [],
   "source": [
    "def _create_random_results(size):\n",
    "    high, low = 1.2, 0.9\n",
    "    res=torch.randn(size)\n",
    "    res = torch.sigmoid(res)*(high-low)+low\n",
    "    res *= -100\n",
    "    res[torch.rand(size)>0.5] = 100.\n",
    "    return res"
   ]
  },
  {
   "cell_type": "code",
   "execution_count": null,
   "metadata": {},
   "outputs": [],
   "source": [
    "yb = _create_random_results((128,1))"
   ]
  },
  {
   "cell_type": "code",
   "execution_count": null,
   "metadata": {},
   "outputs": [
    {
     "data": {
      "text/plain": [
       "tensor(3.0676, grad_fn=<AddBackward0>)"
      ]
     },
     "execution_count": null,
     "metadata": {},
     "output_type": "execute_result"
    }
   ],
   "source": [
    "nll_leaky_loss(preds, yb)"
   ]
  },
  {
   "cell_type": "code",
   "execution_count": null,
   "metadata": {},
   "outputs": [
    {
     "data": {
      "text/plain": [
       "tensor(-3.7970)"
      ]
     },
     "execution_count": null,
     "metadata": {},
     "output_type": "execute_result"
    }
   ],
   "source": [
    "yb.mean()"
   ]
  },
  {
   "cell_type": "code",
   "execution_count": null,
   "metadata": {},
   "outputs": [],
   "source": [
    "model_var = InceptionTimeVar(10,1,meanrange=(-1,1))\n",
    "m = model_var\n",
    "loss_fn = partial(nll_leaky_loss, alpha=0.5)\n",
    "epochs=20\n",
    "\n",
    "opt = torch.optim.Adam(m.parameters(), lr=1e-4)"
   ]
  },
  {
   "cell_type": "code",
   "execution_count": null,
   "metadata": {},
   "outputs": [
    {
     "name": "stdout",
     "output_type": "stream",
     "text": [
      "tensor(5.5096, grad_fn=<AddBackward0>)\n",
      "tensor(-3.7970)\n",
      "tensor(5.1599, grad_fn=<AddBackward0>)\n",
      "tensor(-3.7970)\n",
      "tensor(4.8130, grad_fn=<AddBackward0>)\n",
      "tensor(-3.7970)\n",
      "tensor(4.4551, grad_fn=<AddBackward0>)\n",
      "tensor(-3.7970)\n",
      "tensor(4.0745, grad_fn=<AddBackward0>)\n",
      "tensor(-3.7970)\n",
      "tensor(3.6592, grad_fn=<AddBackward0>)\n",
      "tensor(-3.7970)\n",
      "tensor(3.1964, grad_fn=<AddBackward0>)\n",
      "tensor(-3.7970)\n",
      "tensor(2.6728, grad_fn=<AddBackward0>)\n",
      "tensor(-3.7970)\n",
      "tensor(2.0750, grad_fn=<AddBackward0>)\n",
      "tensor(-3.7970)\n",
      "tensor(1.3914, grad_fn=<AddBackward0>)\n",
      "tensor(-3.7970)\n",
      "tensor(0.6170, grad_fn=<AddBackward0>)\n",
      "tensor(-3.6784)\n",
      "tensor(-0.2108, grad_fn=<AddBackward0>)\n",
      "tensor(-3.4114)\n",
      "tensor(-1.0847, grad_fn=<AddBackward0>)\n",
      "tensor(-3.2334)\n",
      "tensor(-1.9718, grad_fn=<AddBackward0>)\n",
      "tensor(-2.7291)\n",
      "tensor(-2.8243, grad_fn=<AddBackward0>)\n",
      "tensor(-2.3731)\n",
      "tensor(-3.6813, grad_fn=<AddBackward0>)\n",
      "tensor(-2.3138)\n",
      "tensor(-4.5413, grad_fn=<AddBackward0>)\n",
      "tensor(-2.1655)\n",
      "tensor(-5.3586, grad_fn=<AddBackward0>)\n",
      "tensor(-2.0172)\n",
      "tensor(-6.1124, grad_fn=<AddBackward0>)\n",
      "tensor(-1.9875)\n",
      "tensor(-6.8013, grad_fn=<AddBackward0>)\n",
      "tensor(-1.8985)\n"
     ]
    }
   ],
   "source": [
    "#cuda\n",
    "for i in range(epochs):\n",
    "    preds = m(xb)\n",
    "    loss = loss_fn(preds, yb)\n",
    "    print(loss)\n",
    "    print(unweighted_profit(preds[:,0], yb))\n",
    "    loss.backward()\n",
    "    with torch.no_grad():\n",
    "        opt.step()\n",
    "        opt.zero_grad()\n",
    "        "
   ]
  },
  {
   "cell_type": "code",
   "execution_count": null,
   "metadata": {},
   "outputs": [
    {
     "name": "stdout",
     "output_type": "stream",
     "text": [
      "tensor(-7.4223, grad_fn=<AddBackward0>)\n",
      "tensor(-1.8985)\n",
      "tensor(-7.9829, grad_fn=<AddBackward0>)\n",
      "tensor(-1.8688)\n",
      "tensor(-8.4926, grad_fn=<AddBackward0>)\n",
      "tensor(-1.8688)\n",
      "tensor(-8.9576, grad_fn=<AddBackward0>)\n",
      "tensor(-1.8688)\n",
      "tensor(-9.3802, grad_fn=<AddBackward0>)\n",
      "tensor(-1.8688)\n",
      "tensor(-9.7627, grad_fn=<AddBackward0>)\n",
      "tensor(-1.8688)\n",
      "tensor(-10.1091, grad_fn=<AddBackward0>)\n",
      "tensor(-1.8688)\n",
      "tensor(-10.4264, grad_fn=<AddBackward0>)\n",
      "tensor(-1.8688)\n",
      "tensor(-10.7213, grad_fn=<AddBackward0>)\n",
      "tensor(-1.8688)\n",
      "tensor(-11.0006, grad_fn=<AddBackward0>)\n",
      "tensor(-1.8688)\n",
      "tensor(-11.2681, grad_fn=<AddBackward0>)\n",
      "tensor(-1.8688)\n",
      "tensor(-11.5253, grad_fn=<AddBackward0>)\n",
      "tensor(-1.8688)\n",
      "tensor(-11.7730, grad_fn=<AddBackward0>)\n",
      "tensor(-1.8688)\n",
      "tensor(-12.0138, grad_fn=<AddBackward0>)\n",
      "tensor(-1.8688)\n",
      "tensor(-12.2503, grad_fn=<AddBackward0>)\n",
      "tensor(-1.8688)\n",
      "tensor(-12.4847, grad_fn=<AddBackward0>)\n",
      "tensor(-1.8688)\n",
      "tensor(-12.7178, grad_fn=<AddBackward0>)\n",
      "tensor(-1.8688)\n",
      "tensor(-12.9498, grad_fn=<AddBackward0>)\n",
      "tensor(-1.8688)\n",
      "tensor(-13.1822, grad_fn=<AddBackward0>)\n",
      "tensor(-1.8688)\n",
      "tensor(-13.4142, grad_fn=<AddBackward0>)\n",
      "tensor(-1.8688)\n"
     ]
    }
   ],
   "source": [
    "#cuda\n",
    "for i in range(epochs):\n",
    "    preds = m(xb)\n",
    "    loss = loss_fn(preds, yb)\n",
    "    print(loss)\n",
    "    print(unweighted_profit(preds[:,0], yb))\n",
    "    loss.backward()\n",
    "    with torch.no_grad():\n",
    "        opt.step()\n",
    "        opt.zero_grad()\n",
    "        "
   ]
  },
  {
   "cell_type": "code",
   "execution_count": null,
   "metadata": {},
   "outputs": [
    {
     "data": {
      "text/plain": [
       "tensor([[-0.6247,  1.3449],\n",
       "        [-0.6335,  1.3496],\n",
       "        [ 0.9159,  0.4525],\n",
       "        [ 0.8944,  0.5261],\n",
       "        [ 0.9143,  0.4376],\n",
       "        [ 0.9153,  0.4637],\n",
       "        [-0.6126,  1.3296],\n",
       "        [ 0.9140,  0.4445],\n",
       "        [-0.5532,  1.3306],\n",
       "        [-0.6109,  1.3950],\n",
       "        [-0.6027,  1.3360],\n",
       "        [-0.6743,  1.3920],\n",
       "        [ 0.9251,  0.4406],\n",
       "        [ 0.8916,  0.4790],\n",
       "        [ 0.9104,  0.4841],\n",
       "        [-0.6220,  1.4334],\n",
       "        [-0.6139,  1.3183],\n",
       "        [ 0.8935,  0.4824],\n",
       "        [-0.6616,  1.3746],\n",
       "        [ 0.8775,  0.5117],\n",
       "        [-0.6336,  1.3861],\n",
       "        [ 0.8849,  0.4871],\n",
       "        [-0.4994,  1.2708],\n",
       "        [ 0.8904,  0.5076],\n",
       "        [-0.5878,  1.3920],\n",
       "        [ 0.8754,  0.5185],\n",
       "        [-0.6419,  1.3675],\n",
       "        [ 0.8800,  0.5075],\n",
       "        [-0.5670,  1.2860],\n",
       "        [ 0.9170,  0.4520],\n",
       "        [ 0.9310,  0.4050],\n",
       "        [ 0.9005,  0.4669],\n",
       "        [-0.6053,  1.3027],\n",
       "        [-0.6309,  1.3387],\n",
       "        [ 0.9197,  0.4594],\n",
       "        [ 0.9192,  0.4601],\n",
       "        [ 0.8661,  0.5524],\n",
       "        [-0.6225,  1.3228],\n",
       "        [-0.6303,  1.4104],\n",
       "        [-0.6104,  1.2661],\n",
       "        [-0.6933,  1.4350],\n",
       "        [-0.5877,  1.3820],\n",
       "        [ 0.9110,  0.4778],\n",
       "        [-0.6197,  1.2872],\n",
       "        [ 0.8965,  0.5019],\n",
       "        [ 0.8792,  0.5109],\n",
       "        [ 0.8990,  0.4648],\n",
       "        [ 0.8972,  0.4815],\n",
       "        [-0.6613,  1.3753],\n",
       "        [ 0.8970,  0.5049],\n",
       "        [-0.6133,  1.4095],\n",
       "        [ 0.9155,  0.4484],\n",
       "        [-0.6005,  1.3517],\n",
       "        [ 0.8867,  0.5058],\n",
       "        [-0.5530,  1.2682],\n",
       "        [ 0.8920,  0.5115],\n",
       "        [ 0.8989,  0.5164],\n",
       "        [-0.5227,  1.2632],\n",
       "        [-0.4952,  1.2499],\n",
       "        [ 0.9102,  0.4895],\n",
       "        [ 0.8962,  0.4724],\n",
       "        [-0.6255,  1.3138],\n",
       "        [-0.6196,  1.4047],\n",
       "        [-0.5859,  1.3288],\n",
       "        [-0.5864,  1.3144],\n",
       "        [ 0.9097,  0.4525],\n",
       "        [ 0.8896,  0.4811],\n",
       "        [ 0.8899,  0.5332],\n",
       "        [ 0.9156,  0.4441],\n",
       "        [-0.6353,  1.3613],\n",
       "        [ 0.8925,  0.4815],\n",
       "        [ 0.9195,  0.4566],\n",
       "        [-0.6244,  1.3391],\n",
       "        [ 0.9141,  0.4341],\n",
       "        [-0.6148,  1.3583],\n",
       "        [ 0.9013,  0.4819],\n",
       "        [-0.6498,  1.3702],\n",
       "        [-0.6022,  1.4135],\n",
       "        [ 0.9283,  0.4278],\n",
       "        [-0.7026,  1.3763],\n",
       "        [-0.6602,  1.3407],\n",
       "        [ 0.9397,  0.4238],\n",
       "        [ 0.8835,  0.4979],\n",
       "        [ 0.8890,  0.5239],\n",
       "        [ 0.8867,  0.4886],\n",
       "        [-0.6548,  1.3408],\n",
       "        [ 0.8856,  0.4944],\n",
       "        [ 0.9037,  0.4726],\n",
       "        [ 0.9140,  0.4526],\n",
       "        [-0.6353,  1.3967],\n",
       "        [ 0.9110,  0.4631],\n",
       "        [ 0.9248,  0.4223],\n",
       "        [ 0.9146,  0.4530],\n",
       "        [-0.6635,  1.4301],\n",
       "        [-0.6996,  1.3852],\n",
       "        [-0.6079,  1.3183],\n",
       "        [-0.6285,  1.3827],\n",
       "        [-0.5611,  1.2883],\n",
       "        [-0.5338,  1.2964],\n",
       "        [-0.5741,  1.2744],\n",
       "        [-0.6500,  1.3638],\n",
       "        [-0.5993,  1.3542],\n",
       "        [-0.6248,  1.3410],\n",
       "        [-0.6420,  1.3455],\n",
       "        [-0.6700,  1.3785],\n",
       "        [ 0.8914,  0.4919],\n",
       "        [-0.5831,  1.2996],\n",
       "        [-0.6475,  1.4053],\n",
       "        [-0.5793,  1.3525],\n",
       "        [ 0.9162,  0.4538],\n",
       "        [ 0.8774,  0.5216],\n",
       "        [-0.6163,  1.3266],\n",
       "        [ 0.8972,  0.4571],\n",
       "        [-0.5208,  1.2671],\n",
       "        [-0.6606,  1.4231],\n",
       "        [ 0.9039,  0.5137],\n",
       "        [-0.5814,  1.2875],\n",
       "        [ 0.9050,  0.4772],\n",
       "        [ 0.9169,  0.4297],\n",
       "        [-0.5544,  1.3397],\n",
       "        [-0.6652,  1.4605],\n",
       "        [ 0.9059,  0.4463],\n",
       "        [-0.6098,  1.2855],\n",
       "        [ 0.9044,  0.4586],\n",
       "        [-0.7010,  1.4750],\n",
       "        [ 0.9084,  0.4847],\n",
       "        [ 0.9330,  0.3956],\n",
       "        [ 0.8842,  0.5259]], grad_fn=<CopySlices>)"
      ]
     },
     "execution_count": null,
     "metadata": {},
     "output_type": "execute_result"
    }
   ],
   "source": [
    "m(xb)"
   ]
  },
  {
   "cell_type": "code",
   "execution_count": null,
   "metadata": {},
   "outputs": [
    {
     "name": "stdout",
     "output_type": "stream",
     "text": [
      "tensor(-0.0298, grad_fn=<MulBackward0>)\n",
      "tensor(0.)\n",
      "tensor(-0.0697, grad_fn=<MulBackward0>)\n",
      "tensor(0.)\n"
     ]
    }
   ],
   "source": [
    "#cuda\n",
    "model_mean = InceptionTimeSgm(10,1, range=(-1,1))\n",
    "m = model_mean\n",
    "loss_fn = partial(leaky_loss, alpha=0.1)\n",
    "# loss_fn = F.mse_loss\n",
    "\n",
    "epochs=2\n",
    "\n",
    "opt = torch.optim.Adam(m.parameters(), lr=1e-3)\n",
    "\n",
    "for i in range(epochs):\n",
    "    preds = m(xb)\n",
    "    loss = loss_fn(preds, yb)\n",
    "    print(loss)\n",
    "    print(unweighted_profit(preds, yb))\n",
    "    loss.backward()\n",
    "    with torch.no_grad():\n",
    "        opt.step()\n",
    "        opt.zero_grad()\n",
    "        "
   ]
  },
  {
   "cell_type": "code",
   "execution_count": null,
   "metadata": {},
   "outputs": [
    {
     "data": {
      "text/plain": [
       "array([[-0.22],\n",
       "       [-0.17],\n",
       "       [-0.16],\n",
       "       [-0.18],\n",
       "       [-0.23],\n",
       "       [-0.18],\n",
       "       [-0.19],\n",
       "       [-0.17],\n",
       "       [-0.18],\n",
       "       [-0.18],\n",
       "       [-0.15],\n",
       "       [-0.16],\n",
       "       [-0.23],\n",
       "       [-0.21],\n",
       "       [-0.16],\n",
       "       [-0.18],\n",
       "       [-0.21],\n",
       "       [-0.2 ],\n",
       "       [-0.2 ],\n",
       "       [-0.16],\n",
       "       [-0.18],\n",
       "       [-0.2 ],\n",
       "       [-0.16],\n",
       "       [-0.14],\n",
       "       [-0.19],\n",
       "       [-0.2 ],\n",
       "       [-0.18],\n",
       "       [-0.2 ],\n",
       "       [-0.21],\n",
       "       [-0.16],\n",
       "       [-0.19],\n",
       "       [-0.19],\n",
       "       [-0.18],\n",
       "       [-0.15],\n",
       "       [-0.18],\n",
       "       [-0.2 ],\n",
       "       [-0.18],\n",
       "       [-0.17],\n",
       "       [-0.19],\n",
       "       [-0.15],\n",
       "       [-0.17],\n",
       "       [-0.17],\n",
       "       [-0.17],\n",
       "       [-0.15],\n",
       "       [-0.2 ],\n",
       "       [-0.18],\n",
       "       [-0.22],\n",
       "       [-0.22],\n",
       "       [-0.21],\n",
       "       [-0.16],\n",
       "       [-0.22],\n",
       "       [-0.14],\n",
       "       [-0.19],\n",
       "       [-0.16],\n",
       "       [-0.17],\n",
       "       [-0.18],\n",
       "       [-0.17],\n",
       "       [-0.17],\n",
       "       [-0.22],\n",
       "       [-0.17],\n",
       "       [-0.18],\n",
       "       [-0.18],\n",
       "       [-0.13],\n",
       "       [-0.17],\n",
       "       [-0.17],\n",
       "       [-0.2 ],\n",
       "       [-0.17],\n",
       "       [-0.2 ],\n",
       "       [-0.13],\n",
       "       [-0.18],\n",
       "       [-0.19],\n",
       "       [-0.18],\n",
       "       [-0.21],\n",
       "       [-0.21],\n",
       "       [-0.15],\n",
       "       [-0.19],\n",
       "       [-0.21],\n",
       "       [-0.14],\n",
       "       [-0.2 ],\n",
       "       [-0.21],\n",
       "       [-0.21],\n",
       "       [-0.21],\n",
       "       [-0.17],\n",
       "       [-0.19],\n",
       "       [-0.17],\n",
       "       [-0.23],\n",
       "       [-0.18],\n",
       "       [-0.2 ],\n",
       "       [-0.16],\n",
       "       [-0.19],\n",
       "       [-0.21],\n",
       "       [-0.19],\n",
       "       [-0.18],\n",
       "       [-0.18],\n",
       "       [-0.22],\n",
       "       [-0.17],\n",
       "       [-0.2 ],\n",
       "       [-0.18],\n",
       "       [-0.21],\n",
       "       [-0.19],\n",
       "       [-0.18],\n",
       "       [-0.17],\n",
       "       [-0.2 ],\n",
       "       [-0.17],\n",
       "       [-0.21],\n",
       "       [-0.21],\n",
       "       [-0.2 ],\n",
       "       [-0.16],\n",
       "       [-0.18],\n",
       "       [-0.18],\n",
       "       [-0.19],\n",
       "       [-0.15],\n",
       "       [-0.17],\n",
       "       [-0.2 ],\n",
       "       [-0.15],\n",
       "       [-0.19],\n",
       "       [-0.19],\n",
       "       [-0.18],\n",
       "       [-0.18],\n",
       "       [-0.17],\n",
       "       [-0.17],\n",
       "       [-0.2 ],\n",
       "       [-0.21],\n",
       "       [-0.13],\n",
       "       [-0.19],\n",
       "       [-0.17],\n",
       "       [-0.21],\n",
       "       [-0.17]], dtype=float32)"
      ]
     },
     "execution_count": null,
     "metadata": {},
     "output_type": "execute_result"
    }
   ],
   "source": [
    "np.round(preds.detach().numpy(),2)"
   ]
  },
  {
   "cell_type": "code",
   "execution_count": null,
   "metadata": {},
   "outputs": [
    {
     "data": {
      "text/plain": [
       "tensor(0., grad_fn=<MeanBackward0>)"
      ]
     },
     "execution_count": null,
     "metadata": {},
     "output_type": "execute_result"
    }
   ],
   "source": [
    "weighted_profit(preds, yb, threshold=70)"
   ]
  },
  {
   "cell_type": "code",
   "execution_count": null,
   "metadata": {},
   "outputs": [],
   "source": [
    "l1 = F.leaky_relu(preds[:,0], 0.5)*yb.float().squeeze()"
   ]
  },
  {
   "cell_type": "code",
   "execution_count": null,
   "metadata": {},
   "outputs": [
    {
     "data": {
      "text/plain": [
       "tensor(0.3143, grad_fn=<MeanBackward0>)"
      ]
     },
     "execution_count": null,
     "metadata": {},
     "output_type": "execute_result"
    }
   ],
   "source": [
    "l1.mean()"
   ]
  },
  {
   "cell_type": "code",
   "execution_count": null,
   "metadata": {},
   "outputs": [
    {
     "data": {
      "text/plain": [
       "tensor(0.)"
      ]
     },
     "execution_count": null,
     "metadata": {},
     "output_type": "execute_result"
    }
   ],
   "source": [
    "unweighted_profit(preds[:,0], yb)"
   ]
  },
  {
   "cell_type": "code",
   "execution_count": null,
   "metadata": {},
   "outputs": [
    {
     "data": {
      "text/plain": [
       "tensor([-0.0022, -0.0017, -0.0016, -0.0018, -0.0023, -0.0018, -0.0019, -0.0017,\n",
       "        -0.0018, -0.0018, -0.0015, -0.0016, -0.0023, -0.0021, -0.0016, -0.0018,\n",
       "        -0.0021, -0.0020, -0.0020, -0.0016, -0.0018, -0.0020, -0.0016, -0.0014,\n",
       "        -0.0019, -0.0020, -0.0018, -0.0020, -0.0021, -0.0016, -0.0019, -0.0019,\n",
       "        -0.0018, -0.0015, -0.0018, -0.0020, -0.0018, -0.0017, -0.0019, -0.0015,\n",
       "        -0.0017, -0.0017, -0.0017, -0.0015, -0.0020, -0.0018, -0.0022, -0.0022,\n",
       "        -0.0021, -0.0016, -0.0022, -0.0014, -0.0019, -0.0016, -0.0017, -0.0018,\n",
       "        -0.0017, -0.0017, -0.0022, -0.0017, -0.0018, -0.0018, -0.0013, -0.0017,\n",
       "        -0.0017, -0.0020, -0.0017, -0.0020, -0.0013, -0.0018, -0.0019, -0.0018,\n",
       "        -0.0021, -0.0021, -0.0015, -0.0019, -0.0021, -0.0014, -0.0020, -0.0021,\n",
       "        -0.0021, -0.0021, -0.0017, -0.0019, -0.0017, -0.0023, -0.0018, -0.0020,\n",
       "        -0.0016, -0.0019, -0.0021, -0.0019, -0.0018, -0.0018, -0.0022, -0.0017,\n",
       "        -0.0020, -0.0018, -0.0021, -0.0019, -0.0018, -0.0017, -0.0020, -0.0017,\n",
       "        -0.0021, -0.0021, -0.0020, -0.0016, -0.0018, -0.0018, -0.0019, -0.0015,\n",
       "        -0.0017, -0.0020, -0.0015, -0.0019, -0.0019, -0.0018, -0.0018, -0.0017,\n",
       "        -0.0017, -0.0020, -0.0021, -0.0013, -0.0019, -0.0017, -0.0021, -0.0017],\n",
       "       grad_fn=<LeakyReluBackward0>)"
      ]
     },
     "execution_count": null,
     "metadata": {},
     "output_type": "execute_result"
    }
   ],
   "source": [
    "F.leaky_relu(preds[:,0], 0.01)"
   ]
  },
  {
   "cell_type": "code",
   "execution_count": null,
   "metadata": {},
   "outputs": [
    {
     "data": {
      "text/plain": [
       "tensor([ 11.9359,   8.0182,  -7.7866,  -9.0861, -11.4707,  -8.9106,  10.3597,\n",
       "         -8.5555,   9.3440,   8.4255,   7.4203,   8.2735, -11.3047, -10.5139,\n",
       "         -7.8700,   9.4019,  10.7593, -10.0267,  11.5149,  -7.8406,  10.6564,\n",
       "        -10.2022,   7.4194,  -7.1230,   9.0873,  -9.9591,   8.8141, -10.2012,\n",
       "         10.9219,  -8.2058,  -9.4535,  -9.6962,   9.5209,   8.0113,  -9.0895,\n",
       "        -10.1661,  -8.7832,   9.3378,  10.4465,   8.1611,   9.0926,   7.9269,\n",
       "         -8.4618,   7.2584,  -9.9300,  -9.0956, -10.9277, -11.0166,  11.3946,\n",
       "         -8.0560,  11.3752,  -6.8826,   9.9466,  -8.2181,   9.5487,  -9.1482,\n",
       "         -8.7303,   8.3823,  11.5327,  -8.7412,  -9.1766,   9.8428,   6.7408,\n",
       "          7.8306,   9.1732, -10.1838,  -8.7309,  -9.9286,  -6.6186,   9.1171,\n",
       "         -9.2919,  -8.9576,  10.8023, -10.2791,   8.7763,  -9.3696,  10.8481,\n",
       "          7.8006, -10.1285,  12.4134,  10.9164, -10.6060,  -8.6401,  -9.4403,\n",
       "         -8.5532,  12.2043,  -9.0122, -10.1679,  -8.2355,  10.3118, -10.2801,\n",
       "         -9.5576,  -8.9077,  10.0318,  11.9753,   8.5680,  10.8382,   9.1783,\n",
       "         10.4968,  10.2423,   9.8806,   8.3278,  10.1277,   8.3497,  11.6046,\n",
       "        -10.2534,   9.5348,   7.6696,   9.7276,  -8.7972,  -9.4388,   8.1709,\n",
       "         -8.5460,  10.2070,   7.6625,  -9.6280,   9.3722,  -8.7837,  -9.2491,\n",
       "          8.4864,   9.5940, -10.0189,  10.2395,  -6.7206,   9.1686,  -8.3190,\n",
       "        -10.3654,  -8.6477], grad_fn=<MulBackward0>)"
      ]
     },
     "execution_count": null,
     "metadata": {},
     "output_type": "execute_result"
    }
   ],
   "source": [
    "l1"
   ]
  },
  {
   "cell_type": "markdown",
   "metadata": {},
   "source": [
    "### QD loss"
   ]
  },
  {
   "cell_type": "markdown",
   "metadata": {},
   "source": [
    "High-Quality Prediction Intervals for Deep Learning: A Distribution-Free, Ensembled Approach"
   ]
  },
  {
   "cell_type": "code",
   "execution_count": null,
   "metadata": {},
   "outputs": [],
   "source": [
    "y_results = _create_random_results(10)"
   ]
  },
  {
   "cell_type": "code",
   "execution_count": null,
   "metadata": {},
   "outputs": [
    {
     "data": {
      "text/plain": [
       "tensor([ -94.4114, -115.2035,  100.0000,  100.0000, -105.0282, -111.8546,\n",
       "         100.0000,  100.0000, -102.5273, -107.5752])"
      ]
     },
     "execution_count": null,
     "metadata": {},
     "output_type": "execute_result"
    }
   ],
   "source": [
    "y_results"
   ]
  },
  {
   "cell_type": "code",
   "execution_count": null,
   "metadata": {},
   "outputs": [],
   "source": [
    "preds = torch.randn(10)"
   ]
  },
  {
   "cell_type": "code",
   "execution_count": null,
   "metadata": {},
   "outputs": [],
   "source": [
    "y_lower=preds"
   ]
  },
  {
   "cell_type": "code",
   "execution_count": null,
   "metadata": {},
   "outputs": [],
   "source": [
    "y_upper = preds + torch.rand(10)"
   ]
  },
  {
   "cell_type": "code",
   "execution_count": null,
   "metadata": {},
   "outputs": [],
   "source": [
    "#hard\n",
    "y_toy = torch.randn(10)"
   ]
  },
  {
   "cell_type": "code",
   "execution_count": null,
   "metadata": {},
   "outputs": [],
   "source": [
    "khu = (torch.sign(y_upper-y_toy) > 0).int()"
   ]
  },
  {
   "cell_type": "code",
   "execution_count": null,
   "metadata": {},
   "outputs": [],
   "source": [
    "khl = (torch.sign(y_toy-y_lower) > 0).int()"
   ]
  },
  {
   "cell_type": "code",
   "execution_count": null,
   "metadata": {},
   "outputs": [],
   "source": [
    "##soft\n",
    "s = 10\n",
    "ksu = torch.sigmoid((y_upper-y_toy)*s)\n",
    "ksl = torch.sigmoid((y_toy-y_lower)*s)\n"
   ]
  },
  {
   "cell_type": "code",
   "execution_count": null,
   "metadata": {},
   "outputs": [
    {
     "data": {
      "text/plain": [
       "array([0.    , 1.    , 1.    , 1.    , 1.    , 0.0043, 0.9947, 0.0039,\n",
       "       1.    , 0.0485], dtype=float32)"
      ]
     },
     "execution_count": null,
     "metadata": {},
     "output_type": "execute_result"
    }
   ],
   "source": [
    "np.round(ksu.numpy(),4)"
   ]
  },
  {
   "cell_type": "code",
   "execution_count": null,
   "metadata": {},
   "outputs": [
    {
     "data": {
      "text/plain": [
       "array([1.   , 0.061, 0.   , 0.   , 0.001, 0.999, 0.028, 1.   , 0.   ,\n",
       "       1.   ], dtype=float32)"
      ]
     },
     "execution_count": null,
     "metadata": {},
     "output_type": "execute_result"
    }
   ],
   "source": [
    "np.round(ksl.numpy(), 3)"
   ]
  },
  {
   "cell_type": "code",
   "execution_count": null,
   "metadata": {},
   "outputs": [],
   "source": [
    "##soft\n",
    "s = 10\n",
    "ksu = torch.sigmoid((y_upper-y_results)*s)\n",
    "ksl = torch.sigmoid((y_results-y_lower)*s)"
   ]
  },
  {
   "cell_type": "code",
   "execution_count": null,
   "metadata": {},
   "outputs": [
    {
     "data": {
      "text/plain": [
       "tensor([1., 1., 0., 0., 1., 1., 0., 0., 1., 1.])"
      ]
     },
     "execution_count": null,
     "metadata": {},
     "output_type": "execute_result"
    }
   ],
   "source": [
    "ksu"
   ]
  },
  {
   "cell_type": "code",
   "execution_count": null,
   "metadata": {},
   "outputs": [
    {
     "data": {
      "text/plain": [
       "tensor([0., 0., 1., 1., 0., 0., 1., 1., 0., 0.])"
      ]
     },
     "execution_count": null,
     "metadata": {},
     "output_type": "execute_result"
    }
   ],
   "source": [
    "ksl"
   ]
  },
  {
   "cell_type": "code",
   "execution_count": null,
   "metadata": {},
   "outputs": [
    {
     "data": {
      "text/plain": [
       "tensor([ -94.4114, -115.2035,  100.0000,  100.0000, -105.0282, -111.8546,\n",
       "         100.0000,  100.0000, -102.5273, -107.5752])"
      ]
     },
     "execution_count": null,
     "metadata": {},
     "output_type": "execute_result"
    }
   ],
   "source": [
    "y_results"
   ]
  },
  {
   "cell_type": "code",
   "execution_count": null,
   "metadata": {},
   "outputs": [
    {
     "data": {
      "text/plain": [
       "tensor([-1.3337,  0.9843,  1.1095, -0.3597,  1.0252, -1.1859, -0.4918,  0.0426,\n",
       "         0.7183, -0.3774])"
      ]
     },
     "execution_count": null,
     "metadata": {},
     "output_type": "execute_result"
    }
   ],
   "source": [
    "y_upper"
   ]
  },
  {
   "cell_type": "code",
   "execution_count": null,
   "metadata": {},
   "outputs": [
    {
     "data": {
      "text/plain": [
       "tensor([0.7789, 0.2434, 0.7520, 0.4110, 0.2541, 0.7903, 0.3795, 0.5107, 0.3238,\n",
       "        0.6001])"
      ]
     },
     "execution_count": null,
     "metadata": {},
     "output_type": "execute_result"
    }
   ],
   "source": [
    "torch.sigmoid(y_upper*y_results*0.01)"
   ]
  },
  {
   "cell_type": "markdown",
   "metadata": {},
   "source": [
    "Betting adaption"
   ]
  },
  {
   "cell_type": "markdown",
   "metadata": {},
   "source": [
    "Given results targets `y_results`"
   ]
  },
  {
   "cell_type": "code",
   "execution_count": null,
   "metadata": {},
   "outputs": [
    {
     "data": {
      "text/plain": [
       "tensor([ -94.4114, -115.2035,  100.0000,  100.0000, -105.0282, -111.8546,\n",
       "         100.0000,  100.0000, -102.5273, -107.5752])"
      ]
     },
     "execution_count": null,
     "metadata": {},
     "output_type": "execute_result"
    }
   ],
   "source": [
    "y_results"
   ]
  },
  {
   "cell_type": "markdown",
   "metadata": {},
   "source": [
    "the NN predicts upper and lower bounds `y_upper`, `y_lower`"
   ]
  },
  {
   "cell_type": "code",
   "execution_count": null,
   "metadata": {},
   "outputs": [
    {
     "data": {
      "text/plain": [
       "(tensor([-1.3337,  0.9843,  1.1095, -0.3597,  1.0252, -1.1859, -0.4918,  0.0426,\n",
       "          0.7183, -0.3774]),\n",
       " tensor([-1.4573,  0.1762,  1.0387, -0.9068,  0.2352, -1.3277, -0.6610, -0.3312,\n",
       "         -0.1677, -0.9362]))"
      ]
     },
     "execution_count": null,
     "metadata": {},
     "output_type": "execute_result"
    }
   ],
   "source": [
    "y_upper, y_lower"
   ]
  },
  {
   "cell_type": "markdown",
   "metadata": {},
   "source": [
    "Similarly to leaky loss, we want both bounds to have the same sign as the target `y_results` and higher absolute values for more confidence"
   ]
  },
  {
   "cell_type": "code",
   "execution_count": null,
   "metadata": {},
   "outputs": [],
   "source": [
    "#export\n",
    "def qd_loss(preds, y_true, alpha=0.4, l=0.01, s=0.01, add=False, slope=1.):\n",
    "    '''\n",
    "    qd loss implementation adapted for \"leaky loss problems\"\n",
    "    preds: predictions for both lower and upper bounds\n",
    "    alpha: confidence intervall parameter, different from alpha in leaky_loss\n",
    "    s: smoothing factor for sigmoid\n",
    "    l: agrangian controlling width vs coverage (default in the paper impl. is 0.01 which seems lowI)\n",
    "    '''\n",
    "    ll = lambda x: F.leaky_relu(x, negative_slope=slope)\n",
    "    \n",
    "    y_lower = preds[:,0].clone()\n",
    "    y_upper = preds[:,1].clone() if not add else y_lower+preds[:,1]\n",
    "    \n",
    "#     if not add:\n",
    "#         y_lower, y_upper = preds[:, 0].clone(), preds[:, 1].clone()\n",
    "#     else:\n",
    "#         y_lower, y_upper = preds[:, 0].clone(), preds[:,0].clone()+preds[:, 1].clone()\n",
    "# #     hard counts, how many of the predictions have the right sign?\n",
    "    khu = (torch.sign(y_upper*y_true) > 0).int()\n",
    "    khl = (torch.sign(y_lower*y_true) > 0).int()\n",
    "    \n",
    "#     return preds.mean()\n",
    "    # soft counts, sign step function replaced by a smoother sigmoid\n",
    "    \n",
    "    ksu = torch.sigmoid((ll(y_upper)*y_true)*s)\n",
    "    ksl = torch.sigmoid((y_true*ll(y_lower))*s)\n",
    "    kh,ks = khu*khl, ksu*ksl\n",
    "#     print(kh)\n",
    "#     print(kh.sum(), ks.sum())\n",
    "    \n",
    "    #mpiw: mean predicted interval width\n",
    "    f = 1/(kh.sum()+1e-6)\n",
    "#     print((y_upper-y_lower))\n",
    "    mpiw = ((y_upper-y_lower)*kh).sum()*f\n",
    "    \n",
    "    #picp: predicted interval coverage probability\n",
    "    picp_s = ks.mean()\n",
    "    \n",
    "    print(f'mpiw {mpiw}, pcip_soft: {picp_s}')\n",
    "    s2 = l*preds.shape[0]/(alpha*(1-alpha))\n",
    "    s3 = torch.max(torch.zeros(1, device=preds.device), picp_s).pow(2)\n",
    "    loss_s = mpiw + l*preds.shape[0]/(alpha*(1-alpha)) * torch.max(torch.zeros(1, device=preds.device), \n",
    "                                                                   picp_s).pow(2)\n",
    "    return loss_s"
   ]
  },
  {
   "cell_type": "code",
   "execution_count": null,
   "metadata": {},
   "outputs": [
    {
     "data": {
      "text/plain": [
       "[<matplotlib.lines.Line2D at 0x7fb1af9cb8d0>]"
      ]
     },
     "execution_count": null,
     "metadata": {},
     "output_type": "execute_result"
    },
    {
     "data": {
      "image/png": "[encoded data removed]",
      "text/plain": [
       "<Figure size 432x288 with 1 Axes>"
      ]
     },
     "metadata": {
      "needs_background": "light"
     },
     "output_type": "display_data"
    }
   ],
   "source": [
    "plt.plot(F.softplus(torch.arange(-5,5).float()))"
   ]
  },
  {
   "cell_type": "code",
   "execution_count": null,
   "metadata": {},
   "outputs": [
    {
     "name": "stderr",
     "output_type": "stream",
     "text": [
      "/home/johannes/anaconda3/envs/nbdev/lib/python3.7/site-packages/ipykernel_launcher.py:1: UserWarning: Implicit dimension choice for softmax has been deprecated. Change the call to include dim=X as an argument.\n",
      "  \"\"\"Entry point for launching an IPython kernel.\n"
     ]
    },
    {
     "data": {
      "text/plain": [
       "[<matplotlib.lines.Line2D at 0x7fb19bf31a10>]"
      ]
     },
     "execution_count": null,
     "metadata": {},
     "output_type": "execute_result"
    },
    {
     "data": {
      "image/png": "[encoded data removed]",
      "text/plain": [
       "<Figure size 432x288 with 1 Axes>"
      ]
     },
     "metadata": {
      "needs_background": "light"
     },
     "output_type": "display_data"
    }
   ],
   "source": [
    "plt.plot(F.softmax(torch.arange(-5,5).float()))"
   ]
  },
  {
   "cell_type": "code",
   "execution_count": null,
   "metadata": {},
   "outputs": [],
   "source": [
    "#export\n",
    "class InceptionTimeBounds(nn.Module):\n",
    "    '''\n",
    "    use InceptionTimeVar implementation for bounds\n",
    "    output[:, -1] is positive and y_upper corresponds to output[:,0]+output[:,1] --> loss\n",
    "    '''\n",
    "    \n",
    "    def __init__(self, n_in, n_out, meanrange=None):\n",
    "        super().__init__()\n",
    "        models  = [InceptionTime(n_in, n_out+1)]\n",
    "        if meanrange:\n",
    "            self.sigmoid = Sigmoid(*meanrange)\n",
    "        self.mod = nn.Sequential(*models)\n",
    "        \n",
    "    def forward(self, x):\n",
    "        x = x.float()\n",
    "        output = self.mod(x)\n",
    "        ## enforce positivity of sigma^2\n",
    "        ##output_sig_pos = tf.log(1 + tf.exp(output_sig)) + 1e-06\n",
    "#         output[:,-1] = (output[:,-1].exp()+1).log_() + 1e-06\n",
    "        output[:,-1] = F.softplus(output[:,-1].clone())  ## autograd problems when not using clone, why???\n",
    "        \n",
    "        if getattr(self, 'sigmoid', None): output[:,:-1] = self.sigmoid(output[:,:-1])\n",
    "        return output"
   ]
  },
  {
   "cell_type": "code",
   "execution_count": null,
   "metadata": {},
   "outputs": [],
   "source": [
    "model = InceptionTimeBounds(10,1, meanrange=(-3,3))"
   ]
  },
  {
   "cell_type": "code",
   "execution_count": null,
   "metadata": {},
   "outputs": [],
   "source": [
    "y_true = _create_random_results(128)"
   ]
  },
  {
   "cell_type": "code",
   "execution_count": null,
   "metadata": {},
   "outputs": [
    {
     "data": {
      "text/plain": [
       "tensor([-106.7638,  100.0000, -100.0458,  100.0000,  100.0000, -109.3803,\n",
       "        -107.8266,  100.0000,  100.0000, -113.7330, -110.4757,  100.0000,\n",
       "         100.0000,  100.0000,  -99.7512,  100.0000, -108.8533,  -98.5843,\n",
       "        -101.6713, -102.8774, -110.6917,  100.0000,  -96.2356,  100.0000,\n",
       "         100.0000, -104.1054,  100.0000,  100.0000,  100.0000,  100.0000,\n",
       "         -99.7910, -110.3254, -109.7371,  100.0000,  100.0000, -101.7797,\n",
       "         -94.8627,  100.0000,  100.0000,  100.0000, -110.1486,  100.0000,\n",
       "        -116.1869, -102.9370,  -95.7134, -116.2622, -107.7277,  -92.6611,\n",
       "         100.0000,  100.0000,  100.0000, -110.8954, -100.5063,  100.0000,\n",
       "        -106.7785,  100.0000,  100.0000, -117.0415,  -98.9544, -101.8524,\n",
       "         100.0000,  100.0000,  100.0000,  100.0000, -104.1076, -115.2596,\n",
       "         100.0000,  -98.1928, -104.9685, -113.3826,  100.0000,  100.0000,\n",
       "        -111.9894, -105.9567,  100.0000,  -95.4433,  100.0000, -112.9684,\n",
       "        -106.2161, -104.0756,  100.0000,  100.0000, -103.9313,  100.0000,\n",
       "         -99.1358,  -97.0312,  100.0000, -105.8008,  100.0000,  100.0000,\n",
       "         -98.7198,  -96.6286,  100.0000,  -94.7076,  -99.1611,  100.0000,\n",
       "         100.0000,  100.0000,  100.0000,  100.0000, -113.9651,  100.0000,\n",
       "         100.0000,  -97.8544,  100.0000, -109.2917,  100.0000,  100.0000,\n",
       "         -96.1180,  100.0000,  100.0000, -104.8634, -114.1572,  100.0000,\n",
       "         100.0000, -118.1289,  100.0000, -113.3931,  100.0000, -112.7533,\n",
       "         100.0000,  100.0000,  100.0000, -114.2994,  100.0000, -105.1760,\n",
       "         -93.4807, -108.4077])"
      ]
     },
     "execution_count": null,
     "metadata": {},
     "output_type": "execute_result"
    }
   ],
   "source": [
    "y_true"
   ]
  },
  {
   "cell_type": "code",
   "execution_count": null,
   "metadata": {},
   "outputs": [
    {
     "name": "stdout",
     "output_type": "stream",
     "text": [
      "mpiw 0.5742294788360596, pcip_soft: 0.2512679100036621\n"
     ]
    },
    {
     "data": {
      "text/plain": [
       "tensor([0.9110], grad_fn=<AddBackward0>)"
      ]
     },
     "execution_count": null,
     "metadata": {},
     "output_type": "execute_result"
    }
   ],
   "source": [
    "qd_loss(model(xb), y_true, add=True, slope=0.2)"
   ]
  },
  {
   "cell_type": "code",
   "execution_count": null,
   "metadata": {},
   "outputs": [],
   "source": []
  }
 ],
 "metadata": {
  "kernelspec": {
   "display_name": "Python [conda env:nbdev]",
   "language": "python",
   "name": "conda-env-nbdev-py"
  }
 },
 "nbformat": 4,
 "nbformat_minor": 2
}
